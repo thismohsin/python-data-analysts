{
 "cells": [
  {
   "cell_type": "code",
   "execution_count": 1,
   "metadata": {},
   "outputs": [],
   "source": [
    "from mlwpy import *\n",
    "%matplotlib inline"
   ]
  },
  {
   "cell_type": "code",
   "execution_count": 2,
   "metadata": {},
   "outputs": [
    {
     "data": {
      "text/plain": "4"
     },
     "execution_count": 2,
     "metadata": {},
     "output_type": "execute_result"
    }
   ],
   "source": [
    "np.random.randint(1,7)"
   ]
  },
  {
   "cell_type": "code",
   "execution_count": 3,
   "metadata": {},
   "outputs": [],
   "source": [
    "few_rolls  = np.random.randint(1,7,size=10)\n",
    "many_rolls = np.random.randint(1,7,size=1000)"
   ]
  },
  {
   "cell_type": "code",
   "execution_count": 4,
   "metadata": {},
   "outputs": [
    {
     "data": {
      "text/plain": "<Figure size 576x216 with 2 Axes>",
      "image/png": "[encoded data removed]"
     },
     "metadata": {
      "needs_background": "light"
     },
     "output_type": "display_data"
    }
   ],
   "source": [
    "few_counts  = np.histogram(few_rolls,  bins=np.arange(.5, 7.5))[0]\n",
    "many_counts = np.histogram(many_rolls, bins=np.arange(.5, 7.5))[0]\n",
    "\n",
    "fig, (ax1, ax2) = plt.subplots(1,2,figsize=(8,3))\n",
    "ax1.bar(np.arange(1,7), few_counts)\n",
    "ax2.bar(np.arange(1,7), many_counts);"
   ]
  },
  {
   "cell_type": "code",
   "execution_count": null,
   "metadata": {},
   "outputs": [],
   "source": [
    "import scipy.stats as ss\n",
    "\n",
    "b = ss.distributions.binom\n",
    "for flips in [5, 10, 20, 40, 80]:\n",
    "    # binomial with .5 is result of many coin flips\n",
    "    success = np.arange(flips)\n",
    "    our_distribution = b.pmf(success, flips, .5)\n",
    "    plt.hist(success, flips, weights=our_distribution)\n",
    "plt.xlim(0,55);"
   ]
  },
  {
   "cell_type": "code",
   "execution_count": null,
   "metadata": {},
   "outputs": [],
   "source": [
    "b = ss.distributions.binom\n",
    "n = ss.distributions.norm\n",
    "\n",
    "for flips in [5, 10, 20, 40, 80]:\n",
    "    # binomial coint flips\n",
    "    success = np.arange(flips)\n",
    "    our_distribution = b.pmf(success, flips, .5)\n",
    "    plt.hist(success, flips, weights=our_distribution)\n",
    "\n",
    "    # normal approximation to that binomial\n",
    "    # we have to set the mean and standard deviation\n",
    "    mu      = flips * .5, \n",
    "    std_dev = np.sqrt(flips * .5 * (1-.5))\n",
    "    \n",
    "    # we have to set up both the x and y points for the normal\n",
    "    # we get the ys from the distribution (a function)\n",
    "    # we have to feed it xs, we set those up here\n",
    "    norm_x = np.linspace(mu-3*std_dev, mu+3*std_dev, 100)\n",
    "    norm_y = n.pdf(norm_x, mu, std_dev)\n",
    "    plt.plot(norm_x, norm_y, 'k');\n",
    "\n",
    "plt.xlim(0,55);"
   ]
  },
  {
   "cell_type": "code",
   "execution_count": null,
   "metadata": {},
   "outputs": [],
   "source": [
    "(2 * 12.50) + (12 * .5) + (3 * 1.75)"
   ]
  },
  {
   "cell_type": "code",
   "execution_count": null,
   "metadata": {},
   "outputs": [],
   "source": [
    "2 + 12 + 3"
   ]
  },
  {
   "cell_type": "code",
   "execution_count": null,
   "metadata": {},
   "outputs": [],
   "source": [
    "# pure python, old-school\n",
    "quantity = [2, 12, 3]\n",
    "costs    = [12.5, .5, 1.75]\n",
    "partial_cost = []\n",
    "for q,c in zip(quantity, costs):\n",
    "    partial_cost.append(q*c)\n",
    "sum(partial_cost)"
   ]
  },
  {
   "cell_type": "code",
   "execution_count": null,
   "metadata": {},
   "outputs": [],
   "source": [
    "# pure python, for the new-school, cool kids\n",
    "quantity = [2, 12, 3]\n",
    "costs    = [12.5, .5, 1.75]\n",
    "sum(q*c for q,c in zip(quantity,costs))"
   ]
  },
  {
   "cell_type": "code",
   "execution_count": null,
   "metadata": {},
   "outputs": [],
   "source": [
    "quantity = np.array([2, 12, 3]) \n",
    "costs    = np.array([12.5, .5, 1.75])\n",
    "np.sum(quantity * costs) # element-wise multiplication"
   ]
  },
  {
   "cell_type": "code",
   "execution_count": null,
   "metadata": {},
   "outputs": [],
   "source": [
    "print(quantity.dot(costs),       # dot-product way 1\n",
    "      np.dot(quantity, costs),   # dot-product way 2 \n",
    "      quantity @ costs,          # dot-product way 3 \n",
    "                                 # (new addition to the family!)\n",
    "      sep='\\n')"
   ]
  },
  {
   "cell_type": "code",
   "execution_count": null,
   "metadata": {},
   "outputs": [],
   "source": [
    "for q_i, c_i in zip(quantity, costs):\n",
    "    print(\"{:2d} {:5.2f} --> {:5.2f}\".format(q_i, c_i, q_i * c_i))\n",
    "\n",
    "print(\"Total:\", \n",
    "      sum(q*c for q,c in zip(quantity,costs))) # cool-kid method"
   ]
  },
  {
   "cell_type": "code",
   "execution_count": null,
   "metadata": {},
   "outputs": [],
   "source": [
    "values  = np.array([10.0, 20.0, 30.0])\n",
    "weights = np.full_like(values, 1/3) # repeated (1/3)\n",
    "\n",
    "print(\"weights:\", weights)\n",
    "print(\"via mean:\", np.mean(values))\n",
    "print(\"via weights and dot:\", np.dot(weights, values))"
   ]
  },
  {
   "cell_type": "code",
   "execution_count": null,
   "metadata": {},
   "outputs": [],
   "source": [
    "values  = np.array([10,  20,  30])\n",
    "weights = np.array([.5, .25, .25])\n",
    "\n",
    "np.dot(weights, values)"
   ]
  },
  {
   "cell_type": "code",
   "execution_count": null,
   "metadata": {},
   "outputs": [],
   "source": [
    "                  # odd, even\n",
    "payoffs = np.array([1.0, -.5])\n",
    "probs   = np.array([ .5,  .5])\n",
    "np.dot(payoffs, probs)"
   ]
  },
  {
   "cell_type": "code",
   "execution_count": null,
   "metadata": {},
   "outputs": [],
   "source": [
    "def is_even(n):\n",
    "    # if remainder 0, value is even\n",
    "    return n % 2 == 0  \n",
    "\n",
    "winnings = 0.0\n",
    "for toss_ct in range(10000):\n",
    "    die_toss = np.random.randint(1,7)\n",
    "    winnings += 1.0 if is_even(die_toss) else -0.5\n",
    "print(winnings)"
   ]
  },
  {
   "cell_type": "code",
   "execution_count": null,
   "metadata": {},
   "outputs": [],
   "source": [
    "values = np.array([5, -3, 2, 1])\n",
    "squares = values * values # element wise multiplication\n",
    "print(squares, \n",
    "      np.sum(squares),   # sum-of-squares.  ha!\n",
    "      np.dot(values, values), sep=\"\\n\")"
   ]
  },
  {
   "cell_type": "code",
   "execution_count": null,
   "metadata": {},
   "outputs": [],
   "source": [
    "errors = np.array([5, -5, 3.2, -1.1])\n",
    "display(pd.DataFrame({'errors':errors,\n",
    "                      'squared':errors*errors}))"
   ]
  },
  {
   "cell_type": "code",
   "execution_count": null,
   "metadata": {},
   "outputs": [],
   "source": [
    "np.dot(errors, errors)"
   ]
  },
  {
   "cell_type": "code",
   "execution_count": null,
   "metadata": {},
   "outputs": [],
   "source": [
    "people = np.arange(1,11)\n",
    "total_cost = np.ones_like(people) * 40.0\n",
    "\n",
    "ax = plt.gca()\n",
    "\n",
    "ax.plot(people, total_cost)\n",
    "ax.set_xlabel(\"# People\")\n",
    "ax.set_ylabel(\"Cost\\n(Parking Only)\");"
   ]
  },
  {
   "cell_type": "code",
   "execution_count": null,
   "metadata": {},
   "outputs": [],
   "source": [
    "people = np.arange(1,11)\n",
    "total_cost = 80.0 * people + 40.0"
   ]
  },
  {
   "cell_type": "code",
   "execution_count": null,
   "metadata": {},
   "outputs": [],
   "source": [
    "# .T (transpose) to save vertical space in print out\n",
    "display(pd.DataFrame({'total_cost':total_cost.astype(np.int)}, \n",
    "                     index=people).T)"
   ]
  },
  {
   "cell_type": "code",
   "execution_count": null,
   "metadata": {},
   "outputs": [],
   "source": [
    "ax = plt.gca()\n",
    "ax.plot(people, total_cost, 'bo')\n",
    "ax.set_ylabel(\"Total Cost\")\n",
    "ax.set_xlabel(\"People\");"
   ]
  },
  {
   "cell_type": "code",
   "execution_count": null,
   "metadata": {},
   "outputs": [],
   "source": [
    "# paint by number\n",
    "# create 100 x values from -3 to 3\n",
    "xs = np.linspace(-3, 3, 100)\n",
    "\n",
    "# slope (m) and intercept (b)\n",
    "m, b = 1.5, -3\n",
    "\n",
    "ax = plt.gca()\n",
    "\n",
    "ys = m*xs + b\n",
    "ax.plot(xs, ys)\n",
    "\n",
    "ax.set_ylim(-4,4)\n",
    "high_school_style(ax) # helper from mlwpy.py\n",
    "\n",
    "ax.plot(0, -3,'ro') # y-intercept\n",
    "ax.plot(2,  0,'ro') # two steps right gives three steps up\n",
    "\n",
    "# y = mx + b with m=0 gives y = b\n",
    "ys = 0*xs + b\n",
    "ax.plot(xs, ys, 'y');"
   ]
  },
  {
   "cell_type": "code",
   "execution_count": null,
   "metadata": {},
   "outputs": [],
   "source": [
    "# np.c_[] lets us create an array column-by-column\n",
    "xs    = np.linspace(-3, 3, 100)\n",
    "xs_p1 = np.c_[xs, np.ones_like(xs)]\n",
    "\n",
    "# view the first few rows\n",
    "display(pd.DataFrame(xs_p1).head())"
   ]
  },
  {
   "cell_type": "code",
   "execution_count": null,
   "metadata": {},
   "outputs": [],
   "source": [
    "w     = np.array([1.5, -3])\n",
    "ys    = np.dot(xs_p1, w)\n",
    "\n",
    "\n",
    "ax = plt.gca()\n",
    "ax.plot(xs, ys)\n",
    "\n",
    "# styling\n",
    "ax.set_ylim(-4,4)\n",
    "high_school_style(ax)\n",
    "\n",
    "ax.plot(0, -3,'ro')  # y-intercept\n",
    "ax.plot(2,  0,'ro'); # two steps to the right should be three whole steps up"
   ]
  },
  {
   "cell_type": "code",
   "execution_count": null,
   "metadata": {},
   "outputs": [],
   "source": [
    "number_people = np.arange(1,11) # 1-10 people\n",
    "number_rbs    = np.arange(0,20) # 0-19 rootbeers\n",
    "\n",
    "# numpy tool to get cross-product of values (each against each)\n",
    "# in two paired arrays.  try out: np.meshgrid([0,1], [10,20])\n",
    "# \"perfect\" for functions of multiple variables\n",
    "number_people, number_rbs = np.meshgrid(number_people, number_rbs) \n",
    "\n",
    "total_cost = 80 * number_people + 10 * number_rbs + 40"
   ]
  },
  {
   "cell_type": "code",
   "execution_count": null,
   "metadata": {},
   "outputs": [],
   "source": [
    "# import needed for 'projection':'3d'\n",
    "from mpl_toolkits.mplot3d import Axes3D\n",
    "fig,axes = plt.subplots(2, 3, \n",
    "                        subplot_kw={'projection':'3d'}, \n",
    "                        figsize=(9,6),\n",
    "                        tight_layout=True)\n",
    "\n",
    "angles = [0,45,90,135,180]\n",
    "for ax,angle in zip(axes.flat, angles):\n",
    "    ax.plot_surface(number_people, number_rbs, total_cost)\n",
    "    ax.set_xlabel(\"People\")\n",
    "    ax.set_ylabel(\"RootBeers\")\n",
    "    ax.set_zlabel(\"TotalCost\")\n",
    "    ax.azim = angle\n",
    "\n",
    "# we don't use the last axis\n",
    "axes.flat[-1].axis('off')"
   ]
  },
  {
   "cell_type": "code",
   "execution_count": null,
   "metadata": {},
   "outputs": [],
   "source": [
    "number_people  = np.array([2,3])\n",
    "number_rbs     = np.array([0,1,2])\n",
    "number_hotdogs = np.array([2,4])\n",
    "\n",
    "costs = np.array([80, 10, 5])\n",
    "\n",
    "columns = [\"People\", \"RootBeer\", \"HotDogs\", \"TotalCost\"]"
   ]
  },
  {
   "cell_type": "code",
   "execution_count": null,
   "metadata": {},
   "outputs": [],
   "source": [
    "counts = np_cartesian_product(number_people, \n",
    "                              number_rbs, \n",
    "                              number_hotdogs)\n",
    "\n",
    "totals = (costs[0] * counts[:,0] + \n",
    "          costs[1] * counts[:,1] + \n",
    "          costs[2] * counts[:,2] + 40)\n",
    "\n",
    "display(pd.DataFrame(np.c_[counts, totals],\n",
    "                     columns=columns).head(8))"
   ]
  },
  {
   "cell_type": "code",
   "execution_count": null,
   "metadata": {},
   "outputs": [],
   "source": [
    "costs = np.array([80, 10, 5])\n",
    "counts = np_cartesian_product(number_people, \n",
    "                              number_rbs, \n",
    "                              number_hotdogs)\n",
    "\n",
    "totals = np.dot(counts, costs) + 40\n",
    "display(pd.DataFrame(np.column_stack([counts, totals]), \n",
    "                     columns=columns).head(8))"
   ]
  },
  {
   "cell_type": "code",
   "execution_count": null,
   "metadata": {},
   "outputs": [],
   "source": [
    "fig, axes = plt.subplots(2,2, tight_layout=True)\n",
    "\n",
    "titles = [\"$y=c_0$\", \n",
    "          \"$y=c_1x+c_0$\",\n",
    "          \"$y=c_2x^2+c_1x+c_0$\",\n",
    "          \"$y=c_3x^3+c_2x^2+c_1x+c_0$\"]\n",
    "\n",
    "xs = np.linspace(-10, 10, 100)\n",
    "for power, (ax, title) in enumerate(zip(axes.flat, titles), 1):\n",
    "    coeffs = np.random.uniform(-5, 5, power)\n",
    "    poly = np.poly1d(coeffs)\n",
    "    ax.plot(xs, poly(xs))\n",
    "    ax.set_title(title)"
   ]
  },
  {
   "cell_type": "code",
   "execution_count": null,
   "metadata": {},
   "outputs": [],
   "source": [
    "plt.Figure((2,1.5))\n",
    "\n",
    "xs = np.linspace(-10,10,101)\n",
    "coeffs = np.array([2,3,4])\n",
    "ys = np.dot(coeffs, [xs**2, xs**1, xs**0])\n",
    "\n",
    "# nice parabola via a dot-product\n",
    "plt.plot(xs, ys);"
   ]
  },
  {
   "cell_type": "code",
   "execution_count": null,
   "metadata": {},
   "outputs": [],
   "source": [
    "oned_vec = np.arange(5)\n",
    "print(oned_vec, \"-->\", oned_vec * oned_vec)\n",
    "print(\"self dot:\", np.dot(oned_vec, oned_vec))"
   ]
  },
  {
   "cell_type": "code",
   "execution_count": null,
   "metadata": {},
   "outputs": [],
   "source": [
    "row_vec = np.arange(5).reshape(1,5)\n",
    "col_vec = np.arange(0, 50, 10).reshape(5,1)"
   ]
  },
  {
   "cell_type": "code",
   "execution_count": null,
   "metadata": {},
   "outputs": [],
   "source": [
    "print(\"row vec:\", row_vec, \n",
    "      \"col_vec:\", col_vec, \n",
    "      \"dot:\", np.dot(row_vec, col_vec), sep='\\n')"
   ]
  },
  {
   "cell_type": "code",
   "execution_count": null,
   "metadata": {},
   "outputs": [],
   "source": [
    "out = np.dot(col_vec, row_vec)\n",
    "print(out)"
   ]
  },
  {
   "cell_type": "code",
   "execution_count": null,
   "metadata": {},
   "outputs": [],
   "source": [
    "out = np.dot(row_vec, col_vec)\n",
    "out"
   ]
  },
  {
   "cell_type": "code",
   "execution_count": null,
   "metadata": {},
   "outputs": [],
   "source": [
    "col_vec = np.arange(0, 50, 10).reshape(5,1)\n",
    "row_vec = np.arange(0,5).reshape(1,5)\n",
    "\n",
    "oned_vec = np.arange(5)\n",
    "\n",
    "np.dot(oned_vec, col_vec)"
   ]
  },
  {
   "cell_type": "code",
   "execution_count": null,
   "metadata": {},
   "outputs": [],
   "source": [
    "try: \n",
    "    np.dot(col_vec, oned_vec) # *boom*\n",
    "except ValueError as e:  \n",
    "    print(\"I went boom:\", e)"
   ]
  },
  {
   "cell_type": "code",
   "execution_count": null,
   "metadata": {},
   "outputs": [],
   "source": [
    "print(oned_vec.shape,\n",
    "      col_vec.shape, sep=\"\\n\")"
   ]
  },
  {
   "cell_type": "code",
   "execution_count": null,
   "metadata": {},
   "outputs": [],
   "source": [
    "print(np.dot(row_vec, oned_vec))\n",
    "try: print(np.dot(oned_vec, row_vec))\n",
    "except: print(\"boom\")"
   ]
  },
  {
   "cell_type": "code",
   "execution_count": null,
   "metadata": {},
   "outputs": [],
   "source": [
    "print(np.allclose(np.dot(oned_vec.reshape(1,5), col_vec), \n",
    "                  np.dot(oned_vec,              col_vec)),\n",
    "      np.allclose(np.dot(row_vec, oned_vec.reshape(5,1)), \n",
    "                  np.dot(row_vec, oned_vec)))"
   ]
  },
  {
   "cell_type": "code",
   "execution_count": null,
   "metadata": {},
   "outputs": [],
   "source": [
    "D = np.array([[1,3],\n",
    "              [2,5],\n",
    "              [2,7],\n",
    "              [3,2]])\n",
    "w = np.array([1.5, 2.5])"
   ]
  },
  {
   "cell_type": "code",
   "execution_count": null,
   "metadata": {},
   "outputs": [],
   "source": [
    "np.dot(D,w)"
   ]
  },
  {
   "cell_type": "code",
   "execution_count": null,
   "metadata": {},
   "outputs": [],
   "source": [
    "try: \n",
    "    np.dot(w,D)\n",
    "except ValueError:  \n",
    "    print(\"BOOM.  :sadface:\")"
   ]
  },
  {
   "cell_type": "code",
   "execution_count": null,
   "metadata": {},
   "outputs": [],
   "source": [
    "def rdot(arr,brr):\n",
    "    ' reversed argument version of np.dot'\n",
    "    return np.dot(brr,arr)\n",
    "rdot(w, D)"
   ]
  },
  {
   "cell_type": "code",
   "execution_count": null,
   "metadata": {},
   "outputs": [],
   "source": [
    "1.1 + 2.2 == 3.3"
   ]
  },
  {
   "cell_type": "code",
   "execution_count": null,
   "metadata": {},
   "outputs": [],
   "source": [
    "type(1.1), type(2.1), type(1.1+2.1), type(3.3)"
   ]
  },
  {
   "cell_type": "code",
   "execution_count": null,
   "metadata": {},
   "outputs": [],
   "source": [
    "np.allclose(1.2 + 2.1, 3.3)"
   ]
  }
 ],
 "metadata": {},
 "nbformat": 4,
 "nbformat_minor": 2
}
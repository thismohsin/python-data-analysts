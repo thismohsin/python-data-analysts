{
 "cells": [
  {
   "cell_type": "markdown",
   "metadata": {},
   "source": [
    "# Setup"
   ]
  },
  {
   "cell_type": "code",
   "execution_count": 1,
   "metadata": {},
   "outputs": [],
   "source": [
    "import matplotlib.pyplot as plt\n",
    "import numpy as np\n",
    "import pandas as pd\n",
    "import seaborn as sns\n",
    "\n",
    "from mlwpy_video_extras import easy_combo"
   ]
  },
  {
   "cell_type": "code",
   "execution_count": 2,
   "metadata": {},
   "outputs": [],
   "source": [
    "from sklearn import (datasets,\n",
    "                     linear_model,\n",
    "                     metrics,\n",
    "                     model_selection as skms,\n",
    "                     naive_bayes,\n",
    "                     neighbors)"
   ]
  },
  {
   "cell_type": "code",
   "execution_count": 3,
   "metadata": {},
   "outputs": [],
   "source": [
    "import warnings\n",
    "warnings.filterwarnings(\"ignore\")\n",
    "np.random.seed(42)"
   ]
  },
  {
   "cell_type": "markdown",
   "metadata": {},
   "source": [
    "# Overfitting and Underfitting"
   ]
  },
  {
   "cell_type": "markdown",
   "metadata": {},
   "source": [
    "### Synthetic Data"
   ]
  },
  {
   "cell_type": "code",
   "execution_count": 4,
   "metadata": {},
   "outputs": [
    {
     "data": {
      "text/html": [
       "<div>\n",
       "<style scoped>\n",
       "    .dataframe tbody tr th:only-of-type {\n",
       "        vertical-align: middle;\n",
       "    }\n",
       "\n",
       "    .dataframe tbody tr th {\n",
       "        vertical-align: top;\n",
       "    }\n",
       "\n",
       "    .dataframe thead th {\n",
       "        text-align: right;\n",
       "    }\n",
       "</style>\n",
       "<table border=\"1\" class=\"dataframe\">\n",
       "  <thead>\n",
       "    <tr style=\"text-align: right;\">\n",
       "      <th></th>\n",
       "      <th>0</th>\n",
       "      <th>1</th>\n",
       "      <th>2</th>\n",
       "      <th>3</th>\n",
       "      <th>4</th>\n",
       "      <th>5</th>\n",
       "      <th>6</th>\n",
       "      <th>7</th>\n",
       "      <th>8</th>\n",
       "      <th>9</th>\n",
       "    </tr>\n",
       "  </thead>\n",
       "  <tbody>\n",
       "    <tr>\n",
       "      <th>ftr</th>\n",
       "      <td>-1.5789</td>\n",
       "      <td>-6.8421</td>\n",
       "      <td>-3.6842</td>\n",
       "      <td>1.5789</td>\n",
       "      <td>-7.8947</td>\n",
       "      <td>3.6842</td>\n",
       "      <td>7.8947</td>\n",
       "      <td>4.7368</td>\n",
       "      <td>5.7895</td>\n",
       "      <td>-0.5263</td>\n",
       "    </tr>\n",
       "    <tr>\n",
       "      <th>tgt</th>\n",
       "      <td>2.3906</td>\n",
       "      <td>91.0234</td>\n",
       "      <td>22.3791</td>\n",
       "      <td>3.8658</td>\n",
       "      <td>122.5817</td>\n",
       "      <td>22.9962</td>\n",
       "      <td>121.7528</td>\n",
       "      <td>40.6026</td>\n",
       "      <td>62.7696</td>\n",
       "      <td>-1.6137</td>\n",
       "    </tr>\n",
       "  </tbody>\n",
       "</table>\n",
       "</div>"
      ],
      "text/plain": [
       "                       0                    1                    2  \\\n",
       "ftr              -1.5789              -6.8421              -3.6842   \n",
       "tgt               2.3906              91.0234              22.3791   \n",
       "\n",
       "                       3                    4                    5  \\\n",
       "ftr               1.5789              -7.8947               3.6842   \n",
       "tgt               3.8658             122.5817              22.9962   \n",
       "\n",
       "                       6                    7                    8  \\\n",
       "ftr               7.8947               4.7368               5.7895   \n",
       "tgt             121.7528              40.6026              62.7696   \n",
       "\n",
       "                       9  \n",
       "ftr              -0.5263  \n",
       "tgt              -1.6137  "
      ]
     },
     "metadata": {},
     "output_type": "display_data"
    }
   ],
   "source": [
    "N = 20\n",
    "ftr = np.linspace(-10, 10, num=N)                # ftr values\n",
    "tgt = 2*ftr**2 - 3 + np.random.uniform(-2, 2, N) # tgt = func(ftr)\n",
    "\n",
    "(train_ftr, test_ftr,\n",
    " train_tgt, test_tgt) = skms.train_test_split(ftr, tgt, test_size=N//2)\n",
    "\n",
    "display(pd.DataFrame({\"ftr\":train_ftr, \n",
    "                      \"tgt\":train_tgt}).T)"
   ]
  },
  {
   "cell_type": "code",
   "execution_count": 5,
   "metadata": {},
   "outputs": [
    {
     "data": {
      "image/png": "[encoded data removed]",
      "text/plain": [
       "<Figure size 432x288 with 1 Axes>"
      ]
     },
     "metadata": {
      "needs_background": "light"
     },
     "output_type": "display_data"
    }
   ],
   "source": [
    "plt.plot(train_ftr, train_tgt, 'bo')\n",
    "plt.plot(test_ftr,  np.zeros_like(test_ftr), 'r^');"
   ]
  },
  {
   "cell_type": "markdown",
   "metadata": {},
   "source": [
    "### Varying Model Complexity"
   ]
  },
  {
   "cell_type": "code",
   "execution_count": 6,
   "metadata": {},
   "outputs": [
    {
     "data": {
      "text/plain": [
       "array([53.21803974, 41.45515945, 56.83738752])"
      ]
     },
     "execution_count": 6,
     "metadata": {},
     "output_type": "execute_result"
    }
   ],
   "source": [
    "sk_model = linear_model.LinearRegression()\n",
    "sk_model.fit(train_ftr.reshape(-1,1), train_tgt)\n",
    "sk_preds = sk_model.predict(test_ftr.reshape(-1,1))\n",
    "sk_preds[:3]"
   ]
  },
  {
   "cell_type": "code",
   "execution_count": 7,
   "metadata": {},
   "outputs": [
    {
     "name": "stdout",
     "output_type": "stream",
     "text": [
      "[53.21803974 41.45515945 56.83738752]\n"
     ]
    }
   ],
   "source": [
    "# 1-degree polynomial is a line\n",
    "model_one = np.poly1d(np.polyfit(train_ftr, train_tgt, 1))\n",
    "preds_one = model_one(test_ftr)\n",
    "print(preds_one[:3])"
   ]
  },
  {
   "cell_type": "code",
   "execution_count": 8,
   "metadata": {},
   "outputs": [
    {
     "name": "stdout",
     "output_type": "stream",
     "text": [
      "RMSE: 86.69151817350722\n"
     ]
    }
   ],
   "source": [
    "mse = metrics.mean_squared_error\n",
    "print(\"RMSE:\", np.sqrt(mse(test_tgt, preds_one)))"
   ]
  },
  {
   "cell_type": "code",
   "execution_count": 9,
   "metadata": {},
   "outputs": [
    {
     "name": "stdout",
     "output_type": "stream",
     "text": [
      "RMSE: 86.69151817350722\n"
     ]
    }
   ],
   "source": [
    "print(\"RMSE:\", np.sqrt(mse(test_tgt, sk_preds)))"
   ]
  },
  {
   "cell_type": "code",
   "execution_count": 10,
   "metadata": {},
   "outputs": [
    {
     "name": "stdout",
     "output_type": "stream",
     "text": [
      "RMSE: 1.2765992188881117\n"
     ]
    }
   ],
   "source": [
    "model_two = np.poly1d(np.polyfit(train_ftr, train_tgt, 2))\n",
    "preds_two = model_two(test_ftr)\n",
    "print(\"RMSE:\", np.sqrt(mse(test_tgt, preds_two)))"
   ]
  },
  {
   "cell_type": "code",
   "execution_count": 11,
   "metadata": {},
   "outputs": [
    {
     "name": "stdout",
     "output_type": "stream",
     "text": [
      "RMSE: 317.3634424235501\n"
     ]
    }
   ],
   "source": [
    "model_three = np.poly1d(np.polyfit(train_ftr, train_tgt, 9))\n",
    "preds_three = model_three(test_ftr)\n",
    "print(\"RMSE:\", np.sqrt(mse(test_tgt, preds_three)))"
   ]
  },
  {
   "cell_type": "code",
   "execution_count": 12,
   "metadata": {},
   "outputs": [
    {
     "data": {
      "image/png": "[encoded data removed]",
      "text/plain": [
       "<Figure size 648x216 with 2 Axes>"
      ]
     },
     "metadata": {
      "needs_background": "light"
     },
     "output_type": "display_data"
    }
   ],
   "source": [
    "fig, axes = plt.subplots(1,2, figsize=(9,3), sharey=True)\n",
    "train = (train_ftr, train_tgt)\n",
    "test  = (test_ftr,  test_tgt)\n",
    "\n",
    "labels = ['line', 'parabola', 'nonic']\n",
    "models = [model_one, model_two, model_three]\n",
    "\n",
    "for ax, (ftr, tgt) in zip(axes, [train, test]):\n",
    "    ax.plot(ftr, tgt, 'k+')\n",
    "    for m, lbl in zip(models, labels):\n",
    "        ftr = sorted(ftr)\n",
    "        ax.plot(ftr, m(ftr), '-', label=lbl)\n",
    "\n",
    "axes[1].set(title='Test', ylim=(-20, 200))\n",
    "axes[0].set(title=\"Train\")\n",
    "axes[0].legend(loc='upper center');"
   ]
  },
  {
   "cell_type": "markdown",
   "metadata": {},
   "source": [
    "### Underfit and Overfit"
   ]
  },
  {
   "cell_type": "code",
   "execution_count": 13,
   "metadata": {},
   "outputs": [
    {
     "data": {
      "text/html": [
       "<div>\n",
       "<style scoped>\n",
       "    .dataframe tbody tr th:only-of-type {\n",
       "        vertical-align: middle;\n",
       "    }\n",
       "\n",
       "    .dataframe tbody tr th {\n",
       "        vertical-align: top;\n",
       "    }\n",
       "\n",
       "    .dataframe thead th {\n",
       "        text-align: right;\n",
       "    }\n",
       "</style>\n",
       "<table border=\"1\" class=\"dataframe\">\n",
       "  <thead>\n",
       "    <tr style=\"text-align: right;\">\n",
       "      <th></th>\n",
       "      <th>Train Error</th>\n",
       "      <th>Test Error</th>\n",
       "    </tr>\n",
       "    <tr>\n",
       "      <th>Complexity</th>\n",
       "      <th></th>\n",
       "      <th></th>\n",
       "    </tr>\n",
       "  </thead>\n",
       "  <tbody>\n",
       "    <tr>\n",
       "      <th>1</th>\n",
       "      <td>45.4951</td>\n",
       "      <td>86.6915</td>\n",
       "    </tr>\n",
       "    <tr>\n",
       "      <th>2</th>\n",
       "      <td>1.0828</td>\n",
       "      <td>1.2766</td>\n",
       "    </tr>\n",
       "    <tr>\n",
       "      <th>6</th>\n",
       "      <td>0.2819</td>\n",
       "      <td>6.1417</td>\n",
       "    </tr>\n",
       "    <tr>\n",
       "      <th>9</th>\n",
       "      <td>0.0000</td>\n",
       "      <td>317.3634</td>\n",
       "    </tr>\n",
       "  </tbody>\n",
       "</table>\n",
       "</div>"
      ],
      "text/plain": [
       "                    Train Error           Test Error\n",
       "Complexity                                          \n",
       "1                       45.4951              86.6915\n",
       "2                        1.0828               1.2766\n",
       "6                        0.2819               6.1417\n",
       "9                        0.0000             317.3634"
      ]
     },
     "execution_count": 13,
     "metadata": {},
     "output_type": "execute_result"
    }
   ],
   "source": [
    "results = []\n",
    "for complexity in [1,2,6,9]:\n",
    "    model = np.poly1d(np.polyfit(train_ftr, train_tgt, complexity))\n",
    "    \n",
    "    train_error = np.sqrt(mse(train_tgt, model(train_ftr)))\n",
    "    test_error  = np.sqrt(mse(test_tgt, model(test_ftr)))\n",
    "    \n",
    "    results.append((complexity, train_error, test_error))\n",
    "\n",
    "columns = [\"Complexity\", \"Train Error\", \"Test Error\"]\n",
    "results_df = pd.DataFrame.from_records(results, \n",
    "                                       columns=columns,\n",
    "                                       index=\"Complexity\")\n",
    "\n",
    "results_df"
   ]
  },
  {
   "cell_type": "code",
   "execution_count": 14,
   "metadata": {},
   "outputs": [
    {
     "data": {
      "image/png": "[encoded data removed]",
      "text/plain": [
       "<Figure size 432x288 with 1 Axes>"
      ]
     },
     "metadata": {
      "needs_background": "light"
     },
     "output_type": "display_data"
    }
   ],
   "source": [
    "results_df.plot();"
   ]
  },
  {
   "cell_type": "code",
   "execution_count": null,
   "metadata": {},
   "outputs": [],
   "source": []
  },
  {
   "cell_type": "markdown",
   "metadata": {},
   "source": [
    "# Errors and Costs"
   ]
  },
  {
   "cell_type": "code",
   "execution_count": 15,
   "metadata": {},
   "outputs": [],
   "source": [
    "def training_loss(single_loss, model, training_data):\n",
    "    ' total training_loss on train_data with model under single_loss'\n",
    "    pred_act = ((model.predict(ftrs.reshape(1,-1)), tgt) \n",
    "                       for ftrs, tgt in training_data)\n",
    "    return sum(single_loss(p,a) for p,a in pred_act)\n",
    "\n",
    "def squared_error(prediction, actual):\n",
    "    ' squared error on a single example '\n",
    "    return (prediction-actual)**2\n",
    "\n",
    "# could be used like:\n",
    "# my_training_loss = training_loss(squared_error, model, training_data)"
   ]
  },
  {
   "cell_type": "code",
   "execution_count": 16,
   "metadata": {},
   "outputs": [],
   "source": [
    "diabetes = datasets.load_diabetes()"
   ]
  },
  {
   "cell_type": "code",
   "execution_count": 17,
   "metadata": {},
   "outputs": [
    {
     "name": "stdout",
     "output_type": "stream",
     "text": [
      "[863792.33333333]\n"
     ]
    }
   ],
   "source": [
    "knn   = neighbors.KNeighborsRegressor(n_neighbors=3)\n",
    "fit   = knn.fit(diabetes.data, diabetes.target)\n",
    "\n",
    "training_data = zip(diabetes.data, diabetes.target)\n",
    "my_training_loss = training_loss(squared_error, \n",
    "                                 knn, \n",
    "                                 training_data)\n",
    "print(my_training_loss)"
   ]
  },
  {
   "cell_type": "code",
   "execution_count": 18,
   "metadata": {},
   "outputs": [
    {
     "name": "stdout",
     "output_type": "stream",
     "text": [
      "863792.3333333333\n"
     ]
    }
   ],
   "source": [
    "mse = metrics.mean_squared_error(diabetes.target,\n",
    "                                 knn.predict(diabetes.data))\n",
    "print(mse*len(diabetes.data)) # mean = sum / n"
   ]
  },
  {
   "cell_type": "code",
   "execution_count": null,
   "metadata": {},
   "outputs": [],
   "source": []
  },
  {
   "cell_type": "markdown",
   "metadata": {},
   "source": [
    "# Cross-Validation"
   ]
  },
  {
   "cell_type": "code",
   "execution_count": 19,
   "metadata": {},
   "outputs": [],
   "source": [
    "# 3-fold CV:\n",
    "\n",
    "# divide data into 3 buckets:  I, II, III\n",
    "\n",
    "# 3 rounds with different train-test sets:\n",
    "#           test on     train on\n",
    "# round 1:     I             II & III\n",
    "# round 2:     II        I &      III\n",
    "# round 3:     III       I & II\n",
    "\n",
    "# we can do that for k-folds: 3, 5, 10, etc."
   ]
  },
  {
   "cell_type": "code",
   "execution_count": 20,
   "metadata": {},
   "outputs": [
    {
     "data": {
      "text/plain": [
       "array([-3206.7541573 , -3426.43134831, -3587.94215909, -3039.49443182,\n",
       "       -3282.60159091])"
      ]
     },
     "execution_count": 20,
     "metadata": {},
     "output_type": "execute_result"
    }
   ],
   "source": [
    "model = neighbors.KNeighborsRegressor(10)\n",
    "skms.cross_val_score(model, \n",
    "                     diabetes.data, \n",
    "                     diabetes.target,\n",
    "                     cv=5,\n",
    "                     scoring='neg_mean_squared_error')"
   ]
  },
  {
   "cell_type": "code",
   "execution_count": 21,
   "metadata": {},
   "outputs": [
    {
     "data": {
      "text/plain": [
       "array([0.96666667, 1.        , 1.        , 0.93333333, 1.        ])"
      ]
     },
     "execution_count": 21,
     "metadata": {},
     "output_type": "execute_result"
    }
   ],
   "source": [
    "# iris is a classification problem\n",
    "iris = datasets.load_iris() \n",
    "model = neighbors.KNeighborsClassifier(10)\n",
    "skms.cross_val_score(model, iris.data, iris.target, cv=5)"
   ]
  },
  {
   "cell_type": "code",
   "execution_count": null,
   "metadata": {},
   "outputs": [],
   "source": []
  },
  {
   "cell_type": "markdown",
   "metadata": {},
   "source": [
    "# Leave-One-Out (LOO) Cross-Validation"
   ]
  },
  {
   "cell_type": "code",
   "execution_count": 22,
   "metadata": {},
   "outputs": [
    {
     "data": {
      "text/html": [
       "<div>\n",
       "<style scoped>\n",
       "    .dataframe tbody tr th:only-of-type {\n",
       "        vertical-align: middle;\n",
       "    }\n",
       "\n",
       "    .dataframe tbody tr th {\n",
       "        vertical-align: top;\n",
       "    }\n",
       "\n",
       "    .dataframe thead th {\n",
       "        text-align: right;\n",
       "    }\n",
       "</style>\n",
       "<table border=\"1\" class=\"dataframe\">\n",
       "  <thead>\n",
       "    <tr style=\"text-align: right;\">\n",
       "      <th></th>\n",
       "      <th>count</th>\n",
       "      <th>mean</th>\n",
       "      <th>std</th>\n",
       "      <th>min</th>\n",
       "      <th>25%</th>\n",
       "      <th>50%</th>\n",
       "      <th>75%</th>\n",
       "      <th>max</th>\n",
       "    </tr>\n",
       "  </thead>\n",
       "  <tbody>\n",
       "    <tr>\n",
       "      <th>RMSE</th>\n",
       "      <td>442.0000</td>\n",
       "      <td>44.3557</td>\n",
       "      <td>32.1973</td>\n",
       "      <td>0.2075</td>\n",
       "      <td>18.4820</td>\n",
       "      <td>39.5472</td>\n",
       "      <td>63.9738</td>\n",
       "      <td>158.2355</td>\n",
       "    </tr>\n",
       "  </tbody>\n",
       "</table>\n",
       "</div>"
      ],
      "text/plain": [
       "                    count                 mean                  std  \\\n",
       "RMSE             442.0000              44.3557              32.1973   \n",
       "\n",
       "                      min                  25%                  50%  \\\n",
       "RMSE               0.2075              18.4820              39.5472   \n",
       "\n",
       "                      75%                  max  \n",
       "RMSE              63.9738             158.2355  "
      ]
     },
     "metadata": {},
     "output_type": "display_data"
    }
   ],
   "source": [
    "# CV with maximum number of buckets:  N buckets\n",
    "# train on all data but one example, test on that one example\n",
    "# repeat N times\n",
    "linreg   = linear_model.LinearRegression()\n",
    "diabetes = datasets.load_diabetes()\n",
    "\n",
    "loo = skms.LeaveOneOut()\n",
    "scores = skms.cross_val_score(linreg, \n",
    "                              diabetes.data, diabetes.target,\n",
    "                              cv=loo, \n",
    "                              scoring='neg_mean_squared_error')\n",
    "\n",
    "rmse = pd.Series(np.sqrt(-scores))\n",
    "df = pd.DataFrame({'RMSE':rmse})\n",
    "df.index.name = 'Repeat'\n",
    "display(df.describe().T)"
   ]
  },
  {
   "cell_type": "code",
   "execution_count": 23,
   "metadata": {},
   "outputs": [
    {
     "data": {
      "text/plain": [
       "True"
      ]
     },
     "execution_count": 23,
     "metadata": {},
     "output_type": "execute_result"
    }
   ],
   "source": [
    "len(rmse) == len(diabetes.data)"
   ]
  },
  {
   "cell_type": "code",
   "execution_count": 24,
   "metadata": {},
   "outputs": [
    {
     "data": {
      "image/png": "[encoded data removed]",
      "text/plain": [
       "<Figure size 432x288 with 1 Axes>"
      ]
     },
     "metadata": {
      "needs_background": "light"
     },
     "output_type": "display_data"
    }
   ],
   "source": [
    "ax = sns.swarmplot(y='RMSE', data=df)\n",
    "ax.set_xlabel('Over LOO\\nTrain-Test Splits');"
   ]
  },
  {
   "cell_type": "code",
   "execution_count": null,
   "metadata": {},
   "outputs": [],
   "source": []
  },
  {
   "cell_type": "markdown",
   "metadata": {},
   "source": [
    "# Stratification"
   ]
  },
  {
   "cell_type": "code",
   "execution_count": 25,
   "metadata": {},
   "outputs": [
    {
     "name": "stdout",
     "output_type": "stream",
     "text": [
      "[['dog' 'dog' 'dog']\n",
      " ['cat' 'dog' 'cat']]\n"
     ]
    }
   ],
   "source": [
    "# not stratified\n",
    "pet = np.array(['cat', 'dog', 'cat', 'dog', 'dog', 'dog'])\n",
    "list_folds = list(skms.KFold(2).split(pet))\n",
    "training_idxs = np.array(list_folds)[:,0,:]\n",
    "\n",
    "print(pet[training_idxs])"
   ]
  },
  {
   "cell_type": "code",
   "execution_count": 26,
   "metadata": {},
   "outputs": [
    {
     "name": "stdout",
     "output_type": "stream",
     "text": [
      "[['cat' 'dog' 'dog']\n",
      " ['cat' 'dog' 'dog']]\n"
     ]
    }
   ],
   "source": [
    "pet = np.array(['cat', 'dog', 'cat', 'dog', 'dog', 'dog'])\n",
    "idxs = np.array(list(skms.StratifiedKFold(2)\n",
    "                         .split(np.ones_like(pet), pet)))\n",
    "training_idxs = idxs[:,0,:]\n",
    "print(pet[training_idxs])"
   ]
  },
  {
   "cell_type": "code",
   "execution_count": 27,
   "metadata": {},
   "outputs": [
    {
     "data": {
      "text/plain": [
       "array([1.        , 1.        , 0.86666667, 0.96666667, 0.76666667])"
      ]
     },
     "execution_count": 27,
     "metadata": {},
     "output_type": "execute_result"
    }
   ],
   "source": [
    "# running non-stratified CV\n",
    "iris = datasets.load_iris()\n",
    "model = neighbors.KNeighborsClassifier(10)\n",
    "\n",
    "non_strat_kf = skms.KFold(5)\n",
    "skms.cross_val_score(model, \n",
    "                     iris.data, \n",
    "                     iris.target, \n",
    "                     cv=non_strat_kf)"
   ]
  },
  {
   "cell_type": "code",
   "execution_count": null,
   "metadata": {},
   "outputs": [],
   "source": []
  },
  {
   "cell_type": "markdown",
   "metadata": {},
   "source": [
    "# Repeated Train-Test Splitting"
   ]
  },
  {
   "cell_type": "code",
   "execution_count": 28,
   "metadata": {},
   "outputs": [],
   "source": [
    "# in cross-validation, every example is in one (and only one) test bucket\n",
    "# with RTTS, examples can be (likely are) in multiple test sets\n",
    "def tts_fit_eval(model, data, msr, test_size=.25):\n",
    "    ' apply a train-test split to fit model on data and eval with msr '\n",
    "    tts = skms.train_test_split(data.data, \n",
    "                                data.target, \n",
    "                                test_size=test_size)\n",
    "\n",
    "    (train_ftrs, test_ftrs, train_tgt,  test_tgt) = tts\n",
    "    \n",
    "    fit   = model.fit(train_ftrs, train_tgt)\n",
    "    preds = fit.predict(test_ftrs)\n",
    "\n",
    "    result = msr(test_tgt, preds)\n",
    "    return result"
   ]
  },
  {
   "cell_type": "code",
   "execution_count": 29,
   "metadata": {},
   "outputs": [
    {
     "data": {
      "text/html": [
       "<div>\n",
       "<style scoped>\n",
       "    .dataframe tbody tr th:only-of-type {\n",
       "        vertical-align: middle;\n",
       "    }\n",
       "\n",
       "    .dataframe tbody tr th {\n",
       "        vertical-align: top;\n",
       "    }\n",
       "\n",
       "    .dataframe thead th {\n",
       "        text-align: right;\n",
       "    }\n",
       "</style>\n",
       "<table border=\"1\" class=\"dataframe\">\n",
       "  <thead>\n",
       "    <tr style=\"text-align: right;\">\n",
       "      <th>Repeat</th>\n",
       "      <th>0</th>\n",
       "      <th>1</th>\n",
       "      <th>2</th>\n",
       "      <th>3</th>\n",
       "      <th>4</th>\n",
       "      <th>5</th>\n",
       "      <th>6</th>\n",
       "      <th>7</th>\n",
       "      <th>8</th>\n",
       "      <th>9</th>\n",
       "    </tr>\n",
       "  </thead>\n",
       "  <tbody>\n",
       "    <tr>\n",
       "      <th>RMSE</th>\n",
       "      <td>49.0032</td>\n",
       "      <td>50.1912</td>\n",
       "      <td>51.9735</td>\n",
       "      <td>52.0722</td>\n",
       "      <td>53.2005</td>\n",
       "      <td>55.7008</td>\n",
       "      <td>56.2542</td>\n",
       "      <td>57.4917</td>\n",
       "      <td>58.6379</td>\n",
       "      <td>58.6942</td>\n",
       "    </tr>\n",
       "  </tbody>\n",
       "</table>\n",
       "</div>"
      ],
      "text/plain": [
       "Repeat                    0                    1                    2  \\\n",
       "RMSE                49.0032              50.1912              51.9735   \n",
       "\n",
       "Repeat                    3                    4                    5  \\\n",
       "RMSE                52.0722              53.2005              55.7008   \n",
       "\n",
       "Repeat                    6                    7                    8  \\\n",
       "RMSE                56.2542              57.4917              58.6379   \n",
       "\n",
       "Repeat                    9  \n",
       "RMSE                58.6942  "
      ]
     },
     "metadata": {},
     "output_type": "display_data"
    }
   ],
   "source": [
    "linreg   = linear_model.LinearRegression()\n",
    "diabetes = datasets.load_diabetes()\n",
    "\n",
    "mses = []\n",
    "for r in range(10):\n",
    "    mse = tts_fit_eval(linreg, \n",
    "                       diabetes, \n",
    "                       metrics.mean_squared_error)\n",
    "    mses.append(mse)\n",
    "# or for Python-ninjas:\n",
    "# mses = [tts_fit_score(... as above ...) for i in range(10)]\n",
    "    \n",
    "    \n",
    "rmses = pd.Series(np.sqrt(sorted(mses)))\n",
    "df_man = pd.DataFrame({'RMSE':rmses})\n",
    "df_man.index.name = 'Repeat'\n",
    "display(df_man.T)"
   ]
  },
  {
   "cell_type": "code",
   "execution_count": 30,
   "metadata": {},
   "outputs": [
    {
     "data": {
      "text/html": [
       "<div>\n",
       "<style scoped>\n",
       "    .dataframe tbody tr th:only-of-type {\n",
       "        vertical-align: middle;\n",
       "    }\n",
       "\n",
       "    .dataframe tbody tr th {\n",
       "        vertical-align: top;\n",
       "    }\n",
       "\n",
       "    .dataframe thead th {\n",
       "        text-align: right;\n",
       "    }\n",
       "</style>\n",
       "<table border=\"1\" class=\"dataframe\">\n",
       "  <thead>\n",
       "    <tr style=\"text-align: right;\">\n",
       "      <th></th>\n",
       "      <th>count</th>\n",
       "      <th>mean</th>\n",
       "      <th>std</th>\n",
       "      <th>min</th>\n",
       "      <th>25%</th>\n",
       "      <th>50%</th>\n",
       "      <th>75%</th>\n",
       "      <th>max</th>\n",
       "    </tr>\n",
       "  </thead>\n",
       "  <tbody>\n",
       "    <tr>\n",
       "      <th>RMSE</th>\n",
       "      <td>10.0000</td>\n",
       "      <td>54.3219</td>\n",
       "      <td>3.5058</td>\n",
       "      <td>49.0032</td>\n",
       "      <td>51.9982</td>\n",
       "      <td>54.4507</td>\n",
       "      <td>57.1823</td>\n",
       "      <td>58.6942</td>\n",
       "    </tr>\n",
       "  </tbody>\n",
       "</table>\n",
       "</div>"
      ],
      "text/plain": [
       "                    count                 mean                  std  \\\n",
       "RMSE              10.0000              54.3219               3.5058   \n",
       "\n",
       "                      min                  25%                  50%  \\\n",
       "RMSE              49.0032              51.9982              54.4507   \n",
       "\n",
       "                      75%                  max  \n",
       "RMSE              57.1823              58.6942  "
      ]
     },
     "metadata": {},
     "output_type": "display_data"
    },
    {
     "data": {
      "image/png": "[encoded data removed]",
      "text/plain": [
       "<Figure size 432x288 with 1 Axes>"
      ]
     },
     "metadata": {
      "needs_background": "light"
     },
     "output_type": "display_data"
    }
   ],
   "source": [
    "ax = sns.swarmplot(y='RMSE', data=df_man)\n",
    "ax.set_xlabel('Over Repeated\\nTrain-Test Splits')\n",
    "display(df_man.describe().T)"
   ]
  },
  {
   "cell_type": "code",
   "execution_count": 31,
   "metadata": {},
   "outputs": [
    {
     "data": {
      "text/html": [
       "<div>\n",
       "<style scoped>\n",
       "    .dataframe tbody tr th:only-of-type {\n",
       "        vertical-align: middle;\n",
       "    }\n",
       "\n",
       "    .dataframe tbody tr th {\n",
       "        vertical-align: top;\n",
       "    }\n",
       "\n",
       "    .dataframe thead th {\n",
       "        text-align: right;\n",
       "    }\n",
       "</style>\n",
       "<table border=\"1\" class=\"dataframe\">\n",
       "  <thead>\n",
       "    <tr style=\"text-align: right;\">\n",
       "      <th></th>\n",
       "      <th>count</th>\n",
       "      <th>mean</th>\n",
       "      <th>std</th>\n",
       "      <th>min</th>\n",
       "      <th>25%</th>\n",
       "      <th>50%</th>\n",
       "      <th>75%</th>\n",
       "      <th>max</th>\n",
       "    </tr>\n",
       "  </thead>\n",
       "  <tbody>\n",
       "    <tr>\n",
       "      <th>RMSE</th>\n",
       "      <td>10.0000</td>\n",
       "      <td>55.2028</td>\n",
       "      <td>2.4023</td>\n",
       "      <td>52.5422</td>\n",
       "      <td>54.0341</td>\n",
       "      <td>54.7754</td>\n",
       "      <td>55.6287</td>\n",
       "      <td>61.3167</td>\n",
       "    </tr>\n",
       "  </tbody>\n",
       "</table>\n",
       "</div>"
      ],
      "text/plain": [
       "                    count                 mean                  std  \\\n",
       "RMSE              10.0000              55.2028               2.4023   \n",
       "\n",
       "                      min                  25%                  50%  \\\n",
       "RMSE              52.5422              54.0341              54.7754   \n",
       "\n",
       "                      75%                  max  \n",
       "RMSE              55.6287              61.3167  "
      ]
     },
     "metadata": {},
     "output_type": "display_data"
    },
    {
     "data": {
      "image/png": "[encoded data removed]",
      "text/plain": [
       "<Figure size 432x288 with 1 Axes>"
      ]
     },
     "metadata": {
      "needs_background": "light"
     },
     "output_type": "display_data"
    }
   ],
   "source": [
    "# RTTS using sklearn builtins \n",
    "linreg = linear_model.LinearRegression()\n",
    "\n",
    "ss = skms.ShuffleSplit(test_size=.25) # default is .1 (10 splits)\n",
    "scores = skms.cross_val_score(linreg, \n",
    "                              diabetes.data, diabetes.target,\n",
    "                              cv=ss, \n",
    "                              scoring='neg_mean_squared_error')\n",
    "\n",
    "# convert to -MSE to RMSE\n",
    "rmses = pd.Series(np.sqrt(-scores))\n",
    "df_sk = pd.DataFrame({'RMSE':rmses})\n",
    "df_sk.index.name = 'Repeat'\n",
    "\n",
    "display(df_sk.describe().T)\n",
    "\n",
    "ax = sns.swarmplot(y='RMSE', data=df_sk)\n",
    "ax.set_xlabel('Over Repeated\\nTrain-Test Splits');"
   ]
  },
  {
   "cell_type": "code",
   "execution_count": 32,
   "metadata": {},
   "outputs": [
    {
     "data": {
      "image/png": "[encoded data removed]",
      "text/plain": [
       "<Figure size 576x288 with 2 Axes>"
      ]
     },
     "metadata": {
      "needs_background": "light"
     },
     "output_type": "display_data"
    }
   ],
   "source": [
    "fig, ax = plt.subplots(1,2, figsize=(8,4))\n",
    "sns.swarmplot(y='RMSE', data=df_sk,  ax=ax[0]).set_title('sklearn')\n",
    "sns.swarmplot(y='RMSE', data=df_man, ax=ax[1]).set_title('manual');"
   ]
  },
  {
   "cell_type": "code",
   "execution_count": null,
   "metadata": {},
   "outputs": [],
   "source": []
  },
  {
   "cell_type": "markdown",
   "metadata": {},
   "source": [
    "# Learning and Complexity Curves"
   ]
  },
  {
   "cell_type": "markdown",
   "metadata": {},
   "source": [
    "### Learning Curve"
   ]
  },
  {
   "cell_type": "code",
   "execution_count": 33,
   "metadata": {},
   "outputs": [
    {
     "data": {
      "text/html": [
       "<div>\n",
       "<style scoped>\n",
       "    .dataframe tbody tr th:only-of-type {\n",
       "        vertical-align: middle;\n",
       "    }\n",
       "\n",
       "    .dataframe tbody tr th {\n",
       "        vertical-align: top;\n",
       "    }\n",
       "\n",
       "    .dataframe thead th {\n",
       "        text-align: right;\n",
       "    }\n",
       "</style>\n",
       "<table border=\"1\" class=\"dataframe\">\n",
       "  <thead>\n",
       "    <tr style=\"text-align: right;\">\n",
       "      <th></th>\n",
       "      <th>0</th>\n",
       "      <th>1</th>\n",
       "      <th>2</th>\n",
       "      <th>3</th>\n",
       "      <th>4</th>\n",
       "      <th>Mean 5-CV</th>\n",
       "    </tr>\n",
       "    <tr>\n",
       "      <th>% Data Used</th>\n",
       "      <th></th>\n",
       "      <th></th>\n",
       "      <th></th>\n",
       "      <th></th>\n",
       "      <th></th>\n",
       "      <th></th>\n",
       "    </tr>\n",
       "  </thead>\n",
       "  <tbody>\n",
       "    <tr>\n",
       "      <th>10</th>\n",
       "      <td>0.3333</td>\n",
       "      <td>0.3333</td>\n",
       "      <td>0.3333</td>\n",
       "      <td>0.3333</td>\n",
       "      <td>0.3333</td>\n",
       "      <td>0.3333</td>\n",
       "    </tr>\n",
       "    <tr>\n",
       "      <th>20</th>\n",
       "      <td>0.3333</td>\n",
       "      <td>0.3333</td>\n",
       "      <td>0.3333</td>\n",
       "      <td>0.3333</td>\n",
       "      <td>0.3333</td>\n",
       "      <td>0.3333</td>\n",
       "    </tr>\n",
       "    <tr>\n",
       "      <th>30</th>\n",
       "      <td>0.3333</td>\n",
       "      <td>0.3333</td>\n",
       "      <td>0.3333</td>\n",
       "      <td>0.3333</td>\n",
       "      <td>0.3333</td>\n",
       "      <td>0.3333</td>\n",
       "    </tr>\n",
       "    <tr>\n",
       "      <th>40</th>\n",
       "      <td>0.6667</td>\n",
       "      <td>0.6667</td>\n",
       "      <td>0.6667</td>\n",
       "      <td>0.6667</td>\n",
       "      <td>0.6667</td>\n",
       "      <td>0.6667</td>\n",
       "    </tr>\n",
       "    <tr>\n",
       "      <th>50</th>\n",
       "      <td>0.6667</td>\n",
       "      <td>0.6667</td>\n",
       "      <td>0.6667</td>\n",
       "      <td>0.6667</td>\n",
       "      <td>0.6667</td>\n",
       "      <td>0.6667</td>\n",
       "    </tr>\n",
       "    <tr>\n",
       "      <th>60</th>\n",
       "      <td>0.6667</td>\n",
       "      <td>0.6667</td>\n",
       "      <td>0.6667</td>\n",
       "      <td>0.6667</td>\n",
       "      <td>0.6667</td>\n",
       "      <td>0.6667</td>\n",
       "    </tr>\n",
       "    <tr>\n",
       "      <th>70</th>\n",
       "      <td>0.9000</td>\n",
       "      <td>0.8000</td>\n",
       "      <td>0.8333</td>\n",
       "      <td>0.8667</td>\n",
       "      <td>0.8000</td>\n",
       "      <td>0.8400</td>\n",
       "    </tr>\n",
       "    <tr>\n",
       "      <th>80</th>\n",
       "      <td>0.9667</td>\n",
       "      <td>0.9333</td>\n",
       "      <td>0.9000</td>\n",
       "      <td>0.9000</td>\n",
       "      <td>0.9667</td>\n",
       "      <td>0.9333</td>\n",
       "    </tr>\n",
       "    <tr>\n",
       "      <th>90</th>\n",
       "      <td>0.9667</td>\n",
       "      <td>1.0000</td>\n",
       "      <td>0.9000</td>\n",
       "      <td>0.9667</td>\n",
       "      <td>1.0000</td>\n",
       "      <td>0.9667</td>\n",
       "    </tr>\n",
       "    <tr>\n",
       "      <th>100</th>\n",
       "      <td>0.9667</td>\n",
       "      <td>1.0000</td>\n",
       "      <td>0.9333</td>\n",
       "      <td>0.9667</td>\n",
       "      <td>1.0000</td>\n",
       "      <td>0.9733</td>\n",
       "    </tr>\n",
       "  </tbody>\n",
       "</table>\n",
       "</div>"
      ],
      "text/plain": [
       "                               0                    1                    2  \\\n",
       "% Data Used                                                                  \n",
       "10                        0.3333               0.3333               0.3333   \n",
       "20                        0.3333               0.3333               0.3333   \n",
       "30                        0.3333               0.3333               0.3333   \n",
       "40                        0.6667               0.6667               0.6667   \n",
       "50                        0.6667               0.6667               0.6667   \n",
       "60                        0.6667               0.6667               0.6667   \n",
       "70                        0.9000               0.8000               0.8333   \n",
       "80                        0.9667               0.9333               0.9000   \n",
       "90                        0.9667               1.0000               0.9000   \n",
       "100                       0.9667               1.0000               0.9333   \n",
       "\n",
       "                               3                    4            Mean 5-CV  \n",
       "% Data Used                                                                 \n",
       "10                        0.3333               0.3333               0.3333  \n",
       "20                        0.3333               0.3333               0.3333  \n",
       "30                        0.3333               0.3333               0.3333  \n",
       "40                        0.6667               0.6667               0.6667  \n",
       "50                        0.6667               0.6667               0.6667  \n",
       "60                        0.6667               0.6667               0.6667  \n",
       "70                        0.8667               0.8000               0.8400  \n",
       "80                        0.9000               0.9667               0.9333  \n",
       "90                        0.9667               1.0000               0.9667  \n",
       "100                       0.9667               1.0000               0.9733  "
      ]
     },
     "metadata": {},
     "output_type": "display_data"
    }
   ],
   "source": [
    "# learning curve tells us how our \n",
    "# performance changes with increasing data\n",
    "iris = datasets.load_iris()\n",
    "\n",
    "# 10 data set sizes:  10% - 100% \n",
    "# (that much data is piped to a 5-fold CV)\n",
    "train_sizes = np.linspace(.1,1.0,10)\n",
    "nn = neighbors.KNeighborsClassifier() # default 5 neighbors\n",
    "num_folds = 5\n",
    "\n",
    "(train_N, \n",
    " train_scores, \n",
    " test_scores) = skms.learning_curve(nn, \n",
    "                                    iris.data, iris.target, \n",
    "                                    cv=num_folds, \n",
    "                                    train_sizes=train_sizes)\n",
    "\n",
    "# collapse across the 5 CV scores; one result for each data set size\n",
    "df = pd.DataFrame(test_scores, index=(train_sizes*100).astype(np.int))\n",
    "df['Mean 5-CV'] = df.mean(axis='columns')\n",
    "df.index.name = \"% Data Used\"\n",
    "\n",
    "display(df)"
   ]
  },
  {
   "cell_type": "code",
   "execution_count": 34,
   "metadata": {},
   "outputs": [],
   "source": [
    "def sk_table_to_tidy(train_test_scores, # y values\n",
    "                     eval_points,       # x values\n",
    "                     eval_label,        # x column name\n",
    "                     num_folds):        # could be inferred\n",
    "\n",
    "    # construct row-by-row labels (a pct, train/test, fold)\n",
    "    # and place in table\n",
    "    labels = easy_combo(eval_points, \n",
    "                        [0,1], # surrogates for train/test \n",
    "                        np.arange(num_folds))\n",
    "    df = pd.DataFrame.from_records(labels)\n",
    "    df.columns = [eval_label, 'set', 'fold']\n",
    "    df.set = df.set.replace({0:'Train', 1:'Test'})\n",
    "\n",
    "    # construct the result (score) column\n",
    "    train_scores, test_scores = train_test_scores\n",
    "    score = np.concatenate([train_scores.flatten(), \n",
    "                            test_scores.flatten()], axis=0)    \n",
    "    df['score'] = score\n",
    "    return df"
   ]
  },
  {
   "cell_type": "code",
   "execution_count": 35,
   "metadata": {},
   "outputs": [
    {
     "data": {
      "text/html": [
       "<div>\n",
       "<style scoped>\n",
       "    .dataframe tbody tr th:only-of-type {\n",
       "        vertical-align: middle;\n",
       "    }\n",
       "\n",
       "    .dataframe tbody tr th {\n",
       "        vertical-align: top;\n",
       "    }\n",
       "\n",
       "    .dataframe thead th {\n",
       "        text-align: right;\n",
       "    }\n",
       "</style>\n",
       "<table border=\"1\" class=\"dataframe\">\n",
       "  <thead>\n",
       "    <tr style=\"text-align: right;\">\n",
       "      <th></th>\n",
       "      <th>pct</th>\n",
       "      <th>set</th>\n",
       "      <th>fold</th>\n",
       "      <th>score</th>\n",
       "    </tr>\n",
       "  </thead>\n",
       "  <tbody>\n",
       "    <tr>\n",
       "      <th>0</th>\n",
       "      <td>10</td>\n",
       "      <td>Train</td>\n",
       "      <td>0</td>\n",
       "      <td>1.0000</td>\n",
       "    </tr>\n",
       "    <tr>\n",
       "      <th>1</th>\n",
       "      <td>10</td>\n",
       "      <td>Train</td>\n",
       "      <td>1</td>\n",
       "      <td>1.0000</td>\n",
       "    </tr>\n",
       "    <tr>\n",
       "      <th>2</th>\n",
       "      <td>10</td>\n",
       "      <td>Train</td>\n",
       "      <td>2</td>\n",
       "      <td>1.0000</td>\n",
       "    </tr>\n",
       "    <tr>\n",
       "      <th>3</th>\n",
       "      <td>10</td>\n",
       "      <td>Train</td>\n",
       "      <td>3</td>\n",
       "      <td>1.0000</td>\n",
       "    </tr>\n",
       "    <tr>\n",
       "      <th>4</th>\n",
       "      <td>10</td>\n",
       "      <td>Train</td>\n",
       "      <td>4</td>\n",
       "      <td>1.0000</td>\n",
       "    </tr>\n",
       "  </tbody>\n",
       "</table>\n",
       "</div>"
      ],
      "text/plain": [
       "   pct    set  fold                score\n",
       "0   10  Train     0               1.0000\n",
       "1   10  Train     1               1.0000\n",
       "2   10  Train     2               1.0000\n",
       "3   10  Train     3               1.0000\n",
       "4   10  Train     4               1.0000"
      ]
     },
     "execution_count": 35,
     "metadata": {},
     "output_type": "execute_result"
    }
   ],
   "source": [
    "neat_sizes = (train_sizes*100).astype(np.int)\n",
    "tidy_df = sk_table_to_tidy([train_scores, test_scores],\n",
    "                           neat_sizes, 'pct', 5)\n",
    "tidy_df.head()"
   ]
  },
  {
   "cell_type": "code",
   "execution_count": 36,
   "metadata": {},
   "outputs": [
    {
     "data": {
      "image/png": "[encoded data removed]",
      "text/plain": [
       "<Figure size 432x288 with 1 Axes>"
      ]
     },
     "metadata": {
      "needs_background": "light"
     },
     "output_type": "display_data"
    }
   ],
   "source": [
    "ax = sns.lineplot(x='pct', y='score', hue='set', data=tidy_df)\n",
    "ax.set(title=\"Learning Curve for 5-NN Classifier\",\n",
    "       xlabel=\"Percent of Data used for Training\",\n",
    "       ylabel=\"Accuracy\");"
   ]
  },
  {
   "cell_type": "markdown",
   "metadata": {},
   "source": [
    "### Complexity Curve"
   ]
  },
  {
   "cell_type": "code",
   "execution_count": 37,
   "metadata": {},
   "outputs": [],
   "source": [
    "# complexity (validation) curve tells us how our \n",
    "# performance changes with model complexity\n",
    "n_neighbors = [1,3,5,10,15,20]\n",
    "KNC = neighbors.KNeighborsClassifier\n",
    "tt = skms.validation_curve(KNC(), \n",
    "                           iris.data, iris.target, \n",
    "                           param_name='n_neighbors',\n",
    "                           param_range=n_neighbors,\n",
    "                           cv=5)"
   ]
  },
  {
   "cell_type": "code",
   "execution_count": 38,
   "metadata": {},
   "outputs": [
    {
     "data": {
      "image/png": "[encoded data removed]",
      "text/plain": [
       "<Figure size 432x288 with 1 Axes>"
      ]
     },
     "metadata": {
      "needs_background": "light"
     },
     "output_type": "display_data"
    }
   ],
   "source": [
    "tidy_df = sk_table_to_tidy(tt, n_neighbors, 'k', 5)\n",
    "ax = sns.lineplot(x='k', y='score', hue='set', data=tidy_df)\n",
    "\n",
    "ax.set(title='5-fold CV Performance for k-NN',\n",
    "       xlabel='k for k-NN\\nlow k, more complex',\n",
    "       xticks=n_neighbors,\n",
    "       ylim=(.9, 1.01),\n",
    "       ylabel='Accuracy');"
   ]
  },
  {
   "cell_type": "code",
   "execution_count": null,
   "metadata": {},
   "outputs": [],
   "source": []
  },
  {
   "cell_type": "markdown",
   "metadata": {},
   "source": [
    "# Graphical Cross-Validation"
   ]
  },
  {
   "cell_type": "code",
   "execution_count": 39,
   "metadata": {},
   "outputs": [
    {
     "data": {
      "image/png": "[encoded data removed]",
      "text/plain": [
       "<Figure size 432x288 with 1 Axes>"
      ]
     },
     "metadata": {
      "needs_background": "light"
     },
     "output_type": "display_data"
    }
   ],
   "source": [
    "classifiers = {'gnb1' : naive_bayes.GaussianNB(),\n",
    "               'gnb2' : naive_bayes.GaussianNB(),\n",
    "               '5-NN' : neighbors.KNeighborsClassifier(n_neighbors=5)}\n",
    "\n",
    "iris = datasets.load_iris()\n",
    "\n",
    "fig, ax = plt.subplots(figsize=(6,4))\n",
    "for name, model in classifiers.items():\n",
    "    cv_scores = skms.cross_val_score(model, \n",
    "                                     iris.data, iris.target, \n",
    "                                     cv=10, \n",
    "                                     scoring='accuracy', \n",
    "                                     n_jobs=-1)\n",
    "    my_lbl = \"{} {:.3f}\".format(name, cv_scores.mean())\n",
    "    ax.plot(cv_scores, '-o', label=my_lbl)\n",
    "\n",
    "ax.set(ylim=(0.0, 1.1), \n",
    "       xlabel='Fold ID', \n",
    "       ylabel='Accuracy')\n",
    "ax.legend(ncol=2);"
   ]
  },
  {
   "cell_type": "code",
   "execution_count": null,
   "metadata": {},
   "outputs": [],
   "source": []
  }
 ],
 "metadata": {
  "kernelspec": {
   "display_name": "Python 3",
   "language": "python",
   "name": "python3"
  },
  "language_info": {
   "codemirror_mode": {
    "name": "ipython",
    "version": 3
   },
   "file_extension": ".py",
   "mimetype": "text/x-python",
   "name": "python",
   "nbconvert_exporter": "python",
   "pygments_lexer": "ipython3",
   "version": "3.7.7"
  }
 },
 "nbformat": 4,
 "nbformat_minor": 4
}

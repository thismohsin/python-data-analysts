{
 "cells": [
  {
   "cell_type": "markdown",
   "metadata": {},
   "source": [
    "# Setup"
   ]
  },
  {
   "cell_type": "code",
   "execution_count": 1,
   "metadata": {},
   "outputs": [],
   "source": [
    "import matplotlib.pyplot as plt\n",
    "import numpy as np\n",
    "import pandas as pd\n",
    "import seaborn as sns"
   ]
  },
  {
   "cell_type": "code",
   "execution_count": 2,
   "metadata": {},
   "outputs": [],
   "source": [
    "from sklearn import (datasets,\n",
    "                     dummy,\n",
    "                     metrics,\n",
    "                     model_selection as skms,\n",
    "                     multiclass as skmulti,\n",
    "                     naive_bayes,\n",
    "                     neighbors,\n",
    "                     preprocessing as skpre)"
   ]
  },
  {
   "cell_type": "code",
   "execution_count": 3,
   "metadata": {},
   "outputs": [],
   "source": [
    "import warnings\n",
    "warnings.filterwarnings(\"ignore\")\n",
    "np.random.seed(42)"
   ]
  },
  {
   "cell_type": "markdown",
   "metadata": {},
   "source": [
    "# Baseline Classifiers and Metrics"
   ]
  },
  {
   "cell_type": "markdown",
   "metadata": {},
   "source": [
    "### Baseline Classifiers"
   ]
  },
  {
   "cell_type": "code",
   "execution_count": 4,
   "metadata": {},
   "outputs": [
    {
     "name": "stdout",
     "output_type": "stream",
     "text": [
      "['setosa' 'versicolor' 'virginica']\n"
     ]
    }
   ],
   "source": [
    "iris = datasets.load_iris()\n",
    "print(iris.target_names)\n",
    "\n",
    "tts = skms.train_test_split(iris.data, iris.target, \n",
    "                            test_size=.33, random_state=21)\n",
    "\n",
    "(iris_train_ftrs, iris_test_ftrs, \n",
    " iris_train_tgt,  iris_test_tgt) = tts"
   ]
  },
  {
   "cell_type": "code",
   "execution_count": 5,
   "metadata": {},
   "outputs": [
    {
     "name": "stdout",
     "output_type": "stream",
     "text": [
      "0.3\n"
     ]
    }
   ],
   "source": [
    "# normal usage:  build-fit-predict-evaluate\n",
    "baseline = dummy.DummyClassifier(strategy=\"most_frequent\")\n",
    "baseline.fit(iris_train_ftrs, iris_train_tgt)\n",
    "base_preds = baseline.predict(iris_test_ftrs)\n",
    "base_acc = metrics.accuracy_score(base_preds, iris_test_tgt)\n",
    "print(base_acc)"
   ]
  },
  {
   "cell_type": "code",
   "execution_count": 6,
   "metadata": {},
   "outputs": [
    {
     "data": {
      "text/html": [
       "<div>\n",
       "<style scoped>\n",
       "    .dataframe tbody tr th:only-of-type {\n",
       "        vertical-align: middle;\n",
       "    }\n",
       "\n",
       "    .dataframe tbody tr th {\n",
       "        vertical-align: top;\n",
       "    }\n",
       "\n",
       "    .dataframe thead th {\n",
       "        text-align: right;\n",
       "    }\n",
       "</style>\n",
       "<table border=\"1\" class=\"dataframe\">\n",
       "  <thead>\n",
       "    <tr style=\"text-align: right;\">\n",
       "      <th></th>\n",
       "      <th>accuracy</th>\n",
       "    </tr>\n",
       "  </thead>\n",
       "  <tbody>\n",
       "    <tr>\n",
       "      <th>constant</th>\n",
       "      <td>0.36</td>\n",
       "    </tr>\n",
       "    <tr>\n",
       "      <th>uniform</th>\n",
       "      <td>0.38</td>\n",
       "    </tr>\n",
       "    <tr>\n",
       "      <th>stratified</th>\n",
       "      <td>0.34</td>\n",
       "    </tr>\n",
       "    <tr>\n",
       "      <th>prior</th>\n",
       "      <td>0.30</td>\n",
       "    </tr>\n",
       "    <tr>\n",
       "      <th>most_frequent</th>\n",
       "      <td>0.30</td>\n",
       "    </tr>\n",
       "  </tbody>\n",
       "</table>\n",
       "</div>"
      ],
      "text/plain": [
       "               accuracy\n",
       "constant           0.36\n",
       "uniform            0.38\n",
       "stratified         0.34\n",
       "prior              0.30\n",
       "most_frequent      0.30"
      ]
     },
     "metadata": {},
     "output_type": "display_data"
    }
   ],
   "source": [
    "strategies = ['constant', 'uniform', 'stratified', \n",
    "              'prior', 'most_frequent']\n",
    "\n",
    "# setup args to create diff. DummyClassifier strategies\n",
    "baseline_args = [{'strategy':s} for s in strategies]\n",
    "\n",
    "# strategy is constant, the constant is 0 (setosa)\n",
    "baseline_args[0]['constant'] = 0\n",
    "\n",
    "accuracies = []\n",
    "for bla in baseline_args:\n",
    "    baseline = dummy.DummyClassifier(**bla)\n",
    "    baseline.fit(iris_train_ftrs, iris_train_tgt)\n",
    "    base_preds = baseline.predict(iris_test_ftrs)\n",
    "    accuracies.append(metrics.accuracy_score(base_preds, iris_test_tgt))\n",
    "    \n",
    "display(pd.DataFrame({'accuracy':accuracies}, index=strategies))"
   ]
  },
  {
   "cell_type": "markdown",
   "metadata": {},
   "source": [
    "### Baseline Metrics"
   ]
  },
  {
   "cell_type": "code",
   "execution_count": 7,
   "metadata": {},
   "outputs": [
    {
     "name": "stdout",
     "output_type": "stream",
     "text": [
      "['accuracy', 'adjusted_mutual_info_score', 'adjusted_rand_score',\n",
      "'average_precision', 'balanced_accuracy', 'completeness_score',\n",
      "'explained_variance', 'f1', 'f1_macro', 'f1_micro', 'f1_samples',\n",
      "'f1_weighted', 'fowlkes_mallows_score', 'homogeneity_score',\n",
      "'jaccard', 'jaccard_macro', 'jaccard_micro', 'jaccard_samples',\n",
      "'jaccard_weighted', 'max_error', 'mutual_info_score',\n",
      "'neg_brier_score', 'neg_log_loss', 'neg_mean_absolute_error',\n",
      "'neg_mean_gamma_deviance', 'neg_mean_poisson_deviance',\n",
      "'neg_mean_squared_error', 'neg_mean_squared_log_error',\n",
      "'neg_median_absolute_error', 'neg_root_mean_squared_error',\n",
      "'normalized_mutual_info_score', 'precision', 'precision_macro',\n",
      "'precision_micro', 'precision_samples', 'precision_weighted', 'r2',\n",
      "'recall', 'recall_macro', 'recall_micro', 'recall_samples',\n",
      "'recall_weighted', 'roc_auc', 'roc_auc_ovo', 'roc_auc_ovo_weighted',\n",
      "'roc_auc_ovr', 'roc_auc_ovr_weighted', 'v_measure_score']\n"
     ]
    }
   ],
   "source": [
    "# helpful stdlib tool for cleaning up printouts\n",
    "import textwrap\n",
    "print(textwrap.fill(str(sorted(metrics.SCORERS.keys())), \n",
    "                    width=70))"
   ]
  },
  {
   "cell_type": "code",
   "execution_count": 8,
   "metadata": {},
   "outputs": [
    {
     "name": "stdout",
     "output_type": "stream",
     "text": [
      "Help on method score in module sklearn.base:\n",
      "\n",
      "score(X, y, sample_weight=None) method of sklearn.neighbors._classification.KNeighborsClassifier instance\n",
      "    Return the mean accuracy on the given test data and labels.\n",
      "    \n",
      "    In multi-label classification, this is the subset accuracy\n",
      "    which is a harsh metric since you require for each sample that\n",
      "    each label set be correctly predicted.\n",
      "    \n",
      "    Parameters\n",
      "    ----------\n",
      "    X : array-like of shape (n_samples, n_features)\n",
      "        Test samples.\n",
      "    \n",
      "    y : array-like of shape (n_samples,) or (n_samples, n_outputs)\n",
      "        True labels for X.\n",
      "    \n",
      "    sample_weight : array-like of shape (n_samples,), default=None\n",
      "        Sample weights.\n",
      "    \n",
      "    Returns\n",
      "    -------\n",
      "    score : float\n",
      "        Mean accuracy of self.predict(X) wrt. y.\n",
      "\n"
     ]
    }
   ],
   "source": [
    "knn = neighbors.KNeighborsClassifier()\n",
    "help(knn.score) # verbose, but complete"
   ]
  },
  {
   "cell_type": "markdown",
   "metadata": {},
   "source": [
    "# The Confusion Matrix"
   ]
  },
  {
   "cell_type": "markdown",
   "metadata": {},
   "source": [
    "### Confusion Matrix for Iris"
   ]
  },
  {
   "cell_type": "code",
   "execution_count": 9,
   "metadata": {},
   "outputs": [
    {
     "name": "stdout",
     "output_type": "stream",
     "text": [
      "accuracy: 0.94\n",
      "confusion matrix:\n",
      "[[18  0  0]\n",
      " [ 0 16  1]\n",
      " [ 0  2 13]]\n"
     ]
    }
   ],
   "source": [
    "iris_preds = (neighbors.KNeighborsClassifier()\n",
    "                       .fit(iris_train_ftrs, iris_train_tgt)\n",
    "                       .predict(iris_test_ftrs))\n",
    "\n",
    "print(\"accuracy:\", metrics.accuracy_score(iris_test_tgt, \n",
    "                                          iris_preds))\n",
    "\n",
    "cm = metrics.confusion_matrix(iris_test_tgt, \n",
    "                              iris_preds)\n",
    "print(\"confusion matrix:\", cm, sep=\"\\n\")"
   ]
  },
  {
   "cell_type": "code",
   "execution_count": 10,
   "metadata": {},
   "outputs": [
    {
     "data": {
      "image/png": "[encoded data removed]",
      "text/plain": [
       "<Figure size 288x288 with 2 Axes>"
      ]
     },
     "metadata": {
      "needs_background": "light"
     },
     "output_type": "display_data"
    }
   ],
   "source": [
    "fig, ax = plt.subplots(1,1,figsize=(4,4))\n",
    "cm = metrics.confusion_matrix(iris_test_tgt,\n",
    "                              iris_preds)\n",
    "ax = sns.heatmap(cm, annot=True, square=True,\n",
    "                 xticklabels=iris.target_names, \n",
    "                 yticklabels=iris.target_names)\n",
    "ax.set_xlabel('Predicted')\n",
    "ax.set_ylabel('Actual');"
   ]
  },
  {
   "cell_type": "markdown",
   "metadata": {},
   "source": [
    "### Confusion Matrix for \"Is Versicolor\"?"
   ]
  },
  {
   "cell_type": "code",
   "execution_count": 11,
   "metadata": {},
   "outputs": [],
   "source": [
    "# is it versicolor or not?  \n",
    "# (oc stands for \"iris one class\")\n",
    "is_versicolor = np.where(iris.target == 1, 'versi', 'other')\n",
    "oc_tts = skms.train_test_split(iris.data, is_versicolor, \n",
    "                               test_size=.33, random_state = 21)\n",
    "(oc_train_ftrs, oc_test_ftrs,\n",
    " oc_train_tgt,  oc_test_tgt) = oc_tts"
   ]
  },
  {
   "cell_type": "code",
   "execution_count": 12,
   "metadata": {},
   "outputs": [],
   "source": [
    "# this is a very different learning problem!\n",
    "# the confusion matrix will be (possibly, likely) quite different\n",
    "oc_preds = (neighbors.KNeighborsClassifier()\n",
    "                     .fit(oc_train_ftrs, oc_train_tgt)\n",
    "                     .predict(oc_test_ftrs))"
   ]
  },
  {
   "cell_type": "code",
   "execution_count": 13,
   "metadata": {},
   "outputs": [
    {
     "data": {
      "image/png": "[encoded data removed]",
      "text/plain": [
       "<Figure size 288x288 with 2 Axes>"
      ]
     },
     "metadata": {
      "needs_background": "light"
     },
     "output_type": "display_data"
    }
   ],
   "source": [
    "fig, ax = plt.subplots(1,1,figsize=(4,4))\n",
    "cm = metrics.confusion_matrix(oc_test_tgt, oc_preds)\n",
    "\n",
    "class_labels = ['other', 'versi']\n",
    "ax = sns.heatmap(cm, annot=True, square=True,\n",
    "                 xticklabels=class_labels, \n",
    "                 yticklabels=class_labels)\n",
    "ax.set_xlabel('Predicted')\n",
    "ax.set_ylabel('Actual');"
   ]
  },
  {
   "cell_type": "markdown",
   "metadata": {},
   "source": [
    "# Metrics from the Binary Confusion Matrix"
   ]
  },
  {
   "cell_type": "markdown",
   "metadata": {},
   "source": [
    "Key Metrics:\n",
    " * accuracy\n",
    " * sensitivity/specificity\n",
    " * precision/recall (built-in)\n",
    " * TPR (true positive rate)\n",
    " * FPR (false positive rate)"
   ]
  },
  {
   "cell_type": "code",
   "execution_count": 14,
   "metadata": {},
   "outputs": [
    {
     "name": "stdout",
     "output_type": "stream",
     "text": [
      "[[31  2]\n",
      " [ 1 16]]\n"
     ]
    }
   ],
   "source": [
    "cm = metrics.confusion_matrix(oc_test_tgt, oc_preds)\n",
    "print(cm)"
   ]
  },
  {
   "cell_type": "code",
   "execution_count": 15,
   "metadata": {},
   "outputs": [
    {
     "name": "stdout",
     "output_type": "stream",
     "text": [
      "accuracy: 0.94\n",
      "equal? True\n"
     ]
    }
   ],
   "source": [
    "# accuracy is \"right\" over \"all\"\n",
    "builtin_acc = metrics.accuracy_score(oc_test_tgt, oc_preds)\n",
    "manual_acc  = (31 + 16) / (31 + 2 + 1 + 16)\n",
    "print('accuracy:', builtin_acc)\n",
    "print('equal?', builtin_acc==manual_acc)"
   ]
  },
  {
   "cell_type": "code",
   "execution_count": 16,
   "metadata": {},
   "outputs": [
    {
     "data": {
      "text/plain": [
       "0.94"
      ]
     },
     "execution_count": 16,
     "metadata": {},
     "output_type": "execute_result"
    }
   ],
   "source": [
    "# trick for accuracy:  \n",
    "# \"correct\" is on diagonal\n",
    "# \"all\" is ... everything\n",
    "np.diag(cm).sum() / cm.sum()"
   ]
  },
  {
   "cell_type": "markdown",
   "metadata": {},
   "source": [
    "|             | Pred True  | Pred False | Result |\n",
    "|:-------------:|:------------:|:------------:|:---------:|\n",
    "| Actual True | TP         | FN         |$\\frac{TP}{(TP + FN)}$ = recall = sensitivity = TPR |\n",
    "| Actual False| FP         | TN         |$\\frac{TN}{(FP + TN)}$ = specificity  |\n",
    "|  | $\\frac{TP}{(TP + FP)}$ = precision| |\n",
    "\n",
    "Note:\n",
    "  * $\\mathit{FPR} = 1-\\text{specificity} = \\frac{FP}{FP+TN}$\n",
    "  * sometimes, people will say:\n",
    "    * sensitivity is the \"recall of the positive class\"\n",
    "    * specificity is the \"recall of the negative class\""
   ]
  },
  {
   "cell_type": "code",
   "execution_count": 17,
   "metadata": {},
   "outputs": [
    {
     "name": "stdout",
     "output_type": "stream",
     "text": [
      "[[31  2]\n",
      " [ 1 16]]\n"
     ]
    }
   ],
   "source": [
    "print(cm)"
   ]
  },
  {
   "cell_type": "code",
   "execution_count": 18,
   "metadata": {},
   "outputs": [],
   "source": [
    "# we can give these elements names:\n",
    "# with these names, i'm taking \"other\"\n",
    "# as the \"positive class\"\n",
    "(tp, fn), (fp, tn) = cm"
   ]
  },
  {
   "cell_type": "code",
   "execution_count": 19,
   "metadata": {},
   "outputs": [
    {
     "name": "stdout",
     "output_type": "stream",
     "text": [
      "precision: 0.96875\n",
      "equal? True\n"
     ]
    }
   ],
   "source": [
    "builtin_precision = metrics.precision_score(oc_test_tgt, \n",
    "                                            oc_preds, \n",
    "                                            pos_label='other')\n",
    "manual_precision  = tp/(tp+fp)\n",
    "\n",
    "print('precision:', builtin_precision)\n",
    "print('equal?', builtin_precision == manual_precision)"
   ]
  },
  {
   "cell_type": "code",
   "execution_count": 20,
   "metadata": {},
   "outputs": [
    {
     "name": "stdout",
     "output_type": "stream",
     "text": [
      "recall: 0.9393939393939394\n",
      "equal? True\n"
     ]
    }
   ],
   "source": [
    "builtin_recall = metrics.recall_score(oc_test_tgt, \n",
    "                                      oc_preds, \n",
    "                                      pos_label='other')\n",
    "\n",
    "manual_recall  = tp/(tp+fn)\n",
    "\n",
    "print('recall:', builtin_recall)\n",
    "print('equal?', builtin_recall == manual_recall)"
   ]
  },
  {
   "cell_type": "code",
   "execution_count": 21,
   "metadata": {},
   "outputs": [
    {
     "name": "stdout",
     "output_type": "stream",
     "text": [
      "manual spec: 0.9411764705882353\n"
     ]
    }
   ],
   "source": [
    "manual_specificity = tn/(fp+tn)\n",
    "print('manual spec:', manual_specificity)"
   ]
  },
  {
   "cell_type": "code",
   "execution_count": 22,
   "metadata": {},
   "outputs": [
    {
     "name": "stdout",
     "output_type": "stream",
     "text": [
      "recall 'negative class': 0.9411764705882353\n"
     ]
    }
   ],
   "source": [
    "# remember:  \"specificity is recall of negative class\"\n",
    "# negative class for us is pos_label=1\n",
    "recall_negclass = metrics.recall_score(oc_test_tgt, \n",
    "                                       oc_preds, \n",
    "                                       pos_label='versi')\n",
    "print(\"recall 'negative class':\", recall_negclass)"
   ]
  },
  {
   "cell_type": "code",
   "execution_count": 23,
   "metadata": {},
   "outputs": [],
   "source": [
    "# FPR:  1 -specif."
   ]
  },
  {
   "cell_type": "code",
   "execution_count": 24,
   "metadata": {},
   "outputs": [],
   "source": [
    "# summarizing a few of these: \n",
    "# accuracy:      0.94\n",
    "# precision:     0.96875\n",
    "# recall(other): 0.9393\n",
    "# recall(versi): 0.9411"
   ]
  },
  {
   "cell_type": "code",
   "execution_count": 25,
   "metadata": {},
   "outputs": [
    {
     "name": "stdout",
     "output_type": "stream",
     "text": [
      "              precision    recall  f1-score   support\n",
      "\n",
      "       other      0.969     0.939     0.954        33\n",
      "       versi      0.889     0.941     0.914        17\n",
      "\n",
      "    accuracy                          0.940        50\n",
      "   macro avg      0.929     0.940     0.934        50\n",
      "weighted avg      0.942     0.940     0.940        50\n",
      "\n"
     ]
    }
   ],
   "source": [
    "print(metrics.classification_report(oc_test_tgt, \n",
    "                                    oc_preds, digits=3))"
   ]
  },
  {
   "cell_type": "code",
   "execution_count": 26,
   "metadata": {},
   "outputs": [
    {
     "data": {
      "text/plain": [
       "0.9538461538461539"
      ]
     },
     "execution_count": 26,
     "metadata": {},
     "output_type": "execute_result"
    }
   ],
   "source": [
    "# what's f1?  it's a weird mix of precision and recall\n",
    "# (technically it's called the \"harmonic mean\")\n",
    "# reciprocal (1/x) of the average of the reciprocals\n",
    "# 1 / (1/2 * (1/prec + 1/recall))\n",
    "# = 2 / (1/prec + 1/recall)\n",
    "f1 = 2 * (1 / (1/builtin_precision + 1/builtin_recall))\n",
    "f1"
   ]
  },
  {
   "cell_type": "code",
   "execution_count": 27,
   "metadata": {},
   "outputs": [
    {
     "data": {
      "text/plain": [
       "0.9538461538461539"
      ]
     },
     "execution_count": 27,
     "metadata": {},
     "output_type": "execute_result"
    }
   ],
   "source": [
    "metrics.f1_score(oc_test_tgt, oc_preds, pos_label='other')"
   ]
  },
  {
   "cell_type": "markdown",
   "metadata": {},
   "source": [
    "# Understanding the ROC Curve and AUC"
   ]
  },
  {
   "cell_type": "code",
   "execution_count": 28,
   "metadata": {},
   "outputs": [],
   "source": [
    "# AUC <-- ROC Curve <--- fpr, tpr"
   ]
  },
  {
   "cell_type": "code",
   "execution_count": 29,
   "metadata": {},
   "outputs": [],
   "source": [
    "# we use a boolean target here to simplify tricky code below\n",
    "is_versicolor = iris.target == 1\n",
    "oc_tts = skms.train_test_split(iris.data, is_versicolor, \n",
    "                               test_size=.33, random_state = 21)\n",
    "(oc_train_ftrs, oc_test_ftrs,\n",
    " oc_train_tgt,  oc_test_tgt) = oc_tts"
   ]
  },
  {
   "cell_type": "code",
   "execution_count": 30,
   "metadata": {},
   "outputs": [],
   "source": [
    "# build, fit, predict (probability scores) for NB model\n",
    "gnb = naive_bayes.GaussianNB()\n",
    "prob_true = (gnb.fit(oc_train_ftrs, oc_train_tgt)\n",
    "                .predict_proba(oc_test_ftrs)[:,1]) # [:,1]==\"True\""
   ]
  },
  {
   "cell_type": "code",
   "execution_count": 31,
   "metadata": {},
   "outputs": [
    {
     "data": {
      "text/html": [
       "<div>\n",
       "<style scoped>\n",
       "    .dataframe tbody tr th:only-of-type {\n",
       "        vertical-align: middle;\n",
       "    }\n",
       "\n",
       "    .dataframe tbody tr th {\n",
       "        vertical-align: top;\n",
       "    }\n",
       "\n",
       "    .dataframe thead th {\n",
       "        text-align: right;\n",
       "    }\n",
       "</style>\n",
       "<table border=\"1\" class=\"dataframe\">\n",
       "  <thead>\n",
       "    <tr style=\"text-align: right;\">\n",
       "      <th></th>\n",
       "      <th>0</th>\n",
       "      <th>1</th>\n",
       "      <th>2</th>\n",
       "      <th>3</th>\n",
       "      <th>4</th>\n",
       "      <th>5</th>\n",
       "      <th>6</th>\n",
       "      <th>7</th>\n",
       "      <th>8</th>\n",
       "    </tr>\n",
       "  </thead>\n",
       "  <tbody>\n",
       "    <tr>\n",
       "      <th>TPR</th>\n",
       "      <td>0.0</td>\n",
       "      <td>0.058824</td>\n",
       "      <td>0.882353</td>\n",
       "      <td>0.882353</td>\n",
       "      <td>0.941176</td>\n",
       "      <td>0.941176</td>\n",
       "      <td>1.000000</td>\n",
       "      <td>1.000000</td>\n",
       "      <td>1.0</td>\n",
       "    </tr>\n",
       "    <tr>\n",
       "      <th>FPR</th>\n",
       "      <td>0.0</td>\n",
       "      <td>0.000000</td>\n",
       "      <td>0.000000</td>\n",
       "      <td>0.060606</td>\n",
       "      <td>0.060606</td>\n",
       "      <td>0.121212</td>\n",
       "      <td>0.121212</td>\n",
       "      <td>0.181818</td>\n",
       "      <td>1.0</td>\n",
       "    </tr>\n",
       "  </tbody>\n",
       "</table>\n",
       "</div>"
      ],
      "text/plain": [
       "       0         1         2         3         4         5         6  \\\n",
       "TPR  0.0  0.058824  0.882353  0.882353  0.941176  0.941176  1.000000   \n",
       "FPR  0.0  0.000000  0.000000  0.060606  0.060606  0.121212  0.121212   \n",
       "\n",
       "            7    8  \n",
       "TPR  1.000000  1.0  \n",
       "FPR  0.181818  1.0  "
      ]
     },
     "execution_count": 31,
     "metadata": {},
     "output_type": "execute_result"
    }
   ],
   "source": [
    "fpr, tpr, thresh = metrics.roc_curve(oc_test_tgt, prob_true)\n",
    "pd.DataFrame({'TPR':tpr, 'FPR':fpr}).T"
   ]
  },
  {
   "cell_type": "code",
   "execution_count": 32,
   "metadata": {},
   "outputs": [
    {
     "name": "stdout",
     "output_type": "stream",
     "text": [
      "AUC: 0.9893048128342244\n"
     ]
    }
   ],
   "source": [
    "auc = metrics.auc(fpr, tpr)\n",
    "print('AUC:', auc)"
   ]
  },
  {
   "cell_type": "code",
   "execution_count": 33,
   "metadata": {},
   "outputs": [
    {
     "data": {
      "image/png": "[encoded data removed]",
      "text/plain": [
       "<Figure size 576x288 with 1 Axes>"
      ]
     },
     "metadata": {
      "needs_background": "light"
     },
     "output_type": "display_data"
    }
   ],
   "source": [
    "# create the main graph\n",
    "fig, ax = plt.subplots(figsize=(8,4))\n",
    "ax.plot(fpr, tpr, 'o--')\n",
    "ax.set_title(\"1-Class Iris ROC Curve\\nAUC:{:.3f}\".format(auc))\n",
    "ax.set_xlabel(\"FPR\") \n",
    "ax.set_ylabel(\"TPR\");\n",
    "\n",
    "# do a bit of work to label some points with their\n",
    "# respective thresholds\n",
    "investigate = np.array([1,3,5])\n",
    "for idx in investigate:\n",
    "    th, f, t = thresh[idx], fpr[idx], tpr[idx]\n",
    "    ax.annotate('thresh = {:.3f}'.format(th), \n",
    "                xy=(f+.01, t-.01), xytext=(f+.1, t-.02),\n",
    "                arrowprops = {'arrowstyle':'->'})"
   ]
  },
  {
   "cell_type": "code",
   "execution_count": 34,
   "metadata": {},
   "outputs": [
    {
     "data": {
      "image/png": "[encoded data removed]",
      "text/plain": [
       "<Figure size 864x288 with 3 Axes>"
      ]
     },
     "metadata": {
      "needs_background": "light"
     },
     "output_type": "display_data"
    }
   ],
   "source": [
    "title_fmt = \"Threshold {}\\n~{:5.3f}\\nTPR : {:.3f}\\nFPR : {:.3f}\"\n",
    "\n",
    "pn = ['Positive', 'Negative']\n",
    "add_args = {'xticklabels': pn,\n",
    "            'yticklabels': pn,\n",
    "            'square':True}\n",
    "\n",
    "fig, axes = plt.subplots(1,3, sharey = True, figsize=(12,4))\n",
    "for ax, thresh_idx in zip(axes.flat, investigate):\n",
    "    preds_at_th = prob_true < thresh[thresh_idx]\n",
    "    cm = metrics.confusion_matrix(1-oc_test_tgt, preds_at_th)\n",
    "    sns.heatmap(cm, annot=True, cbar=False, ax=ax,\n",
    "                **add_args)\n",
    "\n",
    "    ax.set_xlabel('Predicted')\n",
    "    ax.set_title(title_fmt.format(thresh_idx, \n",
    "                                  thresh[thresh_idx],\n",
    "                                  tpr[thresh_idx], \n",
    "                                  fpr[thresh_idx]))\n",
    "axes[0].set_ylabel('Actual');"
   ]
  },
  {
   "cell_type": "code",
   "execution_count": 35,
   "metadata": {},
   "outputs": [],
   "source": [
    "# For example, with Threshold 3 (middle plot)\n",
    "# FPR = 1 - specificity\n",
    "#     = 1 - 31/(31+2) \n",
    "#     = 1 - 31/33 \n",
    "#     = 0.0606... ~ 0.061"
   ]
  },
  {
   "cell_type": "markdown",
   "metadata": {},
   "source": [
    "# Comparing Classifiers with ROC and PR Curves"
   ]
  },
  {
   "cell_type": "markdown",
   "metadata": {},
   "source": [
    "### ROC Curve"
   ]
  },
  {
   "cell_type": "code",
   "execution_count": 36,
   "metadata": {},
   "outputs": [],
   "source": [
    "models = {'base':dummy.DummyClassifier(strategy=\"uniform\"),\n",
    "          'gnb' :naive_bayes.GaussianNB(),\n",
    "          '5-nn':neighbors.KNeighborsClassifier(n_neighbors=5)}\n",
    "\n",
    "prob_true = {}\n",
    "for mod_name, model in models.items():\n",
    "    fit   = model.fit(oc_train_ftrs, oc_train_tgt)\n",
    "    preds = fit.predict_proba(oc_test_ftrs)[:,1] # [:,1]==\"True\"\n",
    "    prob_true[mod_name] = preds"
   ]
  },
  {
   "cell_type": "code",
   "execution_count": 37,
   "metadata": {},
   "outputs": [
    {
     "data": {
      "image/png": "[encoded data removed]",
      "text/plain": [
       "<Figure size 576x288 with 1 Axes>"
      ]
     },
     "metadata": {
      "needs_background": "light"
     },
     "output_type": "display_data"
    }
   ],
   "source": [
    "# make ROC plots\n",
    "lbl_fmt = \"{:s} AUC = {:.2f}\"\n",
    "fig,ax = plt.subplots(figsize=(8,4))\n",
    "for mod_name, pt in prob_true.items():\n",
    "    fpr, tpr, _ = metrics.roc_curve(oc_test_tgt, pt)\n",
    "    label = lbl_fmt.format(mod_name, metrics.auc(fpr,tpr))\n",
    "    ax.plot(fpr, tpr, 'o--', label=label)\n",
    "ax.legend()\n",
    "ax.set_xlabel(\"FPR\")\n",
    "ax.set_ylabel(\"TPR\");"
   ]
  },
  {
   "cell_type": "markdown",
   "metadata": {},
   "source": [
    "### Precision-Recall Curve"
   ]
  },
  {
   "cell_type": "code",
   "execution_count": 38,
   "metadata": {},
   "outputs": [
    {
     "data": {
      "image/png": "[encoded data removed]",
      "text/plain": [
       "<Figure size 576x288 with 1 Axes>"
      ]
     },
     "metadata": {
      "needs_background": "light"
     },
     "output_type": "display_data"
    }
   ],
   "source": [
    "# make pr plots\n",
    "lbl_fmt = \"{:s} AUC = {:.2f}\"\n",
    "fig,ax = plt.subplots(figsize=(8,4))\n",
    "for mod_name, pt in prob_true.items():\n",
    "    prc = metrics.precision_recall_curve\n",
    "    precision, recall, _ = prc(oc_test_tgt, pt)\n",
    "    label = lbl_fmt.format(mod_name, metrics.auc(recall, precision))\n",
    "    ax.plot(recall, precision, 'o--', label=label)\n",
    "ax.legend()\n",
    "ax.set_xlabel(\"Recall\")\n",
    "ax.set_ylabel(\"Precision\");"
   ]
  },
  {
   "cell_type": "code",
   "execution_count": null,
   "metadata": {},
   "outputs": [],
   "source": []
  }
 ],
 "metadata": {
  "kernelspec": {
   "display_name": "Python 3",
   "language": "python",
   "name": "python3"
  },
  "language_info": {
   "codemirror_mode": {
    "name": "ipython",
    "version": 3
   },
   "file_extension": ".py",
   "mimetype": "text/x-python",
   "name": "python",
   "nbconvert_exporter": "python",
   "pygments_lexer": "ipython3",
   "version": "3.7.7"
  }
 },
 "nbformat": 4,
 "nbformat_minor": 4
}

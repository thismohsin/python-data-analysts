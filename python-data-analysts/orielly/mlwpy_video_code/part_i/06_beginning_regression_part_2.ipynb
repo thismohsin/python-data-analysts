{
 "cells": [
  {
   "cell_type": "markdown",
   "metadata": {},
   "source": [
    "# Setup"
   ]
  },
  {
   "cell_type": "code",
   "execution_count": 1,
   "metadata": {},
   "outputs": [],
   "source": [
    "import numpy as np\n",
    "import pandas as pd\n",
    "import seaborn as sns\n",
    "\n",
    "import matplotlib.pyplot as plt\n",
    "\n",
    "%matplotlib inline "
   ]
  },
  {
   "cell_type": "code",
   "execution_count": 2,
   "metadata": {},
   "outputs": [],
   "source": [
    "from sklearn import (datasets,\n",
    "                     linear_model,\n",
    "                     metrics,\n",
    "                     model_selection as skms,\n",
    "                     neighbors)"
   ]
  },
  {
   "cell_type": "code",
   "execution_count": 3,
   "metadata": {},
   "outputs": [],
   "source": [
    "import warnings\n",
    "warnings.filterwarnings('ignore')\n",
    "np.random.seed(42)"
   ]
  },
  {
   "cell_type": "code",
   "execution_count": 4,
   "metadata": {},
   "outputs": [],
   "source": [
    "pd.options.display.float_format = '{:20,.4f}'.format"
   ]
  },
  {
   "cell_type": "markdown",
   "metadata": {},
   "source": [
    "# Optimization"
   ]
  },
  {
   "cell_type": "code",
   "execution_count": 5,
   "metadata": {},
   "outputs": [],
   "source": [
    "tgt = np.array([3,5,8,10,12,15])"
   ]
  },
  {
   "cell_type": "code",
   "execution_count": 6,
   "metadata": {},
   "outputs": [
    {
     "data": {
      "text/plain": [
       "7.49448142616835"
      ]
     },
     "execution_count": 6,
     "metadata": {},
     "output_type": "execute_result"
    }
   ],
   "source": [
    "# random guessing\n",
    "num_guesses = 10\n",
    "results = []\n",
    "for g in range(num_guesses):\n",
    "    guess = np.random.uniform(low=tgt.min(),\n",
    "                              high=tgt.max())\n",
    "    total_sse = np.sum((tgt-guess)**2)\n",
    "    results.append((total_sse, guess))\n",
    "best_guess = sorted(results)[0][1]\n",
    "best_guess"
   ]
  },
  {
   "cell_type": "code",
   "execution_count": 7,
   "metadata": {},
   "outputs": [
    {
     "name": "stdout",
     "output_type": "stream",
     "text": [
      "5.097013931549623\n"
     ]
    }
   ],
   "source": [
    "# random step, if it's good\n",
    "num_steps = 100\n",
    "step_size = 0.05\n",
    "\n",
    "best_guess = np.random.uniform(low=tgt.min(),\n",
    "                               high=tgt.max())\n",
    "best_sse = np.sum((tgt-best_guess)**2)\n",
    "\n",
    "for s in range(num_steps):\n",
    "    new_guess = best_guess + (np.random.choice([+1, -1]) * step_size)\n",
    "    new_sse   = np.sum((new_guess-tgt)**2)\n",
    "    if new_sse < best_sse:\n",
    "        best_guess = new_guess\n",
    "        best_sse   = new_sse\n",
    "print(best_guess)"
   ]
  },
  {
   "cell_type": "code",
   "execution_count": 9,
   "metadata": {},
   "outputs": [
    {
     "name": "stdout",
     "output_type": "stream",
     "text": [
      "start: 6.256188381286751\n",
      "end: 8.256188381286709\n"
     ]
    }
   ],
   "source": [
    "# smart steps\n",
    "num_steps = 100\n",
    "step_size = 0.02\n",
    "\n",
    "best_guess = np.random.uniform(low=tgt.min(),\n",
    "                               high=tgt.max())\n",
    "best_sse = np.sum((tgt-best_guess)**2)\n",
    "print('start:', best_guess)\n",
    "\n",
    "for s in range(num_steps):\n",
    "    guesses = best_guess + (np.array([-1, +1]) * step_size)\n",
    "    sses    = np.sum((tgt[:,np.newaxis] - guesses)**2, axis=0)\n",
    "    guess_idx = np.argmin(sses)\n",
    "    \n",
    "    if sses[guess_idx] < best_sse:\n",
    "        best_guess = guesses[guess_idx]\n",
    "        best_sse   = sses[guess_idx]\n",
    "    else:\n",
    "        break\n",
    "\n",
    "print('end:', best_guess)"
   ]
  },
  {
   "cell_type": "code",
   "execution_count": 10,
   "metadata": {},
   "outputs": [
    {
     "data": {
      "text/plain": [
       "8.833333333333334"
      ]
     },
     "execution_count": 10,
     "metadata": {},
     "output_type": "execute_result"
    }
   ],
   "source": [
    "# 7.5, 5.1, 8.3\n",
    "np.mean(tgt)"
   ]
  },
  {
   "cell_type": "markdown",
   "metadata": {},
   "source": [
    "# Learning Performance of Regressors"
   ]
  },
  {
   "cell_type": "code",
   "execution_count": 16,
   "metadata": {},
   "outputs": [
    {
     "name": "stdout",
     "output_type": "stream",
     "text": [
      "  3-NN : 62.83\n",
      "  5-NN : 60.42\n",
      " 10-NN : 57.46\n",
      " 20-NN : 56.16\n",
      "linreg : 54.63\n"
     ]
    }
   ],
   "source": [
    "# stand alone code\n",
    "from sklearn import (datasets, \n",
    "                     linear_model, \n",
    "                     model_selection as skms,\n",
    "                     metrics,\n",
    "                     neighbors)\n",
    "\n",
    "# dataset\n",
    "diabetes = datasets.load_diabetes()\n",
    "\n",
    "# tts\n",
    "tts =  skms.train_test_split(diabetes.data,\n",
    "                             diabetes.target, \n",
    "                             test_size=.25)\n",
    "(diabetes_train, diabetes_test, \n",
    " diabetes_train_tgt, diabetes_test_tgt) = tts\n",
    "\n",
    "# define some models\n",
    "models = {'3-NN': neighbors.KNeighborsRegressor(n_neighbors=3),\n",
    "          '5-NN': neighbors.KNeighborsRegressor(n_neighbors=5),\n",
    "          '10-NN': neighbors.KNeighborsRegressor(n_neighbors=10),\n",
    "          '20-NN': neighbors.KNeighborsRegressor(n_neighbors=20),\n",
    "          'linreg' : linear_model.LinearRegression()}\n",
    "\n",
    "for name, model in models.items():\n",
    "    fit   = model.fit(diabetes_train, diabetes_train_tgt)\n",
    "    preds = fit.predict(diabetes_test)\n",
    "    score = np.sqrt(metrics.mean_squared_error(diabetes_test_tgt, \n",
    "                                               preds))\n",
    "    print(\"{:>6s} : {:0.2f}\".format(name,score))"
   ]
  },
  {
   "cell_type": "markdown",
   "metadata": {},
   "source": [
    "# Resource Evaluation"
   ]
  },
  {
   "cell_type": "code",
   "execution_count": 17,
   "metadata": {},
   "outputs": [
    {
     "name": "stdout",
     "output_type": "stream",
     "text": [
      "import timeit, sys\r\n",
      "import functools as ft\r\n",
      "import memory_profiler\r\n",
      "from sklearn import (datasets,\r\n",
      "                     linear_model,\r\n",
      "                     model_selection as skms,\r\n",
      "                     neighbors)\r\n",
      "\r\n",
      "def knn_go(train_ftrs, test_ftrs, train_tgt):\r\n",
      "    knn = neighbors.KNeighborsRegressor(n_neighbors=3)\r\n",
      "    fit   = knn.fit(train_ftrs, train_tgt)\r\n",
      "    preds = fit.predict(test_ftrs)\r\n",
      "\r\n",
      "def lr_go(train_ftrs, test_ftrs, train_tgt):\r\n",
      "    linreg = linear_model.LinearRegression()\r\n",
      "    fit   = linreg.fit(train_ftrs, train_tgt)\r\n",
      "    preds = fit.predict(test_ftrs)\r\n",
      "\r\n",
      "def split_data(dataset):\r\n",
      "    split = skms.train_test_split(dataset.data,\r\n",
      "                                  dataset.target,\r\n",
      "                                  test_size=.25)\r\n",
      "    return split[:-1] # don't need test tgt\r\n",
      "\r\n",
      "def msr_time(go, args):\r\n",
      "    call = ft.partial(go, *args)\r\n",
      "    tu = min(timeit.Timer(call).repeat(repeat=3, number=100))\r\n",
      "    print(\"{:<6}: ~{:.4f} sec\".format(go.__name__, tu))\r\n",
      "\r\n",
      "def msr_mem(go, args):\r\n",
      "    base = memory_profiler.memory_usage()[0]\r\n",
      "    mu = memory_profiler.memory_usage((go, args),\r\n",
      "                                       max_usage=True)[0]\r\n",
      "    print(\"{:<3}: ~{:.4f} MiB\".format(go.__name__, mu-base))\r\n",
      "\r\n",
      "if __name__ == \"__main__\":\r\n",
      "    which_msr = sys.argv[1]\r\n",
      "    which_go = sys.argv[2]\r\n",
      "\r\n",
      "    msr = {'time': msr_time, 'mem':msr_mem}[which_msr]\r\n",
      "    go = {'lr' : lr_go, 'knn': knn_go}[which_go]\r\n",
      "\r\n",
      "    sd = split_data(datasets.load_iris())\r\n",
      "    msr(go, sd)\r\n"
     ]
    }
   ],
   "source": [
    "!cat scripts/perf_02.py"
   ]
  },
  {
   "cell_type": "code",
   "execution_count": 18,
   "metadata": {},
   "outputs": [
    {
     "name": "stdout",
     "output_type": "stream",
     "text": [
      "lr_go: ~1.6172 MiB\n",
      "lr_go : ~0.0627 sec\n"
     ]
    }
   ],
   "source": [
    "!python scripts/perf_02.py mem lr\n",
    "!python scripts/perf_02.py time lr"
   ]
  },
  {
   "cell_type": "code",
   "execution_count": 19,
   "metadata": {},
   "outputs": [
    {
     "name": "stdout",
     "output_type": "stream",
     "text": [
      "knn_go: ~0.3438 MiB\n",
      "knn_go: ~0.1123 sec\n"
     ]
    }
   ],
   "source": [
    "!python scripts/perf_02.py mem knn\n",
    "!python scripts/perf_02.py time knn"
   ]
  }
 ],
 "metadata": {
  "kernelspec": {
   "display_name": "video_base",
   "language": "python",
   "name": "video_base"
  },
  "language_info": {
   "codemirror_mode": {
    "name": "ipython",
    "version": 3
   },
   "file_extension": ".py",
   "mimetype": "text/x-python",
   "name": "python",
   "nbconvert_exporter": "python",
   "pygments_lexer": "ipython3",
   "version": "3.7.4"
  }
 },
 "nbformat": 4,
 "nbformat_minor": 2
}

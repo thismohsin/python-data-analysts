{
 "cells": [
  {
   "cell_type": "markdown",
   "metadata": {},
   "source": [
    "# Setup"
   ]
  },
  {
   "cell_type": "code",
   "execution_count": 1,
   "metadata": {},
   "outputs": [],
   "source": [
    "import numpy as np\n",
    "import pandas as pd\n",
    "import seaborn as sns\n",
    "\n",
    "import matplotlib.pyplot as plt\n",
    "\n",
    "%matplotlib inline "
   ]
  },
  {
   "cell_type": "code",
   "execution_count": 2,
   "metadata": {},
   "outputs": [],
   "source": [
    "from sklearn import (datasets,\n",
    "                     metrics,\n",
    "                     model_selection as skms,\n",
    "                     naive_bayes,\n",
    "                     neighbors)"
   ]
  },
  {
   "cell_type": "code",
   "execution_count": 3,
   "metadata": {},
   "outputs": [],
   "source": [
    "import warnings\n",
    "warnings.filterwarnings('ignore')\n",
    "np.random.seed(42)"
   ]
  },
  {
   "cell_type": "markdown",
   "metadata": {},
   "source": [
    "# Standalone Learning Evaluation"
   ]
  },
  {
   "cell_type": "code",
   "execution_count": 1,
   "metadata": {},
   "outputs": [
    {
     "name": "stdout",
     "output_type": "stream",
     "text": [
      "3-NN: 0.96\n",
      "5-NN: 0.61\n",
      "  NB: 0.81\n"
     ]
    }
   ],
   "source": [
    "# could live in a standalone .py file\n",
    "# (repeated some of the imports)\n",
    "from sklearn import (datasets, \n",
    "                     metrics, \n",
    "                     model_selection as skms,\n",
    "                     naive_bayes, \n",
    "                     neighbors)\n",
    "\n",
    "# data\n",
    "iris = datasets.load_iris()\n",
    "\n",
    "# train-test split\n",
    "(iris_train_ftrs, iris_test_ftrs, \n",
    " iris_train_tgt, iris_test_tgt) = skms.train_test_split(iris.data,\n",
    "                                                        iris.target, \n",
    "                                                        test_size=.90,\n",
    "                                                        random_state=42) \n",
    "# define some models\n",
    "models = {'3-NN': neighbors.KNeighborsClassifier(n_neighbors=3),\n",
    "          '5-NN': neighbors.KNeighborsClassifier(n_neighbors=5),\n",
    "          'NB'  : naive_bayes.GaussianNB()}\n",
    "\n",
    "# in turn, fit-predict with those models\n",
    "for name, model in models.items():\n",
    "    fit = model.fit(iris_train_ftrs, \n",
    "                    iris_train_tgt)\n",
    "    predictions = fit.predict(iris_test_ftrs)\n",
    "    \n",
    "    score = metrics.accuracy_score(iris_test_tgt, predictions)\n",
    "    print(\"{:>4s}: {:0.2f}\".format(name,score))"
   ]
  },
  {
   "cell_type": "markdown",
   "metadata": {},
   "source": [
    "# Timing"
   ]
  },
  {
   "cell_type": "code",
   "execution_count": 4,
   "metadata": {},
   "outputs": [
    {
     "name": "stdout",
     "output_type": "stream",
     "text": [
      "1.52 ms ± 0 ns per loop (mean ± std. dev. of 1 run, 1000 loops each)\n"
     ]
    }
   ],
   "source": [
    "%timeit -r1 datasets.load_iris()"
   ]
  },
  {
   "cell_type": "code",
   "execution_count": 5,
   "metadata": {},
   "outputs": [
    {
     "name": "stdout",
     "output_type": "stream",
     "text": [
      "2.83 ms ± 0 ns per loop (mean ± std. dev. of 1 run, 1 loop each)\n"
     ]
    }
   ],
   "source": [
    "%%timeit -r1 -n1\n",
    "(iris_train_ftrs, iris_test_ftrs, \n",
    " iris_train_tgt,  iris_test_tgt) = skms.train_test_split(iris.data,\n",
    "                                                         iris.target, \n",
    "                                                         test_size=.25)"
   ]
  },
  {
   "cell_type": "code",
   "execution_count": 6,
   "metadata": {},
   "outputs": [
    {
     "name": "stdout",
     "output_type": "stream",
     "text": [
      "1.51 ms ± 0 ns per loop (mean ± std. dev. of 1 run, 1000 loops each)\n"
     ]
    }
   ],
   "source": [
    "%%timeit -r1\n",
    "\n",
    "nb    = naive_bayes.GaussianNB()\n",
    "fit   = nb.fit(iris_train_ftrs, iris_train_tgt)\n",
    "preds = fit.predict(iris_test_ftrs)\n",
    "\n",
    "metrics.accuracy_score(iris_test_tgt, preds)"
   ]
  },
  {
   "cell_type": "code",
   "execution_count": 7,
   "metadata": {},
   "outputs": [
    {
     "name": "stdout",
     "output_type": "stream",
     "text": [
      "7.74 ms ± 0 ns per loop (mean ± std. dev. of 1 run, 100 loops each)\n"
     ]
    }
   ],
   "source": [
    "%%timeit -r1\n",
    "\n",
    "knn   = neighbors.KNeighborsClassifier(n_neighbors=3)\n",
    "fit   = knn.fit(iris_train_ftrs, iris_train_tgt)\n",
    "preds = fit.predict(iris_test_ftrs)\n",
    "\n",
    "metrics.accuracy_score(iris_test_tgt, preds)"
   ]
  },
  {
   "cell_type": "code",
   "execution_count": 8,
   "metadata": {},
   "outputs": [
    {
     "name": "stdout",
     "output_type": "stream",
     "text": [
      "760 µs ± 0 ns per loop (mean ± std. dev. of 1 run, 1000 loops each)\n",
      "468 µs ± 0 ns per loop (mean ± std. dev. of 1 run, 1000 loops each)\n"
     ]
    }
   ],
   "source": [
    "nb = naive_bayes.GaussianNB()\n",
    "%timeit -r1 fit = nb.fit(iris_train_ftrs, iris_train_tgt)\n",
    "\n",
    "knn   = neighbors.KNeighborsClassifier(n_neighbors=3)\n",
    "%timeit -r1 fit = knn.fit(iris_train_ftrs, iris_train_tgt)"
   ]
  },
  {
   "cell_type": "code",
   "execution_count": 9,
   "metadata": {},
   "outputs": [
    {
     "name": "stdout",
     "output_type": "stream",
     "text": [
      "341 µs ± 0 ns per loop (mean ± std. dev. of 1 run, 1000 loops each)\n",
      "8.47 ms ± 0 ns per loop (mean ± std. dev. of 1 run, 100 loops each)\n"
     ]
    }
   ],
   "source": [
    "nb = naive_bayes.GaussianNB()\n",
    "fit = nb.fit(iris_train_ftrs, iris_train_tgt)\n",
    "%timeit -r1 preds = fit.predict(iris_test_ftrs)\n",
    "\n",
    "knn   = neighbors.KNeighborsClassifier(n_neighbors=3)\n",
    "fit = knn.fit(iris_train_ftrs, iris_train_tgt)\n",
    "%timeit -r1 preds = fit.predict(iris_test_ftrs)"
   ]
  },
  {
   "cell_type": "markdown",
   "metadata": {},
   "source": [
    "# Memory"
   ]
  },
  {
   "cell_type": "code",
   "execution_count": 10,
   "metadata": {},
   "outputs": [],
   "source": [
    "%load_ext memory_profiler"
   ]
  },
  {
   "cell_type": "code",
   "execution_count": 11,
   "metadata": {},
   "outputs": [
    {
     "name": "stdout",
     "output_type": "stream",
     "text": [
      "peak memory: 91.11 MiB, increment: 0.79 MiB\n"
     ]
    }
   ],
   "source": [
    "%%memit\n",
    "nb = naive_bayes.GaussianNB()\n",
    "fit = nb.fit(iris_train_ftrs, iris_train_tgt)\n",
    "preds = fit.predict(iris_test_ftrs)"
   ]
  },
  {
   "cell_type": "code",
   "execution_count": 12,
   "metadata": {},
   "outputs": [
    {
     "name": "stdout",
     "output_type": "stream",
     "text": [
      "peak memory: 91.49 MiB, increment: 0.31 MiB\n"
     ]
    }
   ],
   "source": [
    "%%memit\n",
    "knn = neighbors.KNeighborsClassifier()\n",
    "fit = knn.fit(iris_train_ftrs, iris_train_tgt)\n",
    "preds = knn.predict(iris_test_ftrs)"
   ]
  },
  {
   "cell_type": "code",
   "execution_count": 15,
   "metadata": {},
   "outputs": [
    {
     "name": "stdout",
     "output_type": "stream",
     "text": [
      "nb_go: ~0.0000 MiB\n"
     ]
    }
   ],
   "source": [
    "import memory_profiler\n",
    "\n",
    "def nb_go(train_ftrs, test_ftrs, train_tgt):\n",
    "    nb    = naive_bayes.GaussianNB()\n",
    "    fit   = nb.fit(train_ftrs, train_tgt)\n",
    "    preds = fit.predict(test_ftrs)\n",
    "    \n",
    "def split_data(dataset):\n",
    "    split = skms.train_test_split(dataset.data,\n",
    "                                  dataset.target,\n",
    "                                  test_size=.25)\n",
    "    return split[:-1] # don't need test tgt\n",
    "\n",
    "def msr_mem(go, args):\n",
    "    base = memory_profiler.memory_usage()[0]\n",
    "    mu = memory_profiler.memory_usage((go, args),\n",
    "                                       max_usage=True)[0]\n",
    "    print(\"{:<3}: ~{:.4f} MiB\".format(go.__name__, mu-base))\n",
    "\n",
    "sd = split_data(datasets.load_iris())\n",
    "msr_mem(nb_go, sd)"
   ]
  },
  {
   "cell_type": "markdown",
   "metadata": {},
   "source": [
    "# Scripts"
   ]
  },
  {
   "cell_type": "code",
   "execution_count": 18,
   "metadata": {},
   "outputs": [
    {
     "name": "stdout",
     "output_type": "stream",
     "text": [
      "import sys\r\n",
      "import memory_profiler\r\n",
      "from sklearn import (datasets,\r\n",
      "                     model_selection as skms,\r\n",
      "                     neighbors)\r\n",
      "\r\n",
      "@memory_profiler.profile(precision=4)\r\n",
      "def knn_memtest(train, train_tgt, test):\r\n",
      "    knn   = neighbors.KNeighborsClassifier(n_neighbors=3)\r\n",
      "    fit   = knn.fit(train, train_tgt)\r\n",
      "    preds = fit.predict(test)\r\n",
      "\r\n",
      "if __name__ == \"__main__\":\r\n",
      "    iris = datasets.load_iris()\r\n",
      "    tts = skms.train_test_split(iris.data,\r\n",
      "                                iris.target,\r\n",
      "                               test_size=.25)\r\n",
      "    (iris_train_ftrs, iris_test_ftrs,\r\n",
      "     iris_train_tgt,  iris_test_tgt) = tts\r\n",
      "    tup = (iris_train_ftrs, iris_train_tgt, iris_test_ftrs)\r\n",
      "    knn_memtest(*tup)\r\n"
     ]
    }
   ],
   "source": [
    "!cat scripts/knn_memtest.py"
   ]
  },
  {
   "cell_type": "code",
   "execution_count": 19,
   "metadata": {},
   "outputs": [
    {
     "name": "stdout",
     "output_type": "stream",
     "text": [
      "Filename: scripts/knn_memtest.py\r\n",
      "\r\n",
      "Line #    Mem usage    Increment   Line Contents\r\n",
      "================================================\r\n",
      "     7  78.4453 MiB  78.4453 MiB   @memory_profiler.profile(precision=4)\r\n",
      "     8                             def knn_memtest(train, train_tgt, test):\r\n",
      "     9  78.4453 MiB   0.0000 MiB       knn   = neighbors.KNeighborsClassifier(n_neighbors=3)\r\n",
      "    10  78.6172 MiB   0.1719 MiB       fit   = knn.fit(train, train_tgt)\r\n",
      "    11  78.6953 MiB   0.0781 MiB       preds = fit.predict(test)\r\n",
      "\r\n",
      "\r\n"
     ]
    }
   ],
   "source": [
    "!python scripts/knn_memtest.py"
   ]
  },
  {
   "cell_type": "code",
   "execution_count": 20,
   "metadata": {},
   "outputs": [
    {
     "name": "stdout",
     "output_type": "stream",
     "text": [
      "nb_go: ~0.1680 MiB\n",
      "nb_go : ~0.1164 sec\n"
     ]
    }
   ],
   "source": [
    "!python scripts/perf_01.py mem nb\n",
    "!python scripts/perf_01.py time nb"
   ]
  },
  {
   "cell_type": "code",
   "execution_count": 21,
   "metadata": {},
   "outputs": [
    {
     "name": "stdout",
     "output_type": "stream",
     "text": [
      "knn_go: ~0.3984 MiB\n",
      "knn_go: ~0.3039 sec\n"
     ]
    }
   ],
   "source": [
    "!python scripts/perf_01.py mem knn\n",
    "!python scripts/perf_01.py time knn"
   ]
  },
  {
   "cell_type": "code",
   "execution_count": null,
   "metadata": {},
   "outputs": [],
   "source": []
  }
 ],
 "metadata": {
  "kernelspec": {
   "display_name": "video_base",
   "language": "python",
   "name": "video_base"
  },
  "language_info": {
   "codemirror_mode": {
    "name": "ipython",
    "version": 3
   },
   "file_extension": ".py",
   "mimetype": "text/x-python",
   "name": "python",
   "nbconvert_exporter": "python",
   "pygments_lexer": "ipython3",
   "version": "3.7.4"
  }
 },
 "nbformat": 4,
 "nbformat_minor": 2
}

{
 "cells": [
  {
   "cell_type": "code",
   "execution_count": 18,
   "metadata": {},
   "outputs": [],
   "source": [
    "import numpy as np\n",
    "from sklearn.datasets import make_regression\n",
    "from sklearn.linear_model import LinearRegression\n",
    "\n",
    "n_samples, n_features = 1000, 20\n",
    "rng = np.random.RandomState(0)\n",
    "X, y = make_regression(n_samples, n_features, noise=1.0, random_state=rng)\n",
    "\n",
    "y_positive = y - np.min(y)\n",
    "lm = LinearRegression().fit(X, y_positive)\n",
    "rlm = LinearRegression().fit(X, np.sqrt(y_positive))\n",
    "mmlm = LinearRegression().fit(X, y_positive / np.max(y_positive))\n",
    "stlm = LinearRegression().fit(X, y_positive - np.mean(y_positive) / np.std(y_positive))"
   ]
  },
  {
   "cell_type": "code",
   "execution_count": 19,
   "metadata": {},
   "outputs": [
    {
     "data": {
      "text/plain": [
       "(0.9999782533853913,\n",
       " 0.9713400828419546,\n",
       " 0.9999782533853913,\n",
       " 0.9999782533853913)"
      ]
     },
     "execution_count": 19,
     "metadata": {},
     "output_type": "execute_result"
    }
   ],
   "source": [
    "(lm.score(X, y_positive), \n",
    " rlm.score(X, np.sqrt(y_positive)), \n",
    " mmlm.score(X, y_positive / np.max(y_positive)),\n",
    " stlm.score(X, y_positive - np.mean(y_positive) / np.std(y_positive))\n",
    ")"
   ]
  },
  {
   "cell_type": "code",
   "execution_count": null,
   "metadata": {},
   "outputs": [],
   "source": []
  }
 ],
 "metadata": {
  "kernelspec": {
   "display_name": "Python 3",
   "language": "python",
   "name": "python3"
  },
  "language_info": {
   "codemirror_mode": {
    "name": "ipython",
    "version": 3
   },
   "file_extension": ".py",
   "mimetype": "text/x-python",
   "name": "python",
   "nbconvert_exporter": "python",
   "pygments_lexer": "ipython3",
   "version": "3.7.6"
  }
 },
 "nbformat": 4,
 "nbformat_minor": 4
}

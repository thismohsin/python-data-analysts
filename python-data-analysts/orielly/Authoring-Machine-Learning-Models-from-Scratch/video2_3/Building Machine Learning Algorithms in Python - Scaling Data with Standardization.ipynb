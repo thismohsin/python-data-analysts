{
 "cells": [
  {
   "cell_type": "code",
   "execution_count": 1,
   "metadata": {},
   "outputs": [
    {
     "name": "stdout",
     "output_type": "stream",
     "text": [
      "[[50, 30], [20, 90], [30, 50]]\n",
      "[33.333333333333336, 56.666666666666664]\n",
      "[15.275252316519467, 30.550504633038933]\n",
      "[[1.0910894511799618, -0.8728715609439694], [-0.8728715609439697, 1.091089451179962], [-0.21821789023599253, -0.2182178902359923]]\n"
     ]
    }
   ],
   "source": [
    "from math import sqrt\n",
    "\n",
    "\n",
    "def column_means(dataset):\n",
    "\tmeans = [0 for i in range(len(dataset[0]))]\n",
    "\tfor i in range(len(dataset[0])):\n",
    "\t\tcol_values = [row[i] for row in dataset]\n",
    "\t\tmeans[i] = sum(col_values) / float(len(dataset))\n",
    "\treturn means\n",
    "\n",
    "# calculate column standard deviations\n",
    "def column_stdevs(dataset, means):\n",
    "\tstdevs = [0 for i in range(len(dataset[0]))]\n",
    "\tfor i in range(len(dataset[0])):\n",
    "\t\tvariance = [pow(row[i]-means[i], 2) for row in dataset]\n",
    "\t\tstdevs[i] = sum(variance)\n",
    "\tstdevs = [sqrt(x/(float(len(dataset)-1))) for x in stdevs]\n",
    "\treturn stdevs\n",
    "\n",
    "\n",
    "def standardize_dataset(dataset, means, stdevs):\n",
    "\tfor row in dataset:\n",
    "\t\tfor i in range(len(row)):\n",
    "\t\t\trow[i] = (row[i] - means[i]) / stdevs[i]\n",
    "\n",
    "\n",
    "dataset = [[50, 30], [20, 90], [30, 50]]\n",
    "print(dataset)\n",
    "\n",
    "means = column_means(dataset)\n",
    "stdevs = column_stdevs(dataset, means)\n",
    "print(means)\n",
    "print(stdevs)\n",
    "\n",
    "standardize_dataset(dataset, means, stdevs)\n",
    "print(dataset)"
   ]
  },
  {
   "cell_type": "code",
   "execution_count": 2,
   "metadata": {},
   "outputs": [
    {
     "name": "stdout",
     "output_type": "stream",
     "text": [
      "Loaded data file pima-indians-diabetes.csv with 768 rows and 9 columns\n",
      "[6.0, 148.0, 72.0, 35.0, 0.0, 33.6, 0.627, 50.0, 1.0]\n",
      "[0.6395304921176576, 0.8477713205896718, 0.14954329852954296, 0.9066790623472505, -0.692439324724129, 0.2038799072674717, 0.468186870229798, 1.4250667195933604, 1.3650063669598067]\n"
     ]
    }
   ],
   "source": [
    "from csv import reader\n",
    "from math import sqrt\n",
    "\n",
    "\n",
    "def load_csv(filename):\n",
    "\tdataset = list()\n",
    "\twith open(filename, 'r') as file:\n",
    "\t\tcsv_reader = reader(file)\n",
    "\t\tfor row in csv_reader:\n",
    "\t\t\tif not row:\n",
    "\t\t\t\tcontinue\n",
    "\t\t\tdataset.append(row)\n",
    "\treturn dataset\n",
    "\n",
    "\n",
    "def str_column_to_float(dataset, column):\n",
    "\tfor row in dataset:\n",
    "\t\trow[column] = float(row[column].strip())\n",
    "\n",
    "\n",
    "def column_means(dataset):\n",
    "\tmeans = [0 for i in range(len(dataset[0]))]\n",
    "\tfor i in range(len(dataset[0])):\n",
    "\t\tcol_values = [row[i] for row in dataset]\n",
    "\t\tmeans[i] = sum(col_values) / float(len(dataset))\n",
    "\treturn means\n",
    "\n",
    "\n",
    "def column_stdevs(dataset, means):\n",
    "\tstdevs = [0 for i in range(len(dataset[0]))]\n",
    "\tfor i in range(len(dataset[0])):\n",
    "\t\tvariance = [pow(row[i]-means[i], 2) for row in dataset]\n",
    "\t\tstdevs[i] = sum(variance)\n",
    "\tstdevs = [sqrt(x/(float(len(dataset)-1))) for x in stdevs]\n",
    "\treturn stdevs\n",
    "\n",
    "\n",
    "def standardize_dataset(dataset, means, stdevs):\n",
    "\tfor row in dataset:\n",
    "\t\tfor i in range(len(row)):\n",
    "\t\t\trow[i] = (row[i] - means[i]) / stdevs[i]\n",
    "\n",
    "\n",
    "filename = 'pima-indians-diabetes.csv'\n",
    "dataset = load_csv(filename)\n",
    "print('Loaded data file {0} with {1} rows and {2} columns'.format(filename, len(dataset), len(dataset[0])))\n",
    "\n",
    "for i in range(len(dataset[0])):\n",
    "\tstr_column_to_float(dataset, i)\n",
    "print(dataset[0])\n",
    "\n",
    "means = column_means(dataset)\n",
    "stdevs = column_stdevs(dataset, means)\n",
    "\n",
    "standardize_dataset(dataset, means, stdevs)\n",
    "print(dataset[0])"
   ]
  },
  {
   "cell_type": "code",
   "execution_count": null,
   "metadata": {},
   "outputs": [],
   "source": []
  }
 ],
 "metadata": {
  "kernelspec": {
   "display_name": "Python 3",
   "language": "python",
   "name": "python3"
  },
  "language_info": {
   "codemirror_mode": {
    "name": "ipython",
    "version": 3
   },
   "file_extension": ".py",
   "mimetype": "text/x-python",
   "name": "python",
   "nbconvert_exporter": "python",
   "pygments_lexer": "ipython3",
   "version": "3.6.4"
  }
 },
 "nbformat": 4,
 "nbformat_minor": 2
}

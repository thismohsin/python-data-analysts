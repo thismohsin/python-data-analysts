{
 "cells": [
  {
   "cell_type": "code",
   "execution_count": 1,
   "metadata": {},
   "outputs": [
    {
     "name": "stdout",
     "output_type": "stream",
     "text": [
      "[0, 0, 1, 0]\n"
     ]
    }
   ],
   "source": [
    "from random import seed\n",
    "from random import randrange\n",
    "\n",
    "\n",
    "def random_algorithm(train, test):\n",
    "\toutput_values = [row[-1] for row in train]\n",
    "\tunique = list(set(output_values))\n",
    "\tpredicted = list()\n",
    "\tfor _ in test:\n",
    "\t\tindex = randrange(len(unique))\n",
    "\t\tpredicted.append(unique[index])\n",
    "\treturn predicted\n",
    "\n",
    "seed(1)\n",
    "train = [[0], [1], [0], [1], [0], [1]]\n",
    "test = [[None], [None], [None], [None]]\n",
    "predictions = random_algorithm(train, test)\n",
    "print(predictions)"
   ]
  },
  {
   "cell_type": "code",
   "execution_count": 2,
   "metadata": {},
   "outputs": [
    {
     "name": "stdout",
     "output_type": "stream",
     "text": [
      "['0', '0', '0', '0']\n"
     ]
    }
   ],
   "source": [
    "from random import seed\n",
    "\n",
    "\n",
    "def zero_rule_algorithm_classification(train, test):\n",
    "\toutput_values = [row[-1] for row in train]\n",
    "\tprediction = max(set(output_values), key=output_values.count)\n",
    "\tpredicted = [prediction for i in range(len(test))]\n",
    "\treturn predicted\n",
    "\n",
    "seed(1)\n",
    "train = [['0'], ['0'], ['0'], ['0'], ['1'], ['1']]\n",
    "test = [[None], [None], [None], [None]]\n",
    "predictions = zero_rule_algorithm_classification(train, test)\n",
    "print(predictions)"
   ]
  },
  {
   "cell_type": "code",
   "execution_count": 3,
   "metadata": {},
   "outputs": [
    {
     "name": "stdout",
     "output_type": "stream",
     "text": [
      "[15.0, 15.0, 15.0, 15.0]\n"
     ]
    }
   ],
   "source": [
    "from random import seed\n",
    "\n",
    "\n",
    "def zero_rule_algorithm_regression(train, test):\n",
    "\toutput_values = [row[-1] for row in train]\n",
    "\tprediction = sum(output_values) / float(len(output_values))\n",
    "\tpredicted = [prediction for i in range(len(test))]\n",
    "\treturn predicted\n",
    "\n",
    "seed(1)\n",
    "train = [[10], [15], [12], [15], [18], [20]]\n",
    "test = [[None], [None], [None], [None]]\n",
    "predictions = zero_rule_algorithm_regression(train, test)\n",
    "print(predictions)"
   ]
  },
  {
   "cell_type": "code",
   "execution_count": null,
   "metadata": {},
   "outputs": [],
   "source": []
  }
 ],
 "metadata": {
  "kernelspec": {
   "display_name": "Python 3",
   "language": "python",
   "name": "python3"
  },
  "language_info": {
   "codemirror_mode": {
    "name": "ipython",
    "version": 3
   },
   "file_extension": ".py",
   "mimetype": "text/x-python",
   "name": "python",
   "nbconvert_exporter": "python",
   "pygments_lexer": "ipython3",
   "version": "3.6.4"
  }
 },
 "nbformat": 4,
 "nbformat_minor": 2
}

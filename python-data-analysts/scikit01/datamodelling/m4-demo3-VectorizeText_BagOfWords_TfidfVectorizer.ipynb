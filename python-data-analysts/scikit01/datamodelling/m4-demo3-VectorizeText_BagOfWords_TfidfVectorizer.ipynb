{
 "cells": [
  {
   "cell_type": "markdown",
   "metadata": {},
   "source": [
    "## Vectorize text as a bag-of-n-grams"
   ]
  },
  {
   "cell_type": "code",
   "execution_count": 12,
   "metadata": {},
   "outputs": [],
   "source": [
    "from sklearn.feature_extraction.text import TfidfVectorizer"
   ]
  },
  {
   "cell_type": "code",
   "execution_count": 13,
   "metadata": {},
   "outputs": [],
   "source": [
    "train_text = [\"The Pessimist Sees Difficulty In Every Opportunity.\",\n",
    "              \"The Optimist Sees Opportunity In Every Difficulty.\",\n",
    "              \"Don’t Let Yesterday Take Up Too Much Of Today. \",\n",
    "              \"You Learn More From Failure Than From Success.\",\n",
    "              \"We May Encounter Many Defeats But We Must Not Be Defeated.\",\n",
    "              \"Life Is Either A Daring Adventure Or Nothing.\"]"
   ]
  },
  {
   "cell_type": "markdown",
   "metadata": {},
   "source": [
    "#### Set the ngram_range attribute\n",
    "The argument is a tuple with a minimum and maximum value for the size of the ngram. We start of with only 2-word ngrams"
   ]
  },
  {
   "cell_type": "code",
   "execution_count": 14,
   "metadata": {},
   "outputs": [],
   "source": [
    "tfidf_vectorizer = TfidfVectorizer()"
   ]
  },
  {
   "cell_type": "code",
   "execution_count": 15,
   "metadata": {},
   "outputs": [],
   "source": [
    "transformed_vector = tfidf_vectorizer.fit_transform(train_text)"
   ]
  },
  {
   "cell_type": "code",
   "execution_count": 19,
   "metadata": {},
   "outputs": [
    {
     "data": {
      "text/plain": [
       "{'adventure': 0,\n",
       " 'be': 1,\n",
       " 'but': 2,\n",
       " 'daring': 3,\n",
       " 'defeated': 4,\n",
       " 'defeats': 5,\n",
       " 'difficulty': 6,\n",
       " 'don': 7,\n",
       " 'either': 8,\n",
       " 'encounter': 9,\n",
       " 'every': 10,\n",
       " 'failure': 11,\n",
       " 'from': 12,\n",
       " 'in': 13,\n",
       " 'is': 14,\n",
       " 'learn': 15,\n",
       " 'let': 16,\n",
       " 'life': 17,\n",
       " 'many': 18,\n",
       " 'may': 19,\n",
       " 'more': 20,\n",
       " 'much': 21,\n",
       " 'must': 22,\n",
       " 'not': 23,\n",
       " 'nothing': 24,\n",
       " 'of': 25,\n",
       " 'opportunity': 26,\n",
       " 'optimist': 27,\n",
       " 'or': 28,\n",
       " 'pessimist': 29,\n",
       " 'sees': 30,\n",
       " 'success': 31,\n",
       " 'take': 32,\n",
       " 'than': 33,\n",
       " 'the': 34,\n",
       " 'today': 35,\n",
       " 'too': 36,\n",
       " 'up': 37,\n",
       " 'we': 38,\n",
       " 'yesterday': 39,\n",
       " 'you': 40}"
      ]
     },
     "execution_count": 19,
     "metadata": {},
     "output_type": "execute_result"
    }
   ],
   "source": [
    "tfidf_vectorizer.vocabulary_"
   ]
  },
  {
   "cell_type": "code",
   "execution_count": 20,
   "metadata": {},
   "outputs": [
    {
     "data": {
      "text/plain": [
       "array([[0.        , 0.        , 0.        , 0.        , 0.        ,\n",
       "        0.        , 0.36546139, 0.        , 0.        , 0.        ,\n",
       "        0.36546139, 0.        , 0.        , 0.36546139, 0.        ,\n",
       "        0.        , 0.        , 0.        , 0.        , 0.        ,\n",
       "        0.        , 0.        , 0.        , 0.        , 0.        ,\n",
       "        0.        , 0.36546139, 0.        , 0.        , 0.44567684,\n",
       "        0.36546139, 0.        , 0.        , 0.        , 0.36546139,\n",
       "        0.        , 0.        , 0.        , 0.        , 0.        ,\n",
       "        0.        ],\n",
       "       [0.        , 0.        , 0.        , 0.        , 0.        ,\n",
       "        0.        , 0.36546139, 0.        , 0.        , 0.        ,\n",
       "        0.36546139, 0.        , 0.        , 0.36546139, 0.        ,\n",
       "        0.        , 0.        , 0.        , 0.        , 0.        ,\n",
       "        0.        , 0.        , 0.        , 0.        , 0.        ,\n",
       "        0.        , 0.36546139, 0.44567684, 0.        , 0.        ,\n",
       "        0.36546139, 0.        , 0.        , 0.        , 0.36546139,\n",
       "        0.        , 0.        , 0.        , 0.        , 0.        ,\n",
       "        0.        ],\n",
       "       [0.        , 0.        , 0.        , 0.        , 0.        ,\n",
       "        0.        , 0.        , 0.33333333, 0.        , 0.        ,\n",
       "        0.        , 0.        , 0.        , 0.        , 0.        ,\n",
       "        0.        , 0.33333333, 0.        , 0.        , 0.        ,\n",
       "        0.        , 0.33333333, 0.        , 0.        , 0.        ,\n",
       "        0.33333333, 0.        , 0.        , 0.        , 0.        ,\n",
       "        0.        , 0.        , 0.33333333, 0.        , 0.        ,\n",
       "        0.33333333, 0.33333333, 0.33333333, 0.        , 0.33333333,\n",
       "        0.        ],\n",
       "       [0.        , 0.        , 0.        , 0.        , 0.        ,\n",
       "        0.        , 0.        , 0.        , 0.        , 0.        ,\n",
       "        0.        , 0.31622777, 0.63245553, 0.        , 0.        ,\n",
       "        0.31622777, 0.        , 0.        , 0.        , 0.        ,\n",
       "        0.31622777, 0.        , 0.        , 0.        , 0.        ,\n",
       "        0.        , 0.        , 0.        , 0.        , 0.        ,\n",
       "        0.        , 0.31622777, 0.        , 0.31622777, 0.        ,\n",
       "        0.        , 0.        , 0.        , 0.        , 0.        ,\n",
       "        0.31622777],\n",
       "       [0.        , 0.2773501 , 0.2773501 , 0.        , 0.2773501 ,\n",
       "        0.2773501 , 0.        , 0.        , 0.        , 0.2773501 ,\n",
       "        0.        , 0.        , 0.        , 0.        , 0.        ,\n",
       "        0.        , 0.        , 0.        , 0.2773501 , 0.2773501 ,\n",
       "        0.        , 0.        , 0.2773501 , 0.2773501 , 0.        ,\n",
       "        0.        , 0.        , 0.        , 0.        , 0.        ,\n",
       "        0.        , 0.        , 0.        , 0.        , 0.        ,\n",
       "        0.        , 0.        , 0.        , 0.5547002 , 0.        ,\n",
       "        0.        ],\n",
       "       [0.37796447, 0.        , 0.        , 0.37796447, 0.        ,\n",
       "        0.        , 0.        , 0.        , 0.37796447, 0.        ,\n",
       "        0.        , 0.        , 0.        , 0.        , 0.37796447,\n",
       "        0.        , 0.        , 0.37796447, 0.        , 0.        ,\n",
       "        0.        , 0.        , 0.        , 0.        , 0.37796447,\n",
       "        0.        , 0.        , 0.        , 0.37796447, 0.        ,\n",
       "        0.        , 0.        , 0.        , 0.        , 0.        ,\n",
       "        0.        , 0.        , 0.        , 0.        , 0.        ,\n",
       "        0.        ]])"
      ]
     },
     "execution_count": 20,
     "metadata": {},
     "output_type": "execute_result"
    }
   ],
   "source": [
    "transformed_vector.toarray()"
   ]
  },
  {
   "cell_type": "code",
   "execution_count": 21,
   "metadata": {},
   "outputs": [
    {
     "data": {
      "text/plain": [
       "(6, 41)"
      ]
     },
     "execution_count": 21,
     "metadata": {},
     "output_type": "execute_result"
    }
   ],
   "source": [
    "transformed_vector.toarray().shape"
   ]
  },
  {
   "cell_type": "code",
   "execution_count": 23,
   "metadata": {},
   "outputs": [
    {
     "data": {
      "text/plain": [
       "array([2.25276297, 2.25276297, 2.25276297, 2.25276297, 2.25276297,\n",
       "       2.25276297, 1.84729786, 2.25276297, 2.25276297, 2.25276297,\n",
       "       1.84729786, 2.25276297, 2.25276297, 1.84729786, 2.25276297,\n",
       "       2.25276297, 2.25276297, 2.25276297, 2.25276297, 2.25276297,\n",
       "       2.25276297, 2.25276297, 2.25276297, 2.25276297, 2.25276297,\n",
       "       2.25276297, 1.84729786, 2.25276297, 2.25276297, 2.25276297,\n",
       "       1.84729786, 2.25276297, 2.25276297, 2.25276297, 1.84729786,\n",
       "       2.25276297, 2.25276297, 2.25276297, 2.25276297, 2.25276297,\n",
       "       2.25276297])"
      ]
     },
     "execution_count": 23,
     "metadata": {},
     "output_type": "execute_result"
    }
   ],
   "source": [
    "tfidf_vectorizer.idf_"
   ]
  },
  {
   "cell_type": "code",
   "execution_count": 25,
   "metadata": {},
   "outputs": [
    {
     "data": {
      "text/plain": [
       "[('adventure', 2.252762968495368),\n",
       " ('be', 2.252762968495368),\n",
       " ('but', 2.252762968495368),\n",
       " ('daring', 2.252762968495368),\n",
       " ('defeated', 2.252762968495368),\n",
       " ('defeats', 2.252762968495368),\n",
       " ('difficulty', 1.8472978603872037),\n",
       " ('don', 2.252762968495368),\n",
       " ('either', 2.252762968495368),\n",
       " ('encounter', 2.252762968495368),\n",
       " ('every', 1.8472978603872037),\n",
       " ('failure', 2.252762968495368),\n",
       " ('from', 2.252762968495368),\n",
       " ('in', 1.8472978603872037),\n",
       " ('is', 2.252762968495368),\n",
       " ('learn', 2.252762968495368),\n",
       " ('let', 2.252762968495368),\n",
       " ('life', 2.252762968495368),\n",
       " ('many', 2.252762968495368),\n",
       " ('may', 2.252762968495368),\n",
       " ('more', 2.252762968495368),\n",
       " ('much', 2.252762968495368),\n",
       " ('must', 2.252762968495368),\n",
       " ('not', 2.252762968495368),\n",
       " ('nothing', 2.252762968495368),\n",
       " ('of', 2.252762968495368),\n",
       " ('opportunity', 1.8472978603872037),\n",
       " ('optimist', 2.252762968495368),\n",
       " ('or', 2.252762968495368),\n",
       " ('pessimist', 2.252762968495368),\n",
       " ('sees', 1.8472978603872037),\n",
       " ('success', 2.252762968495368),\n",
       " ('take', 2.252762968495368),\n",
       " ('than', 2.252762968495368),\n",
       " ('the', 1.8472978603872037),\n",
       " ('today', 2.252762968495368),\n",
       " ('too', 2.252762968495368),\n",
       " ('up', 2.252762968495368),\n",
       " ('we', 2.252762968495368),\n",
       " ('yesterday', 2.252762968495368),\n",
       " ('you', 2.252762968495368)]"
      ]
     },
     "execution_count": 25,
     "metadata": {},
     "output_type": "execute_result"
    }
   ],
   "source": [
    "list(zip(tfidf_vectorizer.get_feature_names(), tfidf_vectorizer.idf_))"
   ]
  },
  {
   "cell_type": "code",
   "execution_count": 22,
   "metadata": {},
   "outputs": [
    {
     "data": {
      "text/plain": [
       "[array(['the', 'pessimist', 'sees', 'difficulty', 'in', 'every',\n",
       "        'opportunity'], dtype='<U11'),\n",
       " array(['the', 'sees', 'difficulty', 'in', 'every', 'opportunity',\n",
       "        'optimist'], dtype='<U11'),\n",
       " array(['don', 'let', 'yesterday', 'take', 'up', 'too', 'much', 'of',\n",
       "        'today'], dtype='<U11'),\n",
       " array(['you', 'learn', 'more', 'from', 'failure', 'than', 'success'],\n",
       "       dtype='<U11'),\n",
       " array(['we', 'may', 'encounter', 'many', 'defeats', 'but', 'must', 'not',\n",
       "        'be', 'defeated'], dtype='<U11'),\n",
       " array(['life', 'is', 'either', 'daring', 'adventure', 'or', 'nothing'],\n",
       "       dtype='<U11')]"
      ]
     },
     "execution_count": 22,
     "metadata": {},
     "output_type": "execute_result"
    }
   ],
   "source": [
    "tfidf_vectorizer.inverse_transform(transformed_vector)"
   ]
  },
  {
   "cell_type": "code",
   "execution_count": null,
   "metadata": {},
   "outputs": [],
   "source": []
  }
 ],
 "metadata": {
  "kernelspec": {
   "display_name": "Python 3",
   "language": "python",
   "name": "python3"
  },
  "language_info": {
   "codemirror_mode": {
    "name": "ipython",
    "version": 3
   },
   "file_extension": ".py",
   "mimetype": "text/x-python",
   "name": "python",
   "nbconvert_exporter": "python",
   "pygments_lexer": "ipython3",
   "version": "3.6.4"
  }
 },
 "nbformat": 4,
 "nbformat_minor": 2
}

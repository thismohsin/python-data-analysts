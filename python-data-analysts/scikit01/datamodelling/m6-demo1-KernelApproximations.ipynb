{
 "cells": [
  {
   "cell_type": "code",
   "execution_count": 1,
   "metadata": {},
   "outputs": [],
   "source": [
    "import sklearn\n",
    "\n",
    "import pandas as pd\n",
    "import numpy as np\n",
    "import matplotlib.pyplot as plt"
   ]
  },
  {
   "cell_type": "markdown",
   "metadata": {},
   "source": [
    "### Letters Classification\n",
    "Source: https://www.kaggle.com/sachinpatel21/az-handwritten-alphabets-in-csv-format"
   ]
  },
  {
   "cell_type": "code",
   "execution_count": 2,
   "metadata": {},
   "outputs": [
    {
     "data": {
      "text/html": [
       "<div>\n",
       "<style scoped>\n",
       "    .dataframe tbody tr th:only-of-type {\n",
       "        vertical-align: middle;\n",
       "    }\n",
       "\n",
       "    .dataframe tbody tr th {\n",
       "        vertical-align: top;\n",
       "    }\n",
       "\n",
       "    .dataframe thead th {\n",
       "        text-align: right;\n",
       "    }\n",
       "</style>\n",
       "<table border=\"1\" class=\"dataframe\">\n",
       "  <thead>\n",
       "    <tr style=\"text-align: right;\">\n",
       "      <th></th>\n",
       "      <th>0</th>\n",
       "      <th>1</th>\n",
       "      <th>2</th>\n",
       "      <th>3</th>\n",
       "      <th>4</th>\n",
       "      <th>5</th>\n",
       "      <th>6</th>\n",
       "      <th>7</th>\n",
       "      <th>8</th>\n",
       "      <th>9</th>\n",
       "      <th>...</th>\n",
       "      <th>775</th>\n",
       "      <th>776</th>\n",
       "      <th>777</th>\n",
       "      <th>778</th>\n",
       "      <th>779</th>\n",
       "      <th>780</th>\n",
       "      <th>781</th>\n",
       "      <th>782</th>\n",
       "      <th>783</th>\n",
       "      <th>784</th>\n",
       "    </tr>\n",
       "  </thead>\n",
       "  <tbody>\n",
       "    <tr>\n",
       "      <th>315268</th>\n",
       "      <td>20</td>\n",
       "      <td>0</td>\n",
       "      <td>0</td>\n",
       "      <td>0</td>\n",
       "      <td>0</td>\n",
       "      <td>0</td>\n",
       "      <td>0</td>\n",
       "      <td>0</td>\n",
       "      <td>0</td>\n",
       "      <td>0</td>\n",
       "      <td>...</td>\n",
       "      <td>0</td>\n",
       "      <td>0</td>\n",
       "      <td>0</td>\n",
       "      <td>0</td>\n",
       "      <td>0</td>\n",
       "      <td>0</td>\n",
       "      <td>0</td>\n",
       "      <td>0</td>\n",
       "      <td>0</td>\n",
       "      <td>0</td>\n",
       "    </tr>\n",
       "    <tr>\n",
       "      <th>202101</th>\n",
       "      <td>15</td>\n",
       "      <td>0</td>\n",
       "      <td>0</td>\n",
       "      <td>0</td>\n",
       "      <td>0</td>\n",
       "      <td>0</td>\n",
       "      <td>0</td>\n",
       "      <td>0</td>\n",
       "      <td>0</td>\n",
       "      <td>0</td>\n",
       "      <td>...</td>\n",
       "      <td>0</td>\n",
       "      <td>0</td>\n",
       "      <td>0</td>\n",
       "      <td>0</td>\n",
       "      <td>0</td>\n",
       "      <td>0</td>\n",
       "      <td>0</td>\n",
       "      <td>0</td>\n",
       "      <td>0</td>\n",
       "      <td>0</td>\n",
       "    </tr>\n",
       "    <tr>\n",
       "      <th>171378</th>\n",
       "      <td>14</td>\n",
       "      <td>0</td>\n",
       "      <td>0</td>\n",
       "      <td>0</td>\n",
       "      <td>0</td>\n",
       "      <td>0</td>\n",
       "      <td>0</td>\n",
       "      <td>0</td>\n",
       "      <td>0</td>\n",
       "      <td>0</td>\n",
       "      <td>...</td>\n",
       "      <td>0</td>\n",
       "      <td>0</td>\n",
       "      <td>0</td>\n",
       "      <td>0</td>\n",
       "      <td>0</td>\n",
       "      <td>0</td>\n",
       "      <td>0</td>\n",
       "      <td>0</td>\n",
       "      <td>0</td>\n",
       "      <td>0</td>\n",
       "    </tr>\n",
       "    <tr>\n",
       "      <th>366564</th>\n",
       "      <td>25</td>\n",
       "      <td>0</td>\n",
       "      <td>0</td>\n",
       "      <td>0</td>\n",
       "      <td>0</td>\n",
       "      <td>0</td>\n",
       "      <td>0</td>\n",
       "      <td>0</td>\n",
       "      <td>0</td>\n",
       "      <td>0</td>\n",
       "      <td>...</td>\n",
       "      <td>0</td>\n",
       "      <td>0</td>\n",
       "      <td>0</td>\n",
       "      <td>0</td>\n",
       "      <td>0</td>\n",
       "      <td>0</td>\n",
       "      <td>0</td>\n",
       "      <td>0</td>\n",
       "      <td>0</td>\n",
       "      <td>0</td>\n",
       "    </tr>\n",
       "    <tr>\n",
       "      <th>123943</th>\n",
       "      <td>13</td>\n",
       "      <td>0</td>\n",
       "      <td>0</td>\n",
       "      <td>0</td>\n",
       "      <td>0</td>\n",
       "      <td>0</td>\n",
       "      <td>0</td>\n",
       "      <td>0</td>\n",
       "      <td>0</td>\n",
       "      <td>0</td>\n",
       "      <td>...</td>\n",
       "      <td>0</td>\n",
       "      <td>0</td>\n",
       "      <td>0</td>\n",
       "      <td>0</td>\n",
       "      <td>0</td>\n",
       "      <td>0</td>\n",
       "      <td>0</td>\n",
       "      <td>0</td>\n",
       "      <td>0</td>\n",
       "      <td>0</td>\n",
       "    </tr>\n",
       "  </tbody>\n",
       "</table>\n",
       "<p>5 rows × 785 columns</p>\n",
       "</div>"
      ],
      "text/plain": [
       "        0    1    2    3    4    5    6    7    8    9   ...   775  776  777  \\\n",
       "315268   20    0    0    0    0    0    0    0    0    0 ...     0    0    0   \n",
       "202101   15    0    0    0    0    0    0    0    0    0 ...     0    0    0   \n",
       "171378   14    0    0    0    0    0    0    0    0    0 ...     0    0    0   \n",
       "366564   25    0    0    0    0    0    0    0    0    0 ...     0    0    0   \n",
       "123943   13    0    0    0    0    0    0    0    0    0 ...     0    0    0   \n",
       "\n",
       "        778  779  780  781  782  783  784  \n",
       "315268    0    0    0    0    0    0    0  \n",
       "202101    0    0    0    0    0    0    0  \n",
       "171378    0    0    0    0    0    0    0  \n",
       "366564    0    0    0    0    0    0    0  \n",
       "123943    0    0    0    0    0    0    0  \n",
       "\n",
       "[5 rows x 785 columns]"
      ]
     },
     "execution_count": 2,
     "metadata": {},
     "output_type": "execute_result"
    }
   ],
   "source": [
    "letters_data = pd.read_csv('datasets/A_Z Handwritten Data.csv', header=None)\n",
    "\n",
    "letters_data.sample(5)"
   ]
  },
  {
   "cell_type": "code",
   "execution_count": 3,
   "metadata": {},
   "outputs": [
    {
     "data": {
      "text/plain": [
       "(372451, 785)"
      ]
     },
     "execution_count": 3,
     "metadata": {},
     "output_type": "execute_result"
    }
   ],
   "source": [
    "letters_data.shape"
   ]
  },
  {
   "cell_type": "code",
   "execution_count": 4,
   "metadata": {},
   "outputs": [
    {
     "data": {
      "text/plain": [
       "(3725, 785)"
      ]
     },
     "execution_count": 4,
     "metadata": {},
     "output_type": "execute_result"
    }
   ],
   "source": [
    "letters_data = letters_data.sample(frac=0.01).reset_index(drop=True)\n",
    "\n",
    "letters_data.shape"
   ]
  },
  {
   "cell_type": "code",
   "execution_count": 5,
   "metadata": {},
   "outputs": [
    {
     "data": {
      "text/plain": [
       "[0,\n",
       " 1,\n",
       " 2,\n",
       " 3,\n",
       " 4,\n",
       " 5,\n",
       " 6,\n",
       " 7,\n",
       " 8,\n",
       " 9,\n",
       " 10,\n",
       " 11,\n",
       " 12,\n",
       " 13,\n",
       " 14,\n",
       " 15,\n",
       " 16,\n",
       " 17,\n",
       " 18,\n",
       " 19,\n",
       " 20,\n",
       " 21,\n",
       " 22,\n",
       " 23,\n",
       " 24,\n",
       " 25]"
      ]
     },
     "execution_count": 5,
     "metadata": {},
     "output_type": "execute_result"
    }
   ],
   "source": [
    "sorted(letters_data[0].unique())"
   ]
  },
  {
   "cell_type": "markdown",
   "metadata": {},
   "source": [
    "##### Creating lookup table"
   ]
  },
  {
   "cell_type": "code",
   "execution_count": 6,
   "metadata": {},
   "outputs": [],
   "source": [
    "LOOKUP = { 0: 'A', 1: 'B', 2: 'C', 3: 'D', \n",
    "          4: 'E', 5: 'F', 6: 'G', 7: 'H', \n",
    "          8: 'I', 9: 'J',10: 'K', 11: 'L', \n",
    "          12: 'M', 13: 'N', 14: 'O', 15: 'P', \n",
    "          16: 'Q', 17: 'R', 18: 'S',19: 'T', \n",
    "          20: 'U', 21: 'V', 22: 'W', 23: 'X', \n",
    "          24: 'Y', 25: 'Z'}"
   ]
  },
  {
   "cell_type": "markdown",
   "metadata": {},
   "source": [
    "#### Function for displaying letters"
   ]
  },
  {
   "cell_type": "code",
   "execution_count": 7,
   "metadata": {},
   "outputs": [],
   "source": [
    "def display_image(features, actual_label):\n",
    "    \n",
    "    print(\"Actual label: \", LOOKUP[actual_label])\n",
    "    \n",
    "    plt.imshow(features.reshape(28, 28), cmap='Greys')\n",
    "    \n",
    "    plt.show()"
   ]
  },
  {
   "cell_type": "code",
   "execution_count": 8,
   "metadata": {},
   "outputs": [],
   "source": [
    "X = letters_data[letters_data.columns[1:]]\n",
    "\n",
    "Y = letters_data[0]"
   ]
  },
  {
   "cell_type": "code",
   "execution_count": 9,
   "metadata": {},
   "outputs": [
    {
     "data": {
      "text/plain": [
       "14"
      ]
     },
     "execution_count": 9,
     "metadata": {},
     "output_type": "execute_result"
    }
   ],
   "source": [
    "Y.loc[5]"
   ]
  },
  {
   "cell_type": "code",
   "execution_count": 10,
   "metadata": {},
   "outputs": [
    {
     "data": {
      "text/plain": [
       "array([  0,   0,   0,   0,   0,   0,   0,   0,   0,   0,   0,   0,   0,\n",
       "         0,   0,   0,   0,   0,   0,   0,   0,   0,   0,   0,   0,   0,\n",
       "         0,   0,   0,   0,   0,   0,   0,   0,   0,   0,   0,   0,   0,\n",
       "         0,   0,   0,   0,   0,   0,   0,   0,   0,   0,   0,   0,   0,\n",
       "         0,   0,   0,   0,   0,   0,   0,   0,   0,   0,   0,   0,   0,\n",
       "         0,   0,   0,   0,   0,   0,   0,   0,   0,   0,   0,   0,   0,\n",
       "         0,   0,   0,  47, 121, 198, 198,  72,   0,   0,   0,   0,   0,\n",
       "         0,   0,   0,   0,   0,   0,   0,   0,   0,   0,   0,   0,   0,\n",
       "         0,  24,  24,  24, 127, 187, 229, 255, 255, 165,   0,   0,   0,\n",
       "         0,   0,   0,   0,   0,   0,   0,   0,   0,   0,   0,   0,   0,\n",
       "         0,   0,  56, 189, 189, 189, 230, 248, 255, 255, 255, 213,  90,\n",
       "        56,   0,   0,   0,   0,   0,   0,   0,   0,   0,   0,   0,   0,\n",
       "         0,   0,   0, 130, 188, 255, 255, 255, 255, 255, 255, 255, 255,\n",
       "       244, 212, 188, 149,  95,   5,   0,   0,   0,   0,   0,   0,   0,\n",
       "         0,   0,   0,   0,  50, 225, 250, 255, 255, 255, 255, 255, 255,\n",
       "       255, 255, 255, 255, 250, 243, 213, 110,  38,   0,   0,   0,   0,\n",
       "         0,   0,   0,   0,   0, 113, 184, 250, 255, 255, 248, 198, 175,\n",
       "       104, 104, 104, 104, 104, 163, 219, 255, 255, 221, 116,   0,   0,\n",
       "         0,   0,   0,   0,   0,   0,  40, 218, 255, 255, 255, 248, 161,\n",
       "        71,  53,   0,   0,   0,   0,   0,  44, 100, 228, 255, 255, 210,\n",
       "         0,   0,   0,   0,   0,   0,   0,   0, 125, 247, 255, 255, 255,\n",
       "       158,  46,   0,   0,   0,   0,   0,   0,   0,   0,  12, 199, 255,\n",
       "       255, 255,   0,   0,   0,   0,   0,   0,   0,   0, 194, 255, 255,\n",
       "       255, 255,  41,   0,   0,   0,   0,   0,   0,   0,   0,   0,  12,\n",
       "       199, 255, 255, 255,   0,   0,   0,   0,   0,   0,   0,   0, 162,\n",
       "       255, 255, 255, 255,   0,   0,   0,   0,   0,   0,   0,   0,   0,\n",
       "         0,  56, 228, 255, 255, 210,   0,   0,   0,   0,   0,   0,   0,\n",
       "         0,  96, 255, 255, 255, 255, 104,  50,   0,   0,   0,   0,   0,\n",
       "         0,  34,  79, 161, 255, 255, 245, 116,   0,   0,   0,   0,   0,\n",
       "         0,   0,   0,  69, 237, 255, 255, 255, 255, 170,  71,  71,  71,\n",
       "        49,  19,  71, 144, 217, 255, 255, 249, 170,  38,   0,   0,   0,\n",
       "         0,   0,   0,   0,   0,  16, 170, 233, 255, 255, 255, 250, 212,\n",
       "       212, 212, 172, 120, 212, 250, 255, 255, 249, 181,  45,   0,   0,\n",
       "         0,   0,   0,   0,   0,   0,   0,   0,  68, 139, 230, 248, 255,\n",
       "       255, 255, 255, 255, 255, 255, 255, 255, 255, 236, 188,  45,   0,\n",
       "         0,   0,   0,   0,   0,   0,   0,   0,   0,   0,   0,  12, 127,\n",
       "       187, 214, 219, 255, 255, 255, 255, 255, 255, 219, 214, 141,  50,\n",
       "         0,   0,   0,   0,   0,   0,   0,   0,   0,   0,   0,   0,   0,\n",
       "         0,   0,  47,  75,  90, 198, 198, 198, 198, 198, 198,  90,  75,\n",
       "         0,   0,   0,   0,   0,   0,   0,   0,   0,   0,   0,   0,   0,\n",
       "         0,   0,   0,   0,   0,   0,   0,   0,   0,   0,   0,   0,   0,\n",
       "         0,   0,   0,   0,   0,   0,   0,   0,   0,   0,   0,   0,   0,\n",
       "         0,   0,   0,   0])"
      ]
     },
     "execution_count": 10,
     "metadata": {},
     "output_type": "execute_result"
    }
   ],
   "source": [
    "X.loc[5].values[100:650]"
   ]
  },
  {
   "cell_type": "code",
   "execution_count": 11,
   "metadata": {},
   "outputs": [
    {
     "name": "stdout",
     "output_type": "stream",
     "text": [
      "Actual label:  O\n"
     ]
    },
    {
     "data": {
      "image/png": "[encoded data removed]",
      "text/plain": [
       "<Figure size 432x288 with 1 Axes>"
      ]
     },
     "metadata": {},
     "output_type": "display_data"
    }
   ],
   "source": [
    "display_image(X.loc[5].values, Y.loc[5])"
   ]
  },
  {
   "cell_type": "code",
   "execution_count": 12,
   "metadata": {},
   "outputs": [
    {
     "name": "stdout",
     "output_type": "stream",
     "text": [
      "Actual label:  L\n"
     ]
    },
    {
     "data": {
      "image/png": "[encoded data removed]",
      "text/plain": [
       "<Figure size 432x288 with 1 Axes>"
      ]
     },
     "metadata": {},
     "output_type": "display_data"
    }
   ],
   "source": [
    "display_image(X.loc[550].values, Y.loc[550])"
   ]
  },
  {
   "cell_type": "code",
   "execution_count": 13,
   "metadata": {},
   "outputs": [
    {
     "name": "stdout",
     "output_type": "stream",
     "text": [
      "Actual label:  O\n"
     ]
    },
    {
     "data": {
      "image/png": "[encoded data removed]",
      "text/plain": [
       "<Figure size 432x288 with 1 Axes>"
      ]
     },
     "metadata": {},
     "output_type": "display_data"
    }
   ],
   "source": [
    "display_image(X.loc[3723].values, Y.loc[3723])"
   ]
  },
  {
   "cell_type": "code",
   "execution_count": 14,
   "metadata": {},
   "outputs": [],
   "source": [
    "X = X / 255.\n",
    "\n",
    "X -= X.mean(axis=0)"
   ]
  },
  {
   "cell_type": "code",
   "execution_count": 15,
   "metadata": {},
   "outputs": [
    {
     "data": {
      "text/plain": [
       "array([ 0.00000000e+00, -1.05277010e-06, -1.15804711e-05, -4.94801948e-05,\n",
       "       -4.42163443e-05, -4.21108041e-06,  0.00000000e+00,  0.00000000e+00,\n",
       "        0.00000000e+00,  0.00000000e+00])"
      ]
     },
     "execution_count": 15,
     "metadata": {},
     "output_type": "execute_result"
    }
   ],
   "source": [
    "X.loc[5].values[100:110]"
   ]
  },
  {
   "cell_type": "code",
   "execution_count": 16,
   "metadata": {},
   "outputs": [
    {
     "data": {
      "text/plain": [
       "3725"
      ]
     },
     "execution_count": 16,
     "metadata": {},
     "output_type": "execute_result"
    }
   ],
   "source": [
    "n_samples = len(letters_data)\n",
    "n_samples"
   ]
  },
  {
   "cell_type": "code",
   "execution_count": 17,
   "metadata": {},
   "outputs": [],
   "source": [
    "data_train, labels_train = (X[:n_samples // 2],\n",
    "                            Y[:n_samples // 2])"
   ]
  },
  {
   "cell_type": "code",
   "execution_count": 18,
   "metadata": {},
   "outputs": [],
   "source": [
    "data_test, labels_test = (X[n_samples // 2:],\n",
    "                          Y[n_samples // 2:])"
   ]
  },
  {
   "cell_type": "code",
   "execution_count": 19,
   "metadata": {},
   "outputs": [
    {
     "data": {
      "text/plain": [
       "((1862, 784), (1862,))"
      ]
     },
     "execution_count": 19,
     "metadata": {},
     "output_type": "execute_result"
    }
   ],
   "source": [
    "data_train.shape, labels_train.shape"
   ]
  },
  {
   "cell_type": "code",
   "execution_count": 20,
   "metadata": {},
   "outputs": [
    {
     "data": {
      "text/plain": [
       "((1863, 784), (1863,))"
      ]
     },
     "execution_count": 20,
     "metadata": {},
     "output_type": "execute_result"
    }
   ],
   "source": [
    "data_test.shape, labels_test.shape"
   ]
  },
  {
   "cell_type": "code",
   "execution_count": 21,
   "metadata": {},
   "outputs": [],
   "source": [
    "from time import time\n",
    "from sklearn import svm, pipeline\n",
    "from sklearn.kernel_approximation import RBFSampler, Nystroem"
   ]
  },
  {
   "cell_type": "markdown",
   "metadata": {},
   "source": [
    "##### Initializing the classifier\n",
    "we are initializing the linear SVC and SVC and creating a pipeline from kernel approximation and linear SVC"
   ]
  },
  {
   "cell_type": "code",
   "execution_count": 22,
   "metadata": {},
   "outputs": [],
   "source": [
    "kernel_svm = svm.SVC(gamma=0.01)\n",
    "\n",
    "linear_svm = svm.LinearSVC()"
   ]
  },
  {
   "cell_type": "code",
   "execution_count": 32,
   "metadata": {},
   "outputs": [],
   "source": [
    "rbf_approx_svm = pipeline.Pipeline([\n",
    "    ('rbf_sampler', RBFSampler(gamma=0.01, random_state=1)), \n",
    "    ('svm', svm.LinearSVC())\n",
    "])"
   ]
  },
  {
   "cell_type": "code",
   "execution_count": 33,
   "metadata": {},
   "outputs": [],
   "source": [
    "nystroem_approx_svm = pipeline.Pipeline([\n",
    "    ('nystroem', Nystroem(gamma=0.01, random_state=1)),\n",
    "    ('svm', svm.LinearSVC())\n",
    "])"
   ]
  },
  {
   "cell_type": "markdown",
   "metadata": {},
   "source": [
    "Measuring the accuracy and training time for SVC"
   ]
  },
  {
   "cell_type": "code",
   "execution_count": 34,
   "metadata": {},
   "outputs": [
    {
     "name": "stdout",
     "output_type": "stream",
     "text": [
      "Score:  0.8373590982286635\n",
      "Runtime:  5.685570001602173\n"
     ]
    }
   ],
   "source": [
    "start = time()\n",
    "\n",
    "kernel_svm.fit(data_train, labels_train)\n",
    "kernel_svm_score = kernel_svm.score(data_test, labels_test)\n",
    "\n",
    "kernel_svm_time = time() - start\n",
    "\n",
    "print('Score: ', kernel_svm_score)\n",
    "print('Runtime: ', kernel_svm_time)"
   ]
  },
  {
   "cell_type": "markdown",
   "metadata": {},
   "source": [
    "Measuring the accuraccy and training time for Linear SVC "
   ]
  },
  {
   "cell_type": "code",
   "execution_count": 35,
   "metadata": {},
   "outputs": [
    {
     "name": "stdout",
     "output_type": "stream",
     "text": [
      "Score:  0.7557702630166399\n",
      "Runtime:  1.3968870639801025\n"
     ]
    }
   ],
   "source": [
    "start = time()\n",
    "\n",
    "linear_svm.fit(data_train, labels_train)\n",
    "linear_svm_score = linear_svm.score(data_test, labels_test)\n",
    "\n",
    "linear_svm_time = time() - start\n",
    "\n",
    "print('Score: ', linear_svm_score)\n",
    "print('Runtime: ', linear_svm_time)"
   ]
  },
  {
   "cell_type": "markdown",
   "metadata": {},
   "source": [
    "Changing the C value because model did not converge and again measuring the accuracy and training time"
   ]
  },
  {
   "cell_type": "code",
   "execution_count": 36,
   "metadata": {},
   "outputs": [
    {
     "name": "stdout",
     "output_type": "stream",
     "text": [
      "Score:  0.7557702630166399\n",
      "Runtime:  1.3526630401611328\n"
     ]
    }
   ],
   "source": [
    "start = time()\n",
    "\n",
    "linear_svm.set_params(C=0.1)\n",
    "linear_svm.fit(data_train, labels_train)\n",
    "linear_svm_score = linear_svm.score(data_test, labels_test)\n",
    "\n",
    "linear_svm_time = time() - start\n",
    "\n",
    "print('Score: ', linear_svm_score)\n",
    "print('Runtime: ', linear_svm_time)"
   ]
  },
  {
   "cell_type": "markdown",
   "metadata": {},
   "source": [
    "Measuring accuracy and training time for Linear SVC using RBFSampler kernel approx."
   ]
  },
  {
   "cell_type": "code",
   "execution_count": 37,
   "metadata": {},
   "outputs": [
    {
     "name": "stdout",
     "output_type": "stream",
     "text": [
      "Score:  0.7439613526570048\n",
      "Runtime:  3.0124878883361816\n"
     ]
    }
   ],
   "source": [
    "start = time()\n",
    "\n",
    "rbf_approx_svm.set_params(rbf_sampler__n_components=len(data_train))\n",
    "rbf_approx_svm.set_params(svm__C=0.1)\n",
    "\n",
    "rbf_approx_svm.fit(data_train, labels_train)\n",
    "rbf_approx_svm_score = rbf_approx_svm.score(data_test, labels_test)\n",
    "\n",
    "rbf_approx_svm_time = time() - start\n",
    "\n",
    "print('Score: ', rbf_approx_svm_score)\n",
    "print('Runtime: ', rbf_approx_svm_time)"
   ]
  },
  {
   "cell_type": "markdown",
   "metadata": {},
   "source": [
    "Measuring accuracy and training time for Linear SVC using Nystroem kernel approx."
   ]
  },
  {
   "cell_type": "code",
   "execution_count": 38,
   "metadata": {},
   "outputs": [
    {
     "name": "stdout",
     "output_type": "stream",
     "text": [
      "Score:  0.7498658078368223\n",
      "Runtime:  7.749323844909668\n"
     ]
    }
   ],
   "source": [
    "start = time()\n",
    "\n",
    "nystroem_approx_svm.set_params(nystroem__n_components=len(data_train))\n",
    "nystroem_approx_svm.set_params(svm__C=0.1)\n",
    "\n",
    "nystroem_approx_svm.fit(data_train, labels_train)\n",
    "nystroem_approx_svm_score = nystroem_approx_svm.score(data_test, labels_test)\n",
    "\n",
    "nystroem_approx_svm_time = time() - start\n",
    "\n",
    "print('Score: ', nystroem_approx_svm_score)\n",
    "print('Runtime: ', nystroem_approx_svm_time)"
   ]
  },
  {
   "cell_type": "markdown",
   "metadata": {},
   "source": [
    "Changing the C value and then again measuring accuracy and training time for Linear SVC using RBFSampler kernel approx. and Nystroem kernel approx. Now accuracy is increased."
   ]
  },
  {
   "cell_type": "code",
   "execution_count": 39,
   "metadata": {},
   "outputs": [
    {
     "name": "stdout",
     "output_type": "stream",
     "text": [
      "Score:  0.8346752549651101\n",
      "Runtime:  3.922372817993164\n"
     ]
    }
   ],
   "source": [
    "start = time()\n",
    "\n",
    "rbf_approx_svm.set_params(rbf_sampler__n_components=len(data_train))\n",
    "rbf_approx_svm.set_params(svm__C=1)\n",
    "\n",
    "rbf_approx_svm.fit(data_train, labels_train)\n",
    "rbf_approx_svm_score = rbf_approx_svm.score(data_test, labels_test)\n",
    "\n",
    "rbf_approx_svm_time = time() - start\n",
    "\n",
    "print('Score: ', rbf_approx_svm_score)\n",
    "print('Runtime: ', rbf_approx_svm_time)"
   ]
  },
  {
   "cell_type": "code",
   "execution_count": 40,
   "metadata": {},
   "outputs": [
    {
     "name": "stdout",
     "output_type": "stream",
     "text": [
      "Score:  0.8443370907139023\n",
      "Runtime:  8.866598844528198\n"
     ]
    }
   ],
   "source": [
    "start = time()\n",
    "\n",
    "nystroem_approx_svm.set_params(nystroem__n_components=len(data_train))\n",
    "nystroem_approx_svm.set_params(svm__C=1)\n",
    "\n",
    "nystroem_approx_svm.fit(data_train, labels_train)\n",
    "nystroem_approx_svm_score = nystroem_approx_svm.score(data_test, labels_test)\n",
    "\n",
    "nystroem_approx_svm_time = time() - start\n",
    "\n",
    "print('Score: ', nystroem_approx_svm_score)\n",
    "print('Runtime: ', nystroem_approx_svm_time)"
   ]
  },
  {
   "cell_type": "markdown",
   "metadata": {},
   "source": [
    "Taking different number of sample and drawing graph for no. of samples vs accuracy and no. of samples vs training time for every method."
   ]
  },
  {
   "cell_type": "code",
   "execution_count": 41,
   "metadata": {},
   "outputs": [
    {
     "data": {
      "text/plain": [
       "array([ 300,  600,  900, 1200, 1500, 1800])"
      ]
     },
     "execution_count": 41,
     "metadata": {},
     "output_type": "execute_result"
    }
   ],
   "source": [
    "sample_sizes = 300 * np.arange(1, 7)\n",
    "sample_sizes"
   ]
  },
  {
   "cell_type": "code",
   "execution_count": 42,
   "metadata": {},
   "outputs": [],
   "source": [
    "rbf_scores = []\n",
    "nystroem_scores = []\n",
    "\n",
    "rbf_times = []\n",
    "nystroem_times = []"
   ]
  },
  {
   "cell_type": "code",
   "execution_count": 43,
   "metadata": {},
   "outputs": [],
   "source": [
    "for D in sample_sizes:\n",
    "    \n",
    "    rbf_approx_svm.set_params(rbf_sampler__n_components=D)\n",
    "    nystroem_approx_svm.set_params(nystroem__n_components=D)\n",
    "    \n",
    "    start = time()\n",
    "    nystroem_approx_svm.fit(data_train, labels_train)\n",
    "    nystroem_times.append(time() - start)\n",
    "\n",
    "    start = time()\n",
    "    rbf_approx_svm.fit(data_train, labels_train)\n",
    "    rbf_times.append(time() - start)\n",
    "\n",
    "    rbf_score = rbf_approx_svm.score(data_test, labels_test)\n",
    "    nystroem_score = nystroem_approx_svm.score(data_test, labels_test)\n",
    "    \n",
    "    nystroem_scores.append(nystroem_score)\n",
    "    rbf_scores.append(rbf_score)"
   ]
  },
  {
   "cell_type": "code",
   "execution_count": 44,
   "metadata": {},
   "outputs": [
    {
     "data": {
      "text/plain": [
       "[0.7874396135265701,\n",
       " 0.8115942028985508,\n",
       " 0.8336017176596887,\n",
       " 0.8309178743961353,\n",
       " 0.8373590982286635,\n",
       " 0.8373590982286635]"
      ]
     },
     "execution_count": 44,
     "metadata": {},
     "output_type": "execute_result"
    }
   ],
   "source": [
    "rbf_scores"
   ]
  },
  {
   "cell_type": "code",
   "execution_count": 45,
   "metadata": {},
   "outputs": [
    {
     "data": {
      "text/plain": [
       "[0.7213180065155029,\n",
       " 1.043652057647705,\n",
       " 1.548523187637329,\n",
       " 2.2393429279327393,\n",
       " 2.5102529525756836,\n",
       " 3.3066859245300293]"
      ]
     },
     "execution_count": 45,
     "metadata": {},
     "output_type": "execute_result"
    }
   ],
   "source": [
    "rbf_times"
   ]
  },
  {
   "cell_type": "code",
   "execution_count": 46,
   "metadata": {},
   "outputs": [
    {
     "data": {
      "text/plain": [
       "[0.821256038647343,\n",
       " 0.8276972624798712,\n",
       " 0.8378958668813741,\n",
       " 0.8395061728395061,\n",
       " 0.8405797101449275,\n",
       " 0.8432635534084809]"
      ]
     },
     "execution_count": 46,
     "metadata": {},
     "output_type": "execute_result"
    }
   ],
   "source": [
    "nystroem_scores"
   ]
  },
  {
   "cell_type": "code",
   "execution_count": 47,
   "metadata": {},
   "outputs": [
    {
     "data": {
      "text/plain": [
       "[0.6703600883483887,\n",
       " 1.4356410503387451,\n",
       " 2.230088233947754,\n",
       " 3.146836996078491,\n",
       " 4.739742994308472,\n",
       " 9.337486982345581]"
      ]
     },
     "execution_count": 47,
     "metadata": {},
     "output_type": "execute_result"
    }
   ],
   "source": [
    "nystroem_times"
   ]
  },
  {
   "cell_type": "code",
   "execution_count": 48,
   "metadata": {},
   "outputs": [
    {
     "data": {
      "image/png": "[encoded data removed]",
      "text/plain": [
       "<Figure size 1440x720 with 2 Axes>"
      ]
     },
     "metadata": {},
     "output_type": "display_data"
    }
   ],
   "source": [
    "plt.figure(figsize=(20, 10))\n",
    "\n",
    "accuracy = plt.subplot(121)\n",
    "timescale = plt.subplot(122)\n",
    "\n",
    "accuracy.plot(sample_sizes, nystroem_scores, label=\"Nystroem approx. kernel\")\n",
    "timescale.plot(sample_sizes, nystroem_times, '--', label='Nystroem approx. kernel')\n",
    "\n",
    "accuracy.plot(sample_sizes, rbf_scores, label=\"RBF approx. kernel\")\n",
    "timescale.plot(sample_sizes, rbf_times, '--', label='RBF approx. kernel')\n",
    "\n",
    "accuracy.plot([sample_sizes[0], sample_sizes[-1]],\n",
    "              [linear_svm_score, linear_svm_score], label=\"Linear svm\")\n",
    "timescale.plot([sample_sizes[0], sample_sizes[-1]],\n",
    "               [linear_svm_time, linear_svm_time], '--', label='Linear svm')\n",
    "\n",
    "accuracy.plot([sample_sizes[0], sample_sizes[-1]],\n",
    "              [kernel_svm_score, kernel_svm_score], label=\"RBF svm\")\n",
    "timescale.plot([sample_sizes[0], sample_sizes[-1]],\n",
    "               [kernel_svm_time, kernel_svm_time], '--', label='RBF svm')\n",
    "\n",
    "accuracy.set_title(\"Classification accuracy\")\n",
    "timescale.set_title(\"Training times\")\n",
    "\n",
    "accuracy.set_xlim(sample_sizes[0], sample_sizes[-1])\n",
    "accuracy.set_ylim(0.6, 1)\n",
    "\n",
    "accuracy.set_xlabel(\"Sampling steps = transformed feature dimension\")\n",
    "timescale.set_xlabel(\"Sampling steps = transformed feature dimension\")\n",
    "\n",
    "accuracy.set_ylabel(\"Classification accuracy\")\n",
    "timescale.set_ylabel(\"Training time in seconds\")\n",
    "\n",
    "accuracy.legend(loc='best')\n",
    "timescale.legend(loc='best')\n",
    "\n",
    "plt.show()"
   ]
  },
  {
   "cell_type": "code",
   "execution_count": null,
   "metadata": {
    "collapsed": true
   },
   "outputs": [],
   "source": []
  },
  {
   "cell_type": "code",
   "execution_count": null,
   "metadata": {
    "collapsed": true
   },
   "outputs": [],
   "source": []
  },
  {
   "cell_type": "code",
   "execution_count": null,
   "metadata": {
    "collapsed": true
   },
   "outputs": [],
   "source": []
  },
  {
   "cell_type": "code",
   "execution_count": null,
   "metadata": {
    "collapsed": true
   },
   "outputs": [],
   "source": []
  },
  {
   "cell_type": "code",
   "execution_count": null,
   "metadata": {
    "collapsed": true
   },
   "outputs": [],
   "source": []
  }
 ],
 "metadata": {
  "kernelspec": {
   "display_name": "Python 3",
   "language": "python",
   "name": "python3"
  },
  "language_info": {
   "codemirror_mode": {
    "name": "ipython",
    "version": 3
   },
   "file_extension": ".py",
   "mimetype": "text/x-python",
   "name": "python",
   "nbconvert_exporter": "python",
   "pygments_lexer": "ipython3",
   "version": "3.6.4"
  }
 },
 "nbformat": 4,
 "nbformat_minor": 2
}

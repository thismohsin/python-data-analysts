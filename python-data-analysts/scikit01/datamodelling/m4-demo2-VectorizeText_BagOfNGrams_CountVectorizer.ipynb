{
 "cells": [
  {
   "cell_type": "markdown",
   "metadata": {},
   "source": [
    "## Vectorize text as a bag-of-n-grams"
   ]
  },
  {
   "cell_type": "code",
   "execution_count": 1,
   "metadata": {},
   "outputs": [],
   "source": [
    "from sklearn.feature_extraction.text import CountVectorizer"
   ]
  },
  {
   "cell_type": "code",
   "execution_count": 20,
   "metadata": {},
   "outputs": [],
   "source": [
    "train_text = [\"The Pessimist Sees Difficulty In Every Opportunity.\",\n",
    "              \"The Optimist Sees Opportunity In Every Difficulty.\",\n",
    "              \"Don’t Let Yesterday Take Up Too Much Of Today. \",\n",
    "              \"You Learn More From Failure Than From Success.\",\n",
    "              \"We May Encounter Many Defeats But We Must Not Be Defeated.\",\n",
    "              \"Life Is Either A Daring Adventure Or Nothing.\"]"
   ]
  },
  {
   "cell_type": "markdown",
   "metadata": {},
   "source": [
    "#### Set the ngram_range attribute\n",
    "The argument is a tuple with a minimum and maximum value for the size of the ngram. We start of with only 2-word ngrams"
   ]
  },
  {
   "cell_type": "code",
   "execution_count": 21,
   "metadata": {},
   "outputs": [],
   "source": [
    "n_gram_vectorizer = CountVectorizer(ngram_range=(2, 2))"
   ]
  },
  {
   "cell_type": "code",
   "execution_count": 22,
   "metadata": {},
   "outputs": [],
   "source": [
    "transformed_vector = n_gram_vectorizer.fit_transform(train_text)"
   ]
  },
  {
   "cell_type": "code",
   "execution_count": 23,
   "metadata": {},
   "outputs": [
    {
     "data": {
      "text/plain": [
       "{'adventure or': 0,\n",
       " 'be defeated': 1,\n",
       " 'but we': 2,\n",
       " 'daring adventure': 3,\n",
       " 'defeats but': 4,\n",
       " 'difficulty in': 5,\n",
       " 'don let': 6,\n",
       " 'either daring': 7,\n",
       " 'encounter many': 8,\n",
       " 'every difficulty': 9,\n",
       " 'every opportunity': 10,\n",
       " 'failure than': 11,\n",
       " 'from failure': 12,\n",
       " 'from success': 13,\n",
       " 'in every': 14,\n",
       " 'is either': 15,\n",
       " 'learn more': 16,\n",
       " 'let yesterday': 17,\n",
       " 'life is': 18,\n",
       " 'many defeats': 19,\n",
       " 'may encounter': 20,\n",
       " 'more from': 21,\n",
       " 'much of': 22,\n",
       " 'must not': 23,\n",
       " 'not be': 24,\n",
       " 'of today': 25,\n",
       " 'opportunity in': 26,\n",
       " 'optimist sees': 27,\n",
       " 'or nothing': 28,\n",
       " 'pessimist sees': 29,\n",
       " 'sees difficulty': 30,\n",
       " 'sees opportunity': 31,\n",
       " 'take up': 32,\n",
       " 'than from': 33,\n",
       " 'the optimist': 34,\n",
       " 'the pessimist': 35,\n",
       " 'too much': 36,\n",
       " 'up too': 37,\n",
       " 'we may': 38,\n",
       " 'we must': 39,\n",
       " 'yesterday take': 40,\n",
       " 'you learn': 41}"
      ]
     },
     "execution_count": 23,
     "metadata": {},
     "output_type": "execute_result"
    }
   ],
   "source": [
    "n_gram_vectorizer.vocabulary_"
   ]
  },
  {
   "cell_type": "code",
   "execution_count": 24,
   "metadata": {},
   "outputs": [
    {
     "data": {
      "text/plain": [
       "array([[0, 0, 0, 0, 0, 1, 0, 0, 0, 0, 1, 0, 0, 0, 1, 0, 0, 0, 0, 0, 0, 0,\n",
       "        0, 0, 0, 0, 0, 0, 0, 1, 1, 0, 0, 0, 0, 1, 0, 0, 0, 0, 0, 0],\n",
       "       [0, 0, 0, 0, 0, 0, 0, 0, 0, 1, 0, 0, 0, 0, 1, 0, 0, 0, 0, 0, 0, 0,\n",
       "        0, 0, 0, 0, 1, 1, 0, 0, 0, 1, 0, 0, 1, 0, 0, 0, 0, 0, 0, 0],\n",
       "       [0, 0, 0, 0, 0, 0, 1, 0, 0, 0, 0, 0, 0, 0, 0, 0, 0, 1, 0, 0, 0, 0,\n",
       "        1, 0, 0, 1, 0, 0, 0, 0, 0, 0, 1, 0, 0, 0, 1, 1, 0, 0, 1, 0],\n",
       "       [0, 0, 0, 0, 0, 0, 0, 0, 0, 0, 0, 1, 1, 1, 0, 0, 1, 0, 0, 0, 0, 1,\n",
       "        0, 0, 0, 0, 0, 0, 0, 0, 0, 0, 0, 1, 0, 0, 0, 0, 0, 0, 0, 1],\n",
       "       [0, 1, 1, 0, 1, 0, 0, 0, 1, 0, 0, 0, 0, 0, 0, 0, 0, 0, 0, 1, 1, 0,\n",
       "        0, 1, 1, 0, 0, 0, 0, 0, 0, 0, 0, 0, 0, 0, 0, 0, 1, 1, 0, 0],\n",
       "       [1, 0, 0, 1, 0, 0, 0, 1, 0, 0, 0, 0, 0, 0, 0, 1, 0, 0, 1, 0, 0, 0,\n",
       "        0, 0, 0, 0, 0, 0, 1, 0, 0, 0, 0, 0, 0, 0, 0, 0, 0, 0, 0, 0]],\n",
       "      dtype=int64)"
      ]
     },
     "execution_count": 24,
     "metadata": {},
     "output_type": "execute_result"
    }
   ],
   "source": [
    "transformed_vector.toarray()"
   ]
  },
  {
   "cell_type": "code",
   "execution_count": 25,
   "metadata": {},
   "outputs": [
    {
     "data": {
      "text/plain": [
       "(6, 42)"
      ]
     },
     "execution_count": 25,
     "metadata": {},
     "output_type": "execute_result"
    }
   ],
   "source": [
    "transformed_vector.toarray().shape"
   ]
  },
  {
   "cell_type": "code",
   "execution_count": 26,
   "metadata": {},
   "outputs": [
    {
     "data": {
      "text/plain": [
       "[array(['every opportunity', 'in every', 'difficulty in',\n",
       "        'sees difficulty', 'pessimist sees', 'the pessimist'], dtype='<U17'),\n",
       " array(['every difficulty', 'opportunity in', 'sees opportunity',\n",
       "        'optimist sees', 'the optimist', 'in every'], dtype='<U17'),\n",
       " array(['of today', 'much of', 'too much', 'up too', 'take up',\n",
       "        'yesterday take', 'let yesterday', 'don let'], dtype='<U17'),\n",
       " array(['from success', 'than from', 'failure than', 'from failure',\n",
       "        'more from', 'learn more', 'you learn'], dtype='<U17'),\n",
       " array(['be defeated', 'not be', 'must not', 'we must', 'but we',\n",
       "        'defeats but', 'many defeats', 'encounter many', 'may encounter',\n",
       "        'we may'], dtype='<U17'),\n",
       " array(['or nothing', 'adventure or', 'daring adventure', 'either daring',\n",
       "        'is either', 'life is'], dtype='<U17')]"
      ]
     },
     "execution_count": 26,
     "metadata": {},
     "output_type": "execute_result"
    }
   ],
   "source": [
    "n_gram_vectorizer.inverse_transform(transformed_vector)"
   ]
  },
  {
   "cell_type": "markdown",
   "metadata": {},
   "source": [
    "#### 1 and 2-character ngrams"
   ]
  },
  {
   "cell_type": "code",
   "execution_count": 27,
   "metadata": {},
   "outputs": [
    {
     "data": {
      "text/plain": [
       "{'adventure': 0,\n",
       " 'adventure or': 1,\n",
       " 'be': 2,\n",
       " 'be defeated': 3,\n",
       " 'but': 4,\n",
       " 'but we': 5,\n",
       " 'daring': 6,\n",
       " 'daring adventure': 7,\n",
       " 'defeated': 8,\n",
       " 'defeats': 9,\n",
       " 'defeats but': 10,\n",
       " 'difficulty': 11,\n",
       " 'difficulty in': 12,\n",
       " 'don': 13,\n",
       " 'don let': 14,\n",
       " 'either': 15,\n",
       " 'either daring': 16,\n",
       " 'encounter': 17,\n",
       " 'encounter many': 18,\n",
       " 'every': 19,\n",
       " 'every difficulty': 20,\n",
       " 'every opportunity': 21,\n",
       " 'failure': 22,\n",
       " 'failure than': 23,\n",
       " 'from': 24,\n",
       " 'from failure': 25,\n",
       " 'from success': 26,\n",
       " 'in': 27,\n",
       " 'in every': 28,\n",
       " 'is': 29,\n",
       " 'is either': 30,\n",
       " 'learn': 31,\n",
       " 'learn more': 32,\n",
       " 'let': 33,\n",
       " 'let yesterday': 34,\n",
       " 'life': 35,\n",
       " 'life is': 36,\n",
       " 'many': 37,\n",
       " 'many defeats': 38,\n",
       " 'may': 39,\n",
       " 'may encounter': 40,\n",
       " 'more': 41,\n",
       " 'more from': 42,\n",
       " 'much': 43,\n",
       " 'much of': 44,\n",
       " 'must': 45,\n",
       " 'must not': 46,\n",
       " 'not': 47,\n",
       " 'not be': 48,\n",
       " 'nothing': 49,\n",
       " 'of': 50,\n",
       " 'of today': 51,\n",
       " 'opportunity': 52,\n",
       " 'opportunity in': 53,\n",
       " 'optimist': 54,\n",
       " 'optimist sees': 55,\n",
       " 'or': 56,\n",
       " 'or nothing': 57,\n",
       " 'pessimist': 58,\n",
       " 'pessimist sees': 59,\n",
       " 'sees': 60,\n",
       " 'sees difficulty': 61,\n",
       " 'sees opportunity': 62,\n",
       " 'success': 63,\n",
       " 'take': 64,\n",
       " 'take up': 65,\n",
       " 'than': 66,\n",
       " 'than from': 67,\n",
       " 'the': 68,\n",
       " 'the optimist': 69,\n",
       " 'the pessimist': 70,\n",
       " 'today': 71,\n",
       " 'too': 72,\n",
       " 'too much': 73,\n",
       " 'up': 74,\n",
       " 'up too': 75,\n",
       " 'we': 76,\n",
       " 'we may': 77,\n",
       " 'we must': 78,\n",
       " 'yesterday': 79,\n",
       " 'yesterday take': 80,\n",
       " 'you': 81,\n",
       " 'you learn': 82}"
      ]
     },
     "execution_count": 27,
     "metadata": {},
     "output_type": "execute_result"
    }
   ],
   "source": [
    "n_gram_vectorizer = CountVectorizer(ngram_range=(1, 2))\n",
    "\n",
    "transformed_vector = n_gram_vectorizer.fit_transform(train_text)\n",
    "\n",
    "n_gram_vectorizer.vocabulary_"
   ]
  },
  {
   "cell_type": "code",
   "execution_count": 30,
   "metadata": {},
   "outputs": [
    {
     "data": {
      "text/plain": [
       "array([[0, 0, 0, 0, 0, 0, 0, 0, 0, 0, 0, 1, 1, 0, 0, 0, 0, 0, 0, 1, 0, 1,\n",
       "        0, 0, 0, 0, 0, 1, 1, 0, 0, 0, 0, 0, 0, 0, 0, 0, 0, 0, 0, 0, 0, 0,\n",
       "        0, 0, 0, 0, 0, 0, 0, 0, 1, 0, 0, 0, 0, 0, 1, 1, 1, 1, 0, 0, 0, 0,\n",
       "        0, 0, 1, 0, 1, 0, 0, 0, 0, 0, 0, 0, 0, 0, 0, 0, 0],\n",
       "       [0, 0, 0, 0, 0, 0, 0, 0, 0, 0, 0, 1, 0, 0, 0, 0, 0, 0, 0, 1, 1, 0,\n",
       "        0, 0, 0, 0, 0, 1, 1, 0, 0, 0, 0, 0, 0, 0, 0, 0, 0, 0, 0, 0, 0, 0,\n",
       "        0, 0, 0, 0, 0, 0, 0, 0, 1, 1, 1, 1, 0, 0, 0, 0, 1, 0, 1, 0, 0, 0,\n",
       "        0, 0, 1, 1, 0, 0, 0, 0, 0, 0, 0, 0, 0, 0, 0, 0, 0],\n",
       "       [0, 0, 0, 0, 0, 0, 0, 0, 0, 0, 0, 0, 0, 1, 1, 0, 0, 0, 0, 0, 0, 0,\n",
       "        0, 0, 0, 0, 0, 0, 0, 0, 0, 0, 0, 1, 1, 0, 0, 0, 0, 0, 0, 0, 0, 1,\n",
       "        1, 0, 0, 0, 0, 0, 1, 1, 0, 0, 0, 0, 0, 0, 0, 0, 0, 0, 0, 0, 1, 1,\n",
       "        0, 0, 0, 0, 0, 1, 1, 1, 1, 1, 0, 0, 0, 1, 1, 0, 0],\n",
       "       [0, 0, 0, 0, 0, 0, 0, 0, 0, 0, 0, 0, 0, 0, 0, 0, 0, 0, 0, 0, 0, 0,\n",
       "        1, 1, 2, 1, 1, 0, 0, 0, 0, 1, 1, 0, 0, 0, 0, 0, 0, 0, 0, 1, 1, 0,\n",
       "        0, 0, 0, 0, 0, 0, 0, 0, 0, 0, 0, 0, 0, 0, 0, 0, 0, 0, 0, 1, 0, 0,\n",
       "        1, 1, 0, 0, 0, 0, 0, 0, 0, 0, 0, 0, 0, 0, 0, 1, 1],\n",
       "       [0, 0, 1, 1, 1, 1, 0, 0, 1, 1, 1, 0, 0, 0, 0, 0, 0, 1, 1, 0, 0, 0,\n",
       "        0, 0, 0, 0, 0, 0, 0, 0, 0, 0, 0, 0, 0, 0, 0, 1, 1, 1, 1, 0, 0, 0,\n",
       "        0, 1, 1, 1, 1, 0, 0, 0, 0, 0, 0, 0, 0, 0, 0, 0, 0, 0, 0, 0, 0, 0,\n",
       "        0, 0, 0, 0, 0, 0, 0, 0, 0, 0, 2, 1, 1, 0, 0, 0, 0],\n",
       "       [1, 1, 0, 0, 0, 0, 1, 1, 0, 0, 0, 0, 0, 0, 0, 1, 1, 0, 0, 0, 0, 0,\n",
       "        0, 0, 0, 0, 0, 0, 0, 1, 1, 0, 0, 0, 0, 1, 1, 0, 0, 0, 0, 0, 0, 0,\n",
       "        0, 0, 0, 0, 0, 1, 0, 0, 0, 0, 0, 0, 1, 1, 0, 0, 0, 0, 0, 0, 0, 0,\n",
       "        0, 0, 0, 0, 0, 0, 0, 0, 0, 0, 0, 0, 0, 0, 0, 0, 0]], dtype=int64)"
      ]
     },
     "execution_count": 30,
     "metadata": {},
     "output_type": "execute_result"
    }
   ],
   "source": [
    "transformed_vector.toarray()"
   ]
  },
  {
   "cell_type": "code",
   "execution_count": 29,
   "metadata": {},
   "outputs": [
    {
     "data": {
      "text/plain": [
       "(6, 83)"
      ]
     },
     "execution_count": 29,
     "metadata": {},
     "output_type": "execute_result"
    }
   ],
   "source": [
    "transformed_vector.toarray().shape"
   ]
  },
  {
   "cell_type": "code",
   "execution_count": 31,
   "metadata": {},
   "outputs": [
    {
     "data": {
      "text/plain": [
       "[array(['every opportunity', 'in every', 'difficulty in',\n",
       "        'sees difficulty', 'pessimist sees', 'the pessimist',\n",
       "        'opportunity', 'every', 'in', 'difficulty', 'sees', 'pessimist',\n",
       "        'the'], dtype='<U17'),\n",
       " array(['every difficulty', 'opportunity in', 'sees opportunity',\n",
       "        'optimist sees', 'the optimist', 'optimist', 'in every',\n",
       "        'opportunity', 'every', 'in', 'difficulty', 'sees', 'the'],\n",
       "       dtype='<U17'),\n",
       " array(['of today', 'much of', 'too much', 'up too', 'take up',\n",
       "        'yesterday take', 'let yesterday', 'don let', 'today', 'of',\n",
       "        'much', 'too', 'up', 'take', 'yesterday', 'let', 'don'],\n",
       "       dtype='<U17'),\n",
       " array(['from success', 'than from', 'failure than', 'from failure',\n",
       "        'more from', 'learn more', 'you learn', 'success', 'than',\n",
       "        'failure', 'from', 'more', 'learn', 'you'], dtype='<U17'),\n",
       " array(['be defeated', 'not be', 'must not', 'we must', 'but we',\n",
       "        'defeats but', 'many defeats', 'encounter many', 'may encounter',\n",
       "        'we may', 'defeated', 'be', 'not', 'must', 'but', 'defeats',\n",
       "        'many', 'encounter', 'may', 'we'], dtype='<U17'),\n",
       " array(['or nothing', 'adventure or', 'daring adventure', 'either daring',\n",
       "        'is either', 'life is', 'nothing', 'or', 'adventure', 'daring',\n",
       "        'either', 'is', 'life'], dtype='<U17')]"
      ]
     },
     "execution_count": 31,
     "metadata": {},
     "output_type": "execute_result"
    }
   ],
   "source": [
    "n_gram_vectorizer.inverse_transform(transformed_vector)"
   ]
  },
  {
   "cell_type": "code",
   "execution_count": null,
   "metadata": {},
   "outputs": [],
   "source": []
  }
 ],
 "metadata": {
  "kernelspec": {
   "display_name": "Python 3",
   "language": "python",
   "name": "python3"
  },
  "language_info": {
   "codemirror_mode": {
    "name": "ipython",
    "version": 3
   },
   "file_extension": ".py",
   "mimetype": "text/x-python",
   "name": "python",
   "nbconvert_exporter": "python",
   "pygments_lexer": "ipython3",
   "version": "3.6.4"
  }
 },
 "nbformat": 4,
 "nbformat_minor": 2
}

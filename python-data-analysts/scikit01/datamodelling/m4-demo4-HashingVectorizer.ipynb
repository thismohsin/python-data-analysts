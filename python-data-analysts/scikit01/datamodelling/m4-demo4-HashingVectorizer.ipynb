{
 "cells": [
  {
   "cell_type": "markdown",
   "metadata": {},
   "source": [
    "## HashingVectorizer\n",
    "* <b>HashingVectorizer</b> is the combination of <b>FeatureHasher</b> and <b>CountVectorizer</b> i.e, we get the Term frequency of words as well as the reduced dimension\n",
    "* When we used FeatureHasher the dimension of vector reduced but we couldn't get any understandable format in output"
   ]
  },
  {
   "cell_type": "markdown",
   "metadata": {},
   "source": [
    "#### If we have large vocabulary of words we can choose to use the HashingVectorizer rather than the CountVectorizer\n",
    "* The use of hashing buckets to represent words allows us to scale large data sets when we use the HashingVectorizer.\n",
    "* The input argument to the vectorizer is the number of hash buckets (n_features)\n",
    "* Result : numeric representation of all the words in documents.\n",
    "* Word ids are from 0 to (n_features - 1) because total of n_features buckets.\n",
    "* Because the size of vocabulary is larger than the number of buckets, multiple words can hash to the same bucket.\n",
    "* No way to get back to the original value from the hash bucket value.\n",
    "* Frequencies of each is represented in normalized from\n",
    "\n",
    "https://scikit-learn.org/stable/modules/feature_extraction.html#vectorizing-a-large-text-corpus-with-the-hashing-trick"
   ]
  },
  {
   "cell_type": "markdown",
   "metadata": {},
   "source": [
    "##### words are mapped directly to indices with a hashing function"
   ]
  },
  {
   "cell_type": "code",
   "execution_count": 2,
   "metadata": {},
   "outputs": [],
   "source": [
    "from sklearn.feature_extraction.text import HashingVectorizer\n",
    "\n",
    "text_array = [\"The Pessimist Sees Difficulty In Every Opportunity.\",\n",
    "              \"The Optimist Sees Opportunity In Every Difficulty.\",\n",
    "              \"Don’t Let Yesterday Take Up Too Much Of Today. \",\n",
    "              \"You Learn More From Failure Than From Success.\",\n",
    "              \"We May Encounter Many Defeats But We Must Not Be Defeated.\",\n",
    "              \"Life Is Either A Daring Adventure Or Nothing.\"]"
   ]
  },
  {
   "cell_type": "markdown",
   "metadata": {},
   "source": [
    "#### The HashingVectorizer"
   ]
  },
  {
   "cell_type": "code",
   "execution_count": 3,
   "metadata": {},
   "outputs": [
    {
     "data": {
      "text/plain": [
       "(6, 8)"
      ]
     },
     "execution_count": 3,
     "metadata": {},
     "output_type": "execute_result"
    }
   ],
   "source": [
    "from sklearn.feature_extraction.text import HashingVectorizer\n",
    "\n",
    "vectorizer = HashingVectorizer(n_features=8, \n",
    "                               norm=None)\n",
    "\n",
    "hash_vector = vectorizer.transform(text_array)\n",
    "\n",
    "hash_vector.shape"
   ]
  },
  {
   "cell_type": "code",
   "execution_count": 4,
   "metadata": {},
   "outputs": [
    {
     "data": {
      "text/plain": [
       "array([[ 0.,  2.,  1., -1., -1.,  1., -1.,  0.],\n",
       "       [ 0.,  2.,  0., -1., -1.,  1., -1., -1.],\n",
       "       [-1., -1.,  0.,  0.,  2.,  1., -1., -1.],\n",
       "       [ 0.,  0.,  0., -1.,  0.,  0.,  0., -1.],\n",
       "       [ 1.,  1.,  0., -2.,  1.,  1.,  1.,  2.],\n",
       "       [-1.,  0.,  0.,  0.,  1.,  1., -1.,  1.]])"
      ]
     },
     "execution_count": 4,
     "metadata": {},
     "output_type": "execute_result"
    }
   ],
   "source": [
    "hash_vector.toarray()"
   ]
  },
  {
   "cell_type": "code",
   "execution_count": 5,
   "metadata": {},
   "outputs": [
    {
     "data": {
      "text/plain": [
       "array([[0., 2., 1., 1., 1., 1., 1., 0.],\n",
       "       [0., 2., 0., 1., 1., 1., 1., 1.],\n",
       "       [1., 1., 0., 0., 2., 1., 3., 1.],\n",
       "       [0., 0., 2., 1., 4., 0., 0., 1.],\n",
       "       [1., 1., 0., 2., 1., 1., 3., 2.],\n",
       "       [1., 2., 0., 0., 1., 1., 1., 1.]])"
      ]
     },
     "execution_count": 5,
     "metadata": {},
     "output_type": "execute_result"
    }
   ],
   "source": [
    "vectorizer = HashingVectorizer(n_features=8, \n",
    "                               norm=None, \n",
    "                               alternate_sign=False)\n",
    "\n",
    "hash_vector = vectorizer.transform(text_array)\n",
    "\n",
    "hash_vector.toarray()"
   ]
  },
  {
   "cell_type": "code",
   "execution_count": 6,
   "metadata": {},
   "outputs": [
    {
     "data": {
      "text/plain": [
       "(6, 8)"
      ]
     },
     "execution_count": 6,
     "metadata": {},
     "output_type": "execute_result"
    }
   ],
   "source": [
    "vectorizer = HashingVectorizer(n_features=8, \n",
    "                               norm='l1')\n",
    "\n",
    "hash_vector = vectorizer.transform(text_array)\n",
    "\n",
    "hash_vector.shape"
   ]
  },
  {
   "cell_type": "code",
   "execution_count": 7,
   "metadata": {},
   "outputs": [
    {
     "data": {
      "text/plain": [
       "array([[ 0.        ,  0.28571429,  0.14285714, -0.14285714, -0.14285714,\n",
       "         0.14285714, -0.14285714,  0.        ],\n",
       "       [ 0.        ,  0.28571429,  0.        , -0.14285714, -0.14285714,\n",
       "         0.14285714, -0.14285714, -0.14285714],\n",
       "       [-0.14285714, -0.14285714,  0.        ,  0.        ,  0.28571429,\n",
       "         0.14285714, -0.14285714, -0.14285714],\n",
       "       [ 0.        ,  0.        ,  0.        , -0.5       ,  0.        ,\n",
       "         0.        ,  0.        , -0.5       ],\n",
       "       [ 0.11111111,  0.11111111,  0.        , -0.22222222,  0.11111111,\n",
       "         0.11111111,  0.11111111,  0.22222222],\n",
       "       [-0.2       ,  0.        ,  0.        ,  0.        ,  0.2       ,\n",
       "         0.2       , -0.2       ,  0.2       ]])"
      ]
     },
     "execution_count": 7,
     "metadata": {},
     "output_type": "execute_result"
    }
   ],
   "source": [
    "hash_vector.toarray()"
   ]
  },
  {
   "cell_type": "code",
   "execution_count": 8,
   "metadata": {},
   "outputs": [
    {
     "data": {
      "text/plain": [
       "(6, 8)"
      ]
     },
     "execution_count": 8,
     "metadata": {},
     "output_type": "execute_result"
    }
   ],
   "source": [
    "vectorizer = HashingVectorizer(n_features=8, \n",
    "                               norm='l2')\n",
    "\n",
    "hash_vector = vectorizer.transform(text_array)\n",
    "\n",
    "hash_vector.shape"
   ]
  },
  {
   "cell_type": "code",
   "execution_count": 9,
   "metadata": {},
   "outputs": [
    {
     "data": {
      "text/plain": [
       "array([[ 0.        ,  0.66666667,  0.33333333, -0.33333333, -0.33333333,\n",
       "         0.33333333, -0.33333333,  0.        ],\n",
       "       [ 0.        ,  0.66666667,  0.        , -0.33333333, -0.33333333,\n",
       "         0.33333333, -0.33333333, -0.33333333],\n",
       "       [-0.33333333, -0.33333333,  0.        ,  0.        ,  0.66666667,\n",
       "         0.33333333, -0.33333333, -0.33333333],\n",
       "       [ 0.        ,  0.        ,  0.        , -0.70710678,  0.        ,\n",
       "         0.        ,  0.        , -0.70710678],\n",
       "       [ 0.2773501 ,  0.2773501 ,  0.        , -0.5547002 ,  0.2773501 ,\n",
       "         0.2773501 ,  0.2773501 ,  0.5547002 ],\n",
       "       [-0.4472136 ,  0.        ,  0.        ,  0.        ,  0.4472136 ,\n",
       "         0.4472136 , -0.4472136 ,  0.4472136 ]])"
      ]
     },
     "execution_count": 9,
     "metadata": {},
     "output_type": "execute_result"
    }
   ],
   "source": [
    "hash_vector.toarray()"
   ]
  },
  {
   "cell_type": "code",
   "execution_count": null,
   "metadata": {
    "collapsed": true
   },
   "outputs": [],
   "source": []
  },
  {
   "cell_type": "code",
   "execution_count": null,
   "metadata": {
    "collapsed": true
   },
   "outputs": [],
   "source": []
  }
 ],
 "metadata": {
  "kernelspec": {
   "display_name": "Python 3",
   "language": "python",
   "name": "python3"
  },
  "language_info": {
   "codemirror_mode": {
    "name": "ipython",
    "version": 3
   },
   "file_extension": ".py",
   "mimetype": "text/x-python",
   "name": "python",
   "nbconvert_exporter": "python",
   "pygments_lexer": "ipython3",
   "version": "3.6.4"
  }
 },
 "nbformat": 4,
 "nbformat_minor": 2
}

{
 "cells": [
  {
   "cell_type": "code",
   "execution_count": 1,
   "metadata": {},
   "outputs": [
    {
     "name": "stdout",
     "output_type": "stream",
     "text": [
      "Collecting scikit-learn\n",
      "\u001b[?25l  Downloading https://files.pythonhosted.org/packages/bd/1a/5dc99dfa7e7bf2e1f22a07f440b61299148a42d13dee1d5153360313ed67/scikit_learn-0.20.3-cp37-cp37m-macosx_10_6_intel.macosx_10_9_intel.macosx_10_9_x86_64.macosx_10_10_intel.macosx_10_10_x86_64.whl (8.0MB)\n",
      "\u001b[K    100% |████████████████████████████████| 8.0MB 1.5MB/s ta 0:00:011\n",
      "\u001b[?25hRequirement already satisfied, skipping upgrade: numpy>=1.8.2 in /anaconda3/lib/python3.7/site-packages (from scikit-learn) (1.16.1)\n",
      "Requirement already satisfied, skipping upgrade: scipy>=0.13.3 in /anaconda3/lib/python3.7/site-packages (from scikit-learn) (1.2.1)\n",
      "Installing collected packages: scikit-learn\n",
      "  Found existing installation: scikit-learn 0.20.2\n",
      "    Uninstalling scikit-learn-0.20.2:\n",
      "      Successfully uninstalled scikit-learn-0.20.2\n",
      "Successfully installed scikit-learn-0.20.3\n"
     ]
    }
   ],
   "source": [
    "!pip install -U scikit-learn"
   ]
  },
  {
   "cell_type": "code",
   "execution_count": 23,
   "metadata": {},
   "outputs": [],
   "source": [
    "import sklearn\n",
    "\n",
    "import pandas as pd\n",
    "import numpy as np\n",
    "import matplotlib.pyplot as plt\n",
    "import seaborn as sns"
   ]
  },
  {
   "cell_type": "code",
   "execution_count": 24,
   "metadata": {},
   "outputs": [
    {
     "name": "stdout",
     "output_type": "stream",
     "text": [
      "0.20.3\n"
     ]
    }
   ],
   "source": [
    "print(sklearn.__version__)"
   ]
  },
  {
   "cell_type": "code",
   "execution_count": 25,
   "metadata": {},
   "outputs": [
    {
     "name": "stdout",
     "output_type": "stream",
     "text": [
      "1.16.1\n"
     ]
    }
   ],
   "source": [
    "print(np.__version__)"
   ]
  },
  {
   "cell_type": "code",
   "execution_count": 26,
   "metadata": {},
   "outputs": [
    {
     "name": "stdout",
     "output_type": "stream",
     "text": [
      "0.23.4\n"
     ]
    }
   ],
   "source": [
    "print(pd.__version__)"
   ]
  },
  {
   "cell_type": "code",
   "execution_count": 27,
   "metadata": {},
   "outputs": [],
   "source": [
    "diet_data = pd.read_csv('datasets/diet_data.csv')"
   ]
  },
  {
   "cell_type": "code",
   "execution_count": 165,
   "metadata": {},
   "outputs": [],
   "source": [
    "diet_data = diet_data.sample(frac=1).reset_index(drop=True)"
   ]
  },
  {
   "cell_type": "markdown",
   "metadata": {},
   "source": [
    "### Diet, exercise and weight changes for a single individual\n",
    "\n",
    "https://www.kaggle.com/chrisbow/2018-calorie-exercise-and-weight-changes"
   ]
  },
  {
   "cell_type": "code",
   "execution_count": 166,
   "metadata": {},
   "outputs": [
    {
     "data": {
      "text/html": [
       "<div>\n",
       "<style scoped>\n",
       "    .dataframe tbody tr th:only-of-type {\n",
       "        vertical-align: middle;\n",
       "    }\n",
       "\n",
       "    .dataframe tbody tr th {\n",
       "        vertical-align: top;\n",
       "    }\n",
       "\n",
       "    .dataframe thead th {\n",
       "        text-align: right;\n",
       "    }\n",
       "</style>\n",
       "<table border=\"1\" class=\"dataframe\">\n",
       "  <thead>\n",
       "    <tr style=\"text-align: right;\">\n",
       "      <th></th>\n",
       "      <th>Date</th>\n",
       "      <th>Stone</th>\n",
       "      <th>Pounds</th>\n",
       "      <th>Ounces</th>\n",
       "      <th>weight_oz</th>\n",
       "      <th>calories</th>\n",
       "      <th>cals_per_oz</th>\n",
       "      <th>five_donuts</th>\n",
       "      <th>walk</th>\n",
       "      <th>run</th>\n",
       "      <th>wine</th>\n",
       "      <th>prot</th>\n",
       "      <th>weight</th>\n",
       "      <th>change</th>\n",
       "    </tr>\n",
       "  </thead>\n",
       "  <tbody>\n",
       "    <tr>\n",
       "      <th>0</th>\n",
       "      <td>9/21/2018</td>\n",
       "      <td>12.0</td>\n",
       "      <td>0.0</td>\n",
       "      <td>4.0</td>\n",
       "      <td>2692.0</td>\n",
       "      <td>4400.0</td>\n",
       "      <td>1.63</td>\n",
       "      <td>0.0</td>\n",
       "      <td>1.0</td>\n",
       "      <td>0.0</td>\n",
       "      <td>1.0</td>\n",
       "      <td>1.0</td>\n",
       "      <td>1.0</td>\n",
       "      <td>2.0</td>\n",
       "    </tr>\n",
       "    <tr>\n",
       "      <th>1</th>\n",
       "      <td>8/2/2018</td>\n",
       "      <td>12.0</td>\n",
       "      <td>1.0</td>\n",
       "      <td>0.0</td>\n",
       "      <td>2704.0</td>\n",
       "      <td>1850.0</td>\n",
       "      <td>0.68</td>\n",
       "      <td>1.0</td>\n",
       "      <td>1.0</td>\n",
       "      <td>0.0</td>\n",
       "      <td>1.0</td>\n",
       "      <td>0.0</td>\n",
       "      <td>0.0</td>\n",
       "      <td>-40.0</td>\n",
       "    </tr>\n",
       "    <tr>\n",
       "      <th>2</th>\n",
       "      <td>8/20/2018</td>\n",
       "      <td>12.0</td>\n",
       "      <td>1.0</td>\n",
       "      <td>6.0</td>\n",
       "      <td>2710.0</td>\n",
       "      <td>2000.0</td>\n",
       "      <td>0.74</td>\n",
       "      <td>0.0</td>\n",
       "      <td>1.0</td>\n",
       "      <td>0.0</td>\n",
       "      <td>0.0</td>\n",
       "      <td>0.0</td>\n",
       "      <td>0.0</td>\n",
       "      <td>-18.0</td>\n",
       "    </tr>\n",
       "    <tr>\n",
       "      <th>3</th>\n",
       "      <td>8/22/2018</td>\n",
       "      <td>11.0</td>\n",
       "      <td>13.0</td>\n",
       "      <td>0.0</td>\n",
       "      <td>2672.0</td>\n",
       "      <td>2300.0</td>\n",
       "      <td>0.86</td>\n",
       "      <td>1.0</td>\n",
       "      <td>1.0</td>\n",
       "      <td>1.0</td>\n",
       "      <td>0.0</td>\n",
       "      <td>0.0</td>\n",
       "      <td>0.0</td>\n",
       "      <td>-26.0</td>\n",
       "    </tr>\n",
       "    <tr>\n",
       "      <th>4</th>\n",
       "      <td>12/8/2018</td>\n",
       "      <td>11.0</td>\n",
       "      <td>12.0</td>\n",
       "      <td>0.0</td>\n",
       "      <td>2656.0</td>\n",
       "      <td>9150.0</td>\n",
       "      <td>3.45</td>\n",
       "      <td>0.0</td>\n",
       "      <td>0.0</td>\n",
       "      <td>0.0</td>\n",
       "      <td>0.0</td>\n",
       "      <td>0.0</td>\n",
       "      <td>1.0</td>\n",
       "      <td>102.0</td>\n",
       "    </tr>\n",
       "    <tr>\n",
       "      <th>5</th>\n",
       "      <td>8/24/2018</td>\n",
       "      <td>11.0</td>\n",
       "      <td>11.0</td>\n",
       "      <td>8.0</td>\n",
       "      <td>2648.0</td>\n",
       "      <td>2000.0</td>\n",
       "      <td>0.76</td>\n",
       "      <td>1.0</td>\n",
       "      <td>0.0</td>\n",
       "      <td>0.0</td>\n",
       "      <td>0.0</td>\n",
       "      <td>0.0</td>\n",
       "      <td>0.0</td>\n",
       "      <td>-6.0</td>\n",
       "    </tr>\n",
       "    <tr>\n",
       "      <th>6</th>\n",
       "      <td>10/8/2018</td>\n",
       "      <td>12.0</td>\n",
       "      <td>0.0</td>\n",
       "      <td>4.0</td>\n",
       "      <td>2692.0</td>\n",
       "      <td>2200.0</td>\n",
       "      <td>0.82</td>\n",
       "      <td>1.0</td>\n",
       "      <td>1.0</td>\n",
       "      <td>0.0</td>\n",
       "      <td>0.0</td>\n",
       "      <td>0.0</td>\n",
       "      <td>0.0</td>\n",
       "      <td>-4.0</td>\n",
       "    </tr>\n",
       "    <tr>\n",
       "      <th>7</th>\n",
       "      <td>8/7/2018</td>\n",
       "      <td>12.0</td>\n",
       "      <td>0.0</td>\n",
       "      <td>8.0</td>\n",
       "      <td>2696.0</td>\n",
       "      <td>2200.0</td>\n",
       "      <td>0.82</td>\n",
       "      <td>1.0</td>\n",
       "      <td>1.0</td>\n",
       "      <td>0.0</td>\n",
       "      <td>0.0</td>\n",
       "      <td>0.0</td>\n",
       "      <td>0.0</td>\n",
       "      <td>-8.0</td>\n",
       "    </tr>\n",
       "    <tr>\n",
       "      <th>8</th>\n",
       "      <td>9/26/2018</td>\n",
       "      <td>11.0</td>\n",
       "      <td>13.0</td>\n",
       "      <td>2.0</td>\n",
       "      <td>2674.0</td>\n",
       "      <td>2300.0</td>\n",
       "      <td>0.86</td>\n",
       "      <td>0.0</td>\n",
       "      <td>1.0</td>\n",
       "      <td>0.0</td>\n",
       "      <td>0.0</td>\n",
       "      <td>1.0</td>\n",
       "      <td>1.0</td>\n",
       "      <td>6.0</td>\n",
       "    </tr>\n",
       "    <tr>\n",
       "      <th>9</th>\n",
       "      <td>11/21/2018</td>\n",
       "      <td>12.0</td>\n",
       "      <td>2.0</td>\n",
       "      <td>2.0</td>\n",
       "      <td>2722.0</td>\n",
       "      <td>5350.0</td>\n",
       "      <td>1.97</td>\n",
       "      <td>1.0</td>\n",
       "      <td>0.0</td>\n",
       "      <td>0.0</td>\n",
       "      <td>1.0</td>\n",
       "      <td>0.0</td>\n",
       "      <td>1.0</td>\n",
       "      <td>14.0</td>\n",
       "    </tr>\n",
       "  </tbody>\n",
       "</table>\n",
       "</div>"
      ],
      "text/plain": [
       "         Date  Stone  Pounds  Ounces  weight_oz  calories cals_per_oz  \\\n",
       "0   9/21/2018   12.0     0.0     4.0     2692.0    4400.0        1.63   \n",
       "1    8/2/2018   12.0     1.0     0.0     2704.0    1850.0        0.68   \n",
       "2   8/20/2018   12.0     1.0     6.0     2710.0    2000.0        0.74   \n",
       "3   8/22/2018   11.0    13.0     0.0     2672.0    2300.0        0.86   \n",
       "4   12/8/2018   11.0    12.0     0.0     2656.0    9150.0        3.45   \n",
       "5   8/24/2018   11.0    11.0     8.0     2648.0    2000.0        0.76   \n",
       "6   10/8/2018   12.0     0.0     4.0     2692.0    2200.0        0.82   \n",
       "7    8/7/2018   12.0     0.0     8.0     2696.0    2200.0        0.82   \n",
       "8   9/26/2018   11.0    13.0     2.0     2674.0    2300.0        0.86   \n",
       "9  11/21/2018   12.0     2.0     2.0     2722.0    5350.0        1.97   \n",
       "\n",
       "   five_donuts  walk  run  wine  prot  weight  change  \n",
       "0          0.0   1.0  0.0   1.0   1.0     1.0     2.0  \n",
       "1          1.0   1.0  0.0   1.0   0.0     0.0   -40.0  \n",
       "2          0.0   1.0  0.0   0.0   0.0     0.0   -18.0  \n",
       "3          1.0   1.0  1.0   0.0   0.0     0.0   -26.0  \n",
       "4          0.0   0.0  0.0   0.0   0.0     1.0   102.0  \n",
       "5          1.0   0.0  0.0   0.0   0.0     0.0    -6.0  \n",
       "6          1.0   1.0  0.0   0.0   0.0     0.0    -4.0  \n",
       "7          1.0   1.0  0.0   0.0   0.0     0.0    -8.0  \n",
       "8          0.0   1.0  0.0   0.0   1.0     1.0     6.0  \n",
       "9          1.0   0.0  0.0   1.0   0.0     1.0    14.0  "
      ]
     },
     "execution_count": 166,
     "metadata": {},
     "output_type": "execute_result"
    }
   ],
   "source": [
    "diet_data.head(10)"
   ]
  },
  {
   "cell_type": "code",
   "execution_count": 29,
   "metadata": {},
   "outputs": [
    {
     "data": {
      "text/plain": [
       "(151, 14)"
      ]
     },
     "execution_count": 29,
     "metadata": {},
     "output_type": "execute_result"
    }
   ],
   "source": [
    "diet_data.shape"
   ]
  },
  {
   "cell_type": "code",
   "execution_count": 30,
   "metadata": {},
   "outputs": [
    {
     "data": {
      "text/plain": [
       "Date           10\n",
       "Stone           2\n",
       "Pounds          2\n",
       "Ounces          2\n",
       "weight_oz       9\n",
       "calories        0\n",
       "cals_per_oz     7\n",
       "five_donuts     0\n",
       "walk            0\n",
       "run             0\n",
       "wine            0\n",
       "prot            0\n",
       "weight          0\n",
       "change          7\n",
       "dtype: int64"
      ]
     },
     "execution_count": 30,
     "metadata": {},
     "output_type": "execute_result"
    }
   ],
   "source": [
    "diet_data[diet_data.isnull().any(axis=1)].count()"
   ]
  },
  {
   "cell_type": "code",
   "execution_count": 31,
   "metadata": {},
   "outputs": [],
   "source": [
    "diet_data = diet_data.dropna()"
   ]
  },
  {
   "cell_type": "code",
   "execution_count": 32,
   "metadata": {},
   "outputs": [
    {
     "data": {
      "text/plain": [
       "Date           0\n",
       "Stone          0\n",
       "Pounds         0\n",
       "Ounces         0\n",
       "weight_oz      0\n",
       "calories       0\n",
       "cals_per_oz    0\n",
       "five_donuts    0\n",
       "walk           0\n",
       "run            0\n",
       "wine           0\n",
       "prot           0\n",
       "weight         0\n",
       "change         0\n",
       "dtype: int64"
      ]
     },
     "execution_count": 32,
     "metadata": {},
     "output_type": "execute_result"
    }
   ],
   "source": [
    "diet_data[diet_data.isnull().any(axis=1)].count()"
   ]
  },
  {
   "cell_type": "code",
   "execution_count": 33,
   "metadata": {},
   "outputs": [
    {
     "data": {
      "text/plain": [
       "(140, 14)"
      ]
     },
     "execution_count": 33,
     "metadata": {},
     "output_type": "execute_result"
    }
   ],
   "source": [
    "diet_data.shape"
   ]
  },
  {
   "cell_type": "code",
   "execution_count": 34,
   "metadata": {},
   "outputs": [
    {
     "data": {
      "text/html": [
       "<div>\n",
       "<style scoped>\n",
       "    .dataframe tbody tr th:only-of-type {\n",
       "        vertical-align: middle;\n",
       "    }\n",
       "\n",
       "    .dataframe tbody tr th {\n",
       "        vertical-align: top;\n",
       "    }\n",
       "\n",
       "    .dataframe thead th {\n",
       "        text-align: right;\n",
       "    }\n",
       "</style>\n",
       "<table border=\"1\" class=\"dataframe\">\n",
       "  <thead>\n",
       "    <tr style=\"text-align: right;\">\n",
       "      <th></th>\n",
       "      <th>Stone</th>\n",
       "      <th>Pounds</th>\n",
       "      <th>Ounces</th>\n",
       "      <th>weight_oz</th>\n",
       "      <th>calories</th>\n",
       "      <th>five_donuts</th>\n",
       "      <th>walk</th>\n",
       "      <th>run</th>\n",
       "      <th>wine</th>\n",
       "      <th>prot</th>\n",
       "      <th>weight</th>\n",
       "      <th>change</th>\n",
       "    </tr>\n",
       "  </thead>\n",
       "  <tbody>\n",
       "    <tr>\n",
       "      <th>count</th>\n",
       "      <td>140.000000</td>\n",
       "      <td>140.000000</td>\n",
       "      <td>140.000000</td>\n",
       "      <td>140.000000</td>\n",
       "      <td>140.000000</td>\n",
       "      <td>140.000000</td>\n",
       "      <td>140.000000</td>\n",
       "      <td>140.000000</td>\n",
       "      <td>140.000000</td>\n",
       "      <td>140.000000</td>\n",
       "      <td>140.000000</td>\n",
       "      <td>140.000000</td>\n",
       "    </tr>\n",
       "    <tr>\n",
       "      <th>mean</th>\n",
       "      <td>11.542857</td>\n",
       "      <td>6.157143</td>\n",
       "      <td>3.585714</td>\n",
       "      <td>2687.700000</td>\n",
       "      <td>3180.714286</td>\n",
       "      <td>0.371429</td>\n",
       "      <td>0.678571</td>\n",
       "      <td>0.250000</td>\n",
       "      <td>0.307143</td>\n",
       "      <td>0.178571</td>\n",
       "      <td>0.442857</td>\n",
       "      <td>-1.485714</td>\n",
       "    </tr>\n",
       "    <tr>\n",
       "      <th>std</th>\n",
       "      <td>0.499949</td>\n",
       "      <td>5.664824</td>\n",
       "      <td>2.913589</td>\n",
       "      <td>28.663189</td>\n",
       "      <td>1478.753433</td>\n",
       "      <td>0.484922</td>\n",
       "      <td>0.468702</td>\n",
       "      <td>0.434568</td>\n",
       "      <td>0.462966</td>\n",
       "      <td>0.384368</td>\n",
       "      <td>0.498508</td>\n",
       "      <td>25.098793</td>\n",
       "    </tr>\n",
       "    <tr>\n",
       "      <th>min</th>\n",
       "      <td>11.000000</td>\n",
       "      <td>0.000000</td>\n",
       "      <td>0.000000</td>\n",
       "      <td>2628.000000</td>\n",
       "      <td>1400.000000</td>\n",
       "      <td>0.000000</td>\n",
       "      <td>0.000000</td>\n",
       "      <td>0.000000</td>\n",
       "      <td>0.000000</td>\n",
       "      <td>0.000000</td>\n",
       "      <td>0.000000</td>\n",
       "      <td>-58.000000</td>\n",
       "    </tr>\n",
       "    <tr>\n",
       "      <th>25%</th>\n",
       "      <td>11.000000</td>\n",
       "      <td>1.000000</td>\n",
       "      <td>0.000000</td>\n",
       "      <td>2670.000000</td>\n",
       "      <td>2187.500000</td>\n",
       "      <td>0.000000</td>\n",
       "      <td>0.000000</td>\n",
       "      <td>0.000000</td>\n",
       "      <td>0.000000</td>\n",
       "      <td>0.000000</td>\n",
       "      <td>0.000000</td>\n",
       "      <td>-18.000000</td>\n",
       "    </tr>\n",
       "    <tr>\n",
       "      <th>50%</th>\n",
       "      <td>12.000000</td>\n",
       "      <td>3.000000</td>\n",
       "      <td>4.000000</td>\n",
       "      <td>2689.000000</td>\n",
       "      <td>2575.000000</td>\n",
       "      <td>0.000000</td>\n",
       "      <td>1.000000</td>\n",
       "      <td>0.000000</td>\n",
       "      <td>0.000000</td>\n",
       "      <td>0.000000</td>\n",
       "      <td>0.000000</td>\n",
       "      <td>-3.000000</td>\n",
       "    </tr>\n",
       "    <tr>\n",
       "      <th>75%</th>\n",
       "      <td>12.000000</td>\n",
       "      <td>12.000000</td>\n",
       "      <td>6.000000</td>\n",
       "      <td>2704.000000</td>\n",
       "      <td>3850.000000</td>\n",
       "      <td>1.000000</td>\n",
       "      <td>1.000000</td>\n",
       "      <td>0.250000</td>\n",
       "      <td>1.000000</td>\n",
       "      <td>0.000000</td>\n",
       "      <td>1.000000</td>\n",
       "      <td>16.000000</td>\n",
       "    </tr>\n",
       "    <tr>\n",
       "      <th>max</th>\n",
       "      <td>12.000000</td>\n",
       "      <td>13.000000</td>\n",
       "      <td>8.000000</td>\n",
       "      <td>2768.000000</td>\n",
       "      <td>9150.000000</td>\n",
       "      <td>1.000000</td>\n",
       "      <td>1.000000</td>\n",
       "      <td>1.000000</td>\n",
       "      <td>1.000000</td>\n",
       "      <td>1.000000</td>\n",
       "      <td>1.000000</td>\n",
       "      <td>102.000000</td>\n",
       "    </tr>\n",
       "  </tbody>\n",
       "</table>\n",
       "</div>"
      ],
      "text/plain": [
       "            Stone      Pounds      Ounces    weight_oz     calories  \\\n",
       "count  140.000000  140.000000  140.000000   140.000000   140.000000   \n",
       "mean    11.542857    6.157143    3.585714  2687.700000  3180.714286   \n",
       "std      0.499949    5.664824    2.913589    28.663189  1478.753433   \n",
       "min     11.000000    0.000000    0.000000  2628.000000  1400.000000   \n",
       "25%     11.000000    1.000000    0.000000  2670.000000  2187.500000   \n",
       "50%     12.000000    3.000000    4.000000  2689.000000  2575.000000   \n",
       "75%     12.000000   12.000000    6.000000  2704.000000  3850.000000   \n",
       "max     12.000000   13.000000    8.000000  2768.000000  9150.000000   \n",
       "\n",
       "       five_donuts        walk         run        wine        prot  \\\n",
       "count   140.000000  140.000000  140.000000  140.000000  140.000000   \n",
       "mean      0.371429    0.678571    0.250000    0.307143    0.178571   \n",
       "std       0.484922    0.468702    0.434568    0.462966    0.384368   \n",
       "min       0.000000    0.000000    0.000000    0.000000    0.000000   \n",
       "25%       0.000000    0.000000    0.000000    0.000000    0.000000   \n",
       "50%       0.000000    1.000000    0.000000    0.000000    0.000000   \n",
       "75%       1.000000    1.000000    0.250000    1.000000    0.000000   \n",
       "max       1.000000    1.000000    1.000000    1.000000    1.000000   \n",
       "\n",
       "           weight      change  \n",
       "count  140.000000  140.000000  \n",
       "mean     0.442857   -1.485714  \n",
       "std      0.498508   25.098793  \n",
       "min      0.000000  -58.000000  \n",
       "25%      0.000000  -18.000000  \n",
       "50%      0.000000   -3.000000  \n",
       "75%      1.000000   16.000000  \n",
       "max      1.000000  102.000000  "
      ]
     },
     "execution_count": 34,
     "metadata": {},
     "output_type": "execute_result"
    }
   ],
   "source": [
    "diet_data.describe()"
   ]
  },
  {
   "cell_type": "code",
   "execution_count": 35,
   "metadata": {},
   "outputs": [
    {
     "data": {
      "text/plain": [
       "Text(0, 0.5, 'change in weight')"
      ]
     },
     "execution_count": 35,
     "metadata": {},
     "output_type": "execute_result"
    },
    {
     "data": {
      "image/png": "[encoded data removed]",
      "text/plain": [
       "<Figure size 864x576 with 1 Axes>"
      ]
     },
     "metadata": {
      "needs_background": "light"
     },
     "output_type": "display_data"
    }
   ],
   "source": [
    "fig, ax = plt.subplots(figsize=(12, 8))\n",
    "\n",
    "plt.scatter(diet_data['calories'], diet_data['change'])\n",
    "\n",
    "plt.xlabel('calories')\n",
    "plt.ylabel('change in weight')"
   ]
  },
  {
   "cell_type": "code",
   "execution_count": 36,
   "metadata": {},
   "outputs": [
    {
     "data": {
      "text/plain": [
       "Text(0, 0.5, 'change in weight')"
      ]
     },
     "execution_count": 36,
     "metadata": {},
     "output_type": "execute_result"
    },
    {
     "data": {
      "image/png": "[encoded data removed]",
      "text/plain": [
       "<Figure size 864x576 with 1 Axes>"
      ]
     },
     "metadata": {
      "needs_background": "light"
     },
     "output_type": "display_data"
    }
   ],
   "source": [
    "fig, ax = plt.subplots(figsize=(12, 8))\n",
    "\n",
    "plt.scatter(diet_data['walk'], diet_data['change'])\n",
    "\n",
    "plt.xlabel('walk')\n",
    "plt.ylabel('change in weight')"
   ]
  },
  {
   "cell_type": "code",
   "execution_count": 37,
   "metadata": {},
   "outputs": [
    {
     "data": {
      "text/plain": [
       "Text(0, 0.5, 'change in weight')"
      ]
     },
     "execution_count": 37,
     "metadata": {},
     "output_type": "execute_result"
    },
    {
     "data": {
      "image/png": "[encoded data removed]",
      "text/plain": [
       "<Figure size 864x576 with 1 Axes>"
      ]
     },
     "metadata": {
      "needs_background": "light"
     },
     "output_type": "display_data"
    }
   ],
   "source": [
    "fig, ax = plt.subplots(figsize=(12, 8))\n",
    "\n",
    "plt.scatter(diet_data['wine'], diet_data['change'])\n",
    "\n",
    "plt.xlabel('wine')\n",
    "plt.ylabel('change in weight')"
   ]
  },
  {
   "cell_type": "code",
   "execution_count": 38,
   "metadata": {},
   "outputs": [
    {
     "data": {
      "text/html": [
       "<div>\n",
       "<style scoped>\n",
       "    .dataframe tbody tr th:only-of-type {\n",
       "        vertical-align: middle;\n",
       "    }\n",
       "\n",
       "    .dataframe tbody tr th {\n",
       "        vertical-align: top;\n",
       "    }\n",
       "\n",
       "    .dataframe thead th {\n",
       "        text-align: right;\n",
       "    }\n",
       "</style>\n",
       "<table border=\"1\" class=\"dataframe\">\n",
       "  <thead>\n",
       "    <tr style=\"text-align: right;\">\n",
       "      <th></th>\n",
       "      <th>Stone</th>\n",
       "      <th>Pounds</th>\n",
       "      <th>Ounces</th>\n",
       "      <th>weight_oz</th>\n",
       "      <th>calories</th>\n",
       "      <th>five_donuts</th>\n",
       "      <th>walk</th>\n",
       "      <th>run</th>\n",
       "      <th>wine</th>\n",
       "      <th>prot</th>\n",
       "      <th>weight</th>\n",
       "      <th>change</th>\n",
       "    </tr>\n",
       "  </thead>\n",
       "  <tbody>\n",
       "    <tr>\n",
       "      <th>Stone</th>\n",
       "      <td>1.000000</td>\n",
       "      <td>-0.980384</td>\n",
       "      <td>-0.190219</td>\n",
       "      <td>0.787595</td>\n",
       "      <td>0.002099</td>\n",
       "      <td>0.052567</td>\n",
       "      <td>-0.109649</td>\n",
       "      <td>-0.033113</td>\n",
       "      <td>-0.072821</td>\n",
       "      <td>-0.133707</td>\n",
       "      <td>0.009897</td>\n",
       "      <td>-0.286142</td>\n",
       "    </tr>\n",
       "    <tr>\n",
       "      <th>Pounds</th>\n",
       "      <td>-0.980384</td>\n",
       "      <td>1.000000</td>\n",
       "      <td>0.157404</td>\n",
       "      <td>-0.652264</td>\n",
       "      <td>-0.030854</td>\n",
       "      <td>-0.029257</td>\n",
       "      <td>0.122125</td>\n",
       "      <td>0.054065</td>\n",
       "      <td>0.030841</td>\n",
       "      <td>0.135703</td>\n",
       "      <td>0.010845</td>\n",
       "      <td>0.214880</td>\n",
       "    </tr>\n",
       "    <tr>\n",
       "      <th>Ounces</th>\n",
       "      <td>-0.190219</td>\n",
       "      <td>0.157404</td>\n",
       "      <td>1.000000</td>\n",
       "      <td>-0.143811</td>\n",
       "      <td>-0.012220</td>\n",
       "      <td>0.007856</td>\n",
       "      <td>0.049295</td>\n",
       "      <td>-0.031251</td>\n",
       "      <td>0.041677</td>\n",
       "      <td>0.040839</td>\n",
       "      <td>0.008350</td>\n",
       "      <td>0.123744</td>\n",
       "    </tr>\n",
       "    <tr>\n",
       "      <th>weight_oz</th>\n",
       "      <td>0.787595</td>\n",
       "      <td>-0.652264</td>\n",
       "      <td>-0.143811</td>\n",
       "      <td>1.000000</td>\n",
       "      <td>-0.090605</td>\n",
       "      <td>0.113664</td>\n",
       "      <td>-0.037218</td>\n",
       "      <td>0.038408</td>\n",
       "      <td>-0.182756</td>\n",
       "      <td>-0.089135</td>\n",
       "      <td>0.073811</td>\n",
       "      <td>-0.425912</td>\n",
       "    </tr>\n",
       "    <tr>\n",
       "      <th>calories</th>\n",
       "      <td>0.002099</td>\n",
       "      <td>-0.030854</td>\n",
       "      <td>-0.012220</td>\n",
       "      <td>-0.090605</td>\n",
       "      <td>1.000000</td>\n",
       "      <td>-0.239251</td>\n",
       "      <td>-0.434065</td>\n",
       "      <td>0.000840</td>\n",
       "      <td>0.270376</td>\n",
       "      <td>0.073819</td>\n",
       "      <td>0.123413</td>\n",
       "      <td>0.773989</td>\n",
       "    </tr>\n",
       "    <tr>\n",
       "      <th>five_donuts</th>\n",
       "      <td>0.052567</td>\n",
       "      <td>-0.029257</td>\n",
       "      <td>0.007856</td>\n",
       "      <td>0.113664</td>\n",
       "      <td>-0.239251</td>\n",
       "      <td>1.000000</td>\n",
       "      <td>0.275835</td>\n",
       "      <td>-0.136558</td>\n",
       "      <td>-0.159311</td>\n",
       "      <td>-0.281215</td>\n",
       "      <td>-0.149653</td>\n",
       "      <td>-0.214417</td>\n",
       "    </tr>\n",
       "    <tr>\n",
       "      <th>walk</th>\n",
       "      <td>-0.109649</td>\n",
       "      <td>0.122125</td>\n",
       "      <td>0.049295</td>\n",
       "      <td>-0.037218</td>\n",
       "      <td>-0.434065</td>\n",
       "      <td>0.275835</td>\n",
       "      <td>1.000000</td>\n",
       "      <td>-0.132453</td>\n",
       "      <td>-0.072229</td>\n",
       "      <td>0.201095</td>\n",
       "      <td>0.059382</td>\n",
       "      <td>-0.384581</td>\n",
       "    </tr>\n",
       "    <tr>\n",
       "      <th>run</th>\n",
       "      <td>-0.033113</td>\n",
       "      <td>0.054065</td>\n",
       "      <td>-0.031251</td>\n",
       "      <td>0.038408</td>\n",
       "      <td>0.000840</td>\n",
       "      <td>-0.136558</td>\n",
       "      <td>-0.132453</td>\n",
       "      <td>1.000000</td>\n",
       "      <td>-0.062577</td>\n",
       "      <td>-0.053838</td>\n",
       "      <td>0.249068</td>\n",
       "      <td>-0.150387</td>\n",
       "    </tr>\n",
       "    <tr>\n",
       "      <th>wine</th>\n",
       "      <td>-0.072821</td>\n",
       "      <td>0.030841</td>\n",
       "      <td>0.041677</td>\n",
       "      <td>-0.182756</td>\n",
       "      <td>0.270376</td>\n",
       "      <td>-0.159311</td>\n",
       "      <td>-0.072229</td>\n",
       "      <td>-0.062577</td>\n",
       "      <td>1.000000</td>\n",
       "      <td>-0.027434</td>\n",
       "      <td>-0.063680</td>\n",
       "      <td>0.215387</td>\n",
       "    </tr>\n",
       "    <tr>\n",
       "      <th>prot</th>\n",
       "      <td>-0.133707</td>\n",
       "      <td>0.135703</td>\n",
       "      <td>0.040839</td>\n",
       "      <td>-0.089135</td>\n",
       "      <td>0.073819</td>\n",
       "      <td>-0.281215</td>\n",
       "      <td>0.201095</td>\n",
       "      <td>-0.053838</td>\n",
       "      <td>-0.027434</td>\n",
       "      <td>1.000000</td>\n",
       "      <td>0.522965</td>\n",
       "      <td>0.035156</td>\n",
       "    </tr>\n",
       "    <tr>\n",
       "      <th>weight</th>\n",
       "      <td>0.009897</td>\n",
       "      <td>0.010845</td>\n",
       "      <td>0.008350</td>\n",
       "      <td>0.073811</td>\n",
       "      <td>0.123413</td>\n",
       "      <td>-0.149653</td>\n",
       "      <td>0.059382</td>\n",
       "      <td>0.249068</td>\n",
       "      <td>-0.063680</td>\n",
       "      <td>0.522965</td>\n",
       "      <td>1.000000</td>\n",
       "      <td>0.038015</td>\n",
       "    </tr>\n",
       "    <tr>\n",
       "      <th>change</th>\n",
       "      <td>-0.286142</td>\n",
       "      <td>0.214880</td>\n",
       "      <td>0.123744</td>\n",
       "      <td>-0.425912</td>\n",
       "      <td>0.773989</td>\n",
       "      <td>-0.214417</td>\n",
       "      <td>-0.384581</td>\n",
       "      <td>-0.150387</td>\n",
       "      <td>0.215387</td>\n",
       "      <td>0.035156</td>\n",
       "      <td>0.038015</td>\n",
       "      <td>1.000000</td>\n",
       "    </tr>\n",
       "  </tbody>\n",
       "</table>\n",
       "</div>"
      ],
      "text/plain": [
       "                Stone    Pounds    Ounces  weight_oz  calories  five_donuts  \\\n",
       "Stone        1.000000 -0.980384 -0.190219   0.787595  0.002099     0.052567   \n",
       "Pounds      -0.980384  1.000000  0.157404  -0.652264 -0.030854    -0.029257   \n",
       "Ounces      -0.190219  0.157404  1.000000  -0.143811 -0.012220     0.007856   \n",
       "weight_oz    0.787595 -0.652264 -0.143811   1.000000 -0.090605     0.113664   \n",
       "calories     0.002099 -0.030854 -0.012220  -0.090605  1.000000    -0.239251   \n",
       "five_donuts  0.052567 -0.029257  0.007856   0.113664 -0.239251     1.000000   \n",
       "walk        -0.109649  0.122125  0.049295  -0.037218 -0.434065     0.275835   \n",
       "run         -0.033113  0.054065 -0.031251   0.038408  0.000840    -0.136558   \n",
       "wine        -0.072821  0.030841  0.041677  -0.182756  0.270376    -0.159311   \n",
       "prot        -0.133707  0.135703  0.040839  -0.089135  0.073819    -0.281215   \n",
       "weight       0.009897  0.010845  0.008350   0.073811  0.123413    -0.149653   \n",
       "change      -0.286142  0.214880  0.123744  -0.425912  0.773989    -0.214417   \n",
       "\n",
       "                 walk       run      wine      prot    weight    change  \n",
       "Stone       -0.109649 -0.033113 -0.072821 -0.133707  0.009897 -0.286142  \n",
       "Pounds       0.122125  0.054065  0.030841  0.135703  0.010845  0.214880  \n",
       "Ounces       0.049295 -0.031251  0.041677  0.040839  0.008350  0.123744  \n",
       "weight_oz   -0.037218  0.038408 -0.182756 -0.089135  0.073811 -0.425912  \n",
       "calories    -0.434065  0.000840  0.270376  0.073819  0.123413  0.773989  \n",
       "five_donuts  0.275835 -0.136558 -0.159311 -0.281215 -0.149653 -0.214417  \n",
       "walk         1.000000 -0.132453 -0.072229  0.201095  0.059382 -0.384581  \n",
       "run         -0.132453  1.000000 -0.062577 -0.053838  0.249068 -0.150387  \n",
       "wine        -0.072229 -0.062577  1.000000 -0.027434 -0.063680  0.215387  \n",
       "prot         0.201095 -0.053838 -0.027434  1.000000  0.522965  0.035156  \n",
       "weight       0.059382  0.249068 -0.063680  0.522965  1.000000  0.038015  \n",
       "change      -0.384581 -0.150387  0.215387  0.035156  0.038015  1.000000  "
      ]
     },
     "execution_count": 38,
     "metadata": {},
     "output_type": "execute_result"
    }
   ],
   "source": [
    "diet_data_corr = diet_data.corr()\n",
    "\n",
    "diet_data_corr"
   ]
  },
  {
   "cell_type": "code",
   "execution_count": 39,
   "metadata": {},
   "outputs": [
    {
     "data": {
      "text/plain": [
       "<matplotlib.axes._subplots.AxesSubplot at 0x1191ef5f8>"
      ]
     },
     "execution_count": 39,
     "metadata": {},
     "output_type": "execute_result"
    },
    {
     "data": {
      "image/png": "[encoded data removed]",
      "text/plain": [
       "<Figure size 864x720 with 2 Axes>"
      ]
     },
     "metadata": {
      "needs_background": "light"
     },
     "output_type": "display_data"
    }
   ],
   "source": [
    "fig, ax = plt.subplots(figsize=(12, 10))\n",
    "\n",
    "sns.heatmap(diet_data_corr, annot=True)"
   ]
  },
  {
   "cell_type": "code",
   "execution_count": 40,
   "metadata": {},
   "outputs": [],
   "source": [
    "from sklearn.model_selection import train_test_split\n",
    "\n",
    "X = diet_data.drop(['change', 'Date', 'Stone', 'Pounds', 'Ounces'],axis=1)\n",
    "Y = diet_data['change']\n",
    "\n",
    "x_train, x_test, y_train, y_test = train_test_split(X, Y, test_size=0.2)"
   ]
  },
  {
   "cell_type": "code",
   "execution_count": 41,
   "metadata": {},
   "outputs": [
    {
     "data": {
      "text/html": [
       "<div>\n",
       "<style scoped>\n",
       "    .dataframe tbody tr th:only-of-type {\n",
       "        vertical-align: middle;\n",
       "    }\n",
       "\n",
       "    .dataframe tbody tr th {\n",
       "        vertical-align: top;\n",
       "    }\n",
       "\n",
       "    .dataframe thead th {\n",
       "        text-align: right;\n",
       "    }\n",
       "</style>\n",
       "<table border=\"1\" class=\"dataframe\">\n",
       "  <thead>\n",
       "    <tr style=\"text-align: right;\">\n",
       "      <th></th>\n",
       "      <th>weight_oz</th>\n",
       "      <th>calories</th>\n",
       "      <th>cals_per_oz</th>\n",
       "      <th>five_donuts</th>\n",
       "      <th>walk</th>\n",
       "      <th>run</th>\n",
       "      <th>wine</th>\n",
       "      <th>prot</th>\n",
       "      <th>weight</th>\n",
       "    </tr>\n",
       "  </thead>\n",
       "  <tbody>\n",
       "    <tr>\n",
       "      <th>16</th>\n",
       "      <td>2658.0</td>\n",
       "      <td>2100.0</td>\n",
       "      <td>0.79</td>\n",
       "      <td>1.0</td>\n",
       "      <td>1.0</td>\n",
       "      <td>0.0</td>\n",
       "      <td>0.0</td>\n",
       "      <td>0.0</td>\n",
       "      <td>0.0</td>\n",
       "    </tr>\n",
       "    <tr>\n",
       "      <th>119</th>\n",
       "      <td>2726.0</td>\n",
       "      <td>2000.0</td>\n",
       "      <td>0.73</td>\n",
       "      <td>1.0</td>\n",
       "      <td>1.0</td>\n",
       "      <td>0.0</td>\n",
       "      <td>0.0</td>\n",
       "      <td>0.0</td>\n",
       "      <td>0.0</td>\n",
       "    </tr>\n",
       "    <tr>\n",
       "      <th>34</th>\n",
       "      <td>2710.0</td>\n",
       "      <td>4600.0</td>\n",
       "      <td>1.70</td>\n",
       "      <td>0.0</td>\n",
       "      <td>0.0</td>\n",
       "      <td>0.0</td>\n",
       "      <td>1.0</td>\n",
       "      <td>0.0</td>\n",
       "      <td>0.0</td>\n",
       "    </tr>\n",
       "    <tr>\n",
       "      <th>128</th>\n",
       "      <td>2672.0</td>\n",
       "      <td>2150.0</td>\n",
       "      <td>0.80</td>\n",
       "      <td>1.0</td>\n",
       "      <td>0.0</td>\n",
       "      <td>1.0</td>\n",
       "      <td>0.0</td>\n",
       "      <td>0.0</td>\n",
       "      <td>1.0</td>\n",
       "    </tr>\n",
       "    <tr>\n",
       "      <th>27</th>\n",
       "      <td>2660.0</td>\n",
       "      <td>5400.0</td>\n",
       "      <td>2.03</td>\n",
       "      <td>0.0</td>\n",
       "      <td>1.0</td>\n",
       "      <td>0.0</td>\n",
       "      <td>1.0</td>\n",
       "      <td>0.0</td>\n",
       "      <td>0.0</td>\n",
       "    </tr>\n",
       "  </tbody>\n",
       "</table>\n",
       "</div>"
      ],
      "text/plain": [
       "     weight_oz  calories cals_per_oz  five_donuts  walk  run  wine  prot  \\\n",
       "16      2658.0    2100.0        0.79          1.0   1.0  0.0   0.0   0.0   \n",
       "119     2726.0    2000.0        0.73          1.0   1.0  0.0   0.0   0.0   \n",
       "34      2710.0    4600.0        1.70          0.0   0.0  0.0   1.0   0.0   \n",
       "128     2672.0    2150.0        0.80          1.0   0.0  1.0   0.0   0.0   \n",
       "27      2660.0    5400.0        2.03          0.0   1.0  0.0   1.0   0.0   \n",
       "\n",
       "     weight  \n",
       "16      0.0  \n",
       "119     0.0  \n",
       "34      0.0  \n",
       "128     1.0  \n",
       "27      0.0  "
      ]
     },
     "execution_count": 41,
     "metadata": {},
     "output_type": "execute_result"
    }
   ],
   "source": [
    "x_train.sample(5)"
   ]
  },
  {
   "cell_type": "code",
   "execution_count": 43,
   "metadata": {},
   "outputs": [],
   "source": [
    "from sklearn.preprocessing import StandardScaler"
   ]
  },
  {
   "cell_type": "code",
   "execution_count": 149,
   "metadata": {},
   "outputs": [],
   "source": [
    "scaler = StandardScaler()\n",
    "\n",
    "scaler.fit(x_train)\n",
    "\n",
    "x_train = scaler.transform(x_train)\n",
    "x_test = scaler.transform(x_test)"
   ]
  },
  {
   "cell_type": "code",
   "execution_count": 150,
   "metadata": {},
   "outputs": [
    {
     "data": {
      "text/plain": [
       "array([[ 0.0611164 ,  0.14370325,  0.13348417, ..., -0.67419986,\n",
       "        -0.43759497, -0.8819171 ],\n",
       "       [-0.22409348, -0.43968904, -0.43797951, ..., -0.67419986,\n",
       "         2.2852182 ,  1.13389342],\n",
       "       [ 2.34279547,  1.79092852,  1.70040074, ..., -0.67419986,\n",
       "        -0.43759497, -0.8819171 ],\n",
       "       ...,\n",
       "       [ 0.77414111,  1.3791222 ,  1.3501488 , ..., -0.67419986,\n",
       "        -0.43759497, -0.8819171 ],\n",
       "       [-0.22409348, -0.67990939, -0.67762558, ..., -0.67419986,\n",
       "         2.2852182 ,  1.13389342],\n",
       "       [ 0.20372134, -0.54264062, -0.54858539, ..., -0.67419986,\n",
       "        -0.43759497, -0.8819171 ]])"
      ]
     },
     "execution_count": 150,
     "metadata": {},
     "output_type": "execute_result"
    }
   ],
   "source": [
    "x_train"
   ]
  },
  {
   "cell_type": "code",
   "execution_count": 151,
   "metadata": {},
   "outputs": [],
   "source": [
    "from sklearn.neural_network import MLPRegressor"
   ]
  },
  {
   "cell_type": "code",
   "execution_count": 152,
   "metadata": {},
   "outputs": [],
   "source": [
    "mlp_reg = MLPRegressor(activation = 'relu',\n",
    "                       hidden_layer_sizes= (1, ), \n",
    "                       solver='lbfgs', \n",
    "                       verbose=True,\n",
    "                       max_iter=100)"
   ]
  },
  {
   "cell_type": "code",
   "execution_count": 153,
   "metadata": {},
   "outputs": [],
   "source": [
    "# mlp_reg = MLPRegressor(activation = 'relu',\n",
    "#                        hidden_layer_sizes= (5, ), \n",
    "#                        solver='lbfgs', \n",
    "#                        verbose=True,\n",
    "#                        max_iter=100)"
   ]
  },
  {
   "cell_type": "code",
   "execution_count": 154,
   "metadata": {},
   "outputs": [],
   "source": [
    "# mlp_reg = MLPRegressor(activation = 'relu',\n",
    "#                        hidden_layer_sizes= (2, 4), \n",
    "#                        solver='lbfgs', \n",
    "#                        verbose=True,\n",
    "#                        max_iter=100)"
   ]
  },
  {
   "cell_type": "code",
   "execution_count": 155,
   "metadata": {},
   "outputs": [],
   "source": [
    "# mlp_reg = MLPRegressor(activation = 'logistic',\n",
    "#                        hidden_layer_sizes= (2, 4), \n",
    "#                        solver='lbfgs', \n",
    "#                        verbose=True,\n",
    "#                        max_iter=100)"
   ]
  },
  {
   "cell_type": "code",
   "execution_count": 156,
   "metadata": {},
   "outputs": [],
   "source": [
    "# mlp_reg = MLPRegressor(activation = 'relu',\n",
    "#                        hidden_layer_sizes= (2, 6, 4), \n",
    "#                        solver='lbfgs', \n",
    "#                        verbose=True,\n",
    "#                        max_iter=1000)"
   ]
  },
  {
   "cell_type": "code",
   "execution_count": 157,
   "metadata": {},
   "outputs": [
    {
     "data": {
      "text/plain": [
       "MLPRegressor(activation='relu', alpha=0.0001, batch_size='auto', beta_1=0.9,\n",
       "       beta_2=0.999, early_stopping=False, epsilon=1e-08,\n",
       "       hidden_layer_sizes=(1,), learning_rate='constant',\n",
       "       learning_rate_init=0.001, max_iter=100, momentum=0.9,\n",
       "       n_iter_no_change=10, nesterovs_momentum=True, power_t=0.5,\n",
       "       random_state=None, shuffle=True, solver='lbfgs', tol=0.0001,\n",
       "       validation_fraction=0.1, verbose=True, warm_start=False)"
      ]
     },
     "execution_count": 157,
     "metadata": {},
     "output_type": "execute_result"
    }
   ],
   "source": [
    "mlp_reg.fit(x_train, y_train)"
   ]
  },
  {
   "cell_type": "code",
   "execution_count": 158,
   "metadata": {},
   "outputs": [],
   "source": [
    "y_pred = mlp_reg.predict(x_test)"
   ]
  },
  {
   "cell_type": "code",
   "execution_count": 159,
   "metadata": {},
   "outputs": [],
   "source": [
    "from sklearn.metrics import r2_score"
   ]
  },
  {
   "cell_type": "code",
   "execution_count": 160,
   "metadata": {},
   "outputs": [
    {
     "data": {
      "text/plain": [
       "0.6956188929163403"
      ]
     },
     "execution_count": 160,
     "metadata": {},
     "output_type": "execute_result"
    }
   ],
   "source": [
    "mlp_reg.score(x_train, y_train)"
   ]
  },
  {
   "cell_type": "code",
   "execution_count": 161,
   "metadata": {},
   "outputs": [
    {
     "data": {
      "text/plain": [
       "0.7289552040951901"
      ]
     },
     "execution_count": 161,
     "metadata": {},
     "output_type": "execute_result"
    }
   ],
   "source": [
    "r2_score(y_test, y_pred)"
   ]
  },
  {
   "cell_type": "code",
   "execution_count": 162,
   "metadata": {},
   "outputs": [
    {
     "data": {
      "image/png": "[encoded data removed]",
      "text/plain": [
       "<Figure size 1440x720 with 1 Axes>"
      ]
     },
     "metadata": {
      "needs_background": "light"
     },
     "output_type": "display_data"
    }
   ],
   "source": [
    "plt.figure(figsize = (20,10))\n",
    "\n",
    "plt.plot(y_pred, label='Predicted')\n",
    "plt.plot(y_test.values, label='Actual')\n",
    "\n",
    "plt.ylabel('change in weight')\n",
    "\n",
    "plt.legend()\n",
    "plt.show()"
   ]
  },
  {
   "cell_type": "code",
   "execution_count": null,
   "metadata": {},
   "outputs": [],
   "source": []
  },
  {
   "cell_type": "code",
   "execution_count": null,
   "metadata": {},
   "outputs": [],
   "source": []
  },
  {
   "cell_type": "code",
   "execution_count": null,
   "metadata": {},
   "outputs": [],
   "source": []
  },
  {
   "cell_type": "code",
   "execution_count": null,
   "metadata": {},
   "outputs": [],
   "source": []
  },
  {
   "cell_type": "code",
   "execution_count": null,
   "metadata": {},
   "outputs": [],
   "source": []
  }
 ],
 "metadata": {
  "kernelspec": {
   "display_name": "Python 3",
   "language": "python",
   "name": "python3"
  },
  "language_info": {
   "codemirror_mode": {
    "name": "ipython",
    "version": 3
   },
   "file_extension": ".py",
   "mimetype": "text/x-python",
   "name": "python",
   "nbconvert_exporter": "python",
   "pygments_lexer": "ipython3",
   "version": "3.7.1"
  }
 },
 "nbformat": 4,
 "nbformat_minor": 2
}

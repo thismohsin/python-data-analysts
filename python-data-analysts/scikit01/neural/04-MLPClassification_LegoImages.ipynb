{
 "cells": [
  {
   "cell_type": "markdown",
   "metadata": {},
   "source": [
    "### Image classification using Lego brick images\n",
    "\n",
    "https://www.kaggle.com/joosthazelzet/lego-brick-images"
   ]
  },
  {
   "cell_type": "code",
   "execution_count": 1,
   "metadata": {},
   "outputs": [
    {
     "name": "stdout",
     "output_type": "stream",
     "text": [
      "Requirement already satisfied: opencv-python in /anaconda3/lib/python3.7/site-packages (4.0.0.21)\r\n",
      "Requirement already satisfied: numpy>=1.14.5 in /anaconda3/lib/python3.7/site-packages (from opencv-python) (1.16.1)\r\n"
     ]
    }
   ],
   "source": [
    "!pip install opencv-python"
   ]
  },
  {
   "cell_type": "code",
   "execution_count": 2,
   "metadata": {},
   "outputs": [],
   "source": [
    "import sklearn\n",
    "\n",
    "import pandas as pd\n",
    "import numpy as np\n",
    "import matplotlib.pyplot as plt\n",
    "\n",
    "import cv2\n",
    "\n",
    "import os"
   ]
  },
  {
   "cell_type": "code",
   "execution_count": 3,
   "metadata": {},
   "outputs": [],
   "source": [
    "DATASET_PATH = 'datasets/Lego/train/'"
   ]
  },
  {
   "cell_type": "code",
   "execution_count": 4,
   "metadata": {},
   "outputs": [
    {
     "name": "stdout",
     "output_type": "stream",
     "text": [
      "total 0\r\n",
      "drwxr-xr-x@ 402 loonycorn  staff  12864 Mar  4 12:16 \u001b[34m11214 Bush 3M friction with Cross axle\u001b[m\u001b[m\r\n",
      "drwxr-xr-x@ 402 loonycorn  staff  12864 Mar  4 12:16 \u001b[34m18651 Cross Axle 2M with Snap friction\u001b[m\u001b[m\r\n",
      "drwxr-xr-x@ 381 loonycorn  staff  12192 Mar  4 12:16 \u001b[34m2357 Brick corner 1x2x2\u001b[m\u001b[m\r\n",
      "drwxr-xr-x@ 402 loonycorn  staff  12864 Mar  4 12:16 \u001b[34m3003 Brick 2x2\u001b[m\u001b[m\r\n",
      "drwxr-xr-x@ 402 loonycorn  staff  12864 Mar  4 12:16 \u001b[34m3004 Brick 1x2\u001b[m\u001b[m\r\n",
      "drwxr-xr-x@ 402 loonycorn  staff  12864 Mar  4 12:16 \u001b[34m3005 Brick 1x1\u001b[m\u001b[m\r\n",
      "drwxr-xr-x@ 402 loonycorn  staff  12864 Mar  4 12:16 \u001b[34m3022 Plate 2x2\u001b[m\u001b[m\r\n",
      "drwxr-xr-x@ 402 loonycorn  staff  12864 Mar  4 12:16 \u001b[34m3023 Plate 1x2\u001b[m\u001b[m\r\n",
      "drwxr-xr-x@ 402 loonycorn  staff  12864 Mar  4 12:16 \u001b[34m3024 Plate 1x1\u001b[m\u001b[m\r\n",
      "drwxr-xr-x@ 402 loonycorn  staff  12864 Mar  4 12:16 \u001b[34m3040 Roof Tile 1x2x45deg\u001b[m\u001b[m\r\n",
      "drwxr-xr-x@ 402 loonycorn  staff  12864 Mar  4 12:16 \u001b[34m3069 Flat Tile 1x2\u001b[m\u001b[m\r\n",
      "drwxr-xr-x@ 402 loonycorn  staff  12864 Mar  4 12:16 \u001b[34m32123 half Bush\u001b[m\u001b[m\r\n",
      "drwxr-xr-x@ 402 loonycorn  staff  12864 Mar  4 12:16 \u001b[34m3673 Peg 2M\u001b[m\u001b[m\r\n",
      "drwxr-xr-x@ 402 loonycorn  staff  12864 Mar  4 12:16 \u001b[34m3713 Bush for Cross Axle\u001b[m\u001b[m\r\n",
      "drwxr-xr-x@ 402 loonycorn  staff  12864 Mar  4 12:16 \u001b[34m3794 Plate 1X2 with 1 Knob\u001b[m\u001b[m\r\n",
      "drwxr-xr-x@ 402 loonycorn  staff  12864 Mar  4 12:16 \u001b[34m6632 Technic Lever 3M\u001b[m\u001b[m\r\n"
     ]
    }
   ],
   "source": [
    "!ls -l 'datasets/Lego/train/'"
   ]
  },
  {
   "cell_type": "code",
   "execution_count": 5,
   "metadata": {},
   "outputs": [],
   "source": [
    "def load_images(path):\n",
    "    \n",
    "    images_train = []\n",
    "    labels_train = []\n",
    "    \n",
    "    for sub_folder in os.listdir(path):\n",
    "        fullpath = os.path.join(path, sub_folder)\n",
    "        print(fullpath)\n",
    "\n",
    "        if not os.path.isdir(fullpath):\n",
    "            continue\n",
    "\n",
    "        images = os.listdir(fullpath)\n",
    "        \n",
    "        for image_filename in images:\n",
    "            \n",
    "            image_fullpath = os.path.join(fullpath, image_filename)\n",
    "\n",
    "            if os.path.isdir(image_fullpath):\n",
    "                continue\n",
    "            \n",
    "            img = cv2.imread(image_fullpath)\n",
    "\n",
    "            images_train.append(img)\n",
    "            labels_train.append(sub_folder)\n",
    "            \n",
    "    return np.array(images_train), np.array(labels_train)"
   ]
  },
  {
   "cell_type": "code",
   "execution_count": 6,
   "metadata": {},
   "outputs": [
    {
     "name": "stdout",
     "output_type": "stream",
     "text": [
      "datasets/Lego/train/3005 Brick 1x1\n",
      "datasets/Lego/train/2357 Brick corner 1x2x2\n",
      "datasets/Lego/train/.DS_Store\n",
      "datasets/Lego/train/3024 Plate 1x1\n",
      "datasets/Lego/train/6632 Technic Lever 3M\n",
      "datasets/Lego/train/3794 Plate 1X2 with 1 Knob\n",
      "datasets/Lego/train/3040 Roof Tile 1x2x45deg\n",
      "datasets/Lego/train/11214 Bush 3M friction with Cross axle\n",
      "datasets/Lego/train/18651 Cross Axle 2M with Snap friction\n",
      "datasets/Lego/train/3713 Bush for Cross Axle\n",
      "datasets/Lego/train/32123 half Bush\n",
      "datasets/Lego/train/3022 Plate 2x2\n",
      "datasets/Lego/train/3069 Flat Tile 1x2\n",
      "datasets/Lego/train/3023 Plate 1x2\n",
      "datasets/Lego/train/3004 Brick 1x2\n",
      "datasets/Lego/train/3003 Brick 2x2\n",
      "datasets/Lego/train/3673 Peg 2M\n"
     ]
    }
   ],
   "source": [
    "images_train, labels_train = load_images(DATASET_PATH)"
   ]
  },
  {
   "cell_type": "code",
   "execution_count": 7,
   "metadata": {},
   "outputs": [
    {
     "data": {
      "text/plain": [
       "(6379, 200, 200, 3)"
      ]
     },
     "execution_count": 7,
     "metadata": {},
     "output_type": "execute_result"
    }
   ],
   "source": [
    "images_train.shape"
   ]
  },
  {
   "cell_type": "code",
   "execution_count": 8,
   "metadata": {},
   "outputs": [
    {
     "data": {
      "text/plain": [
       "(200, 200, 3)"
      ]
     },
     "execution_count": 8,
     "metadata": {},
     "output_type": "execute_result"
    }
   ],
   "source": [
    "images_train[0].shape"
   ]
  },
  {
   "cell_type": "code",
   "execution_count": 9,
   "metadata": {},
   "outputs": [
    {
     "data": {
      "text/plain": [
       "(6379,)"
      ]
     },
     "execution_count": 9,
     "metadata": {},
     "output_type": "execute_result"
    }
   ],
   "source": [
    "labels_train.shape"
   ]
  },
  {
   "cell_type": "code",
   "execution_count": 10,
   "metadata": {},
   "outputs": [
    {
     "name": "stdout",
     "output_type": "stream",
     "text": [
      "Label:  3005 Brick 1x1\n"
     ]
    },
    {
     "data": {
      "image/png": "[encoded data removed]",
      "text/plain": [
       "<Figure size 432x288 with 1 Axes>"
      ]
     },
     "metadata": {
      "needs_background": "light"
     },
     "output_type": "display_data"
    }
   ],
   "source": [
    "plt.imshow(images_train[10])\n",
    "\n",
    "print('Label: ', labels_train[10])"
   ]
  },
  {
   "cell_type": "code",
   "execution_count": 11,
   "metadata": {},
   "outputs": [
    {
     "name": "stdout",
     "output_type": "stream",
     "text": [
      "Label:  3005 Brick 1x1\n"
     ]
    },
    {
     "data": {
      "image/png": "[encoded data removed]",
      "text/plain": [
       "<Figure size 432x288 with 1 Axes>"
      ]
     },
     "metadata": {
      "needs_background": "light"
     },
     "output_type": "display_data"
    }
   ],
   "source": [
    "plt.imshow(images_train[11])\n",
    "\n",
    "print('Label: ', labels_train[11])"
   ]
  },
  {
   "cell_type": "code",
   "execution_count": 12,
   "metadata": {},
   "outputs": [
    {
     "name": "stdout",
     "output_type": "stream",
     "text": [
      "Label:  3024 Plate 1x1\n"
     ]
    },
    {
     "data": {
      "image/png": "[encoded data removed]",
      "text/plain": [
       "<Figure size 432x288 with 1 Axes>"
      ]
     },
     "metadata": {
      "needs_background": "light"
     },
     "output_type": "display_data"
    }
   ],
   "source": [
    "plt.imshow(images_train[1000])\n",
    "\n",
    "print('Label: ', labels_train[1000])"
   ]
  },
  {
   "cell_type": "code",
   "execution_count": 13,
   "metadata": {},
   "outputs": [
    {
     "name": "stdout",
     "output_type": "stream",
     "text": [
      "Label:  3024 Plate 1x1\n"
     ]
    },
    {
     "data": {
      "image/png": "[encoded data removed]",
      "text/plain": [
       "<Figure size 432x288 with 1 Axes>"
      ]
     },
     "metadata": {
      "needs_background": "light"
     },
     "output_type": "display_data"
    }
   ],
   "source": [
    "plt.imshow(images_train[1001])\n",
    "\n",
    "print('Label: ', labels_train[1001])"
   ]
  },
  {
   "cell_type": "code",
   "execution_count": 14,
   "metadata": {},
   "outputs": [],
   "source": [
    "X = images_train.reshape(images_train.shape[0], \n",
    "                         images_train.shape[1] * images_train.shape[2] * images_train.shape[3])"
   ]
  },
  {
   "cell_type": "code",
   "execution_count": 15,
   "metadata": {},
   "outputs": [
    {
     "data": {
      "text/plain": [
       "(6379, 120000)"
      ]
     },
     "execution_count": 15,
     "metadata": {},
     "output_type": "execute_result"
    }
   ],
   "source": [
    "X.shape"
   ]
  },
  {
   "cell_type": "code",
   "execution_count": 16,
   "metadata": {},
   "outputs": [
    {
     "data": {
      "text/plain": [
       "array([0, 0, 0, ..., 0, 0, 0], dtype=uint8)"
      ]
     },
     "execution_count": 16,
     "metadata": {},
     "output_type": "execute_result"
    }
   ],
   "source": [
    "X[0]"
   ]
  },
  {
   "cell_type": "code",
   "execution_count": 17,
   "metadata": {},
   "outputs": [],
   "source": [
    "from sklearn.preprocessing import LabelEncoder\n",
    "\n",
    "encoder = LabelEncoder()\n",
    "\n",
    "Y = encoder.fit_transform(labels_train)"
   ]
  },
  {
   "cell_type": "code",
   "execution_count": 26,
   "metadata": {},
   "outputs": [
    {
     "data": {
      "text/plain": [
       "array([ 0,  1,  2,  3,  4,  5,  6,  7,  8,  9, 10, 11, 12, 13, 14, 15])"
      ]
     },
     "execution_count": 26,
     "metadata": {},
     "output_type": "execute_result"
    }
   ],
   "source": [
    "np.unique(Y)"
   ]
  },
  {
   "cell_type": "code",
   "execution_count": 19,
   "metadata": {},
   "outputs": [
    {
     "data": {
      "text/plain": [
       "((5103, 120000), (5103,))"
      ]
     },
     "execution_count": 19,
     "metadata": {},
     "output_type": "execute_result"
    }
   ],
   "source": [
    "from sklearn.model_selection import train_test_split\n",
    "\n",
    "x_train, x_test, y_train, y_test = train_test_split(X, Y, shuffle=True, test_size = 0.2)\n",
    "\n",
    "x_train.shape, y_train.shape"
   ]
  },
  {
   "cell_type": "code",
   "execution_count": 20,
   "metadata": {},
   "outputs": [
    {
     "data": {
      "text/plain": [
       "((1276, 120000), (1276,))"
      ]
     },
     "execution_count": 20,
     "metadata": {},
     "output_type": "execute_result"
    }
   ],
   "source": [
    "x_test.shape, y_test.shape"
   ]
  },
  {
   "cell_type": "code",
   "execution_count": 21,
   "metadata": {},
   "outputs": [],
   "source": [
    "from sklearn.neural_network import MLPClassifier"
   ]
  },
  {
   "cell_type": "code",
   "execution_count": 22,
   "metadata": {},
   "outputs": [],
   "source": [
    "clf_image = MLPClassifier(activation = 'relu',\n",
    "                          hidden_layer_sizes = (100, 100, 100), \n",
    "                          solver='adam', \n",
    "                          verbose=True,\n",
    "                          max_iter=100)"
   ]
  },
  {
   "cell_type": "code",
   "execution_count": 23,
   "metadata": {},
   "outputs": [
    {
     "name": "stdout",
     "output_type": "stream",
     "text": [
      "Iteration 1, loss = 17.20213206\n",
      "Iteration 2, loss = 7.33543649\n",
      "Iteration 3, loss = 4.83172156\n",
      "Iteration 4, loss = 2.97093581\n",
      "Iteration 5, loss = 2.55987162\n",
      "Iteration 6, loss = 2.40510029\n",
      "Iteration 7, loss = 2.36411744\n",
      "Iteration 8, loss = 1.62462687\n",
      "Iteration 9, loss = 1.12415017\n",
      "Iteration 10, loss = 0.99086458\n",
      "Iteration 11, loss = 0.96767223\n",
      "Iteration 12, loss = 1.58233988\n",
      "Iteration 13, loss = 1.13016754\n",
      "Iteration 14, loss = 0.98631583\n",
      "Iteration 15, loss = 1.32583773\n",
      "Iteration 16, loss = 1.15504213\n",
      "Iteration 17, loss = 0.68989708\n",
      "Iteration 18, loss = 0.75905733\n",
      "Iteration 19, loss = 1.03999245\n",
      "Iteration 20, loss = 0.81094971\n",
      "Iteration 21, loss = 0.92302890\n",
      "Iteration 22, loss = 0.97768651\n",
      "Iteration 23, loss = 1.14133504\n",
      "Iteration 24, loss = 1.61870541\n",
      "Iteration 25, loss = 1.16575193\n",
      "Iteration 26, loss = 0.87843148\n",
      "Iteration 27, loss = 0.90112891\n",
      "Iteration 28, loss = 0.75748039\n",
      "Training loss did not improve more than tol=0.000100 for 10 consecutive epochs. Stopping.\n"
     ]
    },
    {
     "data": {
      "text/plain": [
       "MLPClassifier(activation='relu', alpha=0.0001, batch_size='auto', beta_1=0.9,\n",
       "       beta_2=0.999, early_stopping=False, epsilon=1e-08,\n",
       "       hidden_layer_sizes=(100, 100, 100), learning_rate='constant',\n",
       "       learning_rate_init=0.001, max_iter=100, momentum=0.9,\n",
       "       n_iter_no_change=10, nesterovs_momentum=True, power_t=0.5,\n",
       "       random_state=None, shuffle=True, solver='adam', tol=0.0001,\n",
       "       validation_fraction=0.1, verbose=True, warm_start=False)"
      ]
     },
     "execution_count": 23,
     "metadata": {},
     "output_type": "execute_result"
    }
   ],
   "source": [
    "clf_image.fit(x_train, y_train)"
   ]
  },
  {
   "cell_type": "code",
   "execution_count": 24,
   "metadata": {},
   "outputs": [],
   "source": [
    "y_pred = clf_image.predict(x_test)"
   ]
  },
  {
   "cell_type": "code",
   "execution_count": 25,
   "metadata": {},
   "outputs": [
    {
     "data": {
      "text/plain": [
       "0.8753918495297806"
      ]
     },
     "execution_count": 25,
     "metadata": {},
     "output_type": "execute_result"
    }
   ],
   "source": [
    "from sklearn.metrics import accuracy_score\n",
    "\n",
    "accuracy_score(y_test, y_pred)"
   ]
  },
  {
   "cell_type": "code",
   "execution_count": null,
   "metadata": {},
   "outputs": [],
   "source": []
  }
 ],
 "metadata": {
  "kernelspec": {
   "display_name": "Python 3",
   "language": "python",
   "name": "python3"
  },
  "language_info": {
   "codemirror_mode": {
    "name": "ipython",
    "version": 3
   },
   "file_extension": ".py",
   "mimetype": "text/x-python",
   "name": "python",
   "nbconvert_exporter": "python",
   "pygments_lexer": "ipython3",
   "version": "3.7.1"
  }
 },
 "nbformat": 4,
 "nbformat_minor": 2
}

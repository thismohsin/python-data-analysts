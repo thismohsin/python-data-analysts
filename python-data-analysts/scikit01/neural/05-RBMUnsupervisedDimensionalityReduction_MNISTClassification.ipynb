{
 "cells": [
  {
   "cell_type": "code",
   "execution_count": 1,
   "metadata": {},
   "outputs": [],
   "source": [
    "import pandas as pd\n",
    "import numpy as np\n",
    "import matplotlib.pyplot as plt\n",
    "\n",
    "from sklearn import linear_model, metrics\n",
    "from sklearn.model_selection import train_test_split\n",
    "\n",
    "from sklearn.neural_network import BernoulliRBM\n",
    "from sklearn.pipeline import Pipeline\n",
    "from sklearn.base import clone"
   ]
  },
  {
   "cell_type": "code",
   "execution_count": 2,
   "metadata": {},
   "outputs": [],
   "source": [
    "mnist_data = pd.read_csv('datasets/mnist.csv')"
   ]
  },
  {
   "cell_type": "code",
   "execution_count": 3,
   "metadata": {},
   "outputs": [
    {
     "data": {
      "text/html": [
       "<div>\n",
       "<style scoped>\n",
       "    .dataframe tbody tr th:only-of-type {\n",
       "        vertical-align: middle;\n",
       "    }\n",
       "\n",
       "    .dataframe tbody tr th {\n",
       "        vertical-align: top;\n",
       "    }\n",
       "\n",
       "    .dataframe thead th {\n",
       "        text-align: right;\n",
       "    }\n",
       "</style>\n",
       "<table border=\"1\" class=\"dataframe\">\n",
       "  <thead>\n",
       "    <tr style=\"text-align: right;\">\n",
       "      <th></th>\n",
       "      <th>label</th>\n",
       "      <th>pixel0</th>\n",
       "      <th>pixel1</th>\n",
       "      <th>pixel2</th>\n",
       "      <th>pixel3</th>\n",
       "      <th>pixel4</th>\n",
       "      <th>pixel5</th>\n",
       "      <th>pixel6</th>\n",
       "      <th>pixel7</th>\n",
       "      <th>pixel8</th>\n",
       "      <th>...</th>\n",
       "      <th>pixel774</th>\n",
       "      <th>pixel775</th>\n",
       "      <th>pixel776</th>\n",
       "      <th>pixel777</th>\n",
       "      <th>pixel778</th>\n",
       "      <th>pixel779</th>\n",
       "      <th>pixel780</th>\n",
       "      <th>pixel781</th>\n",
       "      <th>pixel782</th>\n",
       "      <th>pixel783</th>\n",
       "    </tr>\n",
       "  </thead>\n",
       "  <tbody>\n",
       "    <tr>\n",
       "      <th>0</th>\n",
       "      <td>1</td>\n",
       "      <td>0</td>\n",
       "      <td>0</td>\n",
       "      <td>0</td>\n",
       "      <td>0</td>\n",
       "      <td>0</td>\n",
       "      <td>0</td>\n",
       "      <td>0</td>\n",
       "      <td>0</td>\n",
       "      <td>0</td>\n",
       "      <td>...</td>\n",
       "      <td>0</td>\n",
       "      <td>0</td>\n",
       "      <td>0</td>\n",
       "      <td>0</td>\n",
       "      <td>0</td>\n",
       "      <td>0</td>\n",
       "      <td>0</td>\n",
       "      <td>0</td>\n",
       "      <td>0</td>\n",
       "      <td>0</td>\n",
       "    </tr>\n",
       "    <tr>\n",
       "      <th>1</th>\n",
       "      <td>0</td>\n",
       "      <td>0</td>\n",
       "      <td>0</td>\n",
       "      <td>0</td>\n",
       "      <td>0</td>\n",
       "      <td>0</td>\n",
       "      <td>0</td>\n",
       "      <td>0</td>\n",
       "      <td>0</td>\n",
       "      <td>0</td>\n",
       "      <td>...</td>\n",
       "      <td>0</td>\n",
       "      <td>0</td>\n",
       "      <td>0</td>\n",
       "      <td>0</td>\n",
       "      <td>0</td>\n",
       "      <td>0</td>\n",
       "      <td>0</td>\n",
       "      <td>0</td>\n",
       "      <td>0</td>\n",
       "      <td>0</td>\n",
       "    </tr>\n",
       "    <tr>\n",
       "      <th>2</th>\n",
       "      <td>1</td>\n",
       "      <td>0</td>\n",
       "      <td>0</td>\n",
       "      <td>0</td>\n",
       "      <td>0</td>\n",
       "      <td>0</td>\n",
       "      <td>0</td>\n",
       "      <td>0</td>\n",
       "      <td>0</td>\n",
       "      <td>0</td>\n",
       "      <td>...</td>\n",
       "      <td>0</td>\n",
       "      <td>0</td>\n",
       "      <td>0</td>\n",
       "      <td>0</td>\n",
       "      <td>0</td>\n",
       "      <td>0</td>\n",
       "      <td>0</td>\n",
       "      <td>0</td>\n",
       "      <td>0</td>\n",
       "      <td>0</td>\n",
       "    </tr>\n",
       "    <tr>\n",
       "      <th>3</th>\n",
       "      <td>4</td>\n",
       "      <td>0</td>\n",
       "      <td>0</td>\n",
       "      <td>0</td>\n",
       "      <td>0</td>\n",
       "      <td>0</td>\n",
       "      <td>0</td>\n",
       "      <td>0</td>\n",
       "      <td>0</td>\n",
       "      <td>0</td>\n",
       "      <td>...</td>\n",
       "      <td>0</td>\n",
       "      <td>0</td>\n",
       "      <td>0</td>\n",
       "      <td>0</td>\n",
       "      <td>0</td>\n",
       "      <td>0</td>\n",
       "      <td>0</td>\n",
       "      <td>0</td>\n",
       "      <td>0</td>\n",
       "      <td>0</td>\n",
       "    </tr>\n",
       "    <tr>\n",
       "      <th>4</th>\n",
       "      <td>0</td>\n",
       "      <td>0</td>\n",
       "      <td>0</td>\n",
       "      <td>0</td>\n",
       "      <td>0</td>\n",
       "      <td>0</td>\n",
       "      <td>0</td>\n",
       "      <td>0</td>\n",
       "      <td>0</td>\n",
       "      <td>0</td>\n",
       "      <td>...</td>\n",
       "      <td>0</td>\n",
       "      <td>0</td>\n",
       "      <td>0</td>\n",
       "      <td>0</td>\n",
       "      <td>0</td>\n",
       "      <td>0</td>\n",
       "      <td>0</td>\n",
       "      <td>0</td>\n",
       "      <td>0</td>\n",
       "      <td>0</td>\n",
       "    </tr>\n",
       "  </tbody>\n",
       "</table>\n",
       "<p>5 rows × 785 columns</p>\n",
       "</div>"
      ],
      "text/plain": [
       "   label  pixel0  pixel1  pixel2  pixel3  pixel4  pixel5  pixel6  pixel7  \\\n",
       "0      1       0       0       0       0       0       0       0       0   \n",
       "1      0       0       0       0       0       0       0       0       0   \n",
       "2      1       0       0       0       0       0       0       0       0   \n",
       "3      4       0       0       0       0       0       0       0       0   \n",
       "4      0       0       0       0       0       0       0       0       0   \n",
       "\n",
       "   pixel8    ...     pixel774  pixel775  pixel776  pixel777  pixel778  \\\n",
       "0       0    ...            0         0         0         0         0   \n",
       "1       0    ...            0         0         0         0         0   \n",
       "2       0    ...            0         0         0         0         0   \n",
       "3       0    ...            0         0         0         0         0   \n",
       "4       0    ...            0         0         0         0         0   \n",
       "\n",
       "   pixel779  pixel780  pixel781  pixel782  pixel783  \n",
       "0         0         0         0         0         0  \n",
       "1         0         0         0         0         0  \n",
       "2         0         0         0         0         0  \n",
       "3         0         0         0         0         0  \n",
       "4         0         0         0         0         0  \n",
       "\n",
       "[5 rows x 785 columns]"
      ]
     },
     "execution_count": 3,
     "metadata": {},
     "output_type": "execute_result"
    }
   ],
   "source": [
    "mnist_data.head()"
   ]
  },
  {
   "cell_type": "code",
   "execution_count": 4,
   "metadata": {},
   "outputs": [
    {
     "data": {
      "text/plain": [
       "(42000, 785)"
      ]
     },
     "execution_count": 4,
     "metadata": {},
     "output_type": "execute_result"
    }
   ],
   "source": [
    "mnist_data.shape"
   ]
  },
  {
   "cell_type": "code",
   "execution_count": 5,
   "metadata": {},
   "outputs": [
    {
     "data": {
      "text/plain": [
       "[0, 1, 2, 3, 4, 5, 6, 7, 8, 9]"
      ]
     },
     "execution_count": 5,
     "metadata": {},
     "output_type": "execute_result"
    }
   ],
   "source": [
    "sorted(mnist_data['label'].unique())"
   ]
  },
  {
   "cell_type": "code",
   "execution_count": 6,
   "metadata": {},
   "outputs": [],
   "source": [
    "mnist_features = mnist_data[mnist_data.columns[1:]]\n",
    "\n",
    "mnist_labels = mnist_data['label']"
   ]
  },
  {
   "cell_type": "code",
   "execution_count": 7,
   "metadata": {},
   "outputs": [],
   "source": [
    "def display_image(index):\n",
    "    print(\"Digit: \", mnist_labels[index])\n",
    "        \n",
    "    plt.imshow(mnist_features.loc[index].values.reshape(28,28), cmap='Greys')"
   ]
  },
  {
   "cell_type": "code",
   "execution_count": 8,
   "metadata": {},
   "outputs": [
    {
     "name": "stdout",
     "output_type": "stream",
     "text": [
      "Digit:  1\n"
     ]
    },
    {
     "data": {
      "image/png": "[encoded data removed]",
      "text/plain": [
       "<Figure size 432x288 with 1 Axes>"
      ]
     },
     "metadata": {
      "needs_background": "light"
     },
     "output_type": "display_data"
    }
   ],
   "source": [
    "display_image(2)"
   ]
  },
  {
   "cell_type": "code",
   "execution_count": 9,
   "metadata": {},
   "outputs": [
    {
     "name": "stdout",
     "output_type": "stream",
     "text": [
      "Digit:  0\n"
     ]
    },
    {
     "data": {
      "image/png": "[encoded data removed]",
      "text/plain": [
       "<Figure size 432x288 with 1 Axes>"
      ]
     },
     "metadata": {
      "needs_background": "light"
     },
     "output_type": "display_data"
    }
   ],
   "source": [
    "display_image(200)"
   ]
  },
  {
   "cell_type": "code",
   "execution_count": 10,
   "metadata": {},
   "outputs": [
    {
     "data": {
      "text/plain": [
       "(42000, 784)"
      ]
     },
     "execution_count": 10,
     "metadata": {},
     "output_type": "execute_result"
    }
   ],
   "source": [
    "mnist_features = np.asarray(mnist_features)\n",
    "\n",
    "mnist_features.shape"
   ]
  },
  {
   "cell_type": "code",
   "execution_count": 11,
   "metadata": {},
   "outputs": [
    {
     "data": {
      "text/plain": [
       "array([  0,   0,   0,   0,   0,   0,   0,   0,   0,   0,   0,   0,   0,\n",
       "         0,   0,   0,   0,   0,   0,   0,   0,   0,   0,   0,   0,   0,\n",
       "         0,   0,   0,   0,   7,  24,  24,  97, 253, 253, 253, 253, 255,\n",
       "       180,  48,   0,   0,   0,   0,   0,   0,   0,   0,   0])"
      ]
     },
     "execution_count": 11,
     "metadata": {},
     "output_type": "execute_result"
    }
   ],
   "source": [
    "mnist_features[10][150:200]"
   ]
  },
  {
   "cell_type": "code",
   "execution_count": 12,
   "metadata": {},
   "outputs": [],
   "source": [
    "mnist_features = mnist_features/255."
   ]
  },
  {
   "cell_type": "code",
   "execution_count": 13,
   "metadata": {},
   "outputs": [
    {
     "data": {
      "text/plain": [
       "array([0.        , 0.        , 0.        , 0.        , 0.        ,\n",
       "       0.        , 0.        , 0.        , 0.        , 0.        ,\n",
       "       0.        , 0.        , 0.        , 0.        , 0.        ,\n",
       "       0.        , 0.        , 0.        , 0.        , 0.        ,\n",
       "       0.        , 0.        , 0.        , 0.        , 0.        ,\n",
       "       0.        , 0.        , 0.        , 0.        , 0.        ,\n",
       "       0.02745098, 0.09411765, 0.09411765, 0.38039216, 0.99215686,\n",
       "       0.99215686, 0.99215686, 0.99215686, 1.        , 0.70588235,\n",
       "       0.18823529, 0.        , 0.        , 0.        , 0.        ,\n",
       "       0.        , 0.        , 0.        , 0.        , 0.        ])"
      ]
     },
     "execution_count": 13,
     "metadata": {},
     "output_type": "execute_result"
    }
   ],
   "source": [
    "mnist_features[10][150:200]"
   ]
  },
  {
   "cell_type": "code",
   "execution_count": 14,
   "metadata": {},
   "outputs": [],
   "source": [
    "x_train, x_test, y_train, y_test = train_test_split(mnist_features,\n",
    "                                                    mnist_labels, \n",
    "                                                    shuffle=True,\n",
    "                                                    test_size=0.2)"
   ]
  },
  {
   "cell_type": "code",
   "execution_count": 15,
   "metadata": {},
   "outputs": [],
   "source": [
    "logistic = linear_model.LogisticRegression(solver='lbfgs',\n",
    "                                           max_iter=1000,\n",
    "                                           multi_class='multinomial')"
   ]
  },
  {
   "cell_type": "code",
   "execution_count": 16,
   "metadata": {},
   "outputs": [
    {
     "data": {
      "text/plain": [
       "{'C': 0.1}"
      ]
     },
     "execution_count": 16,
     "metadata": {},
     "output_type": "execute_result"
    }
   ],
   "source": [
    "from sklearn.model_selection import GridSearchCV\n",
    "\n",
    "param_grid = [{'C' : [0.1, 1, 5]}]\n",
    "\n",
    "grid_search = GridSearchCV(logistic, param_grid, cv=2)\n",
    "grid_search.fit(x_train, y_train)\n",
    "grid_search.best_params_"
   ]
  },
  {
   "cell_type": "code",
   "execution_count": 17,
   "metadata": {},
   "outputs": [
    {
     "name": "stdout",
     "output_type": "stream",
     "text": [
      "Parameters:  {'C': 0.1}\n",
      "Mean Test Score:  0.9151488095238095\n",
      "Rank:  1\n",
      "Parameters:  {'C': 1}\n",
      "Mean Test Score:  0.9088392857142857\n",
      "Rank:  2\n",
      "Parameters:  {'C': 5}\n",
      "Mean Test Score:  0.8983928571428571\n",
      "Rank:  3\n"
     ]
    }
   ],
   "source": [
    "for i in range(3):\n",
    "    print('Parameters: ', grid_search.cv_results_['params'][i])\n",
    "    print('Mean Test Score: ', grid_search.cv_results_['mean_test_score'][i])\n",
    "    print('Rank: ', grid_search.cv_results_['rank_test_score'][i])"
   ]
  },
  {
   "cell_type": "code",
   "execution_count": 18,
   "metadata": {},
   "outputs": [],
   "source": [
    "rbm = BernoulliRBM(verbose=True)\n",
    "\n",
    "rbm_features_classifier = Pipeline(steps = [('rbm', rbm), \n",
    "                                            ('logistic', logistic)])\n",
    "\n",
    "rbm.learning_rate = 0.06\n",
    "logistic.C = grid_search.best_params_['C']"
   ]
  },
  {
   "cell_type": "code",
   "execution_count": 19,
   "metadata": {},
   "outputs": [
    {
     "data": {
      "text/plain": [
       "dict_keys(['memory', 'steps', 'rbm', 'logistic', 'rbm__batch_size', 'rbm__learning_rate', 'rbm__n_components', 'rbm__n_iter', 'rbm__random_state', 'rbm__verbose', 'logistic__C', 'logistic__class_weight', 'logistic__dual', 'logistic__fit_intercept', 'logistic__intercept_scaling', 'logistic__max_iter', 'logistic__multi_class', 'logistic__n_jobs', 'logistic__penalty', 'logistic__random_state', 'logistic__solver', 'logistic__tol', 'logistic__verbose', 'logistic__warm_start'])"
      ]
     },
     "execution_count": 19,
     "metadata": {},
     "output_type": "execute_result"
    }
   ],
   "source": [
    "rbm_features_classifier.get_params().keys()"
   ]
  },
  {
   "cell_type": "code",
   "execution_count": 20,
   "metadata": {},
   "outputs": [
    {
     "name": "stdout",
     "output_type": "stream",
     "text": [
      "[BernoulliRBM] Iteration 1, pseudo-likelihood = -193.87, time = 1.01s\n",
      "[BernoulliRBM] Iteration 2, pseudo-likelihood = -199.95, time = 0.84s\n",
      "[BernoulliRBM] Iteration 3, pseudo-likelihood = -198.13, time = 0.77s\n",
      "[BernoulliRBM] Iteration 4, pseudo-likelihood = -198.72, time = 0.77s\n",
      "[BernoulliRBM] Iteration 5, pseudo-likelihood = -198.70, time = 0.98s\n",
      "[BernoulliRBM] Iteration 1, pseudo-likelihood = -199.92, time = 0.66s\n",
      "[BernoulliRBM] Iteration 2, pseudo-likelihood = -201.94, time = 0.81s\n",
      "[BernoulliRBM] Iteration 3, pseudo-likelihood = -199.08, time = 0.76s\n",
      "[BernoulliRBM] Iteration 4, pseudo-likelihood = -200.04, time = 0.76s\n",
      "[BernoulliRBM] Iteration 5, pseudo-likelihood = -195.11, time = 0.78s\n",
      "[BernoulliRBM] Iteration 1, pseudo-likelihood = -197.59, time = 0.73s\n",
      "[BernoulliRBM] Iteration 2, pseudo-likelihood = -198.44, time = 0.96s\n",
      "[BernoulliRBM] Iteration 3, pseudo-likelihood = -196.72, time = 0.91s\n",
      "[BernoulliRBM] Iteration 4, pseudo-likelihood = -197.81, time = 0.86s\n",
      "[BernoulliRBM] Iteration 5, pseudo-likelihood = -195.37, time = 1.13s\n",
      "[BernoulliRBM] Iteration 6, pseudo-likelihood = -196.11, time = 0.86s\n",
      "[BernoulliRBM] Iteration 7, pseudo-likelihood = -197.13, time = 1.11s\n",
      "[BernoulliRBM] Iteration 8, pseudo-likelihood = -194.79, time = 0.93s\n",
      "[BernoulliRBM] Iteration 9, pseudo-likelihood = -200.25, time = 0.92s\n",
      "[BernoulliRBM] Iteration 10, pseudo-likelihood = -200.10, time = 0.88s\n",
      "[BernoulliRBM] Iteration 11, pseudo-likelihood = -196.77, time = 1.05s\n",
      "[BernoulliRBM] Iteration 12, pseudo-likelihood = -197.28, time = 0.97s\n",
      "[BernoulliRBM] Iteration 13, pseudo-likelihood = -193.88, time = 0.83s\n",
      "[BernoulliRBM] Iteration 14, pseudo-likelihood = -198.13, time = 0.88s\n",
      "[BernoulliRBM] Iteration 15, pseudo-likelihood = -204.24, time = 0.92s\n",
      "[BernoulliRBM] Iteration 16, pseudo-likelihood = -193.52, time = 0.90s\n",
      "[BernoulliRBM] Iteration 17, pseudo-likelihood = -196.68, time = 0.84s\n",
      "[BernoulliRBM] Iteration 18, pseudo-likelihood = -199.43, time = 0.81s\n",
      "[BernoulliRBM] Iteration 19, pseudo-likelihood = -200.11, time = 0.82s\n",
      "[BernoulliRBM] Iteration 20, pseudo-likelihood = -195.48, time = 0.81s\n",
      "[BernoulliRBM] Iteration 1, pseudo-likelihood = -198.94, time = 0.65s\n",
      "[BernoulliRBM] Iteration 2, pseudo-likelihood = -196.79, time = 1.21s\n",
      "[BernoulliRBM] Iteration 3, pseudo-likelihood = -196.56, time = 1.22s\n",
      "[BernoulliRBM] Iteration 4, pseudo-likelihood = -203.22, time = 1.11s\n",
      "[BernoulliRBM] Iteration 5, pseudo-likelihood = -197.54, time = 1.12s\n",
      "[BernoulliRBM] Iteration 6, pseudo-likelihood = -201.43, time = 0.93s\n",
      "[BernoulliRBM] Iteration 7, pseudo-likelihood = -197.45, time = 0.82s\n",
      "[BernoulliRBM] Iteration 8, pseudo-likelihood = -197.73, time = 0.78s\n",
      "[BernoulliRBM] Iteration 9, pseudo-likelihood = -194.99, time = 0.76s\n",
      "[BernoulliRBM] Iteration 10, pseudo-likelihood = -194.56, time = 0.81s\n",
      "[BernoulliRBM] Iteration 11, pseudo-likelihood = -198.34, time = 1.03s\n",
      "[BernoulliRBM] Iteration 12, pseudo-likelihood = -199.10, time = 0.82s\n",
      "[BernoulliRBM] Iteration 13, pseudo-likelihood = -195.39, time = 0.86s\n",
      "[BernoulliRBM] Iteration 14, pseudo-likelihood = -190.75, time = 0.97s\n",
      "[BernoulliRBM] Iteration 15, pseudo-likelihood = -195.13, time = 0.87s\n",
      "[BernoulliRBM] Iteration 16, pseudo-likelihood = -197.76, time = 0.78s\n",
      "[BernoulliRBM] Iteration 17, pseudo-likelihood = -200.49, time = 0.78s\n",
      "[BernoulliRBM] Iteration 18, pseudo-likelihood = -198.53, time = 0.78s\n",
      "[BernoulliRBM] Iteration 19, pseudo-likelihood = -194.52, time = 0.79s\n",
      "[BernoulliRBM] Iteration 20, pseudo-likelihood = -199.65, time = 0.78s\n",
      "[BernoulliRBM] Iteration 1, pseudo-likelihood = -127.04, time = 1.91s\n",
      "[BernoulliRBM] Iteration 2, pseudo-likelihood = -115.68, time = 2.00s\n",
      "[BernoulliRBM] Iteration 3, pseudo-likelihood = -108.07, time = 2.08s\n",
      "[BernoulliRBM] Iteration 4, pseudo-likelihood = -108.82, time = 1.95s\n",
      "[BernoulliRBM] Iteration 5, pseudo-likelihood = -101.48, time = 1.99s\n",
      "[BernoulliRBM] Iteration 1, pseudo-likelihood = -138.38, time = 1.71s\n",
      "[BernoulliRBM] Iteration 2, pseudo-likelihood = -125.62, time = 2.08s\n",
      "[BernoulliRBM] Iteration 3, pseudo-likelihood = -117.39, time = 1.82s\n",
      "[BernoulliRBM] Iteration 4, pseudo-likelihood = -113.17, time = 1.82s\n",
      "[BernoulliRBM] Iteration 5, pseudo-likelihood = -113.24, time = 2.07s\n",
      "[BernoulliRBM] Iteration 1, pseudo-likelihood = -124.04, time = 1.67s\n",
      "[BernoulliRBM] Iteration 2, pseudo-likelihood = -113.64, time = 1.92s\n",
      "[BernoulliRBM] Iteration 3, pseudo-likelihood = -111.70, time = 1.81s\n",
      "[BernoulliRBM] Iteration 4, pseudo-likelihood = -106.84, time = 1.86s\n",
      "[BernoulliRBM] Iteration 5, pseudo-likelihood = -108.09, time = 1.88s\n",
      "[BernoulliRBM] Iteration 6, pseudo-likelihood = -102.37, time = 1.92s\n",
      "[BernoulliRBM] Iteration 7, pseudo-likelihood = -102.76, time = 1.79s\n",
      "[BernoulliRBM] Iteration 8, pseudo-likelihood = -102.65, time = 1.77s\n",
      "[BernoulliRBM] Iteration 9, pseudo-likelihood = -103.48, time = 1.75s\n",
      "[BernoulliRBM] Iteration 10, pseudo-likelihood = -100.21, time = 1.75s\n",
      "[BernoulliRBM] Iteration 11, pseudo-likelihood = -104.85, time = 1.74s\n",
      "[BernoulliRBM] Iteration 12, pseudo-likelihood = -98.75, time = 1.74s\n",
      "[BernoulliRBM] Iteration 13, pseudo-likelihood = -98.53, time = 1.73s\n",
      "[BernoulliRBM] Iteration 14, pseudo-likelihood = -98.36, time = 1.74s\n",
      "[BernoulliRBM] Iteration 15, pseudo-likelihood = -99.01, time = 1.74s\n",
      "[BernoulliRBM] Iteration 16, pseudo-likelihood = -97.14, time = 1.73s\n",
      "[BernoulliRBM] Iteration 17, pseudo-likelihood = -97.69, time = 1.74s\n",
      "[BernoulliRBM] Iteration 18, pseudo-likelihood = -100.44, time = 1.75s\n",
      "[BernoulliRBM] Iteration 19, pseudo-likelihood = -98.65, time = 1.74s\n",
      "[BernoulliRBM] Iteration 20, pseudo-likelihood = -100.17, time = 1.74s\n",
      "[BernoulliRBM] Iteration 1, pseudo-likelihood = -130.85, time = 1.53s\n",
      "[BernoulliRBM] Iteration 2, pseudo-likelihood = -125.05, time = 1.79s\n",
      "[BernoulliRBM] Iteration 3, pseudo-likelihood = -118.19, time = 1.74s\n",
      "[BernoulliRBM] Iteration 4, pseudo-likelihood = -117.95, time = 1.75s\n",
      "[BernoulliRBM] Iteration 5, pseudo-likelihood = -106.05, time = 1.74s\n",
      "[BernoulliRBM] Iteration 6, pseudo-likelihood = -109.59, time = 1.73s\n",
      "[BernoulliRBM] Iteration 7, pseudo-likelihood = -105.86, time = 1.73s\n",
      "[BernoulliRBM] Iteration 8, pseudo-likelihood = -107.55, time = 1.74s\n",
      "[BernoulliRBM] Iteration 9, pseudo-likelihood = -104.00, time = 1.75s\n",
      "[BernoulliRBM] Iteration 10, pseudo-likelihood = -108.66, time = 1.73s\n",
      "[BernoulliRBM] Iteration 11, pseudo-likelihood = -104.99, time = 1.78s\n",
      "[BernoulliRBM] Iteration 12, pseudo-likelihood = -108.54, time = 1.77s\n",
      "[BernoulliRBM] Iteration 13, pseudo-likelihood = -105.99, time = 1.74s\n",
      "[BernoulliRBM] Iteration 14, pseudo-likelihood = -108.99, time = 1.73s\n",
      "[BernoulliRBM] Iteration 15, pseudo-likelihood = -101.62, time = 1.75s\n",
      "[BernoulliRBM] Iteration 16, pseudo-likelihood = -100.24, time = 1.73s\n",
      "[BernoulliRBM] Iteration 17, pseudo-likelihood = -102.92, time = 1.75s\n",
      "[BernoulliRBM] Iteration 18, pseudo-likelihood = -101.56, time = 1.73s\n",
      "[BernoulliRBM] Iteration 19, pseudo-likelihood = -103.37, time = 1.74s\n",
      "[BernoulliRBM] Iteration 20, pseudo-likelihood = -101.45, time = 1.73s\n",
      "[BernoulliRBM] Iteration 1, pseudo-likelihood = -112.65, time = 2.66s\n",
      "[BernoulliRBM] Iteration 2, pseudo-likelihood = -98.68, time = 2.90s\n",
      "[BernoulliRBM] Iteration 3, pseudo-likelihood = -94.61, time = 2.83s\n",
      "[BernoulliRBM] Iteration 4, pseudo-likelihood = -95.91, time = 2.87s\n",
      "[BernoulliRBM] Iteration 5, pseudo-likelihood = -92.81, time = 2.83s\n",
      "[BernoulliRBM] Iteration 1, pseudo-likelihood = -128.29, time = 2.74s\n",
      "[BernoulliRBM] Iteration 2, pseudo-likelihood = -112.37, time = 2.89s\n",
      "[BernoulliRBM] Iteration 3, pseudo-likelihood = -109.27, time = 2.83s\n",
      "[BernoulliRBM] Iteration 4, pseudo-likelihood = -100.96, time = 2.85s\n",
      "[BernoulliRBM] Iteration 5, pseudo-likelihood = -98.59, time = 2.84s\n",
      "[BernoulliRBM] Iteration 1, pseudo-likelihood = -109.59, time = 2.51s\n",
      "[BernoulliRBM] Iteration 2, pseudo-likelihood = -99.01, time = 2.89s\n",
      "[BernoulliRBM] Iteration 3, pseudo-likelihood = -98.30, time = 2.84s\n",
      "[BernoulliRBM] Iteration 4, pseudo-likelihood = -95.64, time = 2.85s\n",
      "[BernoulliRBM] Iteration 5, pseudo-likelihood = -95.41, time = 2.94s\n",
      "[BernoulliRBM] Iteration 6, pseudo-likelihood = -89.77, time = 2.92s\n",
      "[BernoulliRBM] Iteration 7, pseudo-likelihood = -89.60, time = 2.82s\n"
     ]
    },
    {
     "name": "stdout",
     "output_type": "stream",
     "text": [
      "[BernoulliRBM] Iteration 8, pseudo-likelihood = -89.42, time = 2.83s\n",
      "[BernoulliRBM] Iteration 9, pseudo-likelihood = -86.61, time = 2.83s\n",
      "[BernoulliRBM] Iteration 10, pseudo-likelihood = -87.74, time = 2.83s\n",
      "[BernoulliRBM] Iteration 11, pseudo-likelihood = -86.77, time = 2.84s\n",
      "[BernoulliRBM] Iteration 12, pseudo-likelihood = -86.49, time = 2.96s\n",
      "[BernoulliRBM] Iteration 13, pseudo-likelihood = -90.30, time = 3.26s\n",
      "[BernoulliRBM] Iteration 14, pseudo-likelihood = -89.69, time = 2.83s\n",
      "[BernoulliRBM] Iteration 15, pseudo-likelihood = -89.72, time = 2.93s\n",
      "[BernoulliRBM] Iteration 16, pseudo-likelihood = -87.11, time = 2.90s\n",
      "[BernoulliRBM] Iteration 17, pseudo-likelihood = -89.40, time = 2.87s\n",
      "[BernoulliRBM] Iteration 18, pseudo-likelihood = -87.16, time = 2.93s\n",
      "[BernoulliRBM] Iteration 19, pseudo-likelihood = -88.27, time = 2.94s\n",
      "[BernoulliRBM] Iteration 20, pseudo-likelihood = -83.71, time = 3.25s\n",
      "[BernoulliRBM] Iteration 1, pseudo-likelihood = -142.96, time = 2.88s\n",
      "[BernoulliRBM] Iteration 2, pseudo-likelihood = -111.48, time = 2.89s\n",
      "[BernoulliRBM] Iteration 3, pseudo-likelihood = -104.80, time = 2.86s\n",
      "[BernoulliRBM] Iteration 4, pseudo-likelihood = -104.72, time = 2.86s\n",
      "[BernoulliRBM] Iteration 5, pseudo-likelihood = -99.63, time = 2.83s\n",
      "[BernoulliRBM] Iteration 6, pseudo-likelihood = -98.56, time = 2.90s\n",
      "[BernoulliRBM] Iteration 7, pseudo-likelihood = -104.10, time = 3.11s\n",
      "[BernoulliRBM] Iteration 8, pseudo-likelihood = -92.28, time = 2.84s\n",
      "[BernoulliRBM] Iteration 9, pseudo-likelihood = -101.63, time = 2.85s\n",
      "[BernoulliRBM] Iteration 10, pseudo-likelihood = -95.04, time = 2.85s\n",
      "[BernoulliRBM] Iteration 11, pseudo-likelihood = -91.89, time = 2.85s\n",
      "[BernoulliRBM] Iteration 12, pseudo-likelihood = -96.23, time = 2.82s\n",
      "[BernoulliRBM] Iteration 13, pseudo-likelihood = -95.44, time = 2.84s\n",
      "[BernoulliRBM] Iteration 14, pseudo-likelihood = -93.80, time = 3.03s\n",
      "[BernoulliRBM] Iteration 15, pseudo-likelihood = -93.49, time = 2.94s\n",
      "[BernoulliRBM] Iteration 16, pseudo-likelihood = -95.49, time = 2.83s\n",
      "[BernoulliRBM] Iteration 17, pseudo-likelihood = -91.47, time = 2.83s\n",
      "[BernoulliRBM] Iteration 18, pseudo-likelihood = -94.28, time = 2.83s\n",
      "[BernoulliRBM] Iteration 19, pseudo-likelihood = -93.48, time = 2.83s\n",
      "[BernoulliRBM] Iteration 20, pseudo-likelihood = -95.98, time = 2.84s\n",
      "[BernoulliRBM] Iteration 1, pseudo-likelihood = -103.53, time = 3.78s\n",
      "[BernoulliRBM] Iteration 2, pseudo-likelihood = -98.35, time = 4.32s\n",
      "[BernoulliRBM] Iteration 3, pseudo-likelihood = -90.67, time = 4.23s\n",
      "[BernoulliRBM] Iteration 4, pseudo-likelihood = -86.07, time = 4.24s\n",
      "[BernoulliRBM] Iteration 5, pseudo-likelihood = -89.21, time = 4.28s\n",
      "[BernoulliRBM] Iteration 1, pseudo-likelihood = -116.30, time = 3.90s\n",
      "[BernoulliRBM] Iteration 2, pseudo-likelihood = -103.42, time = 4.39s\n",
      "[BernoulliRBM] Iteration 3, pseudo-likelihood = -102.48, time = 4.56s\n",
      "[BernoulliRBM] Iteration 4, pseudo-likelihood = -98.05, time = 4.68s\n",
      "[BernoulliRBM] Iteration 5, pseudo-likelihood = -92.41, time = 4.32s\n",
      "[BernoulliRBM] Iteration 1, pseudo-likelihood = -107.21, time = 3.80s\n",
      "[BernoulliRBM] Iteration 2, pseudo-likelihood = -101.09, time = 5.07s\n",
      "[BernoulliRBM] Iteration 3, pseudo-likelihood = -91.10, time = 5.66s\n",
      "[BernoulliRBM] Iteration 4, pseudo-likelihood = -89.86, time = 5.27s\n",
      "[BernoulliRBM] Iteration 5, pseudo-likelihood = -86.26, time = 5.19s\n",
      "[BernoulliRBM] Iteration 6, pseudo-likelihood = -88.96, time = 4.28s\n",
      "[BernoulliRBM] Iteration 7, pseudo-likelihood = -83.39, time = 4.95s\n",
      "[BernoulliRBM] Iteration 8, pseudo-likelihood = -83.38, time = 4.55s\n",
      "[BernoulliRBM] Iteration 9, pseudo-likelihood = -85.47, time = 5.06s\n",
      "[BernoulliRBM] Iteration 10, pseudo-likelihood = -83.86, time = 4.98s\n",
      "[BernoulliRBM] Iteration 11, pseudo-likelihood = -82.67, time = 4.15s\n",
      "[BernoulliRBM] Iteration 12, pseudo-likelihood = -81.77, time = 4.15s\n",
      "[BernoulliRBM] Iteration 13, pseudo-likelihood = -88.27, time = 4.16s\n",
      "[BernoulliRBM] Iteration 14, pseudo-likelihood = -86.41, time = 4.14s\n",
      "[BernoulliRBM] Iteration 15, pseudo-likelihood = -80.92, time = 4.25s\n",
      "[BernoulliRBM] Iteration 16, pseudo-likelihood = -80.27, time = 4.32s\n",
      "[BernoulliRBM] Iteration 17, pseudo-likelihood = -78.05, time = 4.68s\n",
      "[BernoulliRBM] Iteration 18, pseudo-likelihood = -79.58, time = 5.38s\n",
      "[BernoulliRBM] Iteration 19, pseudo-likelihood = -74.38, time = 4.35s\n",
      "[BernoulliRBM] Iteration 20, pseudo-likelihood = -82.91, time = 5.20s\n",
      "[BernoulliRBM] Iteration 1, pseudo-likelihood = -124.83, time = 3.84s\n",
      "[BernoulliRBM] Iteration 2, pseudo-likelihood = -110.02, time = 5.69s\n",
      "[BernoulliRBM] Iteration 3, pseudo-likelihood = -98.26, time = 4.44s\n",
      "[BernoulliRBM] Iteration 4, pseudo-likelihood = -98.61, time = 4.42s\n",
      "[BernoulliRBM] Iteration 5, pseudo-likelihood = -93.59, time = 4.34s\n",
      "[BernoulliRBM] Iteration 6, pseudo-likelihood = -90.00, time = 5.51s\n",
      "[BernoulliRBM] Iteration 7, pseudo-likelihood = -89.97, time = 4.57s\n",
      "[BernoulliRBM] Iteration 8, pseudo-likelihood = -95.49, time = 5.37s\n",
      "[BernoulliRBM] Iteration 9, pseudo-likelihood = -90.97, time = 4.46s\n",
      "[BernoulliRBM] Iteration 10, pseudo-likelihood = -86.86, time = 4.15s\n",
      "[BernoulliRBM] Iteration 11, pseudo-likelihood = -93.13, time = 4.15s\n",
      "[BernoulliRBM] Iteration 12, pseudo-likelihood = -87.59, time = 4.40s\n",
      "[BernoulliRBM] Iteration 13, pseudo-likelihood = -88.92, time = 4.82s\n",
      "[BernoulliRBM] Iteration 14, pseudo-likelihood = -84.84, time = 4.66s\n",
      "[BernoulliRBM] Iteration 15, pseudo-likelihood = -86.84, time = 4.56s\n",
      "[BernoulliRBM] Iteration 16, pseudo-likelihood = -85.65, time = 4.49s\n",
      "[BernoulliRBM] Iteration 17, pseudo-likelihood = -82.72, time = 4.15s\n",
      "[BernoulliRBM] Iteration 18, pseudo-likelihood = -82.39, time = 4.84s\n",
      "[BernoulliRBM] Iteration 19, pseudo-likelihood = -82.86, time = 4.69s\n",
      "[BernoulliRBM] Iteration 20, pseudo-likelihood = -89.90, time = 4.32s\n",
      "[BernoulliRBM] Iteration 1, pseudo-likelihood = -96.38, time = 7.51s\n",
      "[BernoulliRBM] Iteration 2, pseudo-likelihood = -89.29, time = 12.32s\n",
      "[BernoulliRBM] Iteration 3, pseudo-likelihood = -84.47, time = 9.43s\n",
      "[BernoulliRBM] Iteration 4, pseudo-likelihood = -82.30, time = 11.72s\n",
      "[BernoulliRBM] Iteration 5, pseudo-likelihood = -84.23, time = 9.83s\n",
      "[BernoulliRBM] Iteration 6, pseudo-likelihood = -83.12, time = 9.16s\n",
      "[BernoulliRBM] Iteration 7, pseudo-likelihood = -81.54, time = 10.67s\n",
      "[BernoulliRBM] Iteration 8, pseudo-likelihood = -82.78, time = 9.55s\n",
      "[BernoulliRBM] Iteration 9, pseudo-likelihood = -82.49, time = 9.61s\n",
      "[BernoulliRBM] Iteration 10, pseudo-likelihood = -79.83, time = 9.10s\n",
      "[BernoulliRBM] Iteration 11, pseudo-likelihood = -80.38, time = 8.78s\n",
      "[BernoulliRBM] Iteration 12, pseudo-likelihood = -79.68, time = 8.81s\n",
      "[BernoulliRBM] Iteration 13, pseudo-likelihood = -80.43, time = 8.99s\n",
      "[BernoulliRBM] Iteration 14, pseudo-likelihood = -78.76, time = 8.96s\n",
      "[BernoulliRBM] Iteration 15, pseudo-likelihood = -81.84, time = 8.92s\n",
      "[BernoulliRBM] Iteration 16, pseudo-likelihood = -81.52, time = 8.53s\n",
      "[BernoulliRBM] Iteration 17, pseudo-likelihood = -77.15, time = 9.00s\n",
      "[BernoulliRBM] Iteration 18, pseudo-likelihood = -77.79, time = 9.87s\n",
      "[BernoulliRBM] Iteration 19, pseudo-likelihood = -79.00, time = 10.63s\n",
      "[BernoulliRBM] Iteration 20, pseudo-likelihood = -79.14, time = 10.01s\n"
     ]
    },
    {
     "data": {
      "text/plain": [
       "{'rbm__n_components': 150, 'rbm__n_iter': 20}"
      ]
     },
     "execution_count": 20,
     "metadata": {},
     "output_type": "execute_result"
    }
   ],
   "source": [
    "param_grid = [{'rbm__n_components' : [5, 50, 100, 150],\n",
    "               'rbm__n_iter' : [5, 20]}]\n",
    "\n",
    "grid_search = GridSearchCV(rbm_features_classifier, param_grid, cv=2)\n",
    "\n",
    "grid_search.fit(x_train,y_train)\n",
    "\n",
    "grid_search.best_params_"
   ]
  },
  {
   "cell_type": "code",
   "execution_count": 21,
   "metadata": {},
   "outputs": [
    {
     "name": "stdout",
     "output_type": "stream",
     "text": [
      "Parameters:  {'rbm__n_components': 5, 'rbm__n_iter': 5}\n",
      "Mean Test Score:  0.11181547619047619\n",
      "Rank:  8\n",
      "Parameters:  {'rbm__n_components': 5, 'rbm__n_iter': 20}\n",
      "Mean Test Score:  0.11202380952380953\n",
      "Rank:  7\n",
      "Parameters:  {'rbm__n_components': 50, 'rbm__n_iter': 5}\n",
      "Mean Test Score:  0.8917857142857143\n",
      "Rank:  6\n",
      "Parameters:  {'rbm__n_components': 50, 'rbm__n_iter': 20}\n",
      "Mean Test Score:  0.8948214285714285\n",
      "Rank:  5\n",
      "Parameters:  {'rbm__n_components': 100, 'rbm__n_iter': 5}\n",
      "Mean Test Score:  0.9233630952380952\n",
      "Rank:  4\n",
      "Parameters:  {'rbm__n_components': 100, 'rbm__n_iter': 20}\n",
      "Mean Test Score:  0.9235119047619048\n",
      "Rank:  3\n",
      "Parameters:  {'rbm__n_components': 150, 'rbm__n_iter': 5}\n",
      "Mean Test Score:  0.9327678571428571\n",
      "Rank:  2\n",
      "Parameters:  {'rbm__n_components': 150, 'rbm__n_iter': 20}\n",
      "Mean Test Score:  0.9345238095238095\n",
      "Rank:  1\n"
     ]
    }
   ],
   "source": [
    "for i in range(8):\n",
    "    print('Parameters: ', grid_search.cv_results_['params'][i])\n",
    "    print('Mean Test Score: ', grid_search.cv_results_['mean_test_score'][i])\n",
    "    print('Rank: ', grid_search.cv_results_['rank_test_score'][i])"
   ]
  },
  {
   "cell_type": "code",
   "execution_count": null,
   "metadata": {},
   "outputs": [],
   "source": []
  },
  {
   "cell_type": "code",
   "execution_count": null,
   "metadata": {},
   "outputs": [],
   "source": []
  },
  {
   "cell_type": "code",
   "execution_count": null,
   "metadata": {},
   "outputs": [],
   "source": []
  },
  {
   "cell_type": "code",
   "execution_count": null,
   "metadata": {},
   "outputs": [],
   "source": []
  },
  {
   "cell_type": "code",
   "execution_count": null,
   "metadata": {},
   "outputs": [],
   "source": []
  },
  {
   "cell_type": "code",
   "execution_count": null,
   "metadata": {},
   "outputs": [],
   "source": []
  },
  {
   "cell_type": "code",
   "execution_count": null,
   "metadata": {},
   "outputs": [],
   "source": []
  },
  {
   "cell_type": "code",
   "execution_count": null,
   "metadata": {},
   "outputs": [],
   "source": []
  },
  {
   "cell_type": "code",
   "execution_count": null,
   "metadata": {},
   "outputs": [],
   "source": []
  }
 ],
 "metadata": {
  "kernelspec": {
   "display_name": "Python 3",
   "language": "python",
   "name": "python3"
  },
  "language_info": {
   "codemirror_mode": {
    "name": "ipython",
    "version": 3
   },
   "file_extension": ".py",
   "mimetype": "text/x-python",
   "name": "python",
   "nbconvert_exporter": "python",
   "pygments_lexer": "ipython3",
   "version": "3.7.1"
  }
 },
 "nbformat": 4,
 "nbformat_minor": 2
}

{
 "cells": [
  {
   "cell_type": "code",
   "execution_count": 23,
   "metadata": {},
   "outputs": [],
   "source": [
    "import pandas as pd\n",
    "import matplotlib.pyplot as plt"
   ]
  },
  {
   "cell_type": "code",
   "execution_count": 24,
   "metadata": {},
   "outputs": [
    {
     "data": {
      "text/html": [
       "<div>\n",
       "<style scoped>\n",
       "    .dataframe tbody tr th:only-of-type {\n",
       "        vertical-align: middle;\n",
       "    }\n",
       "\n",
       "    .dataframe tbody tr th {\n",
       "        vertical-align: top;\n",
       "    }\n",
       "\n",
       "    .dataframe thead th {\n",
       "        text-align: right;\n",
       "    }\n",
       "</style>\n",
       "<table border=\"1\" class=\"dataframe\">\n",
       "  <thead>\n",
       "    <tr style=\"text-align: right;\">\n",
       "      <th></th>\n",
       "      <th>cement</th>\n",
       "      <th>slag</th>\n",
       "      <th>flyash</th>\n",
       "      <th>water</th>\n",
       "      <th>superplasticizer</th>\n",
       "      <th>coarseaggregate</th>\n",
       "      <th>fineaggregate</th>\n",
       "      <th>age</th>\n",
       "      <th>csMPa</th>\n",
       "    </tr>\n",
       "  </thead>\n",
       "  <tbody>\n",
       "    <tr>\n",
       "      <th>0</th>\n",
       "      <td>540.0</td>\n",
       "      <td>0.0</td>\n",
       "      <td>0.0</td>\n",
       "      <td>162.0</td>\n",
       "      <td>2.5</td>\n",
       "      <td>1040.0</td>\n",
       "      <td>676.0</td>\n",
       "      <td>28</td>\n",
       "      <td>79.99</td>\n",
       "    </tr>\n",
       "    <tr>\n",
       "      <th>1</th>\n",
       "      <td>540.0</td>\n",
       "      <td>0.0</td>\n",
       "      <td>0.0</td>\n",
       "      <td>162.0</td>\n",
       "      <td>2.5</td>\n",
       "      <td>1055.0</td>\n",
       "      <td>676.0</td>\n",
       "      <td>28</td>\n",
       "      <td>61.89</td>\n",
       "    </tr>\n",
       "    <tr>\n",
       "      <th>2</th>\n",
       "      <td>332.5</td>\n",
       "      <td>142.5</td>\n",
       "      <td>0.0</td>\n",
       "      <td>228.0</td>\n",
       "      <td>0.0</td>\n",
       "      <td>932.0</td>\n",
       "      <td>594.0</td>\n",
       "      <td>270</td>\n",
       "      <td>40.27</td>\n",
       "    </tr>\n",
       "    <tr>\n",
       "      <th>3</th>\n",
       "      <td>332.5</td>\n",
       "      <td>142.5</td>\n",
       "      <td>0.0</td>\n",
       "      <td>228.0</td>\n",
       "      <td>0.0</td>\n",
       "      <td>932.0</td>\n",
       "      <td>594.0</td>\n",
       "      <td>365</td>\n",
       "      <td>41.05</td>\n",
       "    </tr>\n",
       "    <tr>\n",
       "      <th>4</th>\n",
       "      <td>198.6</td>\n",
       "      <td>132.4</td>\n",
       "      <td>0.0</td>\n",
       "      <td>192.0</td>\n",
       "      <td>0.0</td>\n",
       "      <td>978.4</td>\n",
       "      <td>825.5</td>\n",
       "      <td>360</td>\n",
       "      <td>44.30</td>\n",
       "    </tr>\n",
       "  </tbody>\n",
       "</table>\n",
       "</div>"
      ],
      "text/plain": [
       "   cement   slag  flyash  water  superplasticizer  coarseaggregate  \\\n",
       "0   540.0    0.0     0.0  162.0               2.5           1040.0   \n",
       "1   540.0    0.0     0.0  162.0               2.5           1055.0   \n",
       "2   332.5  142.5     0.0  228.0               0.0            932.0   \n",
       "3   332.5  142.5     0.0  228.0               0.0            932.0   \n",
       "4   198.6  132.4     0.0  192.0               0.0            978.4   \n",
       "\n",
       "   fineaggregate  age  csMPa  \n",
       "0          676.0   28  79.99  \n",
       "1          676.0   28  61.89  \n",
       "2          594.0  270  40.27  \n",
       "3          594.0  365  41.05  \n",
       "4          825.5  360  44.30  "
      ]
     },
     "execution_count": 24,
     "metadata": {},
     "output_type": "execute_result"
    }
   ],
   "source": [
    "concrete = pd.read_csv('datasets/concrete_data.csv')\n",
    "\n",
    "concrete.head()"
   ]
  },
  {
   "cell_type": "code",
   "execution_count": 25,
   "metadata": {},
   "outputs": [],
   "source": [
    "X = concrete.drop('csMPa', axis=1)\n",
    "\n",
    "Y = concrete['csMPa']"
   ]
  },
  {
   "cell_type": "code",
   "execution_count": 26,
   "metadata": {},
   "outputs": [],
   "source": [
    "from sklearn.model_selection import train_test_split\n",
    "\n",
    "x_train, x_test, y_train, y_test = train_test_split(X, Y, test_size=0.2)"
   ]
  },
  {
   "cell_type": "markdown",
   "metadata": {},
   "source": [
    "### AdaBoostRegressor\n",
    "https://scikit-learn.org/stable/modules/generated/sklearn.ensemble.AdaBoostRegressor.html"
   ]
  },
  {
   "cell_type": "code",
   "execution_count": 27,
   "metadata": {},
   "outputs": [],
   "source": [
    "from sklearn.ensemble import AdaBoostRegressor\n",
    "from sklearn.tree import DecisionTreeRegressor"
   ]
  },
  {
   "cell_type": "code",
   "execution_count": 28,
   "metadata": {},
   "outputs": [
    {
     "data": {
      "text/plain": [
       "AdaBoostRegressor(base_estimator=DecisionTreeRegressor(criterion='mse',\n",
       "                                                       max_depth=4,\n",
       "                                                       max_features=None,\n",
       "                                                       max_leaf_nodes=None,\n",
       "                                                       min_impurity_decrease=0.0,\n",
       "                                                       min_impurity_split=None,\n",
       "                                                       min_samples_leaf=1,\n",
       "                                                       min_samples_split=2,\n",
       "                                                       min_weight_fraction_leaf=0.0,\n",
       "                                                       presort=False,\n",
       "                                                       random_state=None,\n",
       "                                                       splitter='best'),\n",
       "                  learning_rate=1.0, loss='linear', n_estimators=100,\n",
       "                  random_state=None)"
      ]
     },
     "execution_count": 28,
     "metadata": {},
     "output_type": "execute_result"
    }
   ],
   "source": [
    "ada_reg = AdaBoostRegressor(DecisionTreeRegressor(max_depth=4), \n",
    "                            n_estimators=100, \n",
    "                            learning_rate=1.0)\n",
    "\n",
    "ada_reg.fit(x_train, y_train)"
   ]
  },
  {
   "cell_type": "code",
   "execution_count": 29,
   "metadata": {},
   "outputs": [
    {
     "data": {
      "text/plain": [
       "array([1.49133403, 1.53052815, 1.20539511, 1.09574642, 0.97429071,\n",
       "       1.09475162, 1.6400433 , 1.20711549, 1.11068646, 0.99534986,\n",
       "       0.70656228, 0.88642136, 0.84546933, 0.88129203, 1.00464611,\n",
       "       0.72864448, 0.86877425, 0.82084401, 0.76102455, 0.68235022,\n",
       "       0.5886617 , 0.99794381, 0.73003261, 0.9001855 , 0.91055839,\n",
       "       0.47442618, 0.70385147, 0.72170535, 0.58221069, 0.67863394,\n",
       "       0.82709503, 0.89295027, 0.6325679 , 0.6820979 , 0.29035839,\n",
       "       0.89394618, 0.12431449, 0.66996017, 0.75190189, 0.40077396,\n",
       "       0.78567991, 0.37576437, 0.72475545, 0.86917828, 0.53094667,\n",
       "       0.11400981, 0.79511126, 0.67900124, 0.60775422, 0.32633126,\n",
       "       0.68953063, 0.89535889, 0.63228986, 0.56399532, 0.47558249,\n",
       "       0.75991179, 0.4365817 , 0.40232909, 0.53862839, 0.89907097,\n",
       "       0.69620017, 0.39852084, 0.85348036, 0.74362464, 0.45291041,\n",
       "       0.97208233, 0.90018613, 0.82478952, 0.884847  , 0.69630155,\n",
       "       0.68608316, 1.1948191 , 0.30855689, 0.93168825, 1.23490627,\n",
       "       0.99388807, 0.91050417, 0.86476704, 1.22315374, 0.85678696,\n",
       "       0.92183883, 0.81160863, 0.76636793, 0.80883355, 0.65166042,\n",
       "       1.02794479, 0.56010322, 0.60135831, 0.74721876, 0.8517083 ,\n",
       "       1.18086891, 1.18323247, 1.18174575, 0.67656621, 0.45861638,\n",
       "       0.86723677, 0.92802686, 1.21872016, 0.68408125, 1.16917397])"
      ]
     },
     "execution_count": 29,
     "metadata": {},
     "output_type": "execute_result"
    }
   ],
   "source": [
    "ada_reg.estimator_weights_"
   ]
  },
  {
   "cell_type": "code",
   "execution_count": 30,
   "metadata": {},
   "outputs": [],
   "source": [
    "y_pred = ada_reg.predict(x_test)"
   ]
  },
  {
   "cell_type": "code",
   "execution_count": 31,
   "metadata": {},
   "outputs": [
    {
     "data": {
      "text/plain": [
       "0.7637438243382526"
      ]
     },
     "execution_count": 31,
     "metadata": {},
     "output_type": "execute_result"
    }
   ],
   "source": [
    "from sklearn.metrics import r2_score\n",
    "\n",
    "r2_score(y_test, y_pred)"
   ]
  },
  {
   "cell_type": "code",
   "execution_count": 32,
   "metadata": {},
   "outputs": [
    {
     "data": {
      "text/plain": [
       "AdaBoostRegressor(base_estimator=DecisionTreeRegressor(criterion='mse',\n",
       "                                                       max_depth=2,\n",
       "                                                       max_features=None,\n",
       "                                                       max_leaf_nodes=None,\n",
       "                                                       min_impurity_decrease=0.0,\n",
       "                                                       min_impurity_split=None,\n",
       "                                                       min_samples_leaf=1,\n",
       "                                                       min_samples_split=2,\n",
       "                                                       min_weight_fraction_leaf=0.0,\n",
       "                                                       presort=False,\n",
       "                                                       random_state=None,\n",
       "                                                       splitter='best'),\n",
       "                  learning_rate=0.5, loss='linear', n_estimators=200,\n",
       "                  random_state=None)"
      ]
     },
     "execution_count": 32,
     "metadata": {},
     "output_type": "execute_result"
    }
   ],
   "source": [
    "ada_reg = AdaBoostRegressor(DecisionTreeRegressor(max_depth=2), \n",
    "                            n_estimators=200, \n",
    "                            learning_rate=0.5)\n",
    "\n",
    "ada_reg.fit(x_train, y_train)"
   ]
  },
  {
   "cell_type": "code",
   "execution_count": 35,
   "metadata": {},
   "outputs": [
    {
     "data": {
      "text/plain": [
       "array([0.63426005, 0.60982095, 0.51558585, 0.59743413, 0.50597359,\n",
       "       0.5501901 , 0.43571767, 0.45815181, 0.47206115, 0.48118667,\n",
       "       0.52131331, 0.42300327, 0.24937078, 0.40002789, 0.42615773,\n",
       "       0.40038301, 0.26949074, 0.31626053, 0.47404056, 0.25515712,\n",
       "       0.36191392, 0.40654674, 0.38910625, 0.32366379, 0.36057827,\n",
       "       0.48801028, 0.33538976, 0.53379365, 0.45418146, 0.39401196,\n",
       "       0.47864616, 0.39379151, 0.35456871, 0.40726684, 0.26797921,\n",
       "       0.35436871, 0.28925967, 0.49738001, 0.28419553, 0.42762124,\n",
       "       0.37213756, 0.31088798, 0.33519785, 0.2752945 , 0.34796323,\n",
       "       0.38212219, 0.24322435, 0.52122316, 0.35335263, 0.33784006,\n",
       "       0.23479836, 0.46842135, 0.35014787, 0.4495229 , 0.32915367,\n",
       "       0.46623993, 0.23667271, 0.41496195, 0.31075669, 0.31100976,\n",
       "       0.54303051, 0.26692011, 0.29567758, 0.33302116, 0.45161777,\n",
       "       0.37496589, 0.30189569, 0.26650757, 0.26119434, 0.50938858,\n",
       "       0.35965189, 0.42308633, 0.34620675, 0.34269879, 0.27455875,\n",
       "       0.26058971, 0.28596657, 0.34371396, 0.20671966, 0.46903206,\n",
       "       0.3343912 , 0.37320749, 0.46939218, 0.40914624, 0.3112016 ,\n",
       "       0.37772738, 0.36832378, 0.21317528, 0.29971793, 0.35645136,\n",
       "       0.29233439, 0.1893516 , 0.56774183, 0.23667034, 0.29193191,\n",
       "       0.18802898, 0.28657623, 0.27994137, 0.41469517, 0.3080402 ,\n",
       "       0.34168022, 0.22198406, 0.43207457, 0.4631194 , 0.31391675,\n",
       "       0.1536946 , 0.41812976, 0.29134539, 0.16921481, 0.4972814 ,\n",
       "       0.46268979, 0.17947363, 0.18142462, 0.34428155, 0.37527114,\n",
       "       0.25784023, 0.2519049 , 0.43149702, 0.1897684 , 0.35908465,\n",
       "       0.45647834, 0.1561186 , 0.32273459, 0.43546104, 0.15671493,\n",
       "       0.20240298, 0.29667387, 0.36017405, 0.54486615, 0.36423738,\n",
       "       0.17311231, 0.25096728, 0.26831783, 0.40501769, 0.13789211,\n",
       "       0.39356074, 0.35304853, 0.36855979, 0.4049346 , 0.31270398,\n",
       "       0.44929416, 0.32600874, 0.30015202, 0.25308037, 0.22626471,\n",
       "       0.4473535 , 0.32179331, 0.17570524, 0.25379984, 0.48588078,\n",
       "       0.34976445, 0.28539062, 0.24426735, 0.39204638, 0.4412724 ,\n",
       "       0.46478282, 0.25461477, 0.4724251 , 0.37990538, 0.37076718,\n",
       "       0.27099543, 0.27357543, 0.37702269, 0.3144193 , 0.21041813,\n",
       "       0.34933   , 0.43687783, 0.26011936, 0.3592509 , 0.32427146,\n",
       "       0.19667403, 0.36910395, 0.41085937, 0.20410286, 0.19200679,\n",
       "       0.31815205, 0.24534724, 0.4100601 , 0.18119299, 0.38609492,\n",
       "       0.20300971, 0.36748549, 0.42673739, 0.16731222, 0.23459378,\n",
       "       0.61306188, 0.33972137, 0.3005162 , 0.45344738, 0.15007837,\n",
       "       0.39869011, 0.26577357, 0.47532179, 0.50558162, 0.25474826,\n",
       "       0.23089542, 0.35668184, 0.34063843, 0.26577019, 0.40020391])"
      ]
     },
     "execution_count": 35,
     "metadata": {},
     "output_type": "execute_result"
    }
   ],
   "source": [
    "ada_reg.estimator_weights_"
   ]
  },
  {
   "cell_type": "code",
   "execution_count": 33,
   "metadata": {},
   "outputs": [],
   "source": [
    "y_pred = ada_reg.predict(x_test)"
   ]
  },
  {
   "cell_type": "code",
   "execution_count": 34,
   "metadata": {},
   "outputs": [
    {
     "data": {
      "text/plain": [
       "0.6747087315155809"
      ]
     },
     "execution_count": 34,
     "metadata": {},
     "output_type": "execute_result"
    }
   ],
   "source": [
    "from sklearn.metrics import r2_score\n",
    "\n",
    "r2_score(y_test, y_pred)"
   ]
  },
  {
   "cell_type": "code",
   "execution_count": null,
   "metadata": {},
   "outputs": [],
   "source": []
  },
  {
   "cell_type": "code",
   "execution_count": null,
   "metadata": {},
   "outputs": [],
   "source": []
  },
  {
   "cell_type": "code",
   "execution_count": null,
   "metadata": {},
   "outputs": [],
   "source": []
  },
  {
   "cell_type": "code",
   "execution_count": null,
   "metadata": {},
   "outputs": [],
   "source": []
  },
  {
   "cell_type": "code",
   "execution_count": null,
   "metadata": {},
   "outputs": [],
   "source": []
  },
  {
   "cell_type": "code",
   "execution_count": null,
   "metadata": {},
   "outputs": [],
   "source": []
  },
  {
   "cell_type": "code",
   "execution_count": null,
   "metadata": {},
   "outputs": [],
   "source": []
  },
  {
   "cell_type": "code",
   "execution_count": null,
   "metadata": {},
   "outputs": [],
   "source": []
  },
  {
   "cell_type": "code",
   "execution_count": null,
   "metadata": {},
   "outputs": [],
   "source": []
  },
  {
   "cell_type": "code",
   "execution_count": null,
   "metadata": {},
   "outputs": [],
   "source": []
  },
  {
   "cell_type": "code",
   "execution_count": null,
   "metadata": {},
   "outputs": [],
   "source": []
  },
  {
   "cell_type": "code",
   "execution_count": null,
   "metadata": {},
   "outputs": [],
   "source": []
  },
  {
   "cell_type": "code",
   "execution_count": null,
   "metadata": {},
   "outputs": [],
   "source": []
  },
  {
   "cell_type": "code",
   "execution_count": null,
   "metadata": {},
   "outputs": [],
   "source": []
  },
  {
   "cell_type": "code",
   "execution_count": null,
   "metadata": {},
   "outputs": [],
   "source": []
  },
  {
   "cell_type": "code",
   "execution_count": null,
   "metadata": {},
   "outputs": [],
   "source": []
  },
  {
   "cell_type": "code",
   "execution_count": null,
   "metadata": {},
   "outputs": [],
   "source": []
  },
  {
   "cell_type": "code",
   "execution_count": null,
   "metadata": {},
   "outputs": [],
   "source": []
  },
  {
   "cell_type": "code",
   "execution_count": null,
   "metadata": {},
   "outputs": [],
   "source": []
  },
  {
   "cell_type": "code",
   "execution_count": null,
   "metadata": {},
   "outputs": [],
   "source": []
  },
  {
   "cell_type": "code",
   "execution_count": null,
   "metadata": {},
   "outputs": [],
   "source": []
  },
  {
   "cell_type": "code",
   "execution_count": null,
   "metadata": {},
   "outputs": [],
   "source": []
  },
  {
   "cell_type": "code",
   "execution_count": null,
   "metadata": {},
   "outputs": [],
   "source": []
  },
  {
   "cell_type": "code",
   "execution_count": null,
   "metadata": {},
   "outputs": [],
   "source": []
  },
  {
   "cell_type": "code",
   "execution_count": null,
   "metadata": {},
   "outputs": [],
   "source": []
  }
 ],
 "metadata": {
  "kernelspec": {
   "display_name": "Python 3",
   "language": "python",
   "name": "python3"
  },
  "language_info": {
   "codemirror_mode": {
    "name": "ipython",
    "version": 3
   },
   "file_extension": ".py",
   "mimetype": "text/x-python",
   "name": "python",
   "nbconvert_exporter": "python",
   "pygments_lexer": "ipython3",
   "version": "3.6.4"
  }
 },
 "nbformat": 4,
 "nbformat_minor": 2
}

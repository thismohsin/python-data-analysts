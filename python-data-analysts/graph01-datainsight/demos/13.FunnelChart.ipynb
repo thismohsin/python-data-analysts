{
 "cells": [
  {
   "cell_type": "markdown",
   "metadata": {},
   "source": [
    "## Funnel Charts\n",
    "https://plot.ly/python/funnel-charts/\n",
    "\n",
    "Funnel charts are often used to represent data in different stages of a business process. It’s an important mechanism in Business Intelligence to identify potential problem areas of a process. For example, it’s used to observe the revenue or loss in a sales process for each stage. A funnel chart has multiple phases and values associated with them. Here is a table that represents a user flow funnel for a app. The column named 'Values' represents the total number of users at that Phase"
   ]
  },
  {
   "cell_type": "markdown",
   "metadata": {},
   "source": [
    "### Importing packages"
   ]
  },
  {
   "cell_type": "code",
   "execution_count": 1,
   "metadata": {},
   "outputs": [
    {
     "data": {
      "text/html": [
       "        <script type=\"text/javascript\">\n",
       "        window.PlotlyConfig = {MathJaxConfig: 'local'};\n",
       "        if (window.MathJax) {MathJax.Hub.Config({SVG: {font: \"STIX-Web\"}});}\n",
       "        if (typeof require !== 'undefined') {\n",
       "        require.undef(\"plotly\");\n",
       "        requirejs.config({\n",
       "            paths: {\n",
       "                'plotly': ['https://cdn.plot.ly/plotly-latest.min']\n",
       "            }\n",
       "        });\n",
       "        require(['plotly'], function(Plotly) {\n",
       "            window._Plotly = Plotly;\n",
       "        });\n",
       "        }\n",
       "        </script>\n",
       "        "
      ]
     },
     "metadata": {},
     "output_type": "display_data"
    }
   ],
   "source": [
    "import pandas as pd\n",
    "import plotly.graph_objs as go\n",
    "import plotly.offline as offline\n",
    "\n",
    "offline.init_notebook_mode(connected=True)"
   ]
  },
  {
   "cell_type": "markdown",
   "metadata": {},
   "source": [
    "### Loading dataset\n",
    "\n",
    "This is self made dataset which shows how many people are checking out app, clicking on the app info, downloading the app and in last purchasing the app."
   ]
  },
  {
   "cell_type": "code",
   "execution_count": 2,
   "metadata": {},
   "outputs": [
    {
     "data": {
      "text/html": [
       "<div>\n",
       "<style scoped>\n",
       "    .dataframe tbody tr th:only-of-type {\n",
       "        vertical-align: middle;\n",
       "    }\n",
       "\n",
       "    .dataframe tbody tr th {\n",
       "        vertical-align: top;\n",
       "    }\n",
       "\n",
       "    .dataframe thead th {\n",
       "        text-align: right;\n",
       "    }\n",
       "</style>\n",
       "<table border=\"1\" class=\"dataframe\">\n",
       "  <thead>\n",
       "    <tr style=\"text-align: right;\">\n",
       "      <th></th>\n",
       "      <th>Phases</th>\n",
       "      <th>Values</th>\n",
       "    </tr>\n",
       "  </thead>\n",
       "  <tbody>\n",
       "    <tr>\n",
       "      <th>0</th>\n",
       "      <td>Impressions</td>\n",
       "      <td>1000000</td>\n",
       "    </tr>\n",
       "    <tr>\n",
       "      <th>1</th>\n",
       "      <td>Clicks</td>\n",
       "      <td>500000</td>\n",
       "    </tr>\n",
       "    <tr>\n",
       "      <th>2</th>\n",
       "      <td>Downloads</td>\n",
       "      <td>100000</td>\n",
       "    </tr>\n",
       "    <tr>\n",
       "      <th>3</th>\n",
       "      <td>Purchase</td>\n",
       "      <td>10000</td>\n",
       "    </tr>\n",
       "  </tbody>\n",
       "</table>\n",
       "</div>"
      ],
      "text/plain": [
       "        Phases   Values\n",
       "0  Impressions  1000000\n",
       "1       Clicks   500000\n",
       "2    Downloads   100000\n",
       "3     Purchase    10000"
      ]
     },
     "execution_count": 2,
     "metadata": {},
     "output_type": "execute_result"
    }
   ],
   "source": [
    "app_data = pd.read_csv('datasets/app_info.csv')\n",
    "\n",
    "app_data"
   ]
  },
  {
   "cell_type": "markdown",
   "metadata": {},
   "source": [
    "##### storing the phases and no of people in the variable and also chosing the color that we are going to use in the plot"
   ]
  },
  {
   "cell_type": "code",
   "execution_count": 3,
   "metadata": {},
   "outputs": [],
   "source": [
    "phases = app_data['Phases']\n",
    "\n",
    "values = app_data['Values']\n",
    "\n",
    "colors = ['blue', 'yellow', 'green', 'red']"
   ]
  },
  {
   "cell_type": "code",
   "execution_count": 4,
   "metadata": {},
   "outputs": [
    {
     "data": {
      "text/plain": [
       "4"
      ]
     },
     "execution_count": 4,
     "metadata": {},
     "output_type": "execute_result"
    }
   ],
   "source": [
    "num_phases = len(phases)\n",
    "\n",
    "num_phases"
   ]
  },
  {
   "cell_type": "markdown",
   "metadata": {},
   "source": [
    "##### setting value for plot width, section height and section gap"
   ]
  },
  {
   "cell_type": "code",
   "execution_count": 5,
   "metadata": {},
   "outputs": [],
   "source": [
    "plot_width = 200\n",
    "\n",
    "section_height = 50\n",
    "\n",
    "section_gap = 10"
   ]
  },
  {
   "cell_type": "markdown",
   "metadata": {},
   "source": [
    "##### calculating the unit width and phase width of the funnel and then showing the width of the various section of the funnel"
   ]
  },
  {
   "cell_type": "code",
   "execution_count": 6,
   "metadata": {},
   "outputs": [
    {
     "data": {
      "text/plain": [
       "[200, 100, 20, 2]"
      ]
     },
     "execution_count": 6,
     "metadata": {},
     "output_type": "execute_result"
    }
   ],
   "source": [
    "unit_width = plot_width / max(values)\n",
    "\n",
    "phase_widths = [int(value * unit_width) for value in values]\n",
    "\n",
    "phase_widths"
   ]
  },
  {
   "cell_type": "markdown",
   "metadata": {},
   "source": [
    "##### calculating the height of the funnel which is equal to the sum of all the height of the sections and section gaps"
   ]
  },
  {
   "cell_type": "code",
   "execution_count": 7,
   "metadata": {},
   "outputs": [
    {
     "data": {
      "text/plain": [
       "230"
      ]
     },
     "execution_count": 7,
     "metadata": {},
     "output_type": "execute_result"
    }
   ],
   "source": [
    "height = section_height * num_phases + section_gap * (num_phases - 1)\n",
    "\n",
    "height"
   ]
  },
  {
   "cell_type": "code",
   "execution_count": 8,
   "metadata": {},
   "outputs": [
    {
     "data": {
      "text/plain": [
       "[100.0, 230, 50.0, 180]"
      ]
     },
     "execution_count": 8,
     "metadata": {},
     "output_type": "execute_result"
    }
   ],
   "source": [
    "points = [phase_widths[0] / 2, height, phase_widths[1] / 2, height - section_height]\n",
    "\n",
    "points"
   ]
  },
  {
   "cell_type": "markdown",
   "metadata": {},
   "source": [
    "##### setting a svg path to draw the top section of the funnel using the points that we calculated on the above cell"
   ]
  },
  {
   "cell_type": "code",
   "execution_count": 9,
   "metadata": {},
   "outputs": [
    {
     "data": {
      "text/plain": [
       "'M 100.0,230 L 50.0,180 L -50.0,180 L -100.0,230 Z'"
      ]
     },
     "execution_count": 9,
     "metadata": {},
     "output_type": "execute_result"
    }
   ],
   "source": [
    "path = 'M {0},{1} L {2},{3} L -{2},{3} L -{0},{1} Z'.format(*points)\n",
    "\n",
    "path"
   ]
  },
  {
   "cell_type": "markdown",
   "metadata": {},
   "source": [
    "##### drawing the top section using the svg path"
   ]
  },
  {
   "cell_type": "code",
   "execution_count": 10,
   "metadata": {},
   "outputs": [],
   "source": [
    "section = {'type' : 'path',\n",
    "           'path' : path,\n",
    "           'fillcolor' : colors[0],\n",
    "           'line' : {'color' : colors[0]}}"
   ]
  },
  {
   "cell_type": "code",
   "execution_count": 11,
   "metadata": {},
   "outputs": [],
   "source": [
    "layout = go.Layout(shapes= [section])"
   ]
  },
  {
   "cell_type": "code",
   "execution_count": 12,
   "metadata": {},
   "outputs": [
    {
     "data": {
      "application/vnd.plotly.v1+json": {
       "config": {
        "linkText": "Export to plot.ly",
        "plotlyServerURL": "https://plot.ly",
        "responsive": true,
        "showLink": false
       },
       "data": [
        {
         "type": "scatter",
         "uid": "c9765aac-77bf-4241-b14d-9588313a91eb"
        }
       ],
       "layout": {
        "shapes": [
         {
          "fillcolor": "blue",
          "line": {
           "color": "blue"
          },
          "path": "M 100.0,230 L 50.0,180 L -50.0,180 L -100.0,230 Z",
          "type": "path"
         }
        ]
       }
      },
      "text/html": [
       "<div>\n",
       "        \n",
       "        \n",
       "            <div id=\"e3318364-7047-4bf1-b3d9-917dda56cf7e\" class=\"plotly-graph-div\" style=\"height:525px; width:100%;\"></div>\n",
       "            <script type=\"text/javascript\">\n",
       "                require([\"plotly\"], function(Plotly) {\n",
       "                    window.PLOTLYENV=window.PLOTLYENV || {};\n",
       "                    window.PLOTLYENV.BASE_URL='https://plot.ly';\n",
       "                    \n",
       "                if (document.getElementById(\"e3318364-7047-4bf1-b3d9-917dda56cf7e\")) {\n",
       "                    Plotly.newPlot(\n",
       "                        'e3318364-7047-4bf1-b3d9-917dda56cf7e',\n",
       "                        [{\"type\": \"scatter\", \"uid\": \"89ad79ee-46a8-4562-b1dc-68823e5ef416\"}],\n",
       "                        {\"shapes\": [{\"fillcolor\": \"blue\", \"line\": {\"color\": \"blue\"}, \"path\": \"M 100.0,230 L 50.0,180 L -50.0,180 L -100.0,230 Z\", \"type\": \"path\"}]},\n",
       "                        {\"showLink\": false, \"linkText\": \"Export to plot.ly\", \"plotlyServerURL\": \"https://plot.ly\", \"responsive\": true}\n",
       "                    ).then(function(){\n",
       "                            \n",
       "var gd = document.getElementById('e3318364-7047-4bf1-b3d9-917dda56cf7e');\n",
       "var x = new MutationObserver(function (mutations, observer) {{\n",
       "        var display = window.getComputedStyle(gd).display;\n",
       "        if (!display || display === 'none') {{\n",
       "            console.log([gd, 'removed!']);\n",
       "            Plotly.purge(gd);\n",
       "            observer.disconnect();\n",
       "        }}\n",
       "}});\n",
       "\n",
       "// Listen for the removal of the full notebook cells\n",
       "var notebookContainer = gd.closest('#notebook-container');\n",
       "if (notebookContainer) {{\n",
       "    x.observe(notebookContainer, {childList: true});\n",
       "}}\n",
       "\n",
       "// Listen for the clearing of the current output cell\n",
       "var outputEl = gd.closest('.output');\n",
       "if (outputEl) {{\n",
       "    x.observe(outputEl, {childList: true});\n",
       "}}\n",
       "\n",
       "                        })\n",
       "                };\n",
       "                });\n",
       "            </script>\n",
       "        </div>"
      ]
     },
     "metadata": {},
     "output_type": "display_data"
    }
   ],
   "source": [
    "fig = go.Figure(data=[{}],\n",
    "                layout=layout)\n",
    "\n",
    "offline.iplot(fig)"
   ]
  },
  {
   "cell_type": "markdown",
   "metadata": {},
   "source": [
    "##### extending the same thing for plotting the each section of the funnel"
   ]
  },
  {
   "cell_type": "code",
   "execution_count": 13,
   "metadata": {},
   "outputs": [],
   "source": [
    "shapes = []\n",
    "path_list = []\n",
    "y_labels = []"
   ]
  },
  {
   "cell_type": "markdown",
   "metadata": {},
   "source": [
    "##### here we are using for loop for iterating through the section of the funnel "
   ]
  },
  {
   "cell_type": "code",
   "execution_count": 14,
   "metadata": {},
   "outputs": [
    {
     "name": "stdout",
     "output_type": "stream",
     "text": [
      "\n",
      " Points for Phase 0 = [100.0, 230, 50.0, 180]\n",
      "Path for Phase 0 = M 100.0,230 L 50.0,180 L -50.0,180 L -100.0,230 Z\n",
      "\n",
      " Points for Phase 1 = [50.0, 170, 10.0, 120]\n",
      "Path for Phase 1 = M 50.0,170 L 10.0,120 L -10.0,120 L -50.0,170 Z\n",
      "\n",
      " Points for Phase 2 = [10.0, 110, 1.0, 60]\n",
      "Path for Phase 2 = M 10.0,110 L 1.0,60 L -1.0,60 L -10.0,110 Z\n",
      "\n",
      " Points for Phase 3 = [1.0, 50, 1.0, 0]\n",
      "Path for Phase 3 = M 1.0,50 L 1.0,0 L -1.0,0 L -1.0,50 Z\n"
     ]
    }
   ],
   "source": [
    "for i in range(num_phases):\n",
    "    \n",
    "    if (i == num_phases - 1):\n",
    "        points = [phase_widths[i] / 2, height, phase_widths[i] / 2, height - section_height]\n",
    "        \n",
    "    else:\n",
    "        points = [phase_widths[i] / 2, height, phase_widths[i + 1] / 2, height - section_height]\n",
    "        \n",
    "    path = 'M {0},{1} L {2},{3} L -{2},{3} L -{0},{1} Z'.format(*points)\n",
    "    \n",
    "    print('\\n Points for Phase %d = %s' %(i, points))\n",
    "    print('Path for Phase %d = %s' %(i, path))\n",
    "    \n",
    "    path_list.append(path)\n",
    "    \n",
    "    y_labels.append(height - (section_height / 2))\n",
    "    \n",
    "    height = height - (section_height + section_gap)"
   ]
  },
  {
   "cell_type": "code",
   "execution_count": 15,
   "metadata": {},
   "outputs": [
    {
     "data": {
      "text/plain": [
       "[{'fillcolor': 'blue',\n",
       "  'line': {'color': 'blue'},\n",
       "  'path': 'M 100.0,230 L 50.0,180 L -50.0,180 L -100.0,230 Z',\n",
       "  'type': 'path'},\n",
       " {'fillcolor': 'yellow',\n",
       "  'line': {'color': 'yellow'},\n",
       "  'path': 'M 50.0,170 L 10.0,120 L -10.0,120 L -50.0,170 Z',\n",
       "  'type': 'path'},\n",
       " {'fillcolor': 'green',\n",
       "  'line': {'color': 'green'},\n",
       "  'path': 'M 10.0,110 L 1.0,60 L -1.0,60 L -10.0,110 Z',\n",
       "  'type': 'path'},\n",
       " {'fillcolor': 'red',\n",
       "  'line': {'color': 'red'},\n",
       "  'path': 'M 1.0,50 L 1.0,0 L -1.0,0 L -1.0,50 Z',\n",
       "  'type': 'path'}]"
      ]
     },
     "execution_count": 15,
     "metadata": {},
     "output_type": "execute_result"
    }
   ],
   "source": [
    "for i in range(num_phases):\n",
    "    \n",
    "    shape = {'type' : 'path',\n",
    "             'path' : path_list[i],\n",
    "             'fillcolor' : colors[i],\n",
    "             'line' : {'color' : colors[i]}\n",
    "            }\n",
    "    \n",
    "    shapes.append(shape)\n",
    "    \n",
    "shapes"
   ]
  },
  {
   "cell_type": "markdown",
   "metadata": {},
   "source": [
    "##### setting trace for text labels for each section"
   ]
  },
  {
   "cell_type": "code",
   "execution_count": 21,
   "metadata": {},
   "outputs": [],
   "source": [
    "label_trace = go.Scatter(x = [-170] * num_phases,\n",
    "                        \n",
    "                         y = y_labels,\n",
    "                         \n",
    "                         mode = 'text',\n",
    "                        \n",
    "                         text = phases)"
   ]
  },
  {
   "cell_type": "markdown",
   "metadata": {},
   "source": [
    "##### setting trace for text values for each section"
   ]
  },
  {
   "cell_type": "code",
   "execution_count": 22,
   "metadata": {},
   "outputs": [],
   "source": [
    "value_trace = go.Scatter(x = [170] * num_phases,\n",
    "                        \n",
    "                         y = y_labels,\n",
    "                        \n",
    "                         mode = 'text',\n",
    "                        \n",
    "                         text = values)"
   ]
  },
  {
   "cell_type": "code",
   "execution_count": 23,
   "metadata": {},
   "outputs": [],
   "source": [
    "data = [label_trace, value_trace]"
   ]
  },
  {
   "cell_type": "code",
   "execution_count": 24,
   "metadata": {},
   "outputs": [],
   "source": [
    "layout = go.Layout(title = '<i><b>App Purchase Funnel</i></b>',\n",
    "                   titlefont = dict(size=15),\n",
    "                   shapes = shapes,\n",
    "                   showlegend = False,\n",
    "                  \n",
    "                   xaxis = dict(showticklabels = False,\n",
    "                                zeroline = True),\n",
    "                   yaxis = dict(showticklabels = False, \n",
    "                                zeroline = True)\n",
    "                  )"
   ]
  },
  {
   "cell_type": "code",
   "execution_count": 25,
   "metadata": {},
   "outputs": [
    {
     "data": {
      "application/vnd.plotly.v1+json": {
       "config": {
        "linkText": "Export to plot.ly",
        "plotlyServerURL": "https://plot.ly",
        "responsive": true,
        "showLink": false
       },
       "data": [
        {
         "mode": "text",
         "text": [
          "Impressions",
          "Clicks",
          "Downloads",
          "Purchase"
         ],
         "type": "scatter",
         "uid": "84e2c40e-14ac-44d6-bdc1-2f18f2f2fe58",
         "x": [
          -170,
          -170,
          -170,
          -170
         ],
         "y": [
          205,
          145,
          85,
          25
         ]
        },
        {
         "mode": "text",
         "text": [
          1000000,
          500000,
          100000,
          10000
         ],
         "type": "scatter",
         "uid": "7bc32969-b94c-414e-8c52-d63e97ae62f5",
         "x": [
          170,
          170,
          170,
          170
         ],
         "y": [
          205,
          145,
          85,
          25
         ]
        }
       ],
       "layout": {
        "shapes": [
         {
          "fillcolor": "blue",
          "line": {
           "color": "blue"
          },
          "path": "M 100.0,230 L 50.0,180 L -50.0,180 L -100.0,230 Z",
          "type": "path"
         },
         {
          "fillcolor": "yellow",
          "line": {
           "color": "yellow"
          },
          "path": "M 50.0,170 L 10.0,120 L -10.0,120 L -50.0,170 Z",
          "type": "path"
         },
         {
          "fillcolor": "green",
          "line": {
           "color": "green"
          },
          "path": "M 10.0,110 L 1.0,60 L -1.0,60 L -10.0,110 Z",
          "type": "path"
         },
         {
          "fillcolor": "red",
          "line": {
           "color": "red"
          },
          "path": "M 1.0,50 L 1.0,0 L -1.0,0 L -1.0,50 Z",
          "type": "path"
         }
        ],
        "showlegend": false,
        "title": {
         "font": {
          "size": 15
         },
         "text": "<i><b>App Purchase Funnel</i></b>"
        },
        "xaxis": {
         "showticklabels": false,
         "zeroline": true
        },
        "yaxis": {
         "showticklabels": false,
         "zeroline": true
        }
       }
      },
      "text/html": [
       "<div>\n",
       "        \n",
       "        \n",
       "            <div id=\"99f4c20a-68df-47bb-a74b-6460389cff72\" class=\"plotly-graph-div\" style=\"height:525px; width:100%;\"></div>\n",
       "            <script type=\"text/javascript\">\n",
       "                require([\"plotly\"], function(Plotly) {\n",
       "                    window.PLOTLYENV=window.PLOTLYENV || {};\n",
       "                    window.PLOTLYENV.BASE_URL='https://plot.ly';\n",
       "                    \n",
       "                if (document.getElementById(\"99f4c20a-68df-47bb-a74b-6460389cff72\")) {\n",
       "                    Plotly.newPlot(\n",
       "                        '99f4c20a-68df-47bb-a74b-6460389cff72',\n",
       "                        [{\"mode\": \"text\", \"text\": [\"Impressions\", \"Clicks\", \"Downloads\", \"Purchase\"], \"type\": \"scatter\", \"uid\": \"0d56c3b1-6cd2-414e-86d7-0004ac27bba3\", \"x\": [-170, -170, -170, -170], \"y\": [205.0, 145.0, 85.0, 25.0]}, {\"mode\": \"text\", \"text\": [1000000.0, 500000.0, 100000.0, 10000.0], \"type\": \"scatter\", \"uid\": \"0dc066b3-d103-4e7e-94d4-63d76f9519b8\", \"x\": [170, 170, 170, 170], \"y\": [205.0, 145.0, 85.0, 25.0]}],\n",
       "                        {\"shapes\": [{\"fillcolor\": \"blue\", \"line\": {\"color\": \"blue\"}, \"path\": \"M 100.0,230 L 50.0,180 L -50.0,180 L -100.0,230 Z\", \"type\": \"path\"}, {\"fillcolor\": \"yellow\", \"line\": {\"color\": \"yellow\"}, \"path\": \"M 50.0,170 L 10.0,120 L -10.0,120 L -50.0,170 Z\", \"type\": \"path\"}, {\"fillcolor\": \"green\", \"line\": {\"color\": \"green\"}, \"path\": \"M 10.0,110 L 1.0,60 L -1.0,60 L -10.0,110 Z\", \"type\": \"path\"}, {\"fillcolor\": \"red\", \"line\": {\"color\": \"red\"}, \"path\": \"M 1.0,50 L 1.0,0 L -1.0,0 L -1.0,50 Z\", \"type\": \"path\"}], \"showlegend\": false, \"title\": {\"font\": {\"size\": 15}, \"text\": \"<i><b>App Purchase Funnel</i></b>\"}, \"xaxis\": {\"showticklabels\": false, \"zeroline\": true}, \"yaxis\": {\"showticklabels\": false, \"zeroline\": true}},\n",
       "                        {\"showLink\": false, \"linkText\": \"Export to plot.ly\", \"plotlyServerURL\": \"https://plot.ly\", \"responsive\": true}\n",
       "                    ).then(function(){\n",
       "                            \n",
       "var gd = document.getElementById('99f4c20a-68df-47bb-a74b-6460389cff72');\n",
       "var x = new MutationObserver(function (mutations, observer) {{\n",
       "        var display = window.getComputedStyle(gd).display;\n",
       "        if (!display || display === 'none') {{\n",
       "            console.log([gd, 'removed!']);\n",
       "            Plotly.purge(gd);\n",
       "            observer.disconnect();\n",
       "        }}\n",
       "}});\n",
       "\n",
       "// Listen for the removal of the full notebook cells\n",
       "var notebookContainer = gd.closest('#notebook-container');\n",
       "if (notebookContainer) {{\n",
       "    x.observe(notebookContainer, {childList: true});\n",
       "}}\n",
       "\n",
       "// Listen for the clearing of the current output cell\n",
       "var outputEl = gd.closest('.output');\n",
       "if (outputEl) {{\n",
       "    x.observe(outputEl, {childList: true});\n",
       "}}\n",
       "\n",
       "                        })\n",
       "                };\n",
       "                });\n",
       "            </script>\n",
       "        </div>"
      ]
     },
     "metadata": {},
     "output_type": "display_data"
    }
   ],
   "source": [
    "fig = go.Figure(data=data,\n",
    "                layout=layout)\n",
    "\n",
    "offline.iplot(fig)"
   ]
  },
  {
   "cell_type": "code",
   "execution_count": null,
   "metadata": {},
   "outputs": [],
   "source": []
  },
  {
   "cell_type": "code",
   "execution_count": null,
   "metadata": {},
   "outputs": [],
   "source": []
  }
 ],
 "metadata": {
  "kernelspec": {
   "display_name": "Python 3",
   "language": "python",
   "name": "python3"
  },
  "language_info": {
   "codemirror_mode": {
    "name": "ipython",
    "version": 3
   },
   "file_extension": ".py",
   "mimetype": "text/x-python",
   "name": "python",
   "nbconvert_exporter": "python",
   "pygments_lexer": "ipython3",
   "version": "3.6.4"
  }
 },
 "nbformat": 4,
 "nbformat_minor": 2
}

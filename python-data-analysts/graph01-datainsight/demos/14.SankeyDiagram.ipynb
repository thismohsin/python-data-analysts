{
 "cells": [
  {
   "cell_type": "markdown",
   "metadata": {},
   "source": [
    "## Sankey Diagram\n",
    "\n",
    "https://plot.ly/python/sankey-diagram/\n",
    "\n",
    "Sankey diagrams are a specific type of flow diagram, in which the width of the arrows is shown proportionally to the flow quantity."
   ]
  },
  {
   "cell_type": "markdown",
   "metadata": {},
   "source": [
    "### Importing packages"
   ]
  },
  {
   "cell_type": "code",
   "execution_count": 1,
   "metadata": {},
   "outputs": [
    {
     "data": {
      "text/html": [
       "        <script type=\"text/javascript\">\n",
       "        window.PlotlyConfig = {MathJaxConfig: 'local'};\n",
       "        if (window.MathJax) {MathJax.Hub.Config({SVG: {font: \"STIX-Web\"}});}\n",
       "        if (typeof require !== 'undefined') {\n",
       "        require.undef(\"plotly\");\n",
       "        requirejs.config({\n",
       "            paths: {\n",
       "                'plotly': ['https://cdn.plot.ly/plotly-latest.min']\n",
       "            }\n",
       "        });\n",
       "        require(['plotly'], function(Plotly) {\n",
       "            window._Plotly = Plotly;\n",
       "        });\n",
       "        }\n",
       "        </script>\n",
       "        "
      ]
     },
     "metadata": {},
     "output_type": "display_data"
    }
   ],
   "source": [
    "import pandas as pd\n",
    "import plotly.graph_objs as go\n",
    "import plotly.offline as offline\n",
    "\n",
    "offline.init_notebook_mode(connected=True)"
   ]
  },
  {
   "cell_type": "markdown",
   "metadata": {},
   "source": [
    "### Plotting sankey diagram for career path after PhD\n",
    "Source: https://borealperspectives.wordpress.com/2013/11/10/sankey-diagrams-bad-charts-and-science-careers/"
   ]
  },
  {
   "cell_type": "code",
   "execution_count": 2,
   "metadata": {},
   "outputs": [],
   "source": [
    "career_path = ['PhD',\n",
    "               'Early Career Researcher',\n",
    "               'Research Staff',\n",
    "               'Career Outside Science',\n",
    "               'Permanent Research Staff',\n",
    "               'Professor',\n",
    "               'Non-Academic Research']"
   ]
  },
  {
   "cell_type": "markdown",
   "metadata": {},
   "source": [
    "##### value shows the percentage of people chosing one particular field"
   ]
  },
  {
   "cell_type": "code",
   "execution_count": 3,
   "metadata": {},
   "outputs": [],
   "source": [
    "data_trace = go.Sankey(node = dict(label = career_path),\n",
    "                       \n",
    "                       link = dict(source = [0, 0, 1, 1, 2, 2, 2, 2],\n",
    "                                   target = [3, 1, 2, 6, 3, 4, 5, 6],\n",
    "                                   value =  [53, 47, 30, 17, 20, 6.5, 3.5, 10]))"
   ]
  },
  {
   "cell_type": "code",
   "execution_count": 4,
   "metadata": {},
   "outputs": [],
   "source": [
    "layout = dict (title = 'Sankey Diagram for Career Path after PhD')"
   ]
  },
  {
   "cell_type": "code",
   "execution_count": 5,
   "metadata": {},
   "outputs": [
    {
     "data": {
      "application/vnd.plotly.v1+json": {
       "config": {
        "linkText": "Export to plot.ly",
        "plotlyServerURL": "https://plot.ly",
        "responsive": true,
        "showLink": false
       },
       "data": [
        {
         "link": {
          "source": [
           0,
           0,
           1,
           1,
           2,
           2,
           2,
           2
          ],
          "target": [
           3,
           1,
           2,
           6,
           3,
           4,
           5,
           6
          ],
          "value": [
           53,
           47,
           30,
           17,
           20,
           6.5,
           3.5,
           10
          ]
         },
         "node": {
          "label": [
           "PhD",
           "Early Career Researcher",
           "Research Staff",
           "Career Outside Science",
           "Permanent Research Staff",
           "Professor",
           "Non-Academic Research"
          ]
         },
         "type": "sankey",
         "uid": "86be47db-ce11-49e1-8d9a-d0f513318b8e"
        }
       ],
       "layout": {
        "title": {
         "text": "Sankey Diagram for Career Path after PhD"
        }
       }
      },
      "text/html": [
       "<div>\n",
       "        \n",
       "        \n",
       "            <div id=\"c9995a0a-2917-467c-8581-b12611570f84\" class=\"plotly-graph-div\" style=\"height:525px; width:100%;\"></div>\n",
       "            <script type=\"text/javascript\">\n",
       "                require([\"plotly\"], function(Plotly) {\n",
       "                    window.PLOTLYENV=window.PLOTLYENV || {};\n",
       "                    window.PLOTLYENV.BASE_URL='https://plot.ly';\n",
       "                    \n",
       "                if (document.getElementById(\"c9995a0a-2917-467c-8581-b12611570f84\")) {\n",
       "                    Plotly.newPlot(\n",
       "                        'c9995a0a-2917-467c-8581-b12611570f84',\n",
       "                        [{\"link\": {\"source\": [0, 0, 1, 1, 2, 2, 2, 2], \"target\": [3, 1, 2, 6, 3, 4, 5, 6], \"value\": [53, 47, 30, 17, 20, 6.5, 3.5, 10]}, \"node\": {\"label\": [\"PhD\", \"Early Career Researcher\", \"Research Staff\", \"Career Outside Science\", \"Permanent Research Staff\", \"Professor\", \"Non-Academic Research\"]}, \"type\": \"sankey\", \"uid\": \"6721256a-53a9-443f-a56b-363c14575c38\"}],\n",
       "                        {\"title\": {\"text\": \"Sankey Diagram for Career Path after PhD\"}},\n",
       "                        {\"showLink\": false, \"linkText\": \"Export to plot.ly\", \"plotlyServerURL\": \"https://plot.ly\", \"responsive\": true}\n",
       "                    ).then(function(){\n",
       "                            \n",
       "var gd = document.getElementById('c9995a0a-2917-467c-8581-b12611570f84');\n",
       "var x = new MutationObserver(function (mutations, observer) {{\n",
       "        var display = window.getComputedStyle(gd).display;\n",
       "        if (!display || display === 'none') {{\n",
       "            console.log([gd, 'removed!']);\n",
       "            Plotly.purge(gd);\n",
       "            observer.disconnect();\n",
       "        }}\n",
       "}});\n",
       "\n",
       "// Listen for the removal of the full notebook cells\n",
       "var notebookContainer = gd.closest('#notebook-container');\n",
       "if (notebookContainer) {{\n",
       "    x.observe(notebookContainer, {childList: true});\n",
       "}}\n",
       "\n",
       "// Listen for the clearing of the current output cell\n",
       "var outputEl = gd.closest('.output');\n",
       "if (outputEl) {{\n",
       "    x.observe(outputEl, {childList: true});\n",
       "}}\n",
       "\n",
       "                        })\n",
       "                };\n",
       "                });\n",
       "            </script>\n",
       "        </div>"
      ]
     },
     "metadata": {},
     "output_type": "display_data"
    }
   ],
   "source": [
    "fig = dict(data = [data_trace],\n",
    "           layout = layout)\n",
    "\n",
    "offline.iplot(fig)"
   ]
  },
  {
   "cell_type": "markdown",
   "metadata": {},
   "source": [
    "### Plot sankey diagram for flight count between countries\n",
    "Source: https://developers.google.com/chart/interactive/docs/gallery/sankey"
   ]
  },
  {
   "cell_type": "code",
   "execution_count": 6,
   "metadata": {},
   "outputs": [
    {
     "data": {
      "text/html": [
       "<div>\n",
       "<style scoped>\n",
       "    .dataframe tbody tr th:only-of-type {\n",
       "        vertical-align: middle;\n",
       "    }\n",
       "\n",
       "    .dataframe tbody tr th {\n",
       "        vertical-align: top;\n",
       "    }\n",
       "\n",
       "    .dataframe thead th {\n",
       "        text-align: right;\n",
       "    }\n",
       "</style>\n",
       "<table border=\"1\" class=\"dataframe\">\n",
       "  <thead>\n",
       "    <tr style=\"text-align: right;\">\n",
       "      <th></th>\n",
       "      <th>Source</th>\n",
       "      <th>Destination</th>\n",
       "      <th>Flight Count</th>\n",
       "    </tr>\n",
       "  </thead>\n",
       "  <tbody>\n",
       "    <tr>\n",
       "      <th>40</th>\n",
       "      <td>11</td>\n",
       "      <td>13</td>\n",
       "      <td>5</td>\n",
       "    </tr>\n",
       "    <tr>\n",
       "      <th>9</th>\n",
       "      <td>2</td>\n",
       "      <td>6</td>\n",
       "      <td>5</td>\n",
       "    </tr>\n",
       "    <tr>\n",
       "      <th>11</th>\n",
       "      <td>3</td>\n",
       "      <td>4</td>\n",
       "      <td>1</td>\n",
       "    </tr>\n",
       "    <tr>\n",
       "      <th>2</th>\n",
       "      <td>0</td>\n",
       "      <td>6</td>\n",
       "      <td>1</td>\n",
       "    </tr>\n",
       "    <tr>\n",
       "      <th>44</th>\n",
       "      <td>12</td>\n",
       "      <td>14</td>\n",
       "      <td>1</td>\n",
       "    </tr>\n",
       "    <tr>\n",
       "      <th>36</th>\n",
       "      <td>9</td>\n",
       "      <td>15</td>\n",
       "      <td>3</td>\n",
       "    </tr>\n",
       "    <tr>\n",
       "      <th>38</th>\n",
       "      <td>10</td>\n",
       "      <td>14</td>\n",
       "      <td>1</td>\n",
       "    </tr>\n",
       "    <tr>\n",
       "      <th>31</th>\n",
       "      <td>8</td>\n",
       "      <td>13</td>\n",
       "      <td>5</td>\n",
       "    </tr>\n",
       "    <tr>\n",
       "      <th>33</th>\n",
       "      <td>8</td>\n",
       "      <td>15</td>\n",
       "      <td>3</td>\n",
       "    </tr>\n",
       "    <tr>\n",
       "      <th>30</th>\n",
       "      <td>7</td>\n",
       "      <td>8</td>\n",
       "      <td>7</td>\n",
       "    </tr>\n",
       "  </tbody>\n",
       "</table>\n",
       "</div>"
      ],
      "text/plain": [
       "    Source  Destination  Flight Count\n",
       "40      11           13             5\n",
       "9        2            6             5\n",
       "11       3            4             1\n",
       "2        0            6             1\n",
       "44      12           14             1\n",
       "36       9           15             3\n",
       "38      10           14             1\n",
       "31       8           13             5\n",
       "33       8           15             3\n",
       "30       7            8             7"
      ]
     },
     "execution_count": 6,
     "metadata": {},
     "output_type": "execute_result"
    }
   ],
   "source": [
    "flight_data = pd.read_csv('datasets/flight_count.csv')\n",
    "\n",
    "flight_data.sample(10)"
   ]
  },
  {
   "cell_type": "code",
   "execution_count": 7,
   "metadata": {},
   "outputs": [
    {
     "data": {
      "text/plain": [
       "(46, 3)"
      ]
     },
     "execution_count": 7,
     "metadata": {},
     "output_type": "execute_result"
    }
   ],
   "source": [
    "flight_data.shape"
   ]
  },
  {
   "cell_type": "code",
   "execution_count": 8,
   "metadata": {},
   "outputs": [],
   "source": [
    "countries = ['Brazil',\n",
    "             'Canada',\n",
    "             'Mexico',\n",
    "             'USA',\n",
    "             'Portugal',\n",
    "             'France',\n",
    "             'Spain',\n",
    "             'England',\n",
    "             'South Africa',\n",
    "             'Angola',\n",
    "             'Senegal',\n",
    "             'Mali',\n",
    "             'Morocco',\n",
    "             'China',\n",
    "             'India',\n",
    "             'Japan']"
   ]
  },
  {
   "cell_type": "markdown",
   "metadata": {},
   "source": [
    "##### Plotting sankey diagram"
   ]
  },
  {
   "cell_type": "code",
   "execution_count": 9,
   "metadata": {},
   "outputs": [],
   "source": [
    "data_trace = go.Sankey(node = dict(label = countries),\n",
    "                       \n",
    "                       link = dict(source = flight_data['Source'],\n",
    "                                   target = flight_data['Destination'],\n",
    "                                   value = flight_data['Flight Count']))"
   ]
  },
  {
   "cell_type": "code",
   "execution_count": 10,
   "metadata": {},
   "outputs": [],
   "source": [
    "layout = dict (title = 'Sankey Diagram for Flight Count between Countries')"
   ]
  },
  {
   "cell_type": "code",
   "execution_count": 11,
   "metadata": {},
   "outputs": [
    {
     "data": {
      "application/vnd.plotly.v1+json": {
       "config": {
        "linkText": "Export to plot.ly",
        "plotlyServerURL": "https://plot.ly",
        "responsive": true,
        "showLink": false
       },
       "data": [
        {
         "link": {
          "source": [
           0,
           0,
           0,
           0,
           1,
           1,
           1,
           2,
           2,
           2,
           2,
           3,
           3,
           3,
           3,
           4,
           4,
           4,
           4,
           5,
           5,
           5,
           5,
           5,
           6,
           6,
           6,
           7,
           7,
           7,
           7,
           8,
           8,
           8,
           9,
           9,
           9,
           10,
           10,
           10,
           11,
           11,
           11,
           12,
           12,
           12
          ],
          "target": [
           4,
           5,
           6,
           7,
           4,
           5,
           7,
           4,
           5,
           6,
           7,
           4,
           5,
           6,
           7,
           9,
           10,
           12,
           8,
           9,
           10,
           11,
           12,
           8,
           10,
           12,
           8,
           9,
           10,
           12,
           8,
           13,
           14,
           15,
           13,
           14,
           15,
           13,
           14,
           15,
           13,
           14,
           15,
           13,
           14,
           15
          ],
          "value": [
           5,
           1,
           1,
           1,
           1,
           5,
           1,
           1,
           1,
           5,
           1,
           1,
           1,
           1,
           5,
           2,
           1,
           1,
           3,
           1,
           3,
           3,
           3,
           1,
           1,
           3,
           1,
           1,
           1,
           2,
           7,
           5,
           1,
           3,
           5,
           1,
           3,
           5,
           1,
           3,
           5,
           1,
           3,
           5,
           1,
           3
          ]
         },
         "node": {
          "label": [
           "Brazil",
           "Canada",
           "Mexico",
           "USA",
           "Portugal",
           "France",
           "Spain",
           "England",
           "South Africa",
           "Angola",
           "Senegal",
           "Mali",
           "Morocco",
           "China",
           "India",
           "Japan"
          ]
         },
         "type": "sankey",
         "uid": "faa56f61-1ebf-47ee-99a7-acd9dfe114e5"
        }
       ],
       "layout": {
        "title": {
         "text": "Sankey Diagram for Flight Count between Countries"
        }
       }
      },
      "text/html": [
       "<div>\n",
       "        \n",
       "        \n",
       "            <div id=\"e11218af-9203-4bff-8132-0b7fd2a67622\" class=\"plotly-graph-div\" style=\"height:525px; width:100%;\"></div>\n",
       "            <script type=\"text/javascript\">\n",
       "                require([\"plotly\"], function(Plotly) {\n",
       "                    window.PLOTLYENV=window.PLOTLYENV || {};\n",
       "                    window.PLOTLYENV.BASE_URL='https://plot.ly';\n",
       "                    \n",
       "                if (document.getElementById(\"e11218af-9203-4bff-8132-0b7fd2a67622\")) {\n",
       "                    Plotly.newPlot(\n",
       "                        'e11218af-9203-4bff-8132-0b7fd2a67622',\n",
       "                        [{\"link\": {\"source\": [0, 0, 0, 0, 1, 1, 1, 2, 2, 2, 2, 3, 3, 3, 3, 4, 4, 4, 4, 5, 5, 5, 5, 5, 6, 6, 6, 7, 7, 7, 7, 8, 8, 8, 9, 9, 9, 10, 10, 10, 11, 11, 11, 12, 12, 12], \"target\": [4, 5, 6, 7, 4, 5, 7, 4, 5, 6, 7, 4, 5, 6, 7, 9, 10, 12, 8, 9, 10, 11, 12, 8, 10, 12, 8, 9, 10, 12, 8, 13, 14, 15, 13, 14, 15, 13, 14, 15, 13, 14, 15, 13, 14, 15], \"value\": [5, 1, 1, 1, 1, 5, 1, 1, 1, 5, 1, 1, 1, 1, 5, 2, 1, 1, 3, 1, 3, 3, 3, 1, 1, 3, 1, 1, 1, 2, 7, 5, 1, 3, 5, 1, 3, 5, 1, 3, 5, 1, 3, 5, 1, 3]}, \"node\": {\"label\": [\"Brazil\", \"Canada\", \"Mexico\", \"USA\", \"Portugal\", \"France\", \"Spain\", \"England\", \"South Africa\", \"Angola\", \"Senegal\", \"Mali\", \"Morocco\", \"China\", \"India\", \"Japan\"]}, \"type\": \"sankey\", \"uid\": \"4b4703dc-c93d-45c0-a3fb-b495bfcd5157\"}],\n",
       "                        {\"title\": {\"text\": \"Sankey Diagram for Flight Count between Countries\"}},\n",
       "                        {\"showLink\": false, \"linkText\": \"Export to plot.ly\", \"plotlyServerURL\": \"https://plot.ly\", \"responsive\": true}\n",
       "                    ).then(function(){\n",
       "                            \n",
       "var gd = document.getElementById('e11218af-9203-4bff-8132-0b7fd2a67622');\n",
       "var x = new MutationObserver(function (mutations, observer) {{\n",
       "        var display = window.getComputedStyle(gd).display;\n",
       "        if (!display || display === 'none') {{\n",
       "            console.log([gd, 'removed!']);\n",
       "            Plotly.purge(gd);\n",
       "            observer.disconnect();\n",
       "        }}\n",
       "}});\n",
       "\n",
       "// Listen for the removal of the full notebook cells\n",
       "var notebookContainer = gd.closest('#notebook-container');\n",
       "if (notebookContainer) {{\n",
       "    x.observe(notebookContainer, {childList: true});\n",
       "}}\n",
       "\n",
       "// Listen for the clearing of the current output cell\n",
       "var outputEl = gd.closest('.output');\n",
       "if (outputEl) {{\n",
       "    x.observe(outputEl, {childList: true});\n",
       "}}\n",
       "\n",
       "                        })\n",
       "                };\n",
       "                });\n",
       "            </script>\n",
       "        </div>"
      ]
     },
     "metadata": {},
     "output_type": "display_data"
    }
   ],
   "source": [
    "fig = dict(data = [data_trace],\n",
    "           layout = layout)\n",
    "\n",
    "offline.iplot(fig)"
   ]
  },
  {
   "cell_type": "code",
   "execution_count": null,
   "metadata": {},
   "outputs": [],
   "source": []
  },
  {
   "cell_type": "code",
   "execution_count": null,
   "metadata": {},
   "outputs": [],
   "source": []
  }
 ],
 "metadata": {
  "kernelspec": {
   "display_name": "Python 3",
   "language": "python",
   "name": "python3"
  },
  "language_info": {
   "codemirror_mode": {
    "name": "ipython",
    "version": 3
   },
   "file_extension": ".py",
   "mimetype": "text/x-python",
   "name": "python",
   "nbconvert_exporter": "python",
   "pygments_lexer": "ipython3",
   "version": "3.6.4"
  }
 },
 "nbformat": 4,
 "nbformat_minor": 2
}

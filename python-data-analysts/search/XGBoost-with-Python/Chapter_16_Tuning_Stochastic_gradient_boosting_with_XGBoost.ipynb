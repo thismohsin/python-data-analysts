{
  "nbformat": 4,
  "nbformat_minor": 0,
  "metadata": {
    "colab": {
      "name": "Chapter 16 Tuning Stochastic gradient boosting with XGBoost.ipynb",
      "provenance": []
    },
    "kernelspec": {
      "name": "python3",
      "display_name": "Python 3"
    }
  },
  "cells": [
    {
      "cell_type": "code",
      "metadata": {
        "id": "IqgA1KxLsEuB"
      },
      "source": [
        "# Tuning row subsampling"
      ],
      "execution_count": 1,
      "outputs": []
    },
    {
      "cell_type": "code",
      "metadata": {
        "id": "1BUshD90tfHB"
      },
      "source": [
        "from pandas import read_csv\n",
        "from xgboost import XGBClassifier\n",
        "from sklearn.model_selection import GridSearchCV\n",
        "from sklearn.model_selection import StratifiedKFold\n",
        "from sklearn.preprocessing import LabelEncoder\n",
        "import matplotlib\n",
        "matplotlib.use('Agg')\n",
        "from matplotlib import pyplot"
      ],
      "execution_count": 4,
      "outputs": []
    },
    {
      "cell_type": "code",
      "metadata": {
        "id": "WIl33BXruPPf"
      },
      "source": [
        "data = read_csv('train.csv')\n",
        "dataset = data.values"
      ],
      "execution_count": 6,
      "outputs": []
    },
    {
      "cell_type": "code",
      "metadata": {
        "id": "8T0GPI6nuZt1"
      },
      "source": [
        "X = dataset[:,0:94]\n",
        "y = dataset[:,94]"
      ],
      "execution_count": 7,
      "outputs": []
    },
    {
      "cell_type": "code",
      "metadata": {
        "id": "uVbbKZM5yQJm"
      },
      "source": [
        "label_encoded_y = LabelEncoder().fit_transform(y)\n",
        "model = XGBClassifier()"
      ],
      "execution_count": 8,
      "outputs": []
    },
    {
      "cell_type": "code",
      "metadata": {
        "id": "ezu2He8wyY2W"
      },
      "source": [
        "subsample = [0.5]\n",
        "param_grid = dict(subsample=subsample)"
      ],
      "execution_count": 10,
      "outputs": []
    },
    {
      "cell_type": "code",
      "metadata": {
        "id": "xMI0S3xAzA27"
      },
      "source": [
        "kfold = StratifiedKFold(n_splits=10, shuffle=True, random_state=7)\n",
        "grid_search = GridSearchCV(model, param_grid, scoring=\"neg_log_loss\",n_jobs=-1, cv=kfold)\n",
        "grid_result = grid_search.fit(X, label_encoded_y)"
      ],
      "execution_count": 11,
      "outputs": []
    },
    {
      "cell_type": "code",
      "metadata": {
        "id": "75mBgEkSznQM",
        "outputId": "e71b9d11-903c-41e1-e969-3bb9270e2b27",
        "colab": {
          "base_uri": "https://localhost:8080/",
          "height": 35
        }
      },
      "source": [
        "print(\"Best: %f using %s\" %(grid_result.best_score_, grid_result.best_params_))"
      ],
      "execution_count": 12,
      "outputs": [
        {
          "output_type": "stream",
          "text": [
            "Best: -0.000626 using {'subsample': 0.5}\n"
          ],
          "name": "stdout"
        }
      ]
    },
    {
      "cell_type": "code",
      "metadata": {
        "id": "sf_inbOC1cKW"
      },
      "source": [
        "means = grid_result.cv_results_[\"mean_test_score\"]\n",
        "stds = grid_result.cv_results_[\"std_test_score\"]\n",
        "params = grid_result.cv_results_[\"params\"]"
      ],
      "execution_count": 13,
      "outputs": []
    },
    {
      "cell_type": "code",
      "metadata": {
        "id": "3ZqQfQUQ1qQ0",
        "outputId": "ca20a271-ce98-4f8b-a04e-d8f452c7a866",
        "colab": {
          "base_uri": "https://localhost:8080/",
          "height": 35
        }
      },
      "source": [
        "for mean, stdev, param in zip(means, stds, params):\n",
        "  print(\"%f (%f) with: %r\" %(mean, stdev, param))"
      ],
      "execution_count": 14,
      "outputs": [
        {
          "output_type": "stream",
          "text": [
            "-0.000626 (0.000431) with: {'subsample': 0.5}\n"
          ],
          "name": "stdout"
        }
      ]
    },
    {
      "cell_type": "code",
      "metadata": {
        "id": "CoRUZYwn11bi"
      },
      "source": [
        "pyplot.errorbar(subsample, means, yerr=stds)\n",
        "pyplot.title(\"XGBoost subsample vs Log Loss\")\n",
        "pyplot.xlabel('subsample')\n",
        "pyplot.ylabel('Log Loss')\n",
        "pyplot.savefig('subsample.png')"
      ],
      "execution_count": 15,
      "outputs": []
    },
    {
      "cell_type": "code",
      "metadata": {
        "id": "1Zac5ZCA3kH7"
      },
      "source": [
        "# tuning by column subsampling"
      ],
      "execution_count": 16,
      "outputs": []
    },
    {
      "cell_type": "code",
      "metadata": {
        "id": "J9IC2rhZCI7F"
      },
      "source": [
        "model = XGBClassifier()\n",
        "colsample_bytree = [0.1]"
      ],
      "execution_count": 17,
      "outputs": []
    },
    {
      "cell_type": "code",
      "metadata": {
        "id": "47fAVA3fCQgO"
      },
      "source": [
        "param_grid = dict(colsample_bytree=colsample_bytree)"
      ],
      "execution_count": 18,
      "outputs": []
    },
    {
      "cell_type": "code",
      "metadata": {
        "id": "OO73sWhACWPH"
      },
      "source": [
        "kfold = StratifiedKFold(n_splits=10, shuffle=True, random_state=7)"
      ],
      "execution_count": 19,
      "outputs": []
    },
    {
      "cell_type": "code",
      "metadata": {
        "id": "jSyjc9F3CckQ"
      },
      "source": [
        "grid_search = GridSearchCV(model, param_grid, scoring=\"neg_log_loss\",n_jobs=-1,cv=kfold)"
      ],
      "execution_count": 20,
      "outputs": []
    },
    {
      "cell_type": "code",
      "metadata": {
        "id": "HUl3U_RlCqML"
      },
      "source": [
        "grid_result = grid_search.fit(X,label_encoded_y)"
      ],
      "execution_count": 21,
      "outputs": []
    },
    {
      "cell_type": "code",
      "metadata": {
        "id": "0pYbDxIuCxjk",
        "outputId": "23dbcea8-3930-470b-ab7d-d324c04e08e9",
        "colab": {
          "base_uri": "https://localhost:8080/",
          "height": 35
        }
      },
      "source": [
        "print(\"Best: %f using %s\" %(grid_result.best_score_,grid_result.best_params_))"
      ],
      "execution_count": 22,
      "outputs": [
        {
          "output_type": "stream",
          "text": [
            "Best: -0.235667 using {'colsample_bytree': 0.1}\n"
          ],
          "name": "stdout"
        }
      ]
    },
    {
      "cell_type": "code",
      "metadata": {
        "id": "3MEVW06PEv9a"
      },
      "source": [
        "means = grid_result.cv_results_[\"mean_test_score\"]\n",
        "stds = grid_result.cv_results_[\"std_test_score\"]\n",
        "params=grid_result.cv_results_[\"params\"]"
      ],
      "execution_count": 23,
      "outputs": []
    },
    {
      "cell_type": "code",
      "metadata": {
        "id": "J_B3E2qvE9_j",
        "outputId": "6a32701e-e537-4751-9cc6-ca55a7bb63e4",
        "colab": {
          "base_uri": "https://localhost:8080/",
          "height": 35
        }
      },
      "source": [
        "for mean, stdev, param in zip(means, stds, params):\n",
        "  print(\"%f (%f) with: %r\" %(mean, stdev, param))"
      ],
      "execution_count": 25,
      "outputs": [
        {
          "output_type": "stream",
          "text": [
            "-0.235667 (0.002086) with: {'colsample_bytree': 0.1}\n"
          ],
          "name": "stdout"
        }
      ]
    },
    {
      "cell_type": "code",
      "metadata": {
        "id": "hDqT2FH6FKwo"
      },
      "source": [
        "pyplot.errorbar(colsample_bytree, means, yerr=stds)\n",
        "pyplot.title(\"XGBoost colsample_bytree vs Log Loss\")\n",
        "pyplot.xlabel('colsample_bytree')\n",
        "pyplot.ylabel('Log Loss')\n",
        "pyplot.savefig('colsample_bytree.png')"
      ],
      "execution_count": 27,
      "outputs": []
    },
    {
      "cell_type": "code",
      "metadata": {
        "id": "AiiWhYUmFiA1"
      },
      "source": [
        "# Tuning column sampling by split"
      ],
      "execution_count": 28,
      "outputs": []
    },
    {
      "cell_type": "code",
      "metadata": {
        "id": "dw-tKMB5JtD5"
      },
      "source": [
        "model = XGBClassifier()\n",
        "colsample_bylevel = [0.3]\n",
        "param_grid = dict(colsample_bylevel=colsample_bylevel)"
      ],
      "execution_count": 29,
      "outputs": []
    },
    {
      "cell_type": "code",
      "metadata": {
        "id": "eEoC2oQvKXj1"
      },
      "source": [
        "kfold = StratifiedKFold(n_splits=10, shuffle=True, random_state=7)"
      ],
      "execution_count": 30,
      "outputs": []
    },
    {
      "cell_type": "code",
      "metadata": {
        "id": "3gzI5wrYKfYN"
      },
      "source": [
        "grid_search=GridSearchCV(model, param_grid, scoring=\"neg_log_loss\",n_jobs=-1, cv=kfold)"
      ],
      "execution_count": 31,
      "outputs": []
    },
    {
      "cell_type": "code",
      "metadata": {
        "id": "5iKLztu7KrvD"
      },
      "source": [
        "grid_result = grid_search.fit(X, label_encoded_y)"
      ],
      "execution_count": 32,
      "outputs": []
    },
    {
      "cell_type": "code",
      "metadata": {
        "id": "1RLZifvHKw_a",
        "outputId": "6ad13018-79cc-446a-dcc9-87223ecf1cfb",
        "colab": {
          "base_uri": "https://localhost:8080/",
          "height": 35
        }
      },
      "source": [
        "print(\"Best: %f using %s\" %(grid_result.best_score_, grid_result.best_params_))"
      ],
      "execution_count": 33,
      "outputs": [
        {
          "output_type": "stream",
          "text": [
            "Best: -0.008942 using {'colsample_bylevel': 0.3}\n"
          ],
          "name": "stdout"
        }
      ]
    },
    {
      "cell_type": "code",
      "metadata": {
        "id": "G_wOdf1hPRzR"
      },
      "source": [
        "means = grid_result.cv_results_[\"mean_test_score\"]\n",
        "stds = grid_result.cv_results_[\"std_test_score\"]\n",
        "params = grid_result.cv_results_[\"params\"]"
      ],
      "execution_count": 34,
      "outputs": []
    },
    {
      "cell_type": "code",
      "metadata": {
        "id": "8hvx5K-WPfc1",
        "outputId": "88e7eaaa-21c6-414d-9530-8d2c8a37c35e",
        "colab": {
          "base_uri": "https://localhost:8080/",
          "height": 35
        }
      },
      "source": [
        "for mean, stdev, param in zip(means, stds, params):\n",
        "  print(\"%f (%f) with: %r\" %(mean, stdev, param))"
      ],
      "execution_count": 35,
      "outputs": [
        {
          "output_type": "stream",
          "text": [
            "-0.008942 (0.000371) with: {'colsample_bylevel': 0.3}\n"
          ],
          "name": "stdout"
        }
      ]
    },
    {
      "cell_type": "code",
      "metadata": {
        "id": "rLGNlLKBPr9n",
        "outputId": "eb2437b1-13cc-4f60-a96c-350bbd5e7165",
        "colab": {
          "base_uri": "https://localhost:8080/",
          "height": 35
        }
      },
      "source": [
        "pyplot.errorbar(colsample_bylevel, means, yerr=stds)"
      ],
      "execution_count": 36,
      "outputs": [
        {
          "output_type": "execute_result",
          "data": {
            "text/plain": [
              "<ErrorbarContainer object of 3 artists>"
            ]
          },
          "metadata": {
            "tags": []
          },
          "execution_count": 36
        }
      ]
    },
    {
      "cell_type": "code",
      "metadata": {
        "id": "qr-fLS94Pxd4"
      },
      "source": [
        "pyplot.title(\"XGBoost colsample_bylevel vs Log Loss\")\n",
        "pyplot.xlabel(\"colsample_bylevel\")\n",
        "pyplot.ylabel('Log Loss')\n",
        "pyplot.savefig('colsample_bylevel.png')"
      ],
      "execution_count": 37,
      "outputs": []
    },
    {
      "cell_type": "code",
      "metadata": {
        "id": "3izZeyIBQCUc"
      },
      "source": [
        ""
      ],
      "execution_count": null,
      "outputs": []
    }
  ]
}
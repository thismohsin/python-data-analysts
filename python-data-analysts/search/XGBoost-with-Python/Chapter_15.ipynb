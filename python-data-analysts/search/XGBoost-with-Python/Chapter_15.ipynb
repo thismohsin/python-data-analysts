{
  "nbformat": 4,
  "nbformat_minor": 0,
  "metadata": {
    "colab": {
      "name": "Chapter 15.ipynb",
      "provenance": []
    },
    "kernelspec": {
      "name": "python3",
      "display_name": "Python 3"
    },
    "accelerator": "GPU"
  },
  "cells": [
    {
      "cell_type": "code",
      "metadata": {
        "id": "KS6dy6soYgST"
      },
      "source": [
        "# XGBoost on Otto dataset, Tune learning_rate\n",
        "from pandas import read_csv\n",
        "from xgboost import XGBClassifier\n",
        "from sklearn.model_selection import GridSearchCV\n",
        "from sklearn.model_selection import StratifiedKFold\n",
        "from sklearn.preprocessing import LabelEncoder\n",
        "import matplotlib\n",
        "matplotlib.use('Agg')\n",
        "from matplotlib import pyplot\n",
        "# load data\n",
        "data = read_csv('train.csv')\n",
        "dataset = data.values\n",
        "# split data into X and y\n",
        "X = dataset[:,0:94]\n",
        "y = dataset[:,94]\n",
        "# encode string class values as integers\n",
        "label_encoded_y = LabelEncoder().fit_transform(y)\n",
        "# grid search\n",
        "model = XGBClassifier()\n",
        "learning_rate = [0.1]\n",
        "param_grid = dict(learning_rate=learning_rate)\n",
        "kfold = StratifiedKFold(n_splits=2, shuffle=True, random_state=7)\n",
        "grid_search = GridSearchCV(model, param_grid, scoring=\"neg_log_loss\", n_jobs=-1, cv=kfold)\n",
        "grid_result = grid_search.fit(X, label_encoded_y)"
      ],
      "execution_count": null,
      "outputs": []
    },
    {
      "cell_type": "code",
      "metadata": {
        "id": "ch2gs_-ljMcz",
        "outputId": "94da87ef-f247-4cf7-b178-01dfc0c480da",
        "colab": {
          "base_uri": "https://localhost:8080/",
          "height": 35
        }
      },
      "source": [
        "print(\"Best: %f using %s\" %(grid_result.best_score_,grid_result.best_params_))\n"
      ],
      "execution_count": null,
      "outputs": [
        {
          "output_type": "stream",
          "text": [
            "Best: -0.001683 using {'learning_rate': 0.1}\n"
          ],
          "name": "stdout"
        }
      ]
    },
    {
      "cell_type": "code",
      "metadata": {
        "id": "HTaLslMajXx9"
      },
      "source": [
        "means = grid_result.cv_results_[\"mean_test_score\"]\n",
        "stds = grid_result.cv_results_['std_test_score']\n",
        "params = grid_result.cv_results_['params']"
      ],
      "execution_count": null,
      "outputs": []
    },
    {
      "cell_type": "code",
      "metadata": {
        "id": "ow_m6QbXhmSE",
        "outputId": "aeb640cb-2dad-441a-c774-7705ad4d10d4",
        "colab": {
          "base_uri": "https://localhost:8080/",
          "height": 35
        }
      },
      "source": [
        "for mean, stdev, param in zip(means, stds, params):\n",
        "  print(\"%f (%f) with : %r\" %(mean,stdev,param))"
      ],
      "execution_count": null,
      "outputs": [
        {
          "output_type": "stream",
          "text": [
            "-0.001683 (0.000136) with : {'learning_rate': 0.1}\n"
          ],
          "name": "stdout"
        }
      ]
    },
    {
      "cell_type": "code",
      "metadata": {
        "id": "5zEhp4Bmj0Ga"
      },
      "source": [
        "pyplot.errorbar(learning_rate,means,yerr=stds)\n",
        "pyplot.title(\"XGBoost learning_rate vs Log Loss\")\n",
        "pyplot.xlabel('learning_rate')\n",
        "pyplot.ylabel('Log Loss')\n",
        "pyplot.savefig('learning_rate.png')"
      ],
      "execution_count": null,
      "outputs": []
    },
    {
      "cell_type": "code",
      "metadata": {
        "id": "8Q_056dQkHZS"
      },
      "source": [
        "# tuning learning rate and the number of trees"
      ],
      "execution_count": null,
      "outputs": []
    },
    {
      "cell_type": "code",
      "metadata": {
        "id": "u7aAmcFgkoPX"
      },
      "source": [
        "import numpy"
      ],
      "execution_count": null,
      "outputs": []
    },
    {
      "cell_type": "code",
      "metadata": {
        "id": "tSI_5WlalM7V"
      },
      "source": [
        "label_encoded_y = LabelEncoder().fit_transform(y)"
      ],
      "execution_count": null,
      "outputs": []
    },
    {
      "cell_type": "code",
      "metadata": {
        "id": "NqbicJ-FlUda"
      },
      "source": [
        "model = XGBClassifier()\n",
        "n_estimators = [100]\n",
        "learning_rate = [0.1]"
      ],
      "execution_count": null,
      "outputs": []
    },
    {
      "cell_type": "code",
      "metadata": {
        "id": "VTylhFOjlbuf"
      },
      "source": [
        "param_grid = dict(learning_rate=learning_rate, n_estimatorss=n_estimators)"
      ],
      "execution_count": null,
      "outputs": []
    },
    {
      "cell_type": "code",
      "metadata": {
        "id": "7Zqqh4_blioK"
      },
      "source": [
        "kfold = StratifiedKFold(n_splits=10, shuffle=True,random_state=7)"
      ],
      "execution_count": null,
      "outputs": []
    },
    {
      "cell_type": "code",
      "metadata": {
        "id": "F_7zv_YFlpe7"
      },
      "source": [
        "grid_search = GridSearchCV(model, param_grid, scoring=\"neg_log_loss\", n_jobs=-1, cv=kfold)"
      ],
      "execution_count": null,
      "outputs": []
    },
    {
      "cell_type": "code",
      "metadata": {
        "id": "sP0Soqw8l2hg"
      },
      "source": [
        "grid_result = grid_search.fit(X,label_encoded_y)"
      ],
      "execution_count": null,
      "outputs": []
    },
    {
      "cell_type": "code",
      "metadata": {
        "id": "Pixx9ysHl7Q2",
        "outputId": "fc659390-7c1e-403b-969d-3332884742b3",
        "colab": {
          "base_uri": "https://localhost:8080/",
          "height": 35
        }
      },
      "source": [
        "print(\"Best: %f using %s\" %(grid_result.best_score_, grid_result.best_params_))\n"
      ],
      "execution_count": null,
      "outputs": [
        {
          "output_type": "stream",
          "text": [
            "Best: -0.001258 using {'learning_rate': 0.1, 'n_estimatorss': 100}\n"
          ],
          "name": "stdout"
        }
      ]
    },
    {
      "cell_type": "code",
      "metadata": {
        "id": "-3ccMl6InU7l"
      },
      "source": [
        "means = grid_result.cv_results_[\"mean_test_score\"]\n",
        "stds = grid_result.cv_results_[\"std_test_score\"]\n",
        "params = grid_result.cv_results_[\"params\"]"
      ],
      "execution_count": null,
      "outputs": []
    },
    {
      "cell_type": "code",
      "metadata": {
        "id": "OFdevX8DnhI3",
        "outputId": "781349cd-602e-49f8-a749-41fee1eda7ce",
        "colab": {
          "base_uri": "https://localhost:8080/",
          "height": 35
        }
      },
      "source": [
        "for mean, stdev, param in zip(means, stds, params):\n",
        "  print(\"%f (%f) with: %r\" %(mean, stdev, param))"
      ],
      "execution_count": null,
      "outputs": [
        {
          "output_type": "stream",
          "text": [
            "-0.001258 (0.001116) with: {'learning_rate': 0.1, 'n_estimatorss': 100}\n"
          ],
          "name": "stdout"
        }
      ]
    },
    {
      "cell_type": "code",
      "metadata": {
        "id": "2lpzux-qnr3b"
      },
      "source": [
        "scores = numpy.array(means).reshape(len(learning_rate), len(n_estimators))"
      ],
      "execution_count": null,
      "outputs": []
    },
    {
      "cell_type": "code",
      "metadata": {
        "id": "1fArF1QIn1jW"
      },
      "source": [
        "for i, value in enumerate(learning_rate):\n",
        "  pyplot.plot(n_estimators, scores[i], label=\"learning_rate: \" +str(value))"
      ],
      "execution_count": null,
      "outputs": []
    },
    {
      "cell_type": "code",
      "metadata": {
        "id": "r_F_iKJooB1N",
        "outputId": "40e8b5c3-1265-425f-db33-ce06a6960cb1",
        "colab": {
          "base_uri": "https://localhost:8080/",
          "height": 35
        }
      },
      "source": [
        "pyplot.legend()"
      ],
      "execution_count": null,
      "outputs": [
        {
          "output_type": "execute_result",
          "data": {
            "text/plain": [
              "<matplotlib.legend.Legend at 0x7f50afb01c50>"
            ]
          },
          "metadata": {
            "tags": []
          },
          "execution_count": 22
        }
      ]
    },
    {
      "cell_type": "code",
      "metadata": {
        "id": "b_2cGJo-oEd9",
        "outputId": "c3cf01af-b578-4cd0-fa17-6dda388b9882",
        "colab": {
          "base_uri": "https://localhost:8080/",
          "height": 35
        }
      },
      "source": [
        "pyplot.xlabel('n_estimators')"
      ],
      "execution_count": null,
      "outputs": [
        {
          "output_type": "execute_result",
          "data": {
            "text/plain": [
              "Text(0.5, 15.0, 'n_estimators')"
            ]
          },
          "metadata": {
            "tags": []
          },
          "execution_count": 23
        }
      ]
    },
    {
      "cell_type": "code",
      "metadata": {
        "id": "Bfg0lATjoISv"
      },
      "source": [
        "pyplot.ylabel('Log Loss')\n",
        "pyplot.savefig('n_estimators_vs_learning_rate.png')"
      ],
      "execution_count": null,
      "outputs": []
    },
    {
      "cell_type": "code",
      "metadata": {
        "id": "sUx-g3cCpjk0"
      },
      "source": [
        ""
      ],
      "execution_count": null,
      "outputs": []
    }
  ]
}
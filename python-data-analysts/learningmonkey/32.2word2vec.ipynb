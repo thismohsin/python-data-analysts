{
 "cells": [
  {
   "cell_type": "code",
   "execution_count": 14,
   "metadata": {},
   "outputs": [
    {
     "name": "stdout",
     "output_type": "stream",
     "text": [
      "['this', 'product', 'is', 'good', 'and', 'i', 'like', 'very', 'much', 'nice', 'hate', 'the', 'phone', 'works', 'well', 'dislike']\n",
      "[ 0.18150246 -0.24051663]\n"
     ]
    }
   ],
   "source": [
    "from gensim.models import Word2Vec\n",
    "# define training data\n",
    "sentences = [['this','product','is', 'good', 'and', 'i','like','this','very','much'],['this', 'product', 'is', 'nice'],\n",
    "['i', 'hate', 'this','product'],['the', 'phone', 'works','well'],['i', 'dislike', 'this', 'phone']]\n",
    "# train model\n",
    "model = Word2Vec(sentences, min_count=1,size=2)\n",
    "# summarize vocabulary\n",
    "words = list(model.wv.vocab)\n",
    "print(words)\n",
    "# access vector for one word\n",
    "print(model.wv['like'])\n"
   ]
  },
  {
   "cell_type": "code",
   "execution_count": 5,
   "metadata": {},
   "outputs": [
    {
     "name": "stderr",
     "output_type": "stream",
     "text": [
      "C:\\Users\\Admin\\Anaconda3\\lib\\site-packages\\ipykernel_launcher.py:10: DeprecationWarning: Call to deprecated `__getitem__` (Method will be removed in 4.0.0, use self.wv.__getitem__() instead).\n",
      "  # Remove the CWD from sys.path while we load stuff.\n"
     ]
    },
    {
     "data": {
      "image/png": "[encoded data removed]",
      "text/plain": [
       "<Figure size 432x288 with 1 Axes>"
      ]
     },
     "metadata": {
      "needs_background": "light"
     },
     "output_type": "display_data"
    }
   ],
   "source": [
    "from gensim.models import Word2Vec\n",
    "from sklearn.decomposition import PCA\n",
    "from matplotlib import pyplot\n",
    "# define training data\n",
    "sentences = [['this', 'product', 'is', 'good', 'and', 'i', 'like','this','very','much'],['this', 'product', 'is', 'nice'],\n",
    "['i', 'hate', 'this','product'],['the', 'phone', 'works','well'],['i', 'dislike', 'this', 'phone']]\n",
    "# train model\n",
    "model = Word2Vec(sentences, min_count=1,size=50)\n",
    "# fit a 2d PCA model to the vectors\n",
    "X = model[model.wv.vocab]\n",
    "pca = PCA(n_components=2)\n",
    "result = pca.fit_transform(X)\n",
    "# create a scatter plot of the projection\n",
    "pyplot.scatter(result[:, 0], result[:, 1])\n",
    "words = list(model.wv.vocab)\n",
    "for i, word in enumerate(words):\n",
    "    pyplot.annotate(word, xy=(result[i, 0], result[i, 1]))\n",
    "pyplot.show()"
   ]
  },
  {
   "cell_type": "code",
   "execution_count": null,
   "metadata": {},
   "outputs": [],
   "source": [
    "import gensim.downloader as api\n",
    "\n",
    "wv = api.load('word2vec-google-news-300')\n",
    "\n",
    "vec_king = wv['king']\n",
    "------------------------------------------------\n",
    "from gensim.models import KeyedVectors\n",
    "# load the google word2vec model\n",
    "filename = 'GoogleNews-vectors-negative300.bin'\n",
    "model = KeyedVectors.load_word2vec_format(filename, binary=True)\n",
    "# calculate: (king - man) + woman = ?\n",
    "result = model.most_similar('king')\n",
    "print(result)"
   ]
  },
  {
   "cell_type": "code",
   "execution_count": 11,
   "metadata": {},
   "outputs": [
    {
     "name": "stdout",
     "output_type": "stream",
     "text": [
      "[('fantastic', 0.8675758838653564), ('excellent', 0.8464673757553101), ('good', 0.8458603620529175), ('wonderful', 0.8291036486625671), ('awesome', 0.8187937140464783), ('perfect', 0.8185611963272095), ('amazing', 0.7980639338493347), ('nice', 0.7625538110733032), ('ok', 0.7418081760406494), ('decent', 0.7385033965110779)]\n"
     ]
    }
   ],
   "source": [
    "import pandas as pd\n",
    "from gensim.models import Word2Vec\n",
    "import gensim\n",
    "data=pd.read_csv('AmazonMobileDataCleanedFinal.csv')\n",
    "sentence_list=[]\n",
    "for sent in data['cleanedtext']:\n",
    "    sentence_list.append(sent.split(' '))\n",
    "w2v_model= gensim.models.Word2Vec(sentence_list,min_count=1,size=50)\n",
    "print(w2v_model.wv.most_similar('great'))"
   ]
  },
  {
   "cell_type": "code",
   "execution_count": 12,
   "metadata": {},
   "outputs": [
    {
     "name": "stdout",
     "output_type": "stream",
     "text": [
      "[('boost', 0.7485157251358032), ('tmo', 0.7386811971664429), ('virgin', 0.7386462688446045), ('cdma', 0.7221285104751587), ('prepaid', 0.7143771648406982), ('atts', 0.7142247557640076), ('solicitud', 0.7136120796203613), ('metropcs', 0.7122595310211182), ('tethering', 0.7121239900588989), ('verizons', 0.71153324842453)]\n"
     ]
    }
   ],
   "source": [
    "print(w2v_model.wv.most_similar('mobile'))"
   ]
  },
  {
   "cell_type": "code",
   "execution_count": 8,
   "metadata": {},
   "outputs": [
    {
     "name": "stdout",
     "output_type": "stream",
     "text": [
      "5\n",
      "[array([0.10501145, 0.01816857]), array([0.03419459, 0.03670331]), array([0.06588365, 0.06204165]), array([0.07274395, 0.05187603]), array([ 0.03854867, -0.09391484])]\n"
     ]
    },
    {
     "name": "stderr",
     "output_type": "stream",
     "text": [
      "C:\\Users\\Admin\\Anaconda3\\lib\\site-packages\\ipykernel_launcher.py:13: DeprecationWarning: Call to deprecated `__contains__` (Method will be removed in 4.0.0, use self.wv.__contains__() instead).\n",
      "  del sys.path[0]\n"
     ]
    }
   ],
   "source": [
    "#https://medium.com/@ranasinghiitkgp/featurization-of-text-data-bow-tf-idf-avgw2v-tfidf-weighted-w2v-7a6c62e8b097\n",
    "#average word to vec\n",
    "import numpy as np\n",
    "from gensim.models import Word2Vec\n",
    "sentences = [['this','product','is', 'good', 'and', 'i','like','this','very','much'],['this', 'product', 'is', 'nice'],\n",
    "['i', 'hate', 'this','product'],['the', 'phone', 'works','well'],['i', 'dislike', 'this', 'phone']]\n",
    "model = Word2Vec(sentences, min_count=1,size=2)\n",
    "sent_vectors = []; \n",
    "for sent in (sentences): \n",
    "    sent_vec = np.zeros(2) \n",
    "    cnt_words =0; \n",
    "    for word in sent: \n",
    "        if word in model:\n",
    "            vec = model.wv[word]\n",
    "            sent_vec += vec\n",
    "            cnt_words += 1\n",
    "    if cnt_words != 0:\n",
    "        sent_vec /= cnt_words\n",
    "    sent_vectors.append(sent_vec)\n",
    "print(len(sent_vectors))\n",
    "print(sent_vectors)\n"
   ]
  },
  {
   "cell_type": "code",
   "execution_count": 10,
   "metadata": {},
   "outputs": [
    {
     "name": "stdout",
     "output_type": "stream",
     "text": [
      "['this', 'mobile', 'is', 'good', 'not', 'works', 'fine', 'and', 'affordable', 'cheap', 'best']\n",
      "['affordable', 'and', 'best', 'cheap', 'fine', 'good', 'is', 'mobile', 'not', 'this', 'works']\n",
      "[0.03970935 0.24685258]\n",
      "[-0.04944001  0.12793408]\n",
      "[ 0.11852419 -0.05738637]\n",
      "[ 0.05670625 -0.0547779 ]\n",
      "[0.03970935 0.24685258]\n",
      "[-0.04944001  0.12793408]\n",
      "[ 0.11852419 -0.05738637]\n",
      "[-0.07047149 -0.16921672]\n",
      "[ 0.05670625 -0.0547779 ]\n",
      "[0.03970935 0.24685258]\n",
      "[-0.04944001  0.12793408]\n",
      "[-0.01286825  0.14074828]\n",
      "[-0.07021642  0.16287729]\n",
      "[0.23019919 0.16249277]\n",
      "[ 0.04143312 -0.1482211 ]\n",
      "[-0.04944001  0.12793408]\n",
      "[ 0.11852419 -0.05738637]\n",
      "[0.01251456 0.24510306]\n",
      "[0.23019919 0.16249277]\n",
      "[-0.04944001  0.12793408]\n",
      "[ 0.11852419 -0.05738637]\n",
      "[ 0.24097511 -0.0738491 ]\n",
      "4\n",
      "[array([0.0463527 , 0.05586288]), array([ 0.01378236, -0.00688884]), array([0.02816714, 0.10262416]), array([0.08539482, 0.05652156])]\n"
     ]
    },
    {
     "name": "stderr",
     "output_type": "stream",
     "text": [
      "C:\\Users\\Admin\\Anaconda3\\lib\\site-packages\\ipykernel_launcher.py:34: DeprecationWarning: Call to deprecated `__contains__` (Method will be removed in 4.0.0, use self.wv.__contains__() instead).\n"
     ]
    }
   ],
   "source": [
    "#TFIDF word2vec\n",
    "import numpy as np\n",
    "from sklearn.feature_extraction.text import TfidfVectorizer\n",
    "from gensim.models import Word2Vec\n",
    "\n",
    "data=pd.read_csv('data.csv')\n",
    "sentences=[]\n",
    "for sent in data['test'].values:\n",
    "    senten= ' '.join(e for e in sent.split())\n",
    "    sentences.append(senten.lower().strip())\n",
    "\n",
    "sentence_list=[]\n",
    "for sent in sentences:\n",
    "    sentence_list.append(sent.split(' '))\n",
    "\n",
    "model = Word2Vec(sentence_list, min_count=1,size=2)\n",
    "tfidf = TfidfVectorizer()\n",
    "tfidf.fit(sentences)\n",
    "\n",
    "dictionary = dict(zip(tfidf.get_feature_names(), list(tfidf.idf_)))\n",
    "\n",
    "\n",
    "tfidf_feat = tfidf.get_feature_names() \n",
    "w2v_feat=list(model.wv.vocab)\n",
    "print(w2v_feat)\n",
    "print(tfidf_feat)\n",
    "\n",
    "row=0\n",
    "tfidf_sent_vectors = []; \n",
    "for sent in (sentence_list): \n",
    "    sent_vec = np.zeros(2) \n",
    "    weight_sum =0; \n",
    "    for word in sent: \n",
    "        if word in model and word in tfidf_feat:\n",
    "            vec = model.wv[word]\n",
    "            print(vec)\n",
    "            # tf_idf = tf_idf_matrix[row, tfidf_feat.index(word)]\n",
    "            # to reduce the computation we are \n",
    "            # dictionary[word] = idf value of word in whole courpus\n",
    "            # sent.count(word) = tf valeus of word in this review\n",
    "            tf_idf = dictionary[word]*(sent.count(word)/len(sent))\n",
    "            sent_vec += (vec * tf_idf)\n",
    "            weight_sum += tf_idf\n",
    "    if weight_sum != 0:\n",
    "        sent_vec /= weight_sum\n",
    "    tfidf_sent_vectors.append(sent_vec)\n",
    "    row += 1\n",
    "print(row)\n",
    "print(tfidf_sent_vectors)"
   ]
  },
  {
   "cell_type": "code",
   "execution_count": null,
   "metadata": {},
   "outputs": [],
   "source": []
  }
 ],
 "metadata": {
  "kernelspec": {
   "display_name": "Python 3",
   "language": "python",
   "name": "python3"
  },
  "language_info": {
   "codemirror_mode": {
    "name": "ipython",
    "version": 3
   },
   "file_extension": ".py",
   "mimetype": "text/x-python",
   "name": "python",
   "nbconvert_exporter": "python",
   "pygments_lexer": "ipython3",
   "version": "3.7.4"
  }
 },
 "nbformat": 4,
 "nbformat_minor": 2
}

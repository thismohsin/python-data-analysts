{
 "cells": [
  {
   "cell_type": "code",
   "execution_count": 1,
   "metadata": {},
   "outputs": [],
   "source": [
    "import pandas as pd\n",
    "import re\n",
    "from nltk.corpus import stopwords\n",
    "import string\n",
    "from nltk.stem.snowball import SnowballStemmer"
   ]
  },
  {
   "cell_type": "code",
   "execution_count": 2,
   "metadata": {},
   "outputs": [
    {
     "name": "stdout",
     "output_type": "stream",
     "text": [
      "(71922, 2)\n"
     ]
    }
   ],
   "source": [
    "# Reading the data file into a DATAFRAME and checking the shape \n",
    "data=pd.read_csv('35.1AmazonMobileDataUncleaned.csv')\n",
    "print(data.shape)"
   ]
  },
  {
   "cell_type": "code",
   "execution_count": 3,
   "metadata": {},
   "outputs": [
    {
     "name": "stdout",
     "output_type": "stream",
     "text": [
      "{\"that'll\", 'at', 'yourself', \"it's\", \"she's\", 'll', 'this', 'there', 'them', 'ma', \"shouldn't\", 't', 'these', 'shan', 'some', 'yourselves', 'what', 'be', 'by', 'ourselves', 'through', 'mustn', 'but', 'during', 'where', \"didn't\", \"won't\", 'weren', \"mustn't\", 'me', 'any', 'themselves', 'doing', 'couldn', 'wouldn', 'mightn', 'ours', 'we', 'are', 'few', \"you'll\", 'over', 'her', 'and', 'if', 'nor', 'she', 'once', \"haven't\", 'you', 'how', 'it', 'isn', \"hasn't\", \"isn't\", \"don't\", 'my', 'under', \"hadn't\", 'until', 'just', \"shan't\", 'have', 'that', 'been', 'when', 'theirs', 'was', 'won', \"you'd\", 'below', 'so', 'up', \"weren't\", \"wouldn't\", 'him', 'myself', 'other', 'all', 'itself', 'wasn', 'being', 've', 'herself', 'did', 'each', 'will', 'again', 'their', 'an', 'hers', 'y', \"needn't\", 'on', \"aren't\", 'because', 'than', 'own', 'm', 'its', 'here', 'the', 'having', 'such', 'of', 'i', 'hasn', 'his', 'against', 'for', 'aren', 'they', 'don', 'a', 'am', \"wasn't\", 'shouldn', 'as', 'both', 'about', \"couldn't\", 'whom', \"mightn't\", 'from', 'is', 'too', 'd', 'not', 'off', 'hadn', 'then', 'ain', 'or', \"should've\", 'o', 'haven', 'those', 'had', 'needn', 'before', 'after', 'very', 'out', 'into', 'most', 'didn', 'does', 'yours', \"you're\", 's', 'were', 'down', 'can', 'more', 'between', 'why', 'our', 'who', 'do', 'only', 'with', 'to', \"you've\", 'himself', 'no', 'he', 'which', 'your', 'same', 'doesn', 'has', 'while', 'above', 'should', \"doesn't\", 'now', 'further', 'in', 're'}\n"
     ]
    }
   ],
   "source": [
    "def datapreprocess(sen):\n",
    "    \n",
    "    sen = re.sub(r\"didn't\", \"did not\", sen)\n",
    "    sen = re.sub(r\"don't\", \"do not\", sen)\n",
    "    sen = re.sub(r\"won't\", \"will not\", sen)\n",
    "    sen = re.sub(r\"can't\", \"can not\", sen)\n",
    "    sen = re.sub(r\"wasn't\", \"do not\", sen)\n",
    "    sen = re.sub(r\"\\'ve\", \" have\", sen)\n",
    "    sen = re.sub(r\"\\'m\", \" am\", sen)\n",
    "    sen = re.sub(r\"\\'ll\", \" will\", sen)\n",
    "    sen = re.sub(r\"\\'re\", \" are\", sen)\n",
    "    sen = re.sub(r\"\\'s\", \" is\", sen)\n",
    "    sen = re.sub(r\"\\'d\", \" would\", sen)\n",
    "    sen = re.sub(r\"\\'t\", \" not\", sen)\n",
    "    sen = re.sub(r\"\\'m\", \" am\", sen)\n",
    "    sen = re.sub(r\"n\\'t\", \" not\", sen)\n",
    "    \n",
    "    p = set(string.punctuation) # p take all the punctuations, punctuations displayed below\n",
    "    sen=sen.lower() # convert text to lower case\n",
    "    words=sen.split() # split the text into words\n",
    "    ctext=[]\n",
    "    for i in range(10): #adding numbers from 0 - 9 to p \n",
    "        p.add(str(i))\n",
    "    for i in words:\n",
    "        t=''.join([x for x in i.encode(\"ascii\",\"ignore\").decode(\"ascii\") if x not in p]) # ignoring non ascii charecters and numbers\n",
    "        ctext.append(t)\n",
    "    return \" \".join([i for i in ctext]) # joining the cleaned words to text\n",
    "    \n",
    "    \n",
    "\n",
    "stop=set(stopwords.words('english'))\n",
    "print(stop)\n",
    "stop.remove('no')\n",
    "stop.remove('not')\n",
    "stop.remove('nor')\n",
    "\n",
    "preprocessed_essays = []\n",
    "for sentance in data['uncleanedreview'].values:\n",
    "    try:\n",
    "        ctxt=datapreprocess(str(sentance))\n",
    "        if len(ctxt)==0: raise()\n",
    "        ctxt = ' '.join(e for e in ctxt.split() if e not in stop)\n",
    "        preprocessed_essays.append(ctxt.lower().strip())\n",
    "    except:\n",
    "        preprocessed_essays.append(\"NAN\")  \n",
    "data['cleanedtext'] = preprocessed_essays\n",
    "data.drop(data[data[\"cleanedtext\"]==\"NAN\"].index,axis = 0,inplace = True) # deleting rows that have no text \n",
    "data=data.reset_index(drop='true') # after deleting rows index should be reset\n",
    "data['decision']= data['decision'].replace('positive',1)\n",
    "data['decision']= data['decision'].replace('negative',0)\n",
    "\n",
    "\n",
    "s = SnowballStemmer(\"english\")\n",
    "p=[]\n",
    "for i in data['cleanedtext'].values:\n",
    "    k=[]\n",
    "    for word in i.split():\n",
    "        k.append(s.stem(word))\n",
    "    l=' '.join(k)\n",
    "    p.append(l)\n",
    "\n",
    "data['j']=p\n",
    "\n",
    "data.to_csv (r'AmazonMobileDataCleaned.csv')"
   ]
  },
  {
   "cell_type": "code",
   "execution_count": 4,
   "metadata": {},
   "outputs": [
    {
     "name": "stdout",
     "output_type": "stream",
     "text": [
      "(5000, 5)\n",
      "(5000,)\n",
      "(5000, 4)\n",
      "------------------------------\n",
      "(4000, 4)\n",
      "(1000, 4)\n",
      "(4000,)\n",
      "(1000,)\n"
     ]
    }
   ],
   "source": [
    "data=pd.read_csv('AmazonMobileDataCleaned.csv',nrows=5000)\n",
    "print(data.shape)\n",
    "label = data['decision'].values\n",
    "feedback = data.drop(['decision'], axis=1)\n",
    "print(label.shape)\n",
    "print(feedback.shape)\n",
    "print(\"------------------------------\")\n",
    "\n",
    "from sklearn.model_selection import train_test_split\n",
    "inputtrain, inputtest, outputtrain, outputtest = train_test_split(feedback, label, test_size=0.20, stratify=label)\n",
    "print(inputtrain.shape)\n",
    "print(inputtest.shape)\n",
    "print(outputtrain.shape)\n",
    "print(outputtest.shape)"
   ]
  },
  {
   "cell_type": "code",
   "execution_count": 5,
   "metadata": {},
   "outputs": [
    {
     "name": "stdout",
     "output_type": "stream",
     "text": [
      "After vectorizations\n",
      "(4000, 2821)\n",
      "(1000, 2821)\n",
      "(4000,)\n",
      "(1000,)\n",
      "...............................\n"
     ]
    }
   ],
   "source": [
    "# convert into Bag of Words\n",
    "from sklearn.feature_extraction.text import CountVectorizer\n",
    "featur = []\n",
    "vec = CountVectorizer(min_df=10,ngram_range=(1,4))\n",
    "vec.fit(inputtrain['j'].values) # fit has to happen only on train data\n",
    "\n",
    "\n",
    "train_cleanedtext = vec.transform(inputtrain['j'].values)\n",
    "test_cleanedtext= vec.transform(inputtest['j'].values)\n",
    "\n",
    "print(\"After vectorizations\")\n",
    "print(train_cleanedtext.shape)\n",
    "print(test_cleanedtext.shape)\n",
    "print(outputtrain.shape)\n",
    "print(outputtest.shape)\n",
    "print(\"...............................\")\n",
    "\n",
    "featur= featur+vec.get_feature_names()"
   ]
  },
  {
   "cell_type": "code",
   "execution_count": 6,
   "metadata": {},
   "outputs": [
    {
     "name": "stdout",
     "output_type": "stream",
     "text": [
      "For n_clusters = 2 The average silhouette_score is : 0.6922077263797878\n",
      "For n_clusters = 3 The average silhouette_score is : 0.26829170708222355\n",
      "For n_clusters = 4 The average silhouette_score is : 0.26936406436191523\n",
      "For n_clusters = 5 The average silhouette_score is : 0.2359620340521523\n",
      "For n_clusters = 6 The average silhouette_score is : 0.23661632888450843\n",
      "For n_clusters = 7 The average silhouette_score is : 0.23711981079233757\n",
      "For n_clusters = 8 The average silhouette_score is : 0.2375875990442614\n"
     ]
    }
   ],
   "source": [
    "from sklearn.cluster import AgglomerativeClustering\n",
    "from sklearn.metrics import silhouette_samples, silhouette_score\n",
    "\n",
    "\n",
    "\n",
    "L=train_cleanedtext.toarray()\n",
    "range_n_clusters = [2, 3,4,5,6,7,8]\n",
    "\n",
    "for n_clusters in range_n_clusters:\n",
    "    # Initialize the clusterer with n_clusters value and a random generator\n",
    "    # seed of 10 for reproducibility.\n",
    "    clusterer = AgglomerativeClustering(n_clusters=n_clusters)\n",
    "    cluster_labels = clusterer.fit_predict(L)\n",
    "\n",
    "    # The silhouette_score gives the average value for all the samples.\n",
    "    # This gives a perspective into the density and separation of the formed\n",
    "    # clusters\n",
    "    silhouette_avg = silhouette_score(L, cluster_labels)\n",
    "    print(\"For n_clusters =\", n_clusters,\n",
    "          \"The average silhouette_score is :\", silhouette_avg)\n"
   ]
  },
  {
   "cell_type": "code",
   "execution_count": null,
   "metadata": {},
   "outputs": [],
   "source": []
  }
 ],
 "metadata": {
  "kernelspec": {
   "display_name": "Python 3",
   "language": "python",
   "name": "python3"
  },
  "language_info": {
   "codemirror_mode": {
    "name": "ipython",
    "version": 3
   },
   "file_extension": ".py",
   "mimetype": "text/x-python",
   "name": "python",
   "nbconvert_exporter": "python",
   "pygments_lexer": "ipython3",
   "version": "3.7.4"
  }
 },
 "nbformat": 4,
 "nbformat_minor": 2
}

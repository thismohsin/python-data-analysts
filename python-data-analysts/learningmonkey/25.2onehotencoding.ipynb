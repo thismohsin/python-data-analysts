{
 "cells": [
  {
   "cell_type": "code",
   "execution_count": 2,
   "metadata": {},
   "outputs": [
    {
     "name": "stdout",
     "output_type": "stream",
     "text": [
      "{'house size': [1200, 1300, 1250, 1400, 1100], 'location': ['bombay', 'delhi', 'chennai', 'bombay', 'delhi']}\n",
      "   house size location\n",
      "0        1200   bombay\n",
      "1        1300    delhi\n",
      "2        1250  chennai\n",
      "3        1400   bombay\n",
      "4        1100    delhi\n",
      "  (0, 0)\t1\n",
      "  (1, 2)\t1\n",
      "  (2, 1)\t1\n",
      "  (3, 0)\t1\n",
      "  (4, 2)\t1\n",
      "['bombay', 'chennai', 'delhi']\n",
      "[[1 0 0]\n",
      " [0 0 1]\n",
      " [0 1 0]\n",
      " [1 0 0]\n",
      " [0 0 1]]\n"
     ]
    }
   ],
   "source": [
    "import pandas as pd\n",
    "my = {\"house size\": [1200, 1300, 1250, 1400, 1100], \"location\": ['bombay', 'delhi', 'chennai', 'bombay', 'delhi']}\n",
    "print(my)\n",
    "my_df = pd.DataFrame(data=my)\n",
    "print(my_df)\n",
    "from sklearn.feature_extraction.text import CountVectorizer\n",
    "vectorizer = CountVectorizer()\n",
    "vectorizer.fit(my_df['location'].values)\n",
    "x=vectorizer.transform(my_df['location'].values)\n",
    "print(x)\n",
    "print(vectorizer.get_feature_names())\n",
    "print(x.toarray())\n"
   ]
  },
  {
   "cell_type": "code",
   "execution_count": null,
   "metadata": {},
   "outputs": [],
   "source": []
  }
 ],
 "metadata": {
  "kernelspec": {
   "display_name": "Python 3",
   "language": "python",
   "name": "python3"
  },
  "language_info": {
   "codemirror_mode": {
    "name": "ipython",
    "version": 3
   },
   "file_extension": ".py",
   "mimetype": "text/x-python",
   "name": "python",
   "nbconvert_exporter": "python",
   "pygments_lexer": "ipython3",
   "version": "3.7.4"
  }
 },
 "nbformat": 4,
 "nbformat_minor": 2
}

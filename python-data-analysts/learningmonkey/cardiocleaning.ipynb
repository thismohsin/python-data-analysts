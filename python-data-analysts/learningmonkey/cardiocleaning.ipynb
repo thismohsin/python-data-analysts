{
 "cells": [
  {
   "cell_type": "code",
   "execution_count": 1,
   "metadata": {},
   "outputs": [],
   "source": [
    "import pandas as pd\n",
    "import numpy as np"
   ]
  },
  {
   "cell_type": "code",
   "execution_count": 2,
   "metadata": {},
   "outputs": [
    {
     "name": "stdout",
     "output_type": "stream",
     "text": [
      "0    35021\n",
      "1    34979\n",
      "Name: cardio, dtype: int64\n",
      "(70000, 13)\n"
     ]
    }
   ],
   "source": [
    "data=pd.read_csv('cardiouncleaned.csv')\n",
    "\n",
    "y_value_counts = data['cardio'].value_counts() # to count the values in cardio individualy\n",
    "print(y_value_counts)\n",
    "\n",
    "print(data.shape)"
   ]
  },
  {
   "cell_type": "code",
   "execution_count": 3,
   "metadata": {},
   "outputs": [
    {
     "name": "stdout",
     "output_type": "stream",
     "text": [
      "(67746, 13)\n",
      "   id    age  gender  height  weight  ap_hi  ap_lo cholesterol        gluc  \\\n",
      "0   0  18393    male     168    62.0    110     80  c1_average  g1_average   \n",
      "1   1  20228  female     156    85.0    140     90     c3_high  g1_average   \n",
      "2   2  18857  female     165    64.0    130     70     c3_high  g1_average   \n",
      "3   3  17623    male     169    82.0    150    100  c1_average  g1_average   \n",
      "4   4  17474  female     156    56.0    100     60  c1_average  g1_average   \n",
      "\n",
      "   smoke  alco  active  cardio  \n",
      "0      0     0       1       0  \n",
      "1      0     0       1       1  \n",
      "2      0     0       0       1  \n",
      "3      0     0       1       1  \n",
      "4      0     0       0       0  \n"
     ]
    }
   ],
   "source": [
    "data.drop(data[data[\"ap_hi\"]<60].index,axis = 0,inplace = True)#delete rows that have ap_hi value less than 60\n",
    "data.drop(data[data[\"ap_hi\"]>240].index,axis = 0,inplace = True)#delete rows that have ap_hi value grater than 240\n",
    "data.drop(data[data[\"ap_lo\"]>180].index,axis = 0,inplace = True)#delete rows that have ap_lo value grater than 180\n",
    "data.drop(data[data[\"ap_lo\"]<40].index,axis = 0,inplace = True)#delete rows that have ap_lo value less than 40\n",
    "data.drop(data[data[\"weight\"]<50].index,axis = 0,inplace = True)#delete rows that have weight less than 50 kg\n",
    "data.drop(data[data[\"height\"]<120].index,axis = 0,inplace = True)#delete rows that have height less than 120\n",
    "\n",
    "data['gender']= data['gender'].replace(1,'female') #replace gender value 1 to female\n",
    "data['gender']= data['gender'].replace(2,'male') #replace gender value 2 to male\n",
    "data['cholesterol']= data['cholesterol'].replace(1,'c1_average') #replacing colestrol and all\n",
    "data['cholesterol']= data['cholesterol'].replace(2,'c2_aboveaverage')\n",
    "data['cholesterol']= data['cholesterol'].replace(3,'c3_high')\n",
    "data['gluc']= data['gluc'].replace(1,'g1_average')\n",
    "data['gluc']= data['gluc'].replace(2,'g2_aboveaverage')\n",
    "data['gluc']= data['gluc'].replace(3,'g3_high')\n",
    "\n",
    "print(data.shape)\n",
    "print(data.head())"
   ]
  },
  {
   "cell_type": "code",
   "execution_count": 4,
   "metadata": {},
   "outputs": [],
   "source": [
    "data.to_csv (r'cardiocleaned.csv') # saving data in a new file in csv format"
   ]
  },
  {
   "cell_type": "code",
   "execution_count": null,
   "metadata": {},
   "outputs": [],
   "source": []
  }
 ],
 "metadata": {
  "kernelspec": {
   "display_name": "Python 3",
   "language": "python",
   "name": "python3"
  },
  "language_info": {
   "codemirror_mode": {
    "name": "ipython",
    "version": 3
   },
   "file_extension": ".py",
   "mimetype": "text/x-python",
   "name": "python",
   "nbconvert_exporter": "python",
   "pygments_lexer": "ipython3",
   "version": "3.7.4"
  }
 },
 "nbformat": 4,
 "nbformat_minor": 2
}

{
 "cells": [
  {
   "cell_type": "code",
   "execution_count": 3,
   "metadata": {},
   "outputs": [
    {
     "name": "stderr",
     "output_type": "stream",
     "text": [
      "[nltk_data] Downloading package stopwords to\n",
      "[nltk_data]     C:\\Users\\Admin\\AppData\\Roaming\\nltk_data...\n",
      "[nltk_data]   Package stopwords is already up-to-date!\n"
     ]
    },
    {
     "data": {
      "text/plain": [
       "True"
      ]
     },
     "execution_count": 3,
     "metadata": {},
     "output_type": "execute_result"
    }
   ],
   "source": [
    "import nltk\n",
    "nltk.download('stopwords')"
   ]
  },
  {
   "cell_type": "code",
   "execution_count": 4,
   "metadata": {},
   "outputs": [
    {
     "name": "stdout",
     "output_type": "stream",
     "text": [
      "{'they', 'd', 're', \"hadn't\", \"shouldn't\", 'then', 'hers', 'does', 'what', 'these', 'ours', 'have', 'if', 'more', 'did', 'until', 'ain', 'such', 'than', 'having', 'yourself', 'no', 's', 'didn', 'been', 'were', 'or', 'why', 'some', 'doesn', 'during', 'both', 'and', 'was', 'your', 'him', 'into', 'we', \"you've\", 'most', 'now', 'himself', 'with', 'there', \"needn't\", 'those', 'he', 'will', \"aren't\", 'this', 'over', \"doesn't\", 'yourselves', \"hasn't\", 'do', 'under', 'hadn', \"it's\", 'how', 'her', 'doing', 'about', \"wouldn't\", 'our', 'a', 'again', \"didn't\", 'their', 'shan', 'll', 'm', 'his', 'all', 'its', 'don', 'who', 'needn', 'too', \"she's\", 't', 'before', 'of', 'itself', 'out', 'whom', 'yours', 'them', 'can', 'here', \"couldn't\", \"don't\", 've', \"you'd\", 'that', 'at', 'few', 'so', 'is', \"haven't\", \"mustn't\", 'while', 'in', 'are', 'the', 'each', 'only', \"that'll\", 'mustn', 'theirs', 'as', 'up', 'an', 'off', 'any', 'further', 'mightn', 'wouldn', \"you're\", \"you'll\", 'won', 'above', 'y', \"won't\", 'themselves', 'myself', 'which', 'it', 'after', \"wasn't\", 'weren', 'to', 'shouldn', 'am', 'below', 'through', 'on', \"should've\", 'down', 'once', 'just', 'o', \"shan't\", 'very', 'me', \"mightn't\", 'aren', 'couldn', 'i', 'ma', 'herself', 'other', 'had', 'from', 'hasn', 'not', \"weren't\", 'being', 'my', 'own', 'between', 'but', 'because', 'where', 'you', 'she', 'has', 'by', \"isn't\", 'isn', 'haven', 'ourselves', 'be', 'against', 'for', 'nor', 'should', 'wasn', 'same', 'when'}\n",
      "                                         Description\n",
      "0  the product has been very good i had used this...\n",
      "1  i highly doubt this phone is a genuine nokia p...\n"
     ]
    }
   ],
   "source": [
    "from nltk.corpus import stopwords\n",
    "stop=set(stopwords.words('english'))\n",
    "print(stop)\n",
    "import pandas as pd\n",
    "data=pd.read_csv('data.csv')\n",
    "print(data)\n",
    "stop.remove('no')\n",
    "stop.remove('not')\n",
    "p=[]\n",
    "for feedbak in (data['Description'].values):\n",
    "    remove = ' '.join(e for e in feedbak.split() if e not in stop)\n",
    "    p.append(remove.lower().strip())\n",
    "data['removestop'] = p\n",
    "data.to_csv (r'data1.csv')"
   ]
  },
  {
   "cell_type": "code",
   "execution_count": null,
   "metadata": {},
   "outputs": [],
   "source": []
  }
 ],
 "metadata": {
  "kernelspec": {
   "display_name": "Python 3",
   "language": "python",
   "name": "python3"
  },
  "language_info": {
   "codemirror_mode": {
    "name": "ipython",
    "version": 3
   },
   "file_extension": ".py",
   "mimetype": "text/x-python",
   "name": "python",
   "nbconvert_exporter": "python",
   "pygments_lexer": "ipython3",
   "version": "3.7.4"
  }
 },
 "nbformat": 4,
 "nbformat_minor": 2
}

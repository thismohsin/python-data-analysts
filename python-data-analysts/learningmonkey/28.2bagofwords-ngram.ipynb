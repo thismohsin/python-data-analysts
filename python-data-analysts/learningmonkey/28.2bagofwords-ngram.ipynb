{
 "cells": [
  {
   "cell_type": "code",
   "execution_count": 1,
   "metadata": {},
   "outputs": [
    {
     "name": "stdout",
     "output_type": "stream",
     "text": [
      "['this mobile is good', 'this mobile is not good', 'this mobile works fine and affordable', 'mobile is cheap and mobile is best']\n",
      "['affordable', 'and', 'and affordable', 'and mobile', 'best', 'cheap', 'cheap and', 'fine', 'fine and', 'good', 'is', 'is best', 'is cheap', 'is good', 'is not', 'mobile', 'mobile is', 'mobile works', 'not', 'not good', 'this', 'this mobile', 'works', 'works fine']\n",
      "Shape of matrix after bag of words  [[0 0 0 0 0 0 0 0 0 1 1 0 0 1 0 1 1 0 0 0 1 1 0 0]\n",
      " [0 0 0 0 0 0 0 0 0 1 1 0 0 0 1 1 1 0 1 1 1 1 0 0]\n",
      " [1 1 1 0 0 0 0 1 1 0 0 0 0 0 0 1 0 1 0 0 1 1 1 1]\n",
      " [0 1 0 1 1 1 1 0 0 0 2 1 1 0 0 2 2 0 0 0 0 0 0 0]]\n"
     ]
    }
   ],
   "source": [
    "import pandas as pd\n",
    "from sklearn.feature_extraction.text import CountVectorizer\n",
    "data=pd.read_csv('28.3data.csv')\n",
    "feedback=[]\n",
    "for i in data['test'].values:\n",
    "    senten= ' '.join(e for e in i.split())\n",
    "    feedback.append(senten.lower().strip())\n",
    "print(feedback)\n",
    "v = CountVectorizer(ngram_range=(1,2))#ngram_range=(1,3)\n",
    "text_bow = v.fit_transform(feedback)\n",
    "print(v.get_feature_names())\n",
    "print(\"Shape of matrix after bag of words \",text_bow.toarray())\n"
   ]
  },
  {
   "cell_type": "code",
   "execution_count": null,
   "metadata": {},
   "outputs": [],
   "source": []
  },
  {
   "cell_type": "code",
   "execution_count": null,
   "metadata": {},
   "outputs": [],
   "source": []
  }
 ],
 "metadata": {
  "kernelspec": {
   "display_name": "Python 3",
   "language": "python",
   "name": "python3"
  },
  "language_info": {
   "codemirror_mode": {
    "name": "ipython",
    "version": 3
   },
   "file_extension": ".py",
   "mimetype": "text/x-python",
   "name": "python",
   "nbconvert_exporter": "python",
   "pygments_lexer": "ipython3",
   "version": "3.7.4"
  }
 },
 "nbformat": 4,
 "nbformat_minor": 2
}

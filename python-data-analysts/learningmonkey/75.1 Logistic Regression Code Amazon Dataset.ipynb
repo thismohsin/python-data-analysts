{
 "cells": [
  {
   "cell_type": "code",
   "execution_count": 1,
   "metadata": {},
   "outputs": [],
   "source": [
    "import pandas as pd\n",
    "import re\n",
    "from nltk.corpus import stopwords\n",
    "import string\n",
    "from nltk.stem.snowball import SnowballStemmer"
   ]
  },
  {
   "cell_type": "code",
   "execution_count": 2,
   "metadata": {},
   "outputs": [
    {
     "name": "stdout",
     "output_type": "stream",
     "text": [
      "(71922, 2)\n"
     ]
    }
   ],
   "source": [
    "# Reading the data file into a DATAFRAME and checking the shape \n",
    "data=pd.read_csv('35.1AmazonMobileDataUncleaned.csv')\n",
    "print(data.shape)"
   ]
  },
  {
   "cell_type": "code",
   "execution_count": 3,
   "metadata": {},
   "outputs": [
    {
     "name": "stdout",
     "output_type": "stream",
     "text": [
      "{'above', 'me', 'this', \"wouldn't\", 'during', 'before', 'be', 'at', 'they', 'into', 'weren', 'few', 'them', 'as', 'your', 'these', 've', 'ma', 'of', \"you're\", 'both', 'yourself', 'hers', 'why', \"couldn't\", 'ourselves', 'it', \"you'd\", 'against', 'his', 'will', \"don't\", 'wasn', 'or', 'have', 'too', 's', 'what', 'such', 'now', 'mightn', 'don', 'him', 'very', 'm', 'isn', 'after', 'down', 'didn', 'he', 'yours', 'because', 'each', 'those', 'just', 'which', 'if', 'only', 'you', 'been', 'until', 'itself', \"isn't\", 'who', 'was', 'll', 'shouldn', 'our', \"that'll\", 'does', 'off', 'whom', \"mightn't\", 'doing', 'aren', 'their', 'himself', 'while', 'is', 'further', \"needn't\", 'yourselves', 'that', 'again', 'doesn', 'haven', \"doesn't\", 'through', \"weren't\", 'all', 'won', 'wouldn', \"shan't\", 'most', 'couldn', 'about', 'hadn', 'how', 'myself', 'below', 're', 'i', 'between', 'are', 'from', \"it's\", \"you'll\", 'herself', 'under', 'own', 'same', 'do', 'she', 'where', 'the', 'can', 'out', \"you've\", 'were', \"she's\", 'y', \"wasn't\", 'over', 'for', \"haven't\", 'but', \"hasn't\", 'on', \"didn't\", 'once', 'and', 'themselves', 'am', 'has', 't', 'did', \"hadn't\", 'more', 'had', \"aren't\", \"won't\", 'up', 'not', 'nor', 'so', 'no', 'in', 'any', 'a', 'theirs', 'being', 'there', 'o', \"should've\", 'other', 'by', 'to', 'with', 'hasn', \"mustn't\", 'd', 'when', 'my', 'than', \"shouldn't\", 'her', 'having', 'its', 'needn', 'ours', 'mustn', 'then', 'should', 'we', 'ain', 'an', 'here', 'shan', 'some'}\n"
     ]
    }
   ],
   "source": [
    "def datapreprocess(sen):\n",
    "    \n",
    "    sen = re.sub(r\"didn't\", \"did not\", sen)\n",
    "    sen = re.sub(r\"don't\", \"do not\", sen)\n",
    "    sen = re.sub(r\"won't\", \"will not\", sen)\n",
    "    sen = re.sub(r\"can't\", \"can not\", sen)\n",
    "    sen = re.sub(r\"wasn't\", \"do not\", sen)\n",
    "    sen = re.sub(r\"\\'ve\", \" have\", sen)\n",
    "    sen = re.sub(r\"\\'m\", \" am\", sen)\n",
    "    sen = re.sub(r\"\\'ll\", \" will\", sen)\n",
    "    sen = re.sub(r\"\\'re\", \" are\", sen)\n",
    "    sen = re.sub(r\"\\'s\", \" is\", sen)\n",
    "    sen = re.sub(r\"\\'d\", \" would\", sen)\n",
    "    sen = re.sub(r\"\\'t\", \" not\", sen)\n",
    "    sen = re.sub(r\"\\'m\", \" am\", sen)\n",
    "    sen = re.sub(r\"n\\'t\", \" not\", sen)\n",
    "    \n",
    "    p = set(string.punctuation) # p take all the punctuations, punctuations displayed below\n",
    "    sen=sen.lower() # convert text to lower case\n",
    "    words=sen.split() # split the text into words\n",
    "    ctext=[]\n",
    "    for i in range(10): #adding numbers from 0 - 9 to p \n",
    "        p.add(str(i))\n",
    "    for i in words:\n",
    "        t=''.join([x for x in i.encode(\"ascii\",\"ignore\").decode(\"ascii\") if x not in p]) # ignoring non ascii charecters and numbers\n",
    "        ctext.append(t)\n",
    "    return \" \".join([i for i in ctext]) # joining the cleaned words to text\n",
    "    \n",
    "    \n",
    "\n",
    "stop=set(stopwords.words('english'))\n",
    "print(stop)\n",
    "stop.remove('no')\n",
    "stop.remove('not')\n",
    "stop.remove('nor')\n",
    "\n",
    "preprocessed_essays = []\n",
    "for sentance in data['uncleanedreview'].values:\n",
    "    try:\n",
    "        ctxt=datapreprocess(str(sentance))\n",
    "        if len(ctxt)==0: raise()\n",
    "        ctxt = ' '.join(e for e in ctxt.split() if e not in stop)\n",
    "        preprocessed_essays.append(ctxt.lower().strip())\n",
    "    except:\n",
    "        preprocessed_essays.append(\"NAN\")  \n",
    "data['cleanedtext'] = preprocessed_essays\n",
    "data.drop(data[data[\"cleanedtext\"]==\"NAN\"].index,axis = 0,inplace = True) # deleting rows that have no text \n",
    "data=data.reset_index(drop='true') # after deleting rows index should be reset\n",
    "data['decision']= data['decision'].replace('positive',1)\n",
    "data['decision']= data['decision'].replace('negative',0)\n",
    "\n",
    "\n",
    "s = SnowballStemmer(\"english\")\n",
    "p=[]\n",
    "for i in data['cleanedtext'].values:\n",
    "    k=[]\n",
    "    for word in i.split():\n",
    "        k.append(s.stem(word))\n",
    "    l=' '.join(k)\n",
    "    p.append(l)\n",
    "\n",
    "data['j']=p\n",
    "\n",
    "data.to_csv (r'AmazonMobileDataCleaned.csv')"
   ]
  },
  {
   "cell_type": "code",
   "execution_count": 4,
   "metadata": {},
   "outputs": [
    {
     "name": "stdout",
     "output_type": "stream",
     "text": [
      "(71922, 5)\n",
      "(71922,)\n",
      "(71922, 4)\n",
      "------------------------------\n",
      "(57537, 4)\n",
      "(14385, 4)\n",
      "(57537,)\n",
      "(14385,)\n"
     ]
    }
   ],
   "source": [
    "data=pd.read_csv('AmazonMobileDataCleaned.csv')\n",
    "print(data.shape)\n",
    "label = data['decision'].values\n",
    "feedback = data.drop(['decision'], axis=1)\n",
    "print(label.shape)\n",
    "print(feedback.shape)\n",
    "print(\"------------------------------\")\n",
    "\n",
    "from sklearn.model_selection import train_test_split\n",
    "inputtrain, inputtest, outputtrain, outputtest = train_test_split(feedback, label, test_size=0.20, stratify=label)\n",
    "print(inputtrain.shape)\n",
    "print(inputtest.shape)\n",
    "print(outputtrain.shape)\n",
    "print(outputtest.shape)"
   ]
  },
  {
   "cell_type": "code",
   "execution_count": 6,
   "metadata": {},
   "outputs": [
    {
     "name": "stdout",
     "output_type": "stream",
     "text": [
      "After vectorizations\n",
      "(57537, 30739)\n",
      "(14385, 30739)\n",
      "(57537,)\n",
      "(14385,)\n",
      "...............................\n"
     ]
    }
   ],
   "source": [
    "# convert into Bag of Words\n",
    "from sklearn.feature_extraction.text import CountVectorizer\n",
    "vec = CountVectorizer(min_df=10,ngram_range=(1,4))\n",
    "vec.fit(inputtrain['j'].values) # fit has to happen only on train data\n",
    "\n",
    "\n",
    "train_cleanedtext = vec.transform(inputtrain['j'].values)\n",
    "test_cleanedtext= vec.transform(inputtest['j'].values)\n",
    "\n",
    "print(\"After vectorizations\")\n",
    "print(train_cleanedtext.shape)\n",
    "print(test_cleanedtext.shape)\n",
    "print(outputtrain.shape)\n",
    "print(outputtest.shape)\n",
    "print(\"...............................\")"
   ]
  },
  {
   "cell_type": "code",
   "execution_count": 10,
   "metadata": {},
   "outputs": [
    {
     "data": {
      "image/png": "[encoded data removed]",
      "text/plain": [
       "<Figure size 432x288 with 1 Axes>"
      ]
     },
     "metadata": {
      "needs_background": "light"
     },
     "output_type": "display_data"
    },
    {
     "name": "stdout",
     "output_type": "stream",
     "text": [
      "{'alpha': 0.0001}\n",
      "0.944738529386383\n",
      "best alpha log value\n",
      "-4.0\n"
     ]
    }
   ],
   "source": [
    "# Packages required\n",
    "# some of the code taken from stack overflow\n",
    "import math\n",
    "from sklearn.model_selection import GridSearchCV\n",
    "from sklearn import linear_model\n",
    "import numpy as np\n",
    "import matplotlib.pyplot as plt\n",
    "\n",
    "\n",
    "neigh = linear_model.SGDClassifier(loss='log',max_iter=5000,penalty='l2')\n",
    "\n",
    "alphas=np.array([0.00001,0.0001,0.001,0.01,0.1,1,10,100,1000,10000]) # Different lamda values\n",
    "tuned_parameters = {'alpha' : alphas} # lamda values in a dictionary In SGDClassifier named as alpha\n",
    "\n",
    "\n",
    "clf = GridSearchCV(neigh, tuned_parameters, cv=5, scoring='roc_auc',return_train_score='true') \n",
    "clf.fit(train_cleanedtext, outputtrain)\n",
    "\n",
    "results = pd.DataFrame.from_dict(clf.cv_results_)#please check the output of cv_results_\n",
    "#  gridsearchcv execution will understand. concepts required KFold cross validation\n",
    "results = results.sort_values(['param_alpha'])\n",
    "\n",
    "train_auc= results['mean_train_score']\n",
    "\n",
    "cv_auc = results['mean_test_score'] \n",
    "\n",
    "k =  results['param_alpha']\n",
    "\n",
    "alpha1=[]\n",
    "for i in range(0,len(k),1):\n",
    "   l=math.log10(k[i])\n",
    "   alpha1.append(l)\n",
    "alpha1.sort()\n",
    "plt.plot(alpha1, train_auc, label='Train AUC')\n",
    "\n",
    "plt.plot(alpha1, cv_auc, label='CV AUC')\n",
    "\n",
    "plt.scatter(alpha1, train_auc, label='Train AUC points')\n",
    "plt.scatter(alpha1, cv_auc, label='CV AUC points')\n",
    "\n",
    "plt.legend()\n",
    "plt.xlabel(\" alpha: hyperparameter\")\n",
    "plt.ylabel(\"AUC\")\n",
    "plt.title(\"ROCAUC Vs  Alpha plot\")\n",
    "plt.grid()\n",
    "plt.show()\n",
    "\n",
    "\n",
    "print(clf.best_params_)\n",
    "print(clf.best_score_)\n",
    "print(\"best alpha log value\")\n",
    "a=math.log10(clf.best_params_.get('alpha'))\n",
    "print(a)"
   ]
  },
  {
   "cell_type": "code",
   "execution_count": 11,
   "metadata": {},
   "outputs": [
    {
     "data": {
      "image/png": "[encoded data removed]",
      "text/plain": [
       "<Figure size 432x288 with 1 Axes>"
      ]
     },
     "metadata": {
      "needs_background": "light"
     },
     "output_type": "display_data"
    },
    {
     "name": "stdout",
     "output_type": "stream",
     "text": [
      "---------------------------------------------------\n",
      "the maximum value of tpr*(1-fpr) 0.9054554773694898 for threshold 0.697\n",
      "Train confusion matrix\n"
     ]
    },
    {
     "data": {
      "image/png": "[encoded data removed]",
      "text/plain": [
       "<Figure size 432x288 with 2 Axes>"
      ]
     },
     "metadata": {
      "needs_background": "light"
     },
     "output_type": "display_data"
    },
    {
     "name": "stdout",
     "output_type": "stream",
     "text": [
      "Test confusion matrix\n"
     ]
    },
    {
     "data": {
      "image/png": "[encoded data removed]",
      "text/plain": [
       "<Figure size 432x288 with 2 Axes>"
      ]
     },
     "metadata": {
      "needs_background": "light"
     },
     "output_type": "display_data"
    }
   ],
   "source": [
    "\n",
    "from sklearn.metrics import roc_curve, auc\n",
    "import seaborn as sns\n",
    "\n",
    "neigh = linear_model.SGDClassifier(loss='log',max_iter=5000,alpha=0.0001,penalty='l2')\n",
    "neigh.fit(train_cleanedtext, outputtrain)\n",
    "\n",
    "\n",
    "\n",
    "y_train_pred = neigh.predict_proba(train_cleanedtext)[:,1]    \n",
    "y_test_pred = neigh.predict_proba(test_cleanedtext)[:,1]\n",
    "#print(y_test_pred)\n",
    "train_fpr, train_tpr, tr_thresholds = roc_curve(outputtrain, y_train_pred)\n",
    "test_fpr, test_tpr, te_thresholds = roc_curve(outputtest, y_test_pred)\n",
    "\n",
    "plt.plot(train_fpr, train_tpr, label=\"train AUC =\"+str(auc(train_fpr, train_tpr)))\n",
    "plt.plot(test_fpr, test_tpr, label=\"test AUC =\"+str(auc(test_fpr, test_tpr)))\n",
    "plt.legend()\n",
    "plt.xlabel(\"FPR\")\n",
    "plt.ylabel(\"TPR\")\n",
    "plt.title(\"ROC PLOT\")\n",
    "plt.grid()\n",
    "plt.show()\n",
    "\n",
    "\n",
    "def bestthreshold(threshould, fpr, tpr):# function to predict best threshold\n",
    "    t = threshould[np.argmax(tpr*(1-fpr))]\n",
    "    \n",
    "    print(\"the maximum value of tpr*(1-fpr)\", max(tpr*(1-fpr)), \"for threshold\", np.round(t,3))\n",
    "    return t\n",
    "\n",
    "def predictusingbestt(proba, threshould):#prediction using best threshold\n",
    "    predictions = []\n",
    "    for i in proba:\n",
    "        if i>=threshould:\n",
    "            predictions.append(1)\n",
    "        else:\n",
    "            predictions.append(0)\n",
    "    return predictions\n",
    "\n",
    "print(\"---------------------------------------------------\")\n",
    "\n",
    "\n",
    "from sklearn.metrics import confusion_matrix\n",
    "best_t = bestthreshold(tr_thresholds, train_fpr, train_tpr)\n",
    "print(\"Train confusion matrix\")\n",
    "\n",
    "ax=sns.heatmap(confusion_matrix(outputtrain, predictusingbestt(y_train_pred, best_t)),annot=True,fmt='d')\n",
    "ax.set_ylim([0,2])\n",
    "\n",
    "plt.ylabel('actual values')\n",
    "plt.xlabel('predicted values')\n",
    "plt.show()\n",
    "print(\"Test confusion matrix\")\n",
    "\n",
    "\n",
    "bx=sns.heatmap(confusion_matrix(outputtest, predictusingbestt(y_test_pred, best_t)),annot=True,fmt='d')\n",
    "bx.set_ylim([0,2])\n",
    "\n",
    "plt.ylabel('actual values')\n",
    "plt.xlabel('predicted values')\n",
    "plt.show()"
   ]
  },
  {
   "cell_type": "code",
   "execution_count": null,
   "metadata": {},
   "outputs": [],
   "source": []
  }
 ],
 "metadata": {
  "kernelspec": {
   "display_name": "Python 3",
   "language": "python",
   "name": "python3"
  },
  "language_info": {
   "codemirror_mode": {
    "name": "ipython",
    "version": 3
   },
   "file_extension": ".py",
   "mimetype": "text/x-python",
   "name": "python",
   "nbconvert_exporter": "python",
   "pygments_lexer": "ipython3",
   "version": "3.7.4"
  }
 },
 "nbformat": 4,
 "nbformat_minor": 2
}

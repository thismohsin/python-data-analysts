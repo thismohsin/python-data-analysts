{
 "cells": [
  {
   "cell_type": "code",
   "execution_count": 1,
   "metadata": {},
   "outputs": [
    {
     "name": "stdout",
     "output_type": "stream",
     "text": [
      "['this mobile is good', 'this mobile is not good', 'this mobile works fine and affordable', 'mobile is cheap and mobile is best']\n",
      "['affordable', 'and', 'best', 'cheap', 'fine', 'good', 'is', 'mobile', 'not', 'this', 'works']\n",
      "matrix after TFIDF  [[0.         0.         0.         0.         0.         0.60313701\n",
      "  0.48829139 0.39921021 0.         0.48829139 0.        ]\n",
      " [0.         0.         0.         0.         0.         0.47903796\n",
      "  0.38782252 0.31707032 0.60759891 0.38782252 0.        ]\n",
      " [0.48216873 0.38014737 0.         0.         0.48216873 0.\n",
      "  0.         0.25161565 0.         0.30776206 0.48216873]\n",
      " [0.         0.34116278 0.43272173 0.43272173 0.         0.\n",
      "  0.55240135 0.4516243  0.         0.         0.        ]]\n"
     ]
    }
   ],
   "source": [
    "import pandas as pd\n",
    "from sklearn.feature_extraction.text import TfidfVectorizer\n",
    "data=pd.read_csv('28.3data.csv')\n",
    "feedback=[]\n",
    "for i in data['test'].values:\n",
    "    senten= ' '.join(e for e in i.split())\n",
    "    feedback.append(senten.lower().strip())\n",
    "print(feedback)\n",
    "v = TfidfVectorizer()#ngram_range=(1,3)\n",
    "text_bow = v.fit_transform(feedback)\n",
    "print(v.get_feature_names())\n",
    "print(\"matrix after TFIDF \",text_bow.toarray())\n"
   ]
  },
  {
   "cell_type": "code",
   "execution_count": null,
   "metadata": {},
   "outputs": [],
   "source": []
  }
 ],
 "metadata": {
  "kernelspec": {
   "display_name": "Python 3",
   "language": "python",
   "name": "python3"
  },
  "language_info": {
   "codemirror_mode": {
    "name": "ipython",
    "version": 3
   },
   "file_extension": ".py",
   "mimetype": "text/x-python",
   "name": "python",
   "nbconvert_exporter": "python",
   "pygments_lexer": "ipython3",
   "version": "3.7.4"
  }
 },
 "nbformat": 4,
 "nbformat_minor": 2
}

{
 "nbformat": 4,
 "nbformat_minor": 0,
 "metadata": {
  "colab": {
   "name": "Copy of Untitled0.ipynb",
   "provenance": [
    {
     "file_id": "1K5-XNYDK4a6EyUw5YIKAW7jmh-T-OPst",
     "timestamp": 1649092195406
    }
   ],
   "authorship_tag": "ABX9TyND2mL8CgabWCQ8Jc9bsB7z"
  },
  "kernelspec": {
   "name": "python3",
   "display_name": "Python 3"
  },
  "language_info": {
   "name": "python"
  }
 },
 "cells": [
  {
   "cell_type": "code",
   "execution_count": null,
   "metadata": {
    "id": "atz27J3lWg_H"
   },
   "outputs": [],
   "source": []
  },
  {
   "cell_type": "code",
   "source": [],
   "metadata": {
    "colab": {
     "base_uri": "https://localhost:8080/"
    },
    "id": "wfRnPUbDW2Ri",
    "executionInfo": {
     "status": "ok",
     "timestamp": 1649088915806,
     "user_tz": 420,
     "elapsed": 26964,
     "user": {
      "displayName": "Samarth Bhargava",
      "userId": "00073393096107408627"
     }
    },
    "outputId": "85a8e939-2518-4402-8519-c792e58909fb"
   },
   "execution_count": null,
   "outputs": []
  },
  {
   "cell_type": "code",
   "source": [
    "import pandas as pd\n",
    "import numpy as np \n",
    "import matplotlib.pyplot as plt\n",
    "from scipy.optimize import curve_fit\n"
   ],
   "metadata": {
    "id": "n0p3dMZCXVAN",
    "executionInfo": {
     "status": "ok",
     "timestamp": 1649089203085,
     "user_tz": 420,
     "elapsed": 481,
     "user": {
      "displayName": "Samarth Bhargava",
      "userId": "00073393096107408627"
     }
    }
   },
   "execution_count": 1,
   "outputs": []
  },
  {
   "cell_type": "code",
   "source": [
    "df = pd.read_csv(\"/content/drive/MyDrive/big-mac-source-data.csv\", parse_dates=['date'])\n",
    "df.dtypes"
   ],
   "metadata": {
    "colab": {
     "base_uri": "https://localhost:8080/"
    },
    "id": "zXkfCGG6Ynqf",
    "executionInfo": {
     "status": "ok",
     "timestamp": 1649089961334,
     "user_tz": 420,
     "elapsed": 158,
     "user": {
      "displayName": "Samarth Bhargava",
      "userId": "00073393096107408627"
     }
    },
    "outputId": "a361bc4a-2654-4b44-8cf2-9422a116a14c"
   },
   "execution_count": 2,
   "outputs": [
    {
     "ename": "FileNotFoundError",
     "evalue": "[Errno 2] No such file or directory: '/content/drive/MyDrive/big-mac-source-data.csv'",
     "output_type": "error",
     "traceback": [
      "\u001B[0;31m---------------------------------------------------------------------------\u001B[0m",
      "\u001B[0;31mFileNotFoundError\u001B[0m                         Traceback (most recent call last)",
      "\u001B[0;32m/var/folders/06/zb4xx4b50dj3tdm_y49gwy640000gn/T/ipykernel_49588/3740884517.py\u001B[0m in \u001B[0;36m<module>\u001B[0;34m\u001B[0m\n\u001B[0;32m----> 1\u001B[0;31m \u001B[0mdf\u001B[0m \u001B[0;34m=\u001B[0m \u001B[0mpd\u001B[0m\u001B[0;34m.\u001B[0m\u001B[0mread_csv\u001B[0m\u001B[0;34m(\u001B[0m\u001B[0;34m\"/content/drive/MyDrive/big-mac-source-data.csv\"\u001B[0m\u001B[0;34m,\u001B[0m \u001B[0mparse_dates\u001B[0m\u001B[0;34m=\u001B[0m\u001B[0;34m[\u001B[0m\u001B[0;34m'date'\u001B[0m\u001B[0;34m]\u001B[0m\u001B[0;34m)\u001B[0m\u001B[0;34m\u001B[0m\u001B[0;34m\u001B[0m\u001B[0m\n\u001B[0m\u001B[1;32m      2\u001B[0m \u001B[0mdf\u001B[0m\u001B[0;34m.\u001B[0m\u001B[0mdtypes\u001B[0m\u001B[0;34m\u001B[0m\u001B[0;34m\u001B[0m\u001B[0m\n",
      "\u001B[0;32m~/opt/anaconda3/lib/python3.9/site-packages/pandas/util/_decorators.py\u001B[0m in \u001B[0;36mwrapper\u001B[0;34m(*args, **kwargs)\u001B[0m\n\u001B[1;32m    309\u001B[0m                     \u001B[0mstacklevel\u001B[0m\u001B[0;34m=\u001B[0m\u001B[0mstacklevel\u001B[0m\u001B[0;34m,\u001B[0m\u001B[0;34m\u001B[0m\u001B[0;34m\u001B[0m\u001B[0m\n\u001B[1;32m    310\u001B[0m                 )\n\u001B[0;32m--> 311\u001B[0;31m             \u001B[0;32mreturn\u001B[0m \u001B[0mfunc\u001B[0m\u001B[0;34m(\u001B[0m\u001B[0;34m*\u001B[0m\u001B[0margs\u001B[0m\u001B[0;34m,\u001B[0m \u001B[0;34m**\u001B[0m\u001B[0mkwargs\u001B[0m\u001B[0;34m)\u001B[0m\u001B[0;34m\u001B[0m\u001B[0;34m\u001B[0m\u001B[0m\n\u001B[0m\u001B[1;32m    312\u001B[0m \u001B[0;34m\u001B[0m\u001B[0m\n\u001B[1;32m    313\u001B[0m         \u001B[0;32mreturn\u001B[0m \u001B[0mwrapper\u001B[0m\u001B[0;34m\u001B[0m\u001B[0;34m\u001B[0m\u001B[0m\n",
      "\u001B[0;32m~/opt/anaconda3/lib/python3.9/site-packages/pandas/io/parsers/readers.py\u001B[0m in \u001B[0;36mread_csv\u001B[0;34m(filepath_or_buffer, sep, delimiter, header, names, index_col, usecols, squeeze, prefix, mangle_dupe_cols, dtype, engine, converters, true_values, false_values, skipinitialspace, skiprows, skipfooter, nrows, na_values, keep_default_na, na_filter, verbose, skip_blank_lines, parse_dates, infer_datetime_format, keep_date_col, date_parser, dayfirst, cache_dates, iterator, chunksize, compression, thousands, decimal, lineterminator, quotechar, quoting, doublequote, escapechar, comment, encoding, encoding_errors, dialect, error_bad_lines, warn_bad_lines, on_bad_lines, delim_whitespace, low_memory, memory_map, float_precision, storage_options)\u001B[0m\n\u001B[1;32m    584\u001B[0m     \u001B[0mkwds\u001B[0m\u001B[0;34m.\u001B[0m\u001B[0mupdate\u001B[0m\u001B[0;34m(\u001B[0m\u001B[0mkwds_defaults\u001B[0m\u001B[0;34m)\u001B[0m\u001B[0;34m\u001B[0m\u001B[0;34m\u001B[0m\u001B[0m\n\u001B[1;32m    585\u001B[0m \u001B[0;34m\u001B[0m\u001B[0m\n\u001B[0;32m--> 586\u001B[0;31m     \u001B[0;32mreturn\u001B[0m \u001B[0m_read\u001B[0m\u001B[0;34m(\u001B[0m\u001B[0mfilepath_or_buffer\u001B[0m\u001B[0;34m,\u001B[0m \u001B[0mkwds\u001B[0m\u001B[0;34m)\u001B[0m\u001B[0;34m\u001B[0m\u001B[0;34m\u001B[0m\u001B[0m\n\u001B[0m\u001B[1;32m    587\u001B[0m \u001B[0;34m\u001B[0m\u001B[0m\n\u001B[1;32m    588\u001B[0m \u001B[0;34m\u001B[0m\u001B[0m\n",
      "\u001B[0;32m~/opt/anaconda3/lib/python3.9/site-packages/pandas/io/parsers/readers.py\u001B[0m in \u001B[0;36m_read\u001B[0;34m(filepath_or_buffer, kwds)\u001B[0m\n\u001B[1;32m    480\u001B[0m \u001B[0;34m\u001B[0m\u001B[0m\n\u001B[1;32m    481\u001B[0m     \u001B[0;31m# Create the parser.\u001B[0m\u001B[0;34m\u001B[0m\u001B[0;34m\u001B[0m\u001B[0m\n\u001B[0;32m--> 482\u001B[0;31m     \u001B[0mparser\u001B[0m \u001B[0;34m=\u001B[0m \u001B[0mTextFileReader\u001B[0m\u001B[0;34m(\u001B[0m\u001B[0mfilepath_or_buffer\u001B[0m\u001B[0;34m,\u001B[0m \u001B[0;34m**\u001B[0m\u001B[0mkwds\u001B[0m\u001B[0;34m)\u001B[0m\u001B[0;34m\u001B[0m\u001B[0;34m\u001B[0m\u001B[0m\n\u001B[0m\u001B[1;32m    483\u001B[0m \u001B[0;34m\u001B[0m\u001B[0m\n\u001B[1;32m    484\u001B[0m     \u001B[0;32mif\u001B[0m \u001B[0mchunksize\u001B[0m \u001B[0;32mor\u001B[0m \u001B[0miterator\u001B[0m\u001B[0;34m:\u001B[0m\u001B[0;34m\u001B[0m\u001B[0;34m\u001B[0m\u001B[0m\n",
      "\u001B[0;32m~/opt/anaconda3/lib/python3.9/site-packages/pandas/io/parsers/readers.py\u001B[0m in \u001B[0;36m__init__\u001B[0;34m(self, f, engine, **kwds)\u001B[0m\n\u001B[1;32m    809\u001B[0m             \u001B[0mself\u001B[0m\u001B[0;34m.\u001B[0m\u001B[0moptions\u001B[0m\u001B[0;34m[\u001B[0m\u001B[0;34m\"has_index_names\"\u001B[0m\u001B[0;34m]\u001B[0m \u001B[0;34m=\u001B[0m \u001B[0mkwds\u001B[0m\u001B[0;34m[\u001B[0m\u001B[0;34m\"has_index_names\"\u001B[0m\u001B[0;34m]\u001B[0m\u001B[0;34m\u001B[0m\u001B[0;34m\u001B[0m\u001B[0m\n\u001B[1;32m    810\u001B[0m \u001B[0;34m\u001B[0m\u001B[0m\n\u001B[0;32m--> 811\u001B[0;31m         \u001B[0mself\u001B[0m\u001B[0;34m.\u001B[0m\u001B[0m_engine\u001B[0m \u001B[0;34m=\u001B[0m \u001B[0mself\u001B[0m\u001B[0;34m.\u001B[0m\u001B[0m_make_engine\u001B[0m\u001B[0;34m(\u001B[0m\u001B[0mself\u001B[0m\u001B[0;34m.\u001B[0m\u001B[0mengine\u001B[0m\u001B[0;34m)\u001B[0m\u001B[0;34m\u001B[0m\u001B[0;34m\u001B[0m\u001B[0m\n\u001B[0m\u001B[1;32m    812\u001B[0m \u001B[0;34m\u001B[0m\u001B[0m\n\u001B[1;32m    813\u001B[0m     \u001B[0;32mdef\u001B[0m \u001B[0mclose\u001B[0m\u001B[0;34m(\u001B[0m\u001B[0mself\u001B[0m\u001B[0;34m)\u001B[0m\u001B[0;34m:\u001B[0m\u001B[0;34m\u001B[0m\u001B[0;34m\u001B[0m\u001B[0m\n",
      "\u001B[0;32m~/opt/anaconda3/lib/python3.9/site-packages/pandas/io/parsers/readers.py\u001B[0m in \u001B[0;36m_make_engine\u001B[0;34m(self, engine)\u001B[0m\n\u001B[1;32m   1038\u001B[0m             )\n\u001B[1;32m   1039\u001B[0m         \u001B[0;31m# error: Too many arguments for \"ParserBase\"\u001B[0m\u001B[0;34m\u001B[0m\u001B[0;34m\u001B[0m\u001B[0m\n\u001B[0;32m-> 1040\u001B[0;31m         \u001B[0;32mreturn\u001B[0m \u001B[0mmapping\u001B[0m\u001B[0;34m[\u001B[0m\u001B[0mengine\u001B[0m\u001B[0;34m]\u001B[0m\u001B[0;34m(\u001B[0m\u001B[0mself\u001B[0m\u001B[0;34m.\u001B[0m\u001B[0mf\u001B[0m\u001B[0;34m,\u001B[0m \u001B[0;34m**\u001B[0m\u001B[0mself\u001B[0m\u001B[0;34m.\u001B[0m\u001B[0moptions\u001B[0m\u001B[0;34m)\u001B[0m  \u001B[0;31m# type: ignore[call-arg]\u001B[0m\u001B[0;34m\u001B[0m\u001B[0;34m\u001B[0m\u001B[0m\n\u001B[0m\u001B[1;32m   1041\u001B[0m \u001B[0;34m\u001B[0m\u001B[0m\n\u001B[1;32m   1042\u001B[0m     \u001B[0;32mdef\u001B[0m \u001B[0m_failover_to_python\u001B[0m\u001B[0;34m(\u001B[0m\u001B[0mself\u001B[0m\u001B[0;34m)\u001B[0m\u001B[0;34m:\u001B[0m\u001B[0;34m\u001B[0m\u001B[0;34m\u001B[0m\u001B[0m\n",
      "\u001B[0;32m~/opt/anaconda3/lib/python3.9/site-packages/pandas/io/parsers/c_parser_wrapper.py\u001B[0m in \u001B[0;36m__init__\u001B[0;34m(self, src, **kwds)\u001B[0m\n\u001B[1;32m     49\u001B[0m \u001B[0;34m\u001B[0m\u001B[0m\n\u001B[1;32m     50\u001B[0m         \u001B[0;31m# open handles\u001B[0m\u001B[0;34m\u001B[0m\u001B[0;34m\u001B[0m\u001B[0m\n\u001B[0;32m---> 51\u001B[0;31m         \u001B[0mself\u001B[0m\u001B[0;34m.\u001B[0m\u001B[0m_open_handles\u001B[0m\u001B[0;34m(\u001B[0m\u001B[0msrc\u001B[0m\u001B[0;34m,\u001B[0m \u001B[0mkwds\u001B[0m\u001B[0;34m)\u001B[0m\u001B[0;34m\u001B[0m\u001B[0;34m\u001B[0m\u001B[0m\n\u001B[0m\u001B[1;32m     52\u001B[0m         \u001B[0;32massert\u001B[0m \u001B[0mself\u001B[0m\u001B[0;34m.\u001B[0m\u001B[0mhandles\u001B[0m \u001B[0;32mis\u001B[0m \u001B[0;32mnot\u001B[0m \u001B[0;32mNone\u001B[0m\u001B[0;34m\u001B[0m\u001B[0;34m\u001B[0m\u001B[0m\n\u001B[1;32m     53\u001B[0m \u001B[0;34m\u001B[0m\u001B[0m\n",
      "\u001B[0;32m~/opt/anaconda3/lib/python3.9/site-packages/pandas/io/parsers/base_parser.py\u001B[0m in \u001B[0;36m_open_handles\u001B[0;34m(self, src, kwds)\u001B[0m\n\u001B[1;32m    220\u001B[0m         \u001B[0mLet\u001B[0m \u001B[0mthe\u001B[0m \u001B[0mreaders\u001B[0m \u001B[0mopen\u001B[0m \u001B[0mIOHandles\u001B[0m \u001B[0mafter\u001B[0m \u001B[0mthey\u001B[0m \u001B[0mare\u001B[0m \u001B[0mdone\u001B[0m \u001B[0;32mwith\u001B[0m \u001B[0mtheir\u001B[0m \u001B[0mpotential\u001B[0m \u001B[0mraises\u001B[0m\u001B[0;34m.\u001B[0m\u001B[0;34m\u001B[0m\u001B[0;34m\u001B[0m\u001B[0m\n\u001B[1;32m    221\u001B[0m         \"\"\"\n\u001B[0;32m--> 222\u001B[0;31m         self.handles = get_handle(\n\u001B[0m\u001B[1;32m    223\u001B[0m             \u001B[0msrc\u001B[0m\u001B[0;34m,\u001B[0m\u001B[0;34m\u001B[0m\u001B[0;34m\u001B[0m\u001B[0m\n\u001B[1;32m    224\u001B[0m             \u001B[0;34m\"r\"\u001B[0m\u001B[0;34m,\u001B[0m\u001B[0;34m\u001B[0m\u001B[0;34m\u001B[0m\u001B[0m\n",
      "\u001B[0;32m~/opt/anaconda3/lib/python3.9/site-packages/pandas/io/common.py\u001B[0m in \u001B[0;36mget_handle\u001B[0;34m(path_or_buf, mode, encoding, compression, memory_map, is_text, errors, storage_options)\u001B[0m\n\u001B[1;32m    700\u001B[0m         \u001B[0;32mif\u001B[0m \u001B[0mioargs\u001B[0m\u001B[0;34m.\u001B[0m\u001B[0mencoding\u001B[0m \u001B[0;32mand\u001B[0m \u001B[0;34m\"b\"\u001B[0m \u001B[0;32mnot\u001B[0m \u001B[0;32min\u001B[0m \u001B[0mioargs\u001B[0m\u001B[0;34m.\u001B[0m\u001B[0mmode\u001B[0m\u001B[0;34m:\u001B[0m\u001B[0;34m\u001B[0m\u001B[0;34m\u001B[0m\u001B[0m\n\u001B[1;32m    701\u001B[0m             \u001B[0;31m# Encoding\u001B[0m\u001B[0;34m\u001B[0m\u001B[0;34m\u001B[0m\u001B[0m\n\u001B[0;32m--> 702\u001B[0;31m             handle = open(\n\u001B[0m\u001B[1;32m    703\u001B[0m                 \u001B[0mhandle\u001B[0m\u001B[0;34m,\u001B[0m\u001B[0;34m\u001B[0m\u001B[0;34m\u001B[0m\u001B[0m\n\u001B[1;32m    704\u001B[0m                 \u001B[0mioargs\u001B[0m\u001B[0;34m.\u001B[0m\u001B[0mmode\u001B[0m\u001B[0;34m,\u001B[0m\u001B[0;34m\u001B[0m\u001B[0;34m\u001B[0m\u001B[0m\n",
      "\u001B[0;31mFileNotFoundError\u001B[0m: [Errno 2] No such file or directory: '/content/drive/MyDrive/big-mac-source-data.csv'"
     ]
    }
   ]
  },
  {
   "cell_type": "code",
   "source": [
    "df= df.loc[df['currency_code']=='USD']\n",
    "df.head()"
   ],
   "metadata": {
    "colab": {
     "base_uri": "https://localhost:8080/",
     "height": 206
    },
    "id": "LiKfArejZnmJ",
    "executionInfo": {
     "status": "ok",
     "timestamp": 1649089983101,
     "user_tz": 420,
     "elapsed": 7,
     "user": {
      "displayName": "Samarth Bhargava",
      "userId": "00073393096107408627"
     }
    },
    "outputId": "1ccaa427-c801-411d-e97a-0df93ba83539"
   },
   "execution_count": null,
   "outputs": []
  },
  {
   "cell_type": "code",
   "source": [
    "df.plot.scatter(x='date',y='local_price',s=20)"
   ],
   "metadata": {
    "colab": {
     "base_uri": "https://localhost:8080/",
     "height": 297
    },
    "id": "F-8NZ4vkZzxp",
    "executionInfo": {
     "status": "ok",
     "timestamp": 1649089987483,
     "user_tz": 420,
     "elapsed": 216,
     "user": {
      "displayName": "Samarth Bhargava",
      "userId": "00073393096107408627"
     }
    },
    "outputId": "406c4628-93f7-4147-a00c-5a5a4e2be4a7"
   },
   "execution_count": null,
   "outputs": []
  },
  {
   "cell_type": "code",
   "source": [
    "# Create an empty df with same schema\n",
    "dfOld = df.copy()[0:0] \n",
    "\n",
    "# Add older data\n",
    "dfOld.loc[len(dfOld.index)] = ['United States', 'USA', 'USD', 0.45, 1.0, 0.0, pd.to_datetime('1967-01-01')]\n",
    "dfOld.loc[len(dfOld.index)] = ['United States', 'USA', 'USD', 0.49, 1.0, 0.0, pd.to_datetime('1968-01-01')]\n",
    "dfOld.loc[len(dfOld.index)] = ['United States', 'USA', 'USD', 0.49, 1.0, 0.0, pd.to_datetime('1969-01-01')]\n",
    "dfOld.loc[len(dfOld.index)] = ['United States', 'USA', 'USD', 0.65, 1.0, 0.0, pd.to_datetime('1970-01-01')]\n",
    "dfOld.loc[len(dfOld.index)] = ['United States', 'USA', 'USD', np.nan, 1.0, 0.0, pd.to_datetime('1971-01-01')]\n",
    "dfOld.loc[len(dfOld.index)] = ['United States', 'USA', 'USD', np.nan, 1.0, 0.0, pd.to_datetime('1972-01-01')]\n",
    "dfOld.loc[len(dfOld.index)] = ['United States', 'USA', 'USD', np.nan, 1.0, 0.0, pd.to_datetime('1973-01-01')]\n",
    "dfOld.loc[len(dfOld.index)] = ['United States', 'USA', 'USD', np.nan, 1.0, 0.0, pd.to_datetime('1974-01-01')]\n",
    "dfOld.loc[len(dfOld.index)] = ['United States', 'USA', 'USD', np.nan, 1.0, 0.0, pd.to_datetime('1975-01-01')]\n",
    "dfOld.loc[len(dfOld.index)] = ['United States', 'USA', 'USD', np.nan, 1.0, 0.0, pd.to_datetime('1976-01-01')]\n",
    "dfOld.loc[len(dfOld.index)] = ['United States', 'USA', 'USD', np.nan, 1.0, 0.0, pd.to_datetime('1977-01-01')]\n",
    "dfOld.loc[len(dfOld.index)] = ['United States', 'USA', 'USD', np.nan, 1.0, 0.0, pd.to_datetime('1978-01-01')]\n",
    "dfOld.loc[len(dfOld.index)] = ['United States', 'USA', 'USD', np.nan, 1.0, 0.0, pd.to_datetime('1979-01-01')]\n",
    "dfOld.loc[len(dfOld.index)] = ['United States', 'USA', 'USD', np.nan, 1.0, 0.0, pd.to_datetime('1980-01-01')]\n",
    "dfOld.loc[len(dfOld.index)] = ['United States', 'USA', 'USD', np.nan, 1.0, 0.0, pd.to_datetime('1981-01-01')]\n",
    "dfOld.loc[len(dfOld.index)] = ['United States', 'USA', 'USD', np.nan, 1.0, 0.0, pd.to_datetime('1982-01-01')]\n",
    "dfOld.loc[len(dfOld.index)] = ['United States', 'USA', 'USD', np.nan, 1.0, 0.0, pd.to_datetime('1983-01-01')]\n",
    "dfOld.loc[len(dfOld.index)] = ['United States', 'USA', 'USD', np.nan, 1.0, 0.0, pd.to_datetime('1984-01-01')]\n",
    "dfOld.loc[len(dfOld.index)] = ['United States', 'USA', 'USD', 1.6, 1.0, 0.0, pd.to_datetime('1985-01-01')]\n",
    "dfOld.loc[len(dfOld.index)] = ['United States', 'USA', 'USD', np.nan, 1.0, 0.0, pd.to_datetime('1986-01-01')]\n",
    "dfOld.loc[len(dfOld.index)] = ['United States', 'USA', 'USD', np.nan, 1.0, 0.0, pd.to_datetime('1987-01-01')]\n",
    "dfOld.loc[len(dfOld.index)] = ['United States', 'USA', 'USD', 2.39, 1.0, 0.0, pd.to_datetime('1988-01-01')]\n",
    "dfOld.loc[len(dfOld.index)] = ['United States', 'USA', 'USD', 2.02, 1.0, 0.0, pd.to_datetime('1989-01-01')]\n",
    "dfOld.loc[len(dfOld.index)] = ['United States', 'USA', 'USD', 2.2, 1.0, 0.0, pd.to_datetime('1990-01-01')]\n",
    "dfOld.loc[len(dfOld.index)] = ['United States', 'USA', 'USD', 2.25, 1.0, 0.0, pd.to_datetime('1991-01-01')]\n",
    "dfOld.loc[len(dfOld.index)] = ['United States', 'USA', 'USD', 2.19, 1.0, 0.0, pd.to_datetime('1992-01-01')]\n",
    "dfOld.loc[len(dfOld.index)] = ['United States', 'USA', 'USD', 2.28, 1.0, 0.0, pd.to_datetime('1993-01-01')]\n",
    "dfOld.loc[len(dfOld.index)] = ['United States', 'USA', 'USD', 2.3, 1.0, 0.0, pd.to_datetime('1994-01-01')]\n",
    "dfOld.loc[len(dfOld.index)] = ['United States', 'USA', 'USD', 2.32, 1.0, 0.0, pd.to_datetime('1995-01-01')]\n",
    "dfOld.loc[len(dfOld.index)] = ['United States', 'USA', 'USD', 2.36, 1.0, 0.0, pd.to_datetime('1996-01-01')]\n",
    "dfOld.loc[len(dfOld.index)] = ['United States', 'USA', 'USD', 2.42, 1.0, 0.0, pd.to_datetime('1997-01-01')]\n",
    "dfOld.loc[len(dfOld.index)] = ['United States', 'USA', 'USD', 2.56, 1.0, 0.0, pd.to_datetime('1998-01-01')]\n",
    "dfOld.loc[len(dfOld.index)] = ['United States', 'USA', 'USD', 2.43, 1.0, 0.0, pd.to_datetime('1999-01-01')]"
   ],
   "metadata": {
    "id": "bjHxQmJsbnrR",
    "executionInfo": {
     "status": "ok",
     "timestamp": 1649090236283,
     "user_tz": 420,
     "elapsed": 181,
     "user": {
      "displayName": "Samarth Bhargava",
      "userId": "00073393096107408627"
     }
    }
   },
   "execution_count": null,
   "outputs": []
  },
  {
   "cell_type": "code",
   "source": [
    "dfFull = dfOld.append(df)\n",
    "dfFull.plot.scatter(x='date',y='local_price')"
   ],
   "metadata": {
    "colab": {
     "base_uri": "https://localhost:8080/",
     "height": 298
    },
    "id": "_EGqrrBFcChz",
    "executionInfo": {
     "status": "ok",
     "timestamp": 1649090415881,
     "user_tz": 420,
     "elapsed": 626,
     "user": {
      "displayName": "Samarth Bhargava",
      "userId": "00073393096107408627"
     }
    },
    "outputId": "2ecc1568-9b4c-4903-86cc-88b20e98b149"
   },
   "execution_count": null,
   "outputs": []
  },
  {
   "cell_type": "code",
   "source": [
    "dfFull['local_price'] = dfFull['local_price'].interpolate()\n",
    "dfFull.plot.scatter(x='date',y='local_price',s=20)"
   ],
   "metadata": {
    "colab": {
     "base_uri": "https://localhost:8080/",
     "height": 298
    },
    "id": "QpzdS2YxdJ1j",
    "executionInfo": {
     "status": "ok",
     "timestamp": 1649090594949,
     "user_tz": 420,
     "elapsed": 302,
     "user": {
      "displayName": "Samarth Bhargava",
      "userId": "00073393096107408627"
     }
    },
    "outputId": "3ed33759-3858-44e6-846f-370e6c683cd0"
   },
   "execution_count": null,
   "outputs": []
  },
  {
   "cell_type": "code",
   "source": [
    "def func(x,a,b,c):\n",
    "  return a*np.exp(b*(x-1964)/20+c)"
   ],
   "metadata": {
    "id": "xDu24dvFeSbc",
    "executionInfo": {
     "status": "ok",
     "timestamp": 1649090919458,
     "user_tz": 420,
     "elapsed": 210,
     "user": {
      "displayName": "Samarth Bhargava",
      "userId": "00073393096107408627"
     }
    }
   },
   "execution_count": null,
   "outputs": []
  },
  {
   "cell_type": "code",
   "source": [
    "dfFull['year'] = pd.DatetimeIndex(dfFull['date']).year\n",
    "dfFull"
   ],
   "metadata": {
    "colab": {
     "base_uri": "https://localhost:8080/",
     "height": 423
    },
    "id": "g-Uo2PnnebiO",
    "executionInfo": {
     "status": "ok",
     "timestamp": 1649091126410,
     "user_tz": 420,
     "elapsed": 171,
     "user": {
      "displayName": "Samarth Bhargava",
      "userId": "00073393096107408627"
     }
    },
    "outputId": "78f06309-f225-4f24-8d05-c0aa3e741d34"
   },
   "execution_count": null,
   "outputs": []
  },
  {
   "cell_type": "code",
   "source": [
    "x = dfFull['year']\n",
    "y = dfFull['local_price']\n",
    "popt, pcov = curve_fit(func,x,y)"
   ],
   "metadata": {
    "id": "X9wYjHcmf7of",
    "executionInfo": {
     "status": "ok",
     "timestamp": 1649091580700,
     "user_tz": 420,
     "elapsed": 177,
     "user": {
      "displayName": "Samarth Bhargava",
      "userId": "00073393096107408627"
     }
    }
   },
   "execution_count": null,
   "outputs": []
  },
  {
   "cell_type": "code",
   "source": [
    "xDates = np.linspace(1965,2030,66)"
   ],
   "metadata": {
    "id": "GdwLrO0Fgvcz",
    "executionInfo": {
     "status": "ok",
     "timestamp": 1649091543066,
     "user_tz": 420,
     "elapsed": 179,
     "user": {
      "displayName": "Samarth Bhargava",
      "userId": "00073393096107408627"
     }
    }
   },
   "execution_count": null,
   "outputs": []
  },
  {
   "cell_type": "code",
   "source": [
    "plt.figure()\n",
    "plt.plot(x,y,'ko',label ='Big Mac Data')\n",
    "plt.plot(xDates,func(xDates,*popt), 'r-',label ='Fitted curve')\n",
    "plt.legend()\n",
    "plt.show()"
   ],
   "metadata": {
    "colab": {
     "base_uri": "https://localhost:8080/",
     "height": 265
    },
    "id": "T-K00q_bg4TA",
    "executionInfo": {
     "status": "ok",
     "timestamp": 1649091830953,
     "user_tz": 420,
     "elapsed": 418,
     "user": {
      "displayName": "Samarth Bhargava",
      "userId": "00073393096107408627"
     }
    },
    "outputId": "3d7866c7-10d5-4f49-dd6a-605bb5e99c2a"
   },
   "execution_count": null,
   "outputs": []
  },
  {
   "cell_type": "code",
   "source": [
    ""
   ],
   "metadata": {
    "id": "6TPe7zt9hOkP"
   },
   "execution_count": null,
   "outputs": []
  }
 ]
}